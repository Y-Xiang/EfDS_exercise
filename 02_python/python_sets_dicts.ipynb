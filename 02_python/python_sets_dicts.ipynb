{
 "cells": [
  {
   "attachments": {},
   "cell_type": "markdown",
   "metadata": {},
   "source": [
    "# Python sets and dictionaries"
   ]
  },
  {
   "cell_type": "markdown",
   "metadata": {},
   "source": [
    "## Lists/tuples (key points of the previous lesson)"
   ]
  },
  {
   "cell_type": "markdown",
   "metadata": {},
   "source": [
    "Square brackets `[ ... ]` are used to create a new list.  \n",
    "Parentheses `( ... )` are used to create a new tuple.  \n",
    "A list/tuple has any number of elements.  \n",
    "Elements in a list/tuple may be repeated (duplicated).  \n",
    "Each element has its position.  \n",
    "First element is at index zero."
   ]
  },
  {
   "cell_type": "code",
   "execution_count": 1,
   "metadata": {},
   "outputs": [
    {
     "name": "stdout",
     "output_type": "stream",
     "text": [
      "Elements: [7, 6, 7, 8, 6, 6.5, 8]\n",
      "Length: 7\n",
      "4th element: 8\n"
     ]
    }
   ],
   "source": [
    "grades = [ 7, 6, 7, 8, 6, 6.5, 8 ]\n",
    "print( \"Elements:\", grades )          # note: spaces are added\n",
    "print( \"Length:\", len( grades ) )\n",
    "print( \"4th element:\", grades[3] )"
   ]
  },
  {
   "cell_type": "markdown",
   "metadata": {},
   "source": [
    "Content of a list can be modified. Lists are not immutable.\n",
    "Content of a tuple is fixed. Tuples are immutable."
   ]
  },
  {
   "cell_type": "code",
   "execution_count": 2,
   "metadata": {},
   "outputs": [
    {
     "name": "stdout",
     "output_type": "stream",
     "text": [
      "   Start: ['yeast', 'flour', 'oil', 'salt']\n",
      "Modified: ['yeast', 'flour', 'olive oil', 'salt']\n",
      "Appended: ['yeast', 'flour', 'olive oil', 'salt']\n"
     ]
    }
   ],
   "source": [
    "toBuy = [ \"yeast\", \"flour\", \"oil\", \"salt\" ]\n",
    "print( \"   Start:\", toBuy )\n",
    "toBuy[2] = \"olive oil\"\n",
    "print( \"Modified:\", toBuy )\n",
    "grades.append( \"sugar\" )\n",
    "print( \"Appended:\", toBuy )\n"
   ]
  },
  {
   "cell_type": "markdown",
   "metadata": {},
   "source": [
    "Comprehensions provide a very compact notation to:\n",
    "\n",
    "- Perform an operation of each element of a list/tuple.\n",
    "- Use a condition to filter elements of a list/tuple."
   ]
  },
  {
   "cell_type": "code",
   "execution_count": 3,
   "metadata": {},
   "outputs": [
    {
     "name": "stdout",
     "output_type": "stream",
     "text": [
      "     digit2name: ('zero', 'one', 'two', 'three', 'four', 'five', 'six', 'seven', 'eight', 'nine')\n",
      "         digits: [5, 2, 6, 2, 0, 9, 2, 1, 9]\n",
      "    digitsNames: ['five', 'two', 'six', 'two', 'zero', 'nine', 'two', 'one', 'nine']\n",
      "    smallDigits: [2, 2, 0, 2, 1]\n",
      "digitsWithNames: [(5, 'five'), (2, 'two'), (6, 'six'), (2, 'two'), (0, 'zero'), (9, 'nine'), (2, 'two'), (1, 'one'), (9, 'nine')]\n"
     ]
    }
   ],
   "source": [
    "digit2name = ( 'zero', 'one', 'two', 'three', 'four', 'five', 'six', 'seven', 'eight', 'nine' )\n",
    "print( \"     digit2name:\", digit2name )\n",
    "\n",
    "digits = [ 5, 2, 6, 2, 0, 9, 2, 1, 9 ]                     # some random numbers\n",
    "print( \"         digits:\", digits )\n",
    "\n",
    "digitsNames = [ digit2name[d] for d in digits ]\n",
    "print( \"    digitsNames:\", digitsNames )\n",
    "\n",
    "smallDigits = [ d for d in digits if d <= 3 ]\n",
    "print( \"    smallDigits:\", smallDigits )\n",
    "\n",
    "digitsWithNames = [ (d, digit2name[d] ) for d in digits ]  # tuples are produced here\n",
    "print( \"digitsWithNames:\", digitsWithNames )"
   ]
  },
  {
   "cell_type": "markdown",
   "metadata": {},
   "source": [
    "## Sets"
   ]
  },
  {
   "cell_type": "markdown",
   "metadata": {},
   "source": [
    "`set` is a built-in data type with the following properties:\n",
    "- it is a container which can keep any number (0, 1, 2, ...) of other elements\n",
    "- an element is either `in` the set or `not in` the set - there is no concept of duplicated elements\n",
    "- elements can be added to a `set` or removed from it \n",
    "- an element added to a set cannot ever change, therefore only elements of *immutable* types are allowed\n",
    "- `frozenset` is an *immutable* variant of a set - once created it cannot be changed but therefore a `frozenset` can be used as an element of a set\n",
    "- it is possible to iterate over all elements of a set, but no assumptions can be made about iteration order"
   ]
  },
  {
   "attachments": {},
   "cell_type": "markdown",
   "metadata": {},
   "source": [
    "### A new set"
   ]
  },
  {
   "attachments": {},
   "cell_type": "markdown",
   "metadata": {},
   "source": [
    "Let's consider a *tiramisu* preparation example (note two ways to create a set: `{...}` and `set(...)`):"
   ]
  },
  {
   "cell_type": "code",
   "execution_count": 4,
   "metadata": {},
   "outputs": [
    {
     "name": "stdout",
     "output_type": "stream",
     "text": [
      "{'rum', 'ladyfingers', 'sugar', 'cocoa', 'mascarpone', 'eggs', 'espresso'}\n"
     ]
    },
    {
     "data": {
      "text/plain": [
       "{'butter', 'cocoa', 'eggs', 'espresso', 'strawberries'}"
      ]
     },
     "execution_count": 4,
     "metadata": {},
     "output_type": "execute_result"
    }
   ],
   "source": [
    "# See https://www.recipesfromitaly.com/tiramisu-original-italian-recipe/\n",
    "# A *set* with ingredients needed for tiramisu:\n",
    "tiramisuIngredients = { \"ladyfingers\", \"mascarpone\", \"eggs\", \"sugar\", \"espresso\", \"rum\", \"cocoa\" }\n",
    "print(tiramisuIngredients)\n",
    "# An example *set* of ingredients which might be available\n",
    "# (note: here first a list is created and then it is converted to a set)\n",
    "inHouseIngredients = set( [ \"eggs\", \"espresso\", \"cocoa\", \"butter\", \"strawberries\" ] )\n",
    "inHouseIngredients"
   ]
  },
  {
   "attachments": {},
   "cell_type": "markdown",
   "metadata": {},
   "source": [
    "Use `len(...)` to find the number of elements in a set:"
   ]
  },
  {
   "cell_type": "code",
   "execution_count": 5,
   "metadata": {},
   "outputs": [
    {
     "data": {
      "text/plain": [
       "7"
      ]
     },
     "execution_count": 5,
     "metadata": {},
     "output_type": "execute_result"
    }
   ],
   "source": [
    "len( tiramisuIngredients )"
   ]
  },
  {
   "attachments": {},
   "cell_type": "markdown",
   "metadata": {},
   "source": [
    "The type of an object can be checked (as usual) with `type(...)`:"
   ]
  },
  {
   "cell_type": "code",
   "execution_count": 6,
   "metadata": {},
   "outputs": [
    {
     "data": {
      "text/plain": [
       "set"
      ]
     },
     "execution_count": 6,
     "metadata": {},
     "output_type": "execute_result"
    }
   ],
   "source": [
    "type( tiramisuIngredients )"
   ]
  },
  {
   "attachments": {},
   "cell_type": "markdown",
   "metadata": {},
   "source": [
    "But note, that the *empty set* cannot be created with `{}` - it leads to an object of a different type:"
   ]
  },
  {
   "cell_type": "code",
   "execution_count": 7,
   "metadata": {},
   "outputs": [
    {
     "data": {
      "text/plain": [
       "dict"
      ]
     },
     "execution_count": 7,
     "metadata": {},
     "output_type": "execute_result"
    }
   ],
   "source": [
    "type( {} )"
   ]
  },
  {
   "attachments": {},
   "cell_type": "markdown",
   "metadata": {},
   "source": [
    "To create the *empty set* use `set()` with no arguments:"
   ]
  },
  {
   "cell_type": "code",
   "execution_count": 8,
   "metadata": {},
   "outputs": [
    {
     "data": {
      "text/plain": [
       "set"
      ]
     },
     "execution_count": 8,
     "metadata": {},
     "output_type": "execute_result"
    }
   ],
   "source": [
    "type( set() )"
   ]
  },
  {
   "attachments": {},
   "cell_type": "markdown",
   "metadata": {},
   "source": [
    "### Sets algebra"
   ]
  },
  {
   "attachments": {},
   "cell_type": "markdown",
   "metadata": {},
   "source": [
    "Standard algebraic operations on sets are [drawn here](set_operations.png)."
   ]
  },
  {
   "attachments": {},
   "cell_type": "markdown",
   "metadata": {},
   "source": [
    "For the tiramisu example, sets of potential interest can be constructed with the operators:\n"
   ]
  },
  {
   "cell_type": "code",
   "execution_count": 9,
   "metadata": {},
   "outputs": [
    {
     "data": {
      "text/plain": [
       "{'cocoa', 'eggs', 'espresso'}"
      ]
     },
     "execution_count": 9,
     "metadata": {},
     "output_type": "execute_result"
    }
   ],
   "source": [
    "# Which ingredients are already available in house:\n",
    "tiramisuIngredients & inHouseIngredients"
   ]
  },
  {
   "cell_type": "code",
   "execution_count": 10,
   "metadata": {},
   "outputs": [
    {
     "data": {
      "text/plain": [
       "{'ladyfingers', 'mascarpone', 'rum', 'sugar'}"
      ]
     },
     "execution_count": 10,
     "metadata": {},
     "output_type": "execute_result"
    }
   ],
   "source": [
    "# What still needs to be bought to prepare tiramisu:\n",
    "tiramisuIngredients - inHouseIngredients"
   ]
  },
  {
   "attachments": {},
   "cell_type": "markdown",
   "metadata": {},
   "source": [
    "### Sets: is element in or not?"
   ]
  },
  {
   "attachments": {},
   "cell_type": "markdown",
   "metadata": {},
   "source": [
    "Whether a single element is present `in` a set or not can be tested as follows:"
   ]
  },
  {
   "cell_type": "code",
   "execution_count": 11,
   "metadata": {},
   "outputs": [
    {
     "data": {
      "text/plain": [
       "False"
      ]
     },
     "execution_count": 11,
     "metadata": {},
     "output_type": "execute_result"
    }
   ],
   "source": [
    "\"milk\" in tiramisuIngredients"
   ]
  },
  {
   "attachments": {},
   "cell_type": "markdown",
   "metadata": {},
   "source": [
    "Consider also this example of using `not in` inside a comprehension iterating over a set:"
   ]
  },
  {
   "cell_type": "code",
   "execution_count": 12,
   "metadata": {},
   "outputs": [
    {
     "data": {
      "text/plain": [
       "[('cocoa', False),\n",
       " ('eggs', False),\n",
       " ('espresso', False),\n",
       " ('butter', True),\n",
       " ('strawberries', True)]"
      ]
     },
     "execution_count": 12,
     "metadata": {},
     "output_type": "execute_result"
    }
   ],
   "source": [
    "# A True/False map whether an in-house-ingredient is not needed for tiramisu.\n",
    "[(ing,ing not in tiramisuIngredients) for ing in inHouseIngredients]"
   ]
  },
  {
   "attachments": {},
   "cell_type": "markdown",
   "metadata": {},
   "source": [
    "Note: the `set` methods `issubset(...)` and `issuperset(...)` allow to test whether all elements of one set are also present in the other set. The same functions are provided through `<=`, `=>` operators. The `==` allows to check whether two sets have identical elements."
   ]
  },
  {
   "cell_type": "code",
   "execution_count": 13,
   "metadata": {},
   "outputs": [
    {
     "data": {
      "text/plain": [
       "False"
      ]
     },
     "execution_count": 13,
     "metadata": {},
     "output_type": "execute_result"
    }
   ],
   "source": [
    "tiramisuIngredients.issubset( inHouseIngredients )"
   ]
  },
  {
   "attachments": {},
   "cell_type": "markdown",
   "metadata": {},
   "source": [
    "### Sets: adding/removing elements "
   ]
  },
  {
   "attachments": {},
   "cell_type": "markdown",
   "metadata": {},
   "source": [
    "Let's consider a set with some available ingredients:"
   ]
  },
  {
   "cell_type": "code",
   "execution_count": 14,
   "metadata": {},
   "outputs": [
    {
     "data": {
      "text/plain": [
       "{'butter', 'cocoa', 'eggs', 'espresso', 'strawberries'}"
      ]
     },
     "execution_count": 14,
     "metadata": {},
     "output_type": "execute_result"
    }
   ],
   "source": [
    "inHouseIngredients"
   ]
  },
  {
   "attachments": {},
   "cell_type": "markdown",
   "metadata": {},
   "source": [
    "New elements can be added as follows:"
   ]
  },
  {
   "cell_type": "code",
   "execution_count": 15,
   "metadata": {},
   "outputs": [
    {
     "data": {
      "text/plain": [
       "{'bread',\n",
       " 'butter',\n",
       " 'cocoa',\n",
       " 'eggs',\n",
       " 'espresso',\n",
       " 'salami',\n",
       " 'strawberries',\n",
       " 'tomatoe'}"
      ]
     },
     "execution_count": 15,
     "metadata": {},
     "output_type": "execute_result"
    }
   ],
   "source": [
    "# For a single element:\n",
    "inHouseIngredients.add( 'bread' )\n",
    "\n",
    "# For an iterable collection of elements (it can also be another set):\n",
    "inHouseIngredients.update( [ 'salami', 'tomatoe' ] )\n",
    "\n",
    "inHouseIngredients"
   ]
  },
  {
   "attachments": {},
   "cell_type": "markdown",
   "metadata": {},
   "source": [
    "And here are some examples how to remove elements:"
   ]
  },
  {
   "cell_type": "code",
   "execution_count": 16,
   "metadata": {},
   "outputs": [],
   "source": [
    "# For an element currently in the set:\n",
    "inHouseIngredients.remove( \"bread\" )\n",
    "\n",
    "# Note: KeyError exception would be raised because \"BREAD\" is not in the set:\n",
    "# inHouseIngredients.remove( \"BREAD\" ) \n",
    "\n",
    "# For a value which might be in the set (but no error when the value is not there):\n",
    "inHouseIngredients.discard( \"BREAD\" )"
   ]
  },
  {
   "attachments": {},
   "cell_type": "markdown",
   "metadata": {},
   "source": [
    "### Sets: a loop over all elements"
   ]
  },
  {
   "attachments": {},
   "cell_type": "markdown",
   "metadata": {},
   "source": [
    "The following code allows to perform some operations (here: `print(...)`) *for each* element present in the set.  \n",
    "The order in which the elements are iterated over is not defined."
   ]
  },
  {
   "cell_type": "code",
   "execution_count": 17,
   "metadata": {},
   "outputs": [
    {
     "name": "stdout",
     "output_type": "stream",
     "text": [
      "Needed for tiramisu: rum\n",
      "Needed for tiramisu: ladyfingers\n",
      "Needed for tiramisu: sugar\n",
      "Needed for tiramisu: cocoa\n",
      "Needed for tiramisu: mascarpone\n",
      "Needed for tiramisu: eggs\n",
      "Needed for tiramisu: espresso\n"
     ]
    }
   ],
   "source": [
    "for ing in tiramisuIngredients:\n",
    "    print( \"Needed for tiramisu:\", ing )"
   ]
  },
  {
   "attachments": {},
   "cell_type": "markdown",
   "metadata": {},
   "source": [
    "## Dictionaries"
   ]
  },
  {
   "attachments": {},
   "cell_type": "markdown",
   "metadata": {},
   "source": [
    "`dict` is a built-in data type with the following properties:\n",
    "- it is a container which can keep any number (0, 1, 2, ...) of (*key*, *value*) `items`\n",
    "- the primary goal: using a key it is possible to quickly `get` its corresponding value\n",
    "- there are no duplicates among the `keys`; it is possible whether a key is `in` or `not in` a dict object\n",
    "- the keys must be of *immutable* type\n",
    "- a value corresponding to a key can be modified\n",
    "- new items can be added\n",
    "- existing items can be removed\n",
    "- `for` loops can iterate over all items of a dictionary, or over the `keys`, or over `values`"
   ]
  },
  {
   "attachments": {},
   "cell_type": "markdown",
   "metadata": {},
   "source": [
    "### A new dictionary"
   ]
  },
  {
   "attachments": {},
   "cell_type": "markdown",
   "metadata": {},
   "source": [
    "Use the following notation to create a dictionary from element pairs (note the curly braces: `{`...`}`):"
   ]
  },
  {
   "cell_type": "code",
   "execution_count": 18,
   "metadata": {},
   "outputs": [
    {
     "data": {
      "text/plain": [
       "{'Mon': 2330, 'Tue': 1990, 'Wed': 2150}"
      ]
     },
     "execution_count": 18,
     "metadata": {},
     "output_type": "execute_result"
    }
   ],
   "source": [
    "day2KCal = { \"Mon\": 2330, \"Tue\": 1990, \"Wed\": 2150 }\n",
    "day2KCal"
   ]
  },
  {
   "cell_type": "markdown",
   "metadata": {},
   "source": [
    "The type of the created object is:"
   ]
  },
  {
   "cell_type": "code",
   "execution_count": 19,
   "metadata": {},
   "outputs": [
    {
     "data": {
      "text/plain": [
       "dict"
      ]
     },
     "execution_count": 19,
     "metadata": {},
     "output_type": "execute_result"
    }
   ],
   "source": [
    "type( day2KCal )"
   ]
  },
  {
   "attachments": {},
   "cell_type": "markdown",
   "metadata": {},
   "source": [
    "Note: repeating the same key (here: `Mon`) overwrites the previously associated value:"
   ]
  },
  {
   "cell_type": "code",
   "execution_count": 20,
   "metadata": {},
   "outputs": [
    {
     "data": {
      "text/plain": [
       "{'Mon': 1000, 'Tue': 1990, 'Wed': 2150}"
      ]
     },
     "execution_count": 20,
     "metadata": {},
     "output_type": "execute_result"
    }
   ],
   "source": [
    "{  \"Mon\": 2330, \"Tue\": 1990, \"Wed\": 2150, \"Mon\": 1000 }"
   ]
  },
  {
   "attachments": {},
   "cell_type": "markdown",
   "metadata": {},
   "source": [
    "The following code allows to build a dictionary from two iterable objects:"
   ]
  },
  {
   "cell_type": "code",
   "execution_count": 21,
   "metadata": {},
   "outputs": [
    {
     "data": {
      "text/plain": [
       "{'Mon': 2330,\n",
       " 'Tue': 1990,\n",
       " 'Wed': 2150,\n",
       " 'Thu': 2290,\n",
       " 'Fri': 1920,\n",
       " 'Sat': 2370,\n",
       " 'Sun': 2050}"
      ]
     },
     "execution_count": 21,
     "metadata": {},
     "output_type": "execute_result"
    }
   ],
   "source": [
    "days = ( \"Mon\", \"Tue\", \"Wed\", \"Thu\", \"Fri\", \"Sat\", \"Sun\" )      # a tuple\n",
    "dayKCals = [ 2330, 1990, 2150, 2290, 1920, 2370, 2050 ]         # a list\n",
    "zip( days, dayKCals )           # a generator, iterable over tuples (day, dayKCal)\n",
    "list( zip( days, dayKCals ) )   # a list of tuples generated by the generator\n",
    "\n",
    "day2KCal = dict( zip( days, dayKCals ) )\n",
    "day2KCal"
   ]
  },
  {
   "attachments": {},
   "cell_type": "markdown",
   "metadata": {},
   "source": [
    "This is the standard way to find the number of items (here: key-value pairs) in a collection:"
   ]
  },
  {
   "cell_type": "code",
   "execution_count": 22,
   "metadata": {},
   "outputs": [
    {
     "data": {
      "text/plain": [
       "7"
      ]
     },
     "execution_count": 22,
     "metadata": {},
     "output_type": "execute_result"
    }
   ],
   "source": [
    "len( day2KCal )"
   ]
  },
  {
   "attachments": {},
   "cell_type": "markdown",
   "metadata": {},
   "source": [
    "Note: this is how a new empty dictionary is created:"
   ]
  },
  {
   "cell_type": "code",
   "execution_count": 23,
   "metadata": {},
   "outputs": [
    {
     "data": {
      "text/plain": [
       "{}"
      ]
     },
     "execution_count": 23,
     "metadata": {},
     "output_type": "execute_result"
    }
   ],
   "source": [
    "{}"
   ]
  },
  {
   "attachments": {},
   "cell_type": "markdown",
   "metadata": {},
   "source": [
    "### Dict: getting, adding or modifying elements"
   ]
  },
  {
   "attachments": {},
   "cell_type": "markdown",
   "metadata": {},
   "source": [
    "Let's start with a dictionary:"
   ]
  },
  {
   "cell_type": "code",
   "execution_count": 24,
   "metadata": {},
   "outputs": [
    {
     "data": {
      "text/plain": [
       "{'Mon': 2330, 'Tue': 1990, 'Wed': 2150}"
      ]
     },
     "execution_count": 24,
     "metadata": {},
     "output_type": "execute_result"
    }
   ],
   "source": [
    "day2KCal = { \"Mon\": 2330, \"Tue\": 1990, \"Wed\": 2150 }\n",
    "day2KCal"
   ]
  },
  {
   "attachments": {},
   "cell_type": "markdown",
   "metadata": {},
   "source": [
    "To add a new value or change a value for a single key, use the following:"
   ]
  },
  {
   "cell_type": "code",
   "execution_count": 25,
   "metadata": {},
   "outputs": [
    {
     "data": {
      "text/plain": [
       "{'Mon': 2330, 'Tue': 1990, 'Wed': 2150, 'Thu': 2290}"
      ]
     },
     "execution_count": 25,
     "metadata": {},
     "output_type": "execute_result"
    }
   ],
   "source": [
    "day2KCal[ \"Thu\" ] = 2290\n",
    "day2KCal"
   ]
  },
  {
   "attachments": {},
   "cell_type": "markdown",
   "metadata": {},
   "source": [
    "Multiple items can be added/updated by calling `update(...)` for an iterable over (key, value) items: "
   ]
  },
  {
   "cell_type": "code",
   "execution_count": 26,
   "metadata": {},
   "outputs": [
    {
     "data": {
      "text/plain": [
       "{'Mon': 2330, 'Tue': 1990, 'Wed': 2150, 'Thu': 2290, 'Fri': 1920, 'Sat': 2370}"
      ]
     },
     "execution_count": 26,
     "metadata": {},
     "output_type": "execute_result"
    }
   ],
   "source": [
    "day2KCal.update( [ ( \"Fri\", 1920 ), ( \"Sat\", 2370 ) ] )\n",
    "day2KCal"
   ]
  },
  {
   "attachments": {},
   "cell_type": "markdown",
   "metadata": {},
   "source": [
    "The square bracket `[`...`]` operator can be used to get an element for a provided key.  \n",
    "The key must be present in the dictionary or an error will be thrown:"
   ]
  },
  {
   "cell_type": "code",
   "execution_count": 27,
   "metadata": {},
   "outputs": [
    {
     "data": {
      "text/plain": [
       "2330"
      ]
     },
     "execution_count": 27,
     "metadata": {},
     "output_type": "execute_result"
    }
   ],
   "source": [
    "# day2KCal[ \"Monday\" ]         # \"Monday\" is an invalid key and raises KeyError exception\n",
    "day2KCal[ \"Mon\" ]              # returns the value for the key \"Mon\""
   ]
  },
  {
   "attachments": {},
   "cell_type": "markdown",
   "metadata": {},
   "source": [
    "The `get( key, defaultValue )` function may be used to avoid exceptions when the key is missing in the dictionary. Then the `defaultValue` is returned:"
   ]
  },
  {
   "cell_type": "code",
   "execution_count": 28,
   "metadata": {},
   "outputs": [
    {
     "data": {
      "text/plain": [
       "100"
      ]
     },
     "execution_count": 28,
     "metadata": {},
     "output_type": "execute_result"
    }
   ],
   "source": [
    "day2KCal.get( \"Monday\", 100 )  # does not raise any exception\n",
    "                               # but it returns the second argument (here 100)"
   ]
  },
  {
   "attachments": {},
   "cell_type": "markdown",
   "metadata": {},
   "source": [
    "The following two examples show how to check whether a key is `in` or is `not in` a dictionary:"
   ]
  },
  {
   "cell_type": "code",
   "execution_count": 29,
   "metadata": {},
   "outputs": [
    {
     "data": {
      "text/plain": [
       "False"
      ]
     },
     "execution_count": 29,
     "metadata": {},
     "output_type": "execute_result"
    }
   ],
   "source": [
    "\"Tuesday\" in day2KCal"
   ]
  },
  {
   "cell_type": "code",
   "execution_count": 30,
   "metadata": {},
   "outputs": [
    {
     "data": {
      "text/plain": [
       "True"
      ]
     },
     "execution_count": 30,
     "metadata": {},
     "output_type": "execute_result"
    }
   ],
   "source": [
    "aKey = \"Tuesday\"\n",
    "aKey not in day2KCal"
   ]
  },
  {
   "attachments": {},
   "cell_type": "markdown",
   "metadata": {},
   "source": [
    "### Dict: removing an element"
   ]
  },
  {
   "attachments": {},
   "cell_type": "markdown",
   "metadata": {},
   "source": [
    "A few possibilities exists to remove an element:"
   ]
  },
  {
   "cell_type": "code",
   "execution_count": 31,
   "metadata": {},
   "outputs": [],
   "source": [
    "day2KCal = { \"Mon\": 2330, \"Tue\": 1990, \"Wed\": 2150 }\n",
    "day2KCal.pop( \"Tue\" )           # removes Tue but returns the value which Tue had\n",
    "                                # raises exception if the key is not found\n",
    "\n",
    "day2KCal.pop( \"Monday\", None )  # removes only when the key is present; returns the second argument\n",
    "                                # does not raise the key not found exception"
   ]
  },
  {
   "attachments": {},
   "cell_type": "markdown",
   "metadata": {},
   "source": [
    "Or:"
   ]
  },
  {
   "cell_type": "code",
   "execution_count": 32,
   "metadata": {},
   "outputs": [],
   "source": [
    "del day2KCal[ \"Mon\" ]           # also removes an existing element\n",
    "                                # raises exception if the key is not found"
   ]
  },
  {
   "attachments": {},
   "cell_type": "markdown",
   "metadata": {},
   "source": [
    "### Dict: all keys, all values or their pairs"
   ]
  },
  {
   "attachments": {},
   "cell_type": "markdown",
   "metadata": {},
   "source": [
    "With `values()` it is possible to iterate over all values in a dictionary:"
   ]
  },
  {
   "cell_type": "code",
   "execution_count": 33,
   "metadata": {},
   "outputs": [
    {
     "data": {
      "text/plain": [
       "dict_values([2330, 1990, 2150])"
      ]
     },
     "execution_count": 33,
     "metadata": {},
     "output_type": "execute_result"
    }
   ],
   "source": [
    "day2KCal = { \"Mon\": 2330, \"Tue\": 1990, \"Wed\": 2150 }\n",
    "day2KCal.values()                  # this is an iterable collection\n",
    "                                   # it is a view: it will change if the dict changes"
   ]
  },
  {
   "attachments": {},
   "cell_type": "markdown",
   "metadata": {},
   "source": [
    "An example of `values()` used in a list comprehension:"
   ]
  },
  {
   "cell_type": "code",
   "execution_count": 34,
   "metadata": {},
   "outputs": [
    {
     "data": {
      "text/plain": [
       "[9748.720000000001, 8326.16, 8995.6]"
      ]
     },
     "execution_count": 34,
     "metadata": {},
     "output_type": "execute_result"
    }
   ],
   "source": [
    "kJoules = [kCal * 4.184 for kCal in day2KCal.values()]\n",
    "kJoules"
   ]
  },
  {
   "attachments": {},
   "cell_type": "markdown",
   "metadata": {},
   "source": [
    "`items()` provide an iterator over dictionary, generating two element tuples (key, value).  \n",
    "Here, this iterator is used to create another dictionary:"
   ]
  },
  {
   "cell_type": "code",
   "execution_count": 35,
   "metadata": {},
   "outputs": [
    {
     "data": {
      "text/plain": [
       "{'Mon': 9748.720000000001, 'Tue': 8326.16, 'Wed': 8995.6}"
      ]
     },
     "execution_count": 35,
     "metadata": {},
     "output_type": "execute_result"
    }
   ],
   "source": [
    "day2KCal.items()                  # this is a generator of (day, kCal) tuples\n",
    "day2KJoule = { day: kCal * 4.184 for day, kCal in day2KCal.items()}\n",
    "day2KJoule"
   ]
  },
  {
   "attachments": {},
   "cell_type": "markdown",
   "metadata": {},
   "source": [
    "It is also possible to iterate only over `keys()`.  \n",
    "The following example creates a tuple of all dictionary keys:"
   ]
  },
  {
   "cell_type": "code",
   "execution_count": 36,
   "metadata": {},
   "outputs": [
    {
     "data": {
      "text/plain": [
       "('Mon', 'Tue', 'Wed')"
      ]
     },
     "execution_count": 36,
     "metadata": {},
     "output_type": "execute_result"
    }
   ],
   "source": [
    "day2KCal.keys()                   # this is a generator\n",
    "days = tuple( day2KCal.keys() )   # iterates over the generator and produces a tuple\n",
    "days"
   ]
  },
  {
   "attachments": {},
   "cell_type": "markdown",
   "metadata": {},
   "source": [
    "### Dict: a loop over elements"
   ]
  },
  {
   "attachments": {},
   "cell_type": "markdown",
   "metadata": {},
   "source": [
    "`items()`, `values()`, `keys()` can also be used in loops. For example:"
   ]
  },
  {
   "cell_type": "code",
   "execution_count": 37,
   "metadata": {},
   "outputs": [
    {
     "name": "stdout",
     "output_type": "stream",
     "text": [
      "On Mon consumed food was 2330 kCal or 9748.720000000001 kJ.\n",
      "On Tue consumed food was 1990 kCal or 8326.16 kJ.\n",
      "On Wed consumed food was 2150 kCal or 8995.6 kJ.\n"
     ]
    }
   ],
   "source": [
    "day2KCal = { \"Mon\": 2330, \"Tue\": 1990, \"Wed\": 2150 }\n",
    "for day, kCal in day2KCal.items():\n",
    "    print( \"On\", day, \"consumed food was\", kCal, \"kCal or\", kCal * 4.184, \"kJ.\" )"
   ]
  },
  {
   "attachments": {},
   "cell_type": "markdown",
   "metadata": {},
   "source": [
    "## Formatting strings"
   ]
  },
  {
   "attachments": {},
   "cell_type": "markdown",
   "metadata": {},
   "source": [
    "Compare the `print` command from the previous example with the print below which uses *f-strings (formatted string literals)*."
   ]
  },
  {
   "cell_type": "code",
   "execution_count": 38,
   "metadata": {},
   "outputs": [
    {
     "name": "stdout",
     "output_type": "stream",
     "text": [
      "On Mon consumed food was 2330 kCal or 9748.720000000001 kJ.\n",
      "On Tue consumed food was 1990 kCal or 8326.16 kJ.\n",
      "On Wed consumed food was 2150 kCal or 8995.6 kJ.\n"
     ]
    }
   ],
   "source": [
    "day2KCal = { \"Mon\": 2330, \"Tue\": 1990, \"Wed\": 2150 }\n",
    "for day, kCal in day2KCal.items():\n",
    "    print( f\"On {day} consumed food was {kCal} kCal or {kCal * 4.184} kJ.\" )"
   ]
  },
  {
   "attachments": {},
   "cell_type": "markdown",
   "metadata": {},
   "source": [
    "In *f-strings* `f\"`...`\"` variables/expressions can be put between `{`...`}` to have their values inserted into the surrounding text."
   ]
  },
  {
   "cell_type": "code",
   "execution_count": 39,
   "metadata": {},
   "outputs": [
    {
     "data": {
      "text/plain": [
       "'Statistics and Data Science'"
      ]
     },
     "execution_count": 39,
     "metadata": {},
     "output_type": "execute_result"
    }
   ],
   "source": [
    "x = \"Statistics\"\n",
    "y = \"Data Science\"\n",
    "f\"{x} and {y}\""
   ]
  },
  {
   "cell_type": "code",
   "execution_count": 40,
   "metadata": {},
   "outputs": [
    {
     "data": {
      "text/plain": [
       "'Statistics and Data Science'"
      ]
     },
     "execution_count": 40,
     "metadata": {},
     "output_type": "execute_result"
    }
   ],
   "source": [
    "f\"{x}\" \" and \" f'{y}'            # Note, there are several strings here\n",
    "                                 # and they get concatenated"
   ]
  },
  {
   "cell_type": "code",
   "execution_count": 41,
   "metadata": {},
   "outputs": [
    {
     "data": {
      "text/plain": [
       "'Statistics and Data Science'"
      ]
     },
     "execution_count": 41,
     "metadata": {},
     "output_type": "execute_result"
    }
   ],
   "source": [
    "( f\"{x}\"\n",
    "\" and \"\n",
    "f\"{y}\" )                         # The above example in a multiline version, see (...)"
   ]
  },
  {
   "cell_type": "markdown",
   "metadata": {},
   "source": [
    "The *f-strings* notation allows to specify rounding and alignment of the inserted text.  \n",
    "Consider the following examples:"
   ]
  },
  {
   "cell_type": "code",
   "execution_count": 42,
   "metadata": {},
   "outputs": [
    {
     "data": {
      "text/plain": [
       "{'               full precision': '3.141592653589793',\n",
       " '                  four digits': '3.1416',\n",
       " 'four digits and forced + sign': '+3.1416',\n",
       " '                right aligned': '      3.1416',\n",
       " '               center aligned': '   3.1416   ',\n",
       " '                 left aligned': '3.1416      ',\n",
       " '            exponent notation': '3.1416e+03',\n",
       " '        with comma separators': '3,141,592.65'}"
      ]
     },
     "execution_count": 42,
     "metadata": {},
     "output_type": "execute_result"
    }
   ],
   "source": [
    "from math import pi\n",
    "{ \n",
    "    \"               full precision\":  f\"{pi}\",\n",
    "    \"                  four digits\":  f\"{pi:.4f}\",\n",
    "    \"four digits and forced + sign\":  f\"{pi:+.4f}\",\n",
    "    \"                right aligned\":  f\"{pi:12.4f}\",\n",
    "    \"               center aligned\":  f\"{pi:^12.4f}\",\n",
    "    \"                 left aligned\":  f\"{pi:<12.4f}\",\n",
    "    \"            exponent notation\":  f\"{pi * 1000:.4e}\",\n",
    "    \"        with comma separators\":  f\"{pi * 1e6:,.2f}\",     # Note: the comma here is ok\n",
    "}"
   ]
  },
  {
   "cell_type": "markdown",
   "metadata": {},
   "source": [
    "## Self-study tasks"
   ]
  },
  {
   "attachments": {},
   "cell_type": "markdown",
   "metadata": {},
   "source": [
    "### Generating random integers"
   ]
  },
  {
   "attachments": {},
   "cell_type": "markdown",
   "metadata": {},
   "source": [
    "Use `from random import randint` to make the function `randint` available.  \n",
    "Try `randint` to generate a random number in the range `[0,...,9]` (both ends inclusive).  \n",
    "Write a list comprehension to generate a list with 20 random numbers in the range.  \n",
    "Store the generated list in the variable `vs`.  \n",
    "\n",
    "*Note:* The `range(...)` generator might be useful in the comprehension.\n",
    "\n",
    "*Question:* What would be `set(vs)`?"
   ]
  },
  {
   "cell_type": "code",
   "execution_count": 43,
   "metadata": {},
   "outputs": [
    {
     "name": "stdout",
     "output_type": "stream",
     "text": [
      "[6, 4, 4, 4, 0, 9, 7, 9, 5, 2, 8, 2, 2, 7, 5, 0, 2, 3, 4, 7]\n",
      "{0, 2, 3, 4, 5, 6, 7, 8, 9}\n"
     ]
    }
   ],
   "source": [
    "# SOLUTION\n",
    "from random import randint\n",
    "vs = [randint(0,9) for i in range(20)]\n",
    "print(vs)\n",
    "print(set(vs))\n",
    "# set does not have duplicate, hence will remove the duplicate"
   ]
  },
  {
   "attachments": {},
   "cell_type": "markdown",
   "metadata": {},
   "source": [
    "### Counting elements"
   ]
  },
  {
   "attachments": {},
   "cell_type": "markdown",
   "metadata": {},
   "source": [
    "A list of many elements is provided in the variable `vs` (identical elements may occur multiple times in the list).  \n",
    "(*Note:* Such a list can be the output from the previous exercise, but it can be a list of for example text strings).\n",
    "\n",
    "Write your own element *counter* which produces a dictionary with keys being the unique elements of the `vs` list and the values representing their counts.  \n",
    "Store the dictionary in `v2cnt`.\n",
    "\n",
    "*Note:* There are many solutions. You may first build a set of unique `vs` elements. Then initialize a dictionary for these elements with `0` count values. Finally, in a `for` loop increase the counts in the dictionary."
   ]
  },
  {
   "cell_type": "code",
   "execution_count": 44,
   "metadata": {},
   "outputs": [
    {
     "data": {
      "text/plain": [
       "{0: 2, 1: 6, 2: 5, 3: 2, 4: 2, 5: 4, 6: 1, 7: 2, 8: 2}"
      ]
     },
     "execution_count": 44,
     "metadata": {},
     "output_type": "execute_result"
    }
   ],
   "source": [
    "# For example, for this list:\n",
    "vs = [ 1, 7, 3, 1, 0, 2, 5, 7, 8, 2, 6, 2, 4, 1, 5, 5, 0, 2, 5, 4, 1, 3, 1, 8, 2, 1 ]\n",
    "vsset = set(vs)\n",
    "\n",
    "# collection counter\n",
    "\n",
    "vs2cnt = {}\n",
    "for i in vsset:\n",
    "    vs2cnt[i]= 0\n",
    "    for j in vs:\n",
    "        if j == i:\n",
    "            vs2cnt[i]+=1\n",
    "vs2cnt\n",
    "# The solution should be (0 is present twice, 1 is six times, 2 five times...)\n",
    "# vs2cnt = {0: 2, 1: 6, 2: 5, 3: 2, 4: 2, 5: 4, 6: 1, 7: 2, 8: 2}"
   ]
  },
  {
   "cell_type": "code",
   "execution_count": 45,
   "metadata": {},
   "outputs": [],
   "source": [
    "# SOLUTION\n"
   ]
  },
  {
   "attachments": {},
   "cell_type": "markdown",
   "metadata": {},
   "source": [
    "### Removing from a dictionary all items of given values"
   ]
  },
  {
   "attachments": {},
   "cell_type": "markdown",
   "metadata": {},
   "source": [
    "Given is a dictionary `licPlate2color` with colors of cars corresponding to some license plates.  \n",
    "Create a filtered dictionary `lp2c` which does not contain cars of colors listed in `toRemoveColors`."
   ]
  },
  {
   "cell_type": "code",
   "execution_count": 46,
   "metadata": {},
   "outputs": [],
   "source": [
    "licPlate2color = {\n",
    "    \"VA-111-V\": \"silver\", \"SB-222-W\": \"red\", \"XC-333-L\": \"red\",\n",
    "    \"AB-111-E\": \"white\", \"ER-222-U\": \"black\", \"BV-333-Z\": \"white\",\n",
    "    \"CC-111-J\": \"silver\", \"UI-222-R\": \"green\", \"GF-333-U\": \"silver\",\n",
    "    \"WT-111-K\": \"white\", \"KJ-222-Q\": \"silver\", \"LK-333-I\": \"black\",\n",
    "}\n",
    "toRemoveColors = [ \"white\", \"silver\", \"black\" ]"
   ]
  },
  {
   "cell_type": "code",
   "execution_count": 47,
   "metadata": {},
   "outputs": [
    {
     "data": {
      "text/plain": [
       "{'SB-222-W': 'red', 'XC-333-L': 'red', 'UI-222-R': 'green'}"
      ]
     },
     "execution_count": 47,
     "metadata": {},
     "output_type": "execute_result"
    }
   ],
   "source": [
    "# SOLUTION\n",
    "\n",
    "{key:value for (key,value) in licPlate2color.items() if value not in toRemoveColors}"
   ]
  },
  {
   "attachments": {},
   "cell_type": "markdown",
   "metadata": {},
   "source": [
    "### Build a dictionary with values being lists"
   ]
  },
  {
   "attachments": {},
   "cell_type": "markdown",
   "metadata": {},
   "source": [
    "Some people are described at the same positions in two lists: `names` and `countries` (see below).  \n",
    "Build a dictionary `country2names` with values being lists of `names` of people from a country given by the key.  \n",
    "For example: `country2names[\"nl\"]` should be a list `['Jeroen', 'Sanne']`.\n",
    "\n",
    "*Note:* A possible solution may use `defaultdict` imported from `collections` package."
   ]
  },
  {
   "cell_type": "code",
   "execution_count": 48,
   "metadata": {},
   "outputs": [],
   "source": [
    "names =     [\"Grzegorz\", \"Małgorzata\", \"Paweł\", \"Jeroen\", \"Sanne\", \"Ana\", \"Sofia\", \"Javier\", \"Sofia\"]\n",
    "countries = [\"pl\",       \"pl\",         \"pl\",    \"nl\",     \"nl\",    \"es\",  \"es\",    \"es\",     \"es\"]"
   ]
  },
  {
   "cell_type": "code",
   "execution_count": 62,
   "metadata": {},
   "outputs": [
    {
     "name": "stdout",
     "output_type": "stream",
     "text": [
      "['Jeroen', 'Sanne']\n"
     ]
    },
    {
     "data": {
      "text/plain": [
       "['Jeroen', 'Sanne']"
      ]
     },
     "execution_count": 62,
     "metadata": {},
     "output_type": "execute_result"
    }
   ],
   "source": [
    "# SOLUTION\n",
    "from collections import defaultdict\n",
    "country2names = defaultdict(list)\n",
    "for key,value in zip(countries,names):\n",
    "    country2names[key].append(value)\n",
    "country2names[\"nl\"]\n",
    "print(country2names[\"nl\"])\n",
    "dict(country2names)[\"nl\"]"
   ]
  },
  {
   "attachments": {},
   "cell_type": "markdown",
   "metadata": {},
   "source": [
    "### Reverse a list and sample elements"
   ]
  },
  {
   "attachments": {},
   "cell_type": "markdown",
   "metadata": {},
   "source": [
    "A volleyball team has 11 players (each of a different name). The players specialize and have their own roles.\n",
    "The `player2role` dictionary provides the roles of the players.\n",
    "\n",
    "For a volleyball set the team needs to select 6 players of the following roles:\n",
    "- one `setter`,\n",
    "- one `dia`,\n",
    "- two `middle` attackers,\n",
    "- two `outside` attackers.  \n",
    "The numbers of needed players of each role is given by the `role2num` dictionary.\n",
    "\n",
    "From the complete team choose 6 player randomly but so that there is a correct number of players with each role.  \n",
    "The result should be a dictionary (keys are the roles, values are lists of chosen players).\n",
    "\n",
    "*Hint:* `from random import sample` (search for documentation of the function `sample`)\n",
    "\n",
    "*Hint:* Based on the previous exercise build first `role2players` dictionary (reverse `player2role`).\n"
   ]
  },
  {
   "cell_type": "code",
   "execution_count": 50,
   "metadata": {},
   "outputs": [],
   "source": [
    "from random import sample\n",
    "\n",
    "role2num = { \"setter\": 1, \"dia\": 1, \"middle\": 2, \"outside\": 2 }\n",
    "\n",
    "player2role = { \n",
    "    \"Chen\": \"setter\", \"Martijn\": \"setter\",\n",
    "    \"Marnick\": \"dia\", \"Simon\": \"dia\",\n",
    "    \"David\": \"middle\", \"Luuk\": \"middle\",\n",
    "    \"Ronald\": \"outside\", \"Alex\": \"outside\", \"Kadir\": \"outside\", \"Koen\": \"outside\"\n",
    "}\n"
   ]
  },
  {
   "cell_type": "code",
   "execution_count": 79,
   "metadata": {},
   "outputs": [
    {
     "data": {
      "text/plain": [
       "defaultdict(list,\n",
       "            {'setter': ['Chen'],\n",
       "             'dia': ['Simon'],\n",
       "             'middle': ['Luuk', 'David'],\n",
       "             'outside': ['Koen', 'Kadir']})"
      ]
     },
     "execution_count": 79,
     "metadata": {},
     "output_type": "execute_result"
    }
   ],
   "source": [
    "# SOLUTION\n",
    "from collections import defaultdict\n",
    "role2players = defaultdict(list)\n",
    "for key,value in player2role.items():\n",
    "    role2players[value].append(key)\n",
    "role2players\n",
    "\n",
    "# sample(list(role2players[\"setter\"]),2)\n",
    "\n",
    "team = defaultdict(list)\n",
    "for k,v in role2num.items():\n",
    "    team[k] = sample(list(role2players[k]),v)\n",
    "team"
   ]
  },
  {
   "cell_type": "markdown",
   "metadata": {},
   "source": [
    "### NATO phonetic alphabet"
   ]
  },
  {
   "attachments": {},
   "cell_type": "markdown",
   "metadata": {},
   "source": [
    "When spelling a word, the following `codeWords` are used to represent letters (`a` is pronounced `alpha`, `b` is `bravo`, ...).\n",
    "\n",
    "Build a dictionary `chr2codeWord` which will map a letter `chr` to its code word `chr2codeWord[chr]`.  \n",
    "For example, `chr2codeWord['s']` should be equal to `sierra`.  \n",
    "Do not type the content manually - use `split` to get a list of words from `codeWords` and then write a comprehension to build a dictionary mapping the first letter (`codeWord[0]`) to the corresponding `codeWord`.\n",
    "\n",
    "Finally, given `word = \"statistics\"` write a comprehension mapping letters from `word` to a list of code words in the order how they should be spelled (`sierra`, `tango`, `alpha`, `tango`, ...)."
   ]
  },
  {
   "cell_type": "code",
   "execution_count": 52,
   "metadata": {},
   "outputs": [
    {
     "data": {
      "text/plain": [
       "'alpha bravo charlie delta echo foxtrot golf hotel india juliet kilo lima mike november oscar papa quebec romeo sierra tango uniform victor whiskey x-ray yankee zulu'"
      ]
     },
     "execution_count": 52,
     "metadata": {},
     "output_type": "execute_result"
    }
   ],
   "source": [
    "codeWords = \"alpha bravo charlie delta echo foxtrot golf hotel india juliet kilo lima mike november oscar papa quebec romeo sierra tango uniform victor whiskey x-ray yankee zulu\"\n",
    "codeWords"
   ]
  },
  {
   "cell_type": "code",
   "execution_count": 105,
   "metadata": {},
   "outputs": [
    {
     "data": {
      "text/plain": [
       "{'a': 'alpha',\n",
       " 'b': 'bravo',\n",
       " 'c': 'charlie',\n",
       " 'd': 'delta',\n",
       " 'e': 'echo',\n",
       " 'f': 'foxtrot',\n",
       " 'g': 'golf',\n",
       " 'h': 'hotel',\n",
       " 'i': 'india',\n",
       " 'j': 'juliet',\n",
       " 'k': 'kilo',\n",
       " 'l': 'lima',\n",
       " 'm': 'mike',\n",
       " 'n': 'november',\n",
       " 'o': 'oscar',\n",
       " 'p': 'papa',\n",
       " 'q': 'quebec',\n",
       " 'r': 'romeo',\n",
       " 's': 'sierra',\n",
       " 't': 'tango',\n",
       " 'u': 'uniform',\n",
       " 'v': 'victor',\n",
       " 'w': 'whiskey',\n",
       " 'x': 'x-ray',\n",
       " 'y': 'yankee'}"
      ]
     },
     "execution_count": 105,
     "metadata": {},
     "output_type": "execute_result"
    }
   ],
   "source": [
    "# SOLUTION\n",
    "codeWordList ={}\n",
    "left = 0\n",
    "for i in range(len(codeWords)):\n",
    "    if codeWords[i] != \" \":\n",
    "        right = i\n",
    "    else:\n",
    "        codeWordList[codeWords[left]]=codeWords[left:right+1]\n",
    "        left = i+1\n",
    "codeWordList\n",
    "\n",
    "# codeWordList ={}\n",
    "# str1 = \"\"\n",
    "# for i in codeWords:\n",
    "#     if i != \" \":\n",
    "#         str1 += i\n",
    "#     else:\n",
    "#         # codeWordList.append(str1)\n",
    "#         codeWordList[str1[0]]=str1\n",
    "#         str1 = \"\"\n",
    "# codeWordList\n",
    "        \n",
    "\n",
    "# codeWords.split()\n",
    "# chr2codeWord = {}\n",
    "# for i in codeWords.split():\n",
    "#     chr2codeWord[i[0]]=i\n",
    "# chr2codeWord    \n",
    "\n",
    "# word = \"statistics\"\n",
    "# [chr2codeWord[i] for i in word]"
   ]
  },
  {
   "attachments": {},
   "cell_type": "markdown",
   "metadata": {},
   "source": [
    "Understand the Open-Meteo web page:  \n",
    "https://open-meteo.com/en/docs#latitude=52.16&longitude=4.49&hourly=temperature_2m.  \n",
    "\n",
    "On that page you may generate a URL link providing access to weather predictions, for example for temperature in Leiden:  \n",
    "https://api.open-meteo.com/v1/forecast?latitude=52.16&longitude=4.49&hourly=temperature_2m\n",
    "\n",
    "The data is provided in the [JSON](https://en.wikipedia.org/wiki/JSON) format which can be easily read in Python using the `json` and `urllib.request` libraries.\n",
    "\n",
    "Use the following code to get the `data`. Find out how to extract the list with temperatures and the list with corresponding time point texts. Finally, build a dictionary object `time2temp` mapping the time point text to the temperature."
   ]
  },
  {
   "cell_type": "markdown",
   "metadata": {},
   "source": [
    "### Read weather data"
   ]
  },
  {
   "cell_type": "code",
   "execution_count": 2,
   "metadata": {},
   "outputs": [
    {
     "name": "stdout",
     "output_type": "stream",
     "text": [
      "{'latitude': 52.54833, 'longitude': 13.407822, 'generationtime_ms': 0.5230903625488281, 'utc_offset_seconds': 0, 'timezone': 'GMT', 'timezone_abbreviation': 'GMT', 'elevation': 38.0, 'hourly_units': {'time': 'iso8601', 'temperature_2m': '°C', 'relative_humidity_2m': '%'}, 'hourly': {'time': ['2021-01-01T00:00', '2021-01-01T01:00', '2021-01-01T02:00', '2021-01-01T03:00', '2021-01-01T04:00', '2021-01-01T05:00', '2021-01-01T06:00', '2021-01-01T07:00', '2021-01-01T08:00', '2021-01-01T09:00', '2021-01-01T10:00', '2021-01-01T11:00', '2021-01-01T12:00', '2021-01-01T13:00', '2021-01-01T14:00', '2021-01-01T15:00', '2021-01-01T16:00', '2021-01-01T17:00', '2021-01-01T18:00', '2021-01-01T19:00', '2021-01-01T20:00', '2021-01-01T21:00', '2021-01-01T22:00', '2021-01-01T23:00', '2021-01-02T00:00', '2021-01-02T01:00', '2021-01-02T02:00', '2021-01-02T03:00', '2021-01-02T04:00', '2021-01-02T05:00', '2021-01-02T06:00', '2021-01-02T07:00', '2021-01-02T08:00', '2021-01-02T09:00', '2021-01-02T10:00', '2021-01-02T11:00', '2021-01-02T12:00', '2021-01-02T13:00', '2021-01-02T14:00', '2021-01-02T15:00', '2021-01-02T16:00', '2021-01-02T17:00', '2021-01-02T18:00', '2021-01-02T19:00', '2021-01-02T20:00', '2021-01-02T21:00', '2021-01-02T22:00', '2021-01-02T23:00', '2021-01-03T00:00', '2021-01-03T01:00', '2021-01-03T02:00', '2021-01-03T03:00', '2021-01-03T04:00', '2021-01-03T05:00', '2021-01-03T06:00', '2021-01-03T07:00', '2021-01-03T08:00', '2021-01-03T09:00', '2021-01-03T10:00', '2021-01-03T11:00', '2021-01-03T12:00', '2021-01-03T13:00', '2021-01-03T14:00', '2021-01-03T15:00', '2021-01-03T16:00', '2021-01-03T17:00', '2021-01-03T18:00', '2021-01-03T19:00', '2021-01-03T20:00', '2021-01-03T21:00', '2021-01-03T22:00', '2021-01-03T23:00', '2021-01-04T00:00', '2021-01-04T01:00', '2021-01-04T02:00', '2021-01-04T03:00', '2021-01-04T04:00', '2021-01-04T05:00', '2021-01-04T06:00', '2021-01-04T07:00', '2021-01-04T08:00', '2021-01-04T09:00', '2021-01-04T10:00', '2021-01-04T11:00', '2021-01-04T12:00', '2021-01-04T13:00', '2021-01-04T14:00', '2021-01-04T15:00', '2021-01-04T16:00', '2021-01-04T17:00', '2021-01-04T18:00', '2021-01-04T19:00', '2021-01-04T20:00', '2021-01-04T21:00', '2021-01-04T22:00', '2021-01-04T23:00', '2021-01-05T00:00', '2021-01-05T01:00', '2021-01-05T02:00', '2021-01-05T03:00', '2021-01-05T04:00', '2021-01-05T05:00', '2021-01-05T06:00', '2021-01-05T07:00', '2021-01-05T08:00', '2021-01-05T09:00', '2021-01-05T10:00', '2021-01-05T11:00', '2021-01-05T12:00', '2021-01-05T13:00', '2021-01-05T14:00', '2021-01-05T15:00', '2021-01-05T16:00', '2021-01-05T17:00', '2021-01-05T18:00', '2021-01-05T19:00', '2021-01-05T20:00', '2021-01-05T21:00', '2021-01-05T22:00', '2021-01-05T23:00', '2021-01-06T00:00', '2021-01-06T01:00', '2021-01-06T02:00', '2021-01-06T03:00', '2021-01-06T04:00', '2021-01-06T05:00', '2021-01-06T06:00', '2021-01-06T07:00', '2021-01-06T08:00', '2021-01-06T09:00', '2021-01-06T10:00', '2021-01-06T11:00', '2021-01-06T12:00', '2021-01-06T13:00', '2021-01-06T14:00', '2021-01-06T15:00', '2021-01-06T16:00', '2021-01-06T17:00', '2021-01-06T18:00', '2021-01-06T19:00', '2021-01-06T20:00', '2021-01-06T21:00', '2021-01-06T22:00', '2021-01-06T23:00', '2021-01-07T00:00', '2021-01-07T01:00', '2021-01-07T02:00', '2021-01-07T03:00', '2021-01-07T04:00', '2021-01-07T05:00', '2021-01-07T06:00', '2021-01-07T07:00', '2021-01-07T08:00', '2021-01-07T09:00', '2021-01-07T10:00', '2021-01-07T11:00', '2021-01-07T12:00', '2021-01-07T13:00', '2021-01-07T14:00', '2021-01-07T15:00', '2021-01-07T16:00', '2021-01-07T17:00', '2021-01-07T18:00', '2021-01-07T19:00', '2021-01-07T20:00', '2021-01-07T21:00', '2021-01-07T22:00', '2021-01-07T23:00', '2021-01-08T00:00', '2021-01-08T01:00', '2021-01-08T02:00', '2021-01-08T03:00', '2021-01-08T04:00', '2021-01-08T05:00', '2021-01-08T06:00', '2021-01-08T07:00', '2021-01-08T08:00', '2021-01-08T09:00', '2021-01-08T10:00', '2021-01-08T11:00', '2021-01-08T12:00', '2021-01-08T13:00', '2021-01-08T14:00', '2021-01-08T15:00', '2021-01-08T16:00', '2021-01-08T17:00', '2021-01-08T18:00', '2021-01-08T19:00', '2021-01-08T20:00', '2021-01-08T21:00', '2021-01-08T22:00', '2021-01-08T23:00', '2021-01-09T00:00', '2021-01-09T01:00', '2021-01-09T02:00', '2021-01-09T03:00', '2021-01-09T04:00', '2021-01-09T05:00', '2021-01-09T06:00', '2021-01-09T07:00', '2021-01-09T08:00', '2021-01-09T09:00', '2021-01-09T10:00', '2021-01-09T11:00', '2021-01-09T12:00', '2021-01-09T13:00', '2021-01-09T14:00', '2021-01-09T15:00', '2021-01-09T16:00', '2021-01-09T17:00', '2021-01-09T18:00', '2021-01-09T19:00', '2021-01-09T20:00', '2021-01-09T21:00', '2021-01-09T22:00', '2021-01-09T23:00', '2021-01-10T00:00', '2021-01-10T01:00', '2021-01-10T02:00', '2021-01-10T03:00', '2021-01-10T04:00', '2021-01-10T05:00', '2021-01-10T06:00', '2021-01-10T07:00', '2021-01-10T08:00', '2021-01-10T09:00', '2021-01-10T10:00', '2021-01-10T11:00', '2021-01-10T12:00', '2021-01-10T13:00', '2021-01-10T14:00', '2021-01-10T15:00', '2021-01-10T16:00', '2021-01-10T17:00', '2021-01-10T18:00', '2021-01-10T19:00', '2021-01-10T20:00', '2021-01-10T21:00', '2021-01-10T22:00', '2021-01-10T23:00', '2021-01-11T00:00', '2021-01-11T01:00', '2021-01-11T02:00', '2021-01-11T03:00', '2021-01-11T04:00', '2021-01-11T05:00', '2021-01-11T06:00', '2021-01-11T07:00', '2021-01-11T08:00', '2021-01-11T09:00', '2021-01-11T10:00', '2021-01-11T11:00', '2021-01-11T12:00', '2021-01-11T13:00', '2021-01-11T14:00', '2021-01-11T15:00', '2021-01-11T16:00', '2021-01-11T17:00', '2021-01-11T18:00', '2021-01-11T19:00', '2021-01-11T20:00', '2021-01-11T21:00', '2021-01-11T22:00', '2021-01-11T23:00', '2021-01-12T00:00', '2021-01-12T01:00', '2021-01-12T02:00', '2021-01-12T03:00', '2021-01-12T04:00', '2021-01-12T05:00', '2021-01-12T06:00', '2021-01-12T07:00', '2021-01-12T08:00', '2021-01-12T09:00', '2021-01-12T10:00', '2021-01-12T11:00', '2021-01-12T12:00', '2021-01-12T13:00', '2021-01-12T14:00', '2021-01-12T15:00', '2021-01-12T16:00', '2021-01-12T17:00', '2021-01-12T18:00', '2021-01-12T19:00', '2021-01-12T20:00', '2021-01-12T21:00', '2021-01-12T22:00', '2021-01-12T23:00', '2021-01-13T00:00', '2021-01-13T01:00', '2021-01-13T02:00', '2021-01-13T03:00', '2021-01-13T04:00', '2021-01-13T05:00', '2021-01-13T06:00', '2021-01-13T07:00', '2021-01-13T08:00', '2021-01-13T09:00', '2021-01-13T10:00', '2021-01-13T11:00', '2021-01-13T12:00', '2021-01-13T13:00', '2021-01-13T14:00', '2021-01-13T15:00', '2021-01-13T16:00', '2021-01-13T17:00', '2021-01-13T18:00', '2021-01-13T19:00', '2021-01-13T20:00', '2021-01-13T21:00', '2021-01-13T22:00', '2021-01-13T23:00', '2021-01-14T00:00', '2021-01-14T01:00', '2021-01-14T02:00', '2021-01-14T03:00', '2021-01-14T04:00', '2021-01-14T05:00', '2021-01-14T06:00', '2021-01-14T07:00', '2021-01-14T08:00', '2021-01-14T09:00', '2021-01-14T10:00', '2021-01-14T11:00', '2021-01-14T12:00', '2021-01-14T13:00', '2021-01-14T14:00', '2021-01-14T15:00', '2021-01-14T16:00', '2021-01-14T17:00', '2021-01-14T18:00', '2021-01-14T19:00', '2021-01-14T20:00', '2021-01-14T21:00', '2021-01-14T22:00', '2021-01-14T23:00', '2021-01-15T00:00', '2021-01-15T01:00', '2021-01-15T02:00', '2021-01-15T03:00', '2021-01-15T04:00', '2021-01-15T05:00', '2021-01-15T06:00', '2021-01-15T07:00', '2021-01-15T08:00', '2021-01-15T09:00', '2021-01-15T10:00', '2021-01-15T11:00', '2021-01-15T12:00', '2021-01-15T13:00', '2021-01-15T14:00', '2021-01-15T15:00', '2021-01-15T16:00', '2021-01-15T17:00', '2021-01-15T18:00', '2021-01-15T19:00', '2021-01-15T20:00', '2021-01-15T21:00', '2021-01-15T22:00', '2021-01-15T23:00', '2021-01-16T00:00', '2021-01-16T01:00', '2021-01-16T02:00', '2021-01-16T03:00', '2021-01-16T04:00', '2021-01-16T05:00', '2021-01-16T06:00', '2021-01-16T07:00', '2021-01-16T08:00', '2021-01-16T09:00', '2021-01-16T10:00', '2021-01-16T11:00', '2021-01-16T12:00', '2021-01-16T13:00', '2021-01-16T14:00', '2021-01-16T15:00', '2021-01-16T16:00', '2021-01-16T17:00', '2021-01-16T18:00', '2021-01-16T19:00', '2021-01-16T20:00', '2021-01-16T21:00', '2021-01-16T22:00', '2021-01-16T23:00', '2021-01-17T00:00', '2021-01-17T01:00', '2021-01-17T02:00', '2021-01-17T03:00', '2021-01-17T04:00', '2021-01-17T05:00', '2021-01-17T06:00', '2021-01-17T07:00', '2021-01-17T08:00', '2021-01-17T09:00', '2021-01-17T10:00', '2021-01-17T11:00', '2021-01-17T12:00', '2021-01-17T13:00', '2021-01-17T14:00', '2021-01-17T15:00', '2021-01-17T16:00', '2021-01-17T17:00', '2021-01-17T18:00', '2021-01-17T19:00', '2021-01-17T20:00', '2021-01-17T21:00', '2021-01-17T22:00', '2021-01-17T23:00', '2021-01-18T00:00', '2021-01-18T01:00', '2021-01-18T02:00', '2021-01-18T03:00', '2021-01-18T04:00', '2021-01-18T05:00', '2021-01-18T06:00', '2021-01-18T07:00', '2021-01-18T08:00', '2021-01-18T09:00', '2021-01-18T10:00', '2021-01-18T11:00', '2021-01-18T12:00', '2021-01-18T13:00', '2021-01-18T14:00', '2021-01-18T15:00', '2021-01-18T16:00', '2021-01-18T17:00', '2021-01-18T18:00', '2021-01-18T19:00', '2021-01-18T20:00', '2021-01-18T21:00', '2021-01-18T22:00', '2021-01-18T23:00', '2021-01-19T00:00', '2021-01-19T01:00', '2021-01-19T02:00', '2021-01-19T03:00', '2021-01-19T04:00', '2021-01-19T05:00', '2021-01-19T06:00', '2021-01-19T07:00', '2021-01-19T08:00', '2021-01-19T09:00', '2021-01-19T10:00', '2021-01-19T11:00', '2021-01-19T12:00', '2021-01-19T13:00', '2021-01-19T14:00', '2021-01-19T15:00', '2021-01-19T16:00', '2021-01-19T17:00', '2021-01-19T18:00', '2021-01-19T19:00', '2021-01-19T20:00', '2021-01-19T21:00', '2021-01-19T22:00', '2021-01-19T23:00', '2021-01-20T00:00', '2021-01-20T01:00', '2021-01-20T02:00', '2021-01-20T03:00', '2021-01-20T04:00', '2021-01-20T05:00', '2021-01-20T06:00', '2021-01-20T07:00', '2021-01-20T08:00', '2021-01-20T09:00', '2021-01-20T10:00', '2021-01-20T11:00', '2021-01-20T12:00', '2021-01-20T13:00', '2021-01-20T14:00', '2021-01-20T15:00', '2021-01-20T16:00', '2021-01-20T17:00', '2021-01-20T18:00', '2021-01-20T19:00', '2021-01-20T20:00', '2021-01-20T21:00', '2021-01-20T22:00', '2021-01-20T23:00', '2021-01-21T00:00', '2021-01-21T01:00', '2021-01-21T02:00', '2021-01-21T03:00', '2021-01-21T04:00', '2021-01-21T05:00', '2021-01-21T06:00', '2021-01-21T07:00', '2021-01-21T08:00', '2021-01-21T09:00', '2021-01-21T10:00', '2021-01-21T11:00', '2021-01-21T12:00', '2021-01-21T13:00', '2021-01-21T14:00', '2021-01-21T15:00', '2021-01-21T16:00', '2021-01-21T17:00', '2021-01-21T18:00', '2021-01-21T19:00', '2021-01-21T20:00', '2021-01-21T21:00', '2021-01-21T22:00', '2021-01-21T23:00', '2021-01-22T00:00', '2021-01-22T01:00', '2021-01-22T02:00', '2021-01-22T03:00', '2021-01-22T04:00', '2021-01-22T05:00', '2021-01-22T06:00', '2021-01-22T07:00', '2021-01-22T08:00', '2021-01-22T09:00', '2021-01-22T10:00', '2021-01-22T11:00', '2021-01-22T12:00', '2021-01-22T13:00', '2021-01-22T14:00', '2021-01-22T15:00', '2021-01-22T16:00', '2021-01-22T17:00', '2021-01-22T18:00', '2021-01-22T19:00', '2021-01-22T20:00', '2021-01-22T21:00', '2021-01-22T22:00', '2021-01-22T23:00', '2021-01-23T00:00', '2021-01-23T01:00', '2021-01-23T02:00', '2021-01-23T03:00', '2021-01-23T04:00', '2021-01-23T05:00', '2021-01-23T06:00', '2021-01-23T07:00', '2021-01-23T08:00', '2021-01-23T09:00', '2021-01-23T10:00', '2021-01-23T11:00', '2021-01-23T12:00', '2021-01-23T13:00', '2021-01-23T14:00', '2021-01-23T15:00', '2021-01-23T16:00', '2021-01-23T17:00', '2021-01-23T18:00', '2021-01-23T19:00', '2021-01-23T20:00', '2021-01-23T21:00', '2021-01-23T22:00', '2021-01-23T23:00', '2021-01-24T00:00', '2021-01-24T01:00', '2021-01-24T02:00', '2021-01-24T03:00', '2021-01-24T04:00', '2021-01-24T05:00', '2021-01-24T06:00', '2021-01-24T07:00', '2021-01-24T08:00', '2021-01-24T09:00', '2021-01-24T10:00', '2021-01-24T11:00', '2021-01-24T12:00', '2021-01-24T13:00', '2021-01-24T14:00', '2021-01-24T15:00', '2021-01-24T16:00', '2021-01-24T17:00', '2021-01-24T18:00', '2021-01-24T19:00', '2021-01-24T20:00', '2021-01-24T21:00', '2021-01-24T22:00', '2021-01-24T23:00', '2021-01-25T00:00', '2021-01-25T01:00', '2021-01-25T02:00', '2021-01-25T03:00', '2021-01-25T04:00', '2021-01-25T05:00', '2021-01-25T06:00', '2021-01-25T07:00', '2021-01-25T08:00', '2021-01-25T09:00', '2021-01-25T10:00', '2021-01-25T11:00', '2021-01-25T12:00', '2021-01-25T13:00', '2021-01-25T14:00', '2021-01-25T15:00', '2021-01-25T16:00', '2021-01-25T17:00', '2021-01-25T18:00', '2021-01-25T19:00', '2021-01-25T20:00', '2021-01-25T21:00', '2021-01-25T22:00', '2021-01-25T23:00', '2021-01-26T00:00', '2021-01-26T01:00', '2021-01-26T02:00', '2021-01-26T03:00', '2021-01-26T04:00', '2021-01-26T05:00', '2021-01-26T06:00', '2021-01-26T07:00', '2021-01-26T08:00', '2021-01-26T09:00', '2021-01-26T10:00', '2021-01-26T11:00', '2021-01-26T12:00', '2021-01-26T13:00', '2021-01-26T14:00', '2021-01-26T15:00', '2021-01-26T16:00', '2021-01-26T17:00', '2021-01-26T18:00', '2021-01-26T19:00', '2021-01-26T20:00', '2021-01-26T21:00', '2021-01-26T22:00', '2021-01-26T23:00', '2021-01-27T00:00', '2021-01-27T01:00', '2021-01-27T02:00', '2021-01-27T03:00', '2021-01-27T04:00', '2021-01-27T05:00', '2021-01-27T06:00', '2021-01-27T07:00', '2021-01-27T08:00', '2021-01-27T09:00', '2021-01-27T10:00', '2021-01-27T11:00', '2021-01-27T12:00', '2021-01-27T13:00', '2021-01-27T14:00', '2021-01-27T15:00', '2021-01-27T16:00', '2021-01-27T17:00', '2021-01-27T18:00', '2021-01-27T19:00', '2021-01-27T20:00', '2021-01-27T21:00', '2021-01-27T22:00', '2021-01-27T23:00', '2021-01-28T00:00', '2021-01-28T01:00', '2021-01-28T02:00', '2021-01-28T03:00', '2021-01-28T04:00', '2021-01-28T05:00', '2021-01-28T06:00', '2021-01-28T07:00', '2021-01-28T08:00', '2021-01-28T09:00', '2021-01-28T10:00', '2021-01-28T11:00', '2021-01-28T12:00', '2021-01-28T13:00', '2021-01-28T14:00', '2021-01-28T15:00', '2021-01-28T16:00', '2021-01-28T17:00', '2021-01-28T18:00', '2021-01-28T19:00', '2021-01-28T20:00', '2021-01-28T21:00', '2021-01-28T22:00', '2021-01-28T23:00', '2021-01-29T00:00', '2021-01-29T01:00', '2021-01-29T02:00', '2021-01-29T03:00', '2021-01-29T04:00', '2021-01-29T05:00', '2021-01-29T06:00', '2021-01-29T07:00', '2021-01-29T08:00', '2021-01-29T09:00', '2021-01-29T10:00', '2021-01-29T11:00', '2021-01-29T12:00', '2021-01-29T13:00', '2021-01-29T14:00', '2021-01-29T15:00', '2021-01-29T16:00', '2021-01-29T17:00', '2021-01-29T18:00', '2021-01-29T19:00', '2021-01-29T20:00', '2021-01-29T21:00', '2021-01-29T22:00', '2021-01-29T23:00', '2021-01-30T00:00', '2021-01-30T01:00', '2021-01-30T02:00', '2021-01-30T03:00', '2021-01-30T04:00', '2021-01-30T05:00', '2021-01-30T06:00', '2021-01-30T07:00', '2021-01-30T08:00', '2021-01-30T09:00', '2021-01-30T10:00', '2021-01-30T11:00', '2021-01-30T12:00', '2021-01-30T13:00', '2021-01-30T14:00', '2021-01-30T15:00', '2021-01-30T16:00', '2021-01-30T17:00', '2021-01-30T18:00', '2021-01-30T19:00', '2021-01-30T20:00', '2021-01-30T21:00', '2021-01-30T22:00', '2021-01-30T23:00', '2021-01-31T00:00', '2021-01-31T01:00', '2021-01-31T02:00', '2021-01-31T03:00', '2021-01-31T04:00', '2021-01-31T05:00', '2021-01-31T06:00', '2021-01-31T07:00', '2021-01-31T08:00', '2021-01-31T09:00', '2021-01-31T10:00', '2021-01-31T11:00', '2021-01-31T12:00', '2021-01-31T13:00', '2021-01-31T14:00', '2021-01-31T15:00', '2021-01-31T16:00', '2021-01-31T17:00', '2021-01-31T18:00', '2021-01-31T19:00', '2021-01-31T20:00', '2021-01-31T21:00', '2021-01-31T22:00', '2021-01-31T23:00', '2021-02-01T00:00', '2021-02-01T01:00', '2021-02-01T02:00', '2021-02-01T03:00', '2021-02-01T04:00', '2021-02-01T05:00', '2021-02-01T06:00', '2021-02-01T07:00', '2021-02-01T08:00', '2021-02-01T09:00', '2021-02-01T10:00', '2021-02-01T11:00', '2021-02-01T12:00', '2021-02-01T13:00', '2021-02-01T14:00', '2021-02-01T15:00', '2021-02-01T16:00', '2021-02-01T17:00', '2021-02-01T18:00', '2021-02-01T19:00', '2021-02-01T20:00', '2021-02-01T21:00', '2021-02-01T22:00', '2021-02-01T23:00', '2021-02-02T00:00', '2021-02-02T01:00', '2021-02-02T02:00', '2021-02-02T03:00', '2021-02-02T04:00', '2021-02-02T05:00', '2021-02-02T06:00', '2021-02-02T07:00', '2021-02-02T08:00', '2021-02-02T09:00', '2021-02-02T10:00', '2021-02-02T11:00', '2021-02-02T12:00', '2021-02-02T13:00', '2021-02-02T14:00', '2021-02-02T15:00', '2021-02-02T16:00', '2021-02-02T17:00', '2021-02-02T18:00', '2021-02-02T19:00', '2021-02-02T20:00', '2021-02-02T21:00', '2021-02-02T22:00', '2021-02-02T23:00', '2021-02-03T00:00', '2021-02-03T01:00', '2021-02-03T02:00', '2021-02-03T03:00', '2021-02-03T04:00', '2021-02-03T05:00', '2021-02-03T06:00', '2021-02-03T07:00', '2021-02-03T08:00', '2021-02-03T09:00', '2021-02-03T10:00', '2021-02-03T11:00', '2021-02-03T12:00', '2021-02-03T13:00', '2021-02-03T14:00', '2021-02-03T15:00', '2021-02-03T16:00', '2021-02-03T17:00', '2021-02-03T18:00', '2021-02-03T19:00', '2021-02-03T20:00', '2021-02-03T21:00', '2021-02-03T22:00', '2021-02-03T23:00', '2021-02-04T00:00', '2021-02-04T01:00', '2021-02-04T02:00', '2021-02-04T03:00', '2021-02-04T04:00', '2021-02-04T05:00', '2021-02-04T06:00', '2021-02-04T07:00', '2021-02-04T08:00', '2021-02-04T09:00', '2021-02-04T10:00', '2021-02-04T11:00', '2021-02-04T12:00', '2021-02-04T13:00', '2021-02-04T14:00', '2021-02-04T15:00', '2021-02-04T16:00', '2021-02-04T17:00', '2021-02-04T18:00', '2021-02-04T19:00', '2021-02-04T20:00', '2021-02-04T21:00', '2021-02-04T22:00', '2021-02-04T23:00', '2021-02-05T00:00', '2021-02-05T01:00', '2021-02-05T02:00', '2021-02-05T03:00', '2021-02-05T04:00', '2021-02-05T05:00', '2021-02-05T06:00', '2021-02-05T07:00', '2021-02-05T08:00', '2021-02-05T09:00', '2021-02-05T10:00', '2021-02-05T11:00', '2021-02-05T12:00', '2021-02-05T13:00', '2021-02-05T14:00', '2021-02-05T15:00', '2021-02-05T16:00', '2021-02-05T17:00', '2021-02-05T18:00', '2021-02-05T19:00', '2021-02-05T20:00', '2021-02-05T21:00', '2021-02-05T22:00', '2021-02-05T23:00', '2021-02-06T00:00', '2021-02-06T01:00', '2021-02-06T02:00', '2021-02-06T03:00', '2021-02-06T04:00', '2021-02-06T05:00', '2021-02-06T06:00', '2021-02-06T07:00', '2021-02-06T08:00', '2021-02-06T09:00', '2021-02-06T10:00', '2021-02-06T11:00', '2021-02-06T12:00', '2021-02-06T13:00', '2021-02-06T14:00', '2021-02-06T15:00', '2021-02-06T16:00', '2021-02-06T17:00', '2021-02-06T18:00', '2021-02-06T19:00', '2021-02-06T20:00', '2021-02-06T21:00', '2021-02-06T22:00', '2021-02-06T23:00', '2021-02-07T00:00', '2021-02-07T01:00', '2021-02-07T02:00', '2021-02-07T03:00', '2021-02-07T04:00', '2021-02-07T05:00', '2021-02-07T06:00', '2021-02-07T07:00', '2021-02-07T08:00', '2021-02-07T09:00', '2021-02-07T10:00', '2021-02-07T11:00', '2021-02-07T12:00', '2021-02-07T13:00', '2021-02-07T14:00', '2021-02-07T15:00', '2021-02-07T16:00', '2021-02-07T17:00', '2021-02-07T18:00', '2021-02-07T19:00', '2021-02-07T20:00', '2021-02-07T21:00', '2021-02-07T22:00', '2021-02-07T23:00', '2021-02-08T00:00', '2021-02-08T01:00', '2021-02-08T02:00', '2021-02-08T03:00', '2021-02-08T04:00', '2021-02-08T05:00', '2021-02-08T06:00', '2021-02-08T07:00', '2021-02-08T08:00', '2021-02-08T09:00', '2021-02-08T10:00', '2021-02-08T11:00', '2021-02-08T12:00', '2021-02-08T13:00', '2021-02-08T14:00', '2021-02-08T15:00', '2021-02-08T16:00', '2021-02-08T17:00', '2021-02-08T18:00', '2021-02-08T19:00', '2021-02-08T20:00', '2021-02-08T21:00', '2021-02-08T22:00', '2021-02-08T23:00', '2021-02-09T00:00', '2021-02-09T01:00', '2021-02-09T02:00', '2021-02-09T03:00', '2021-02-09T04:00', '2021-02-09T05:00', '2021-02-09T06:00', '2021-02-09T07:00', '2021-02-09T08:00', '2021-02-09T09:00', '2021-02-09T10:00', '2021-02-09T11:00', '2021-02-09T12:00', '2021-02-09T13:00', '2021-02-09T14:00', '2021-02-09T15:00', '2021-02-09T16:00', '2021-02-09T17:00', '2021-02-09T18:00', '2021-02-09T19:00', '2021-02-09T20:00', '2021-02-09T21:00', '2021-02-09T22:00', '2021-02-09T23:00', '2021-02-10T00:00', '2021-02-10T01:00', '2021-02-10T02:00', '2021-02-10T03:00', '2021-02-10T04:00', '2021-02-10T05:00', '2021-02-10T06:00', '2021-02-10T07:00', '2021-02-10T08:00', '2021-02-10T09:00', '2021-02-10T10:00', '2021-02-10T11:00', '2021-02-10T12:00', '2021-02-10T13:00', '2021-02-10T14:00', '2021-02-10T15:00', '2021-02-10T16:00', '2021-02-10T17:00', '2021-02-10T18:00', '2021-02-10T19:00', '2021-02-10T20:00', '2021-02-10T21:00', '2021-02-10T22:00', '2021-02-10T23:00', '2021-02-11T00:00', '2021-02-11T01:00', '2021-02-11T02:00', '2021-02-11T03:00', '2021-02-11T04:00', '2021-02-11T05:00', '2021-02-11T06:00', '2021-02-11T07:00', '2021-02-11T08:00', '2021-02-11T09:00', '2021-02-11T10:00', '2021-02-11T11:00', '2021-02-11T12:00', '2021-02-11T13:00', '2021-02-11T14:00', '2021-02-11T15:00', '2021-02-11T16:00', '2021-02-11T17:00', '2021-02-11T18:00', '2021-02-11T19:00', '2021-02-11T20:00', '2021-02-11T21:00', '2021-02-11T22:00', '2021-02-11T23:00', '2021-02-12T00:00', '2021-02-12T01:00', '2021-02-12T02:00', '2021-02-12T03:00', '2021-02-12T04:00', '2021-02-12T05:00', '2021-02-12T06:00', '2021-02-12T07:00', '2021-02-12T08:00', '2021-02-12T09:00', '2021-02-12T10:00', '2021-02-12T11:00', '2021-02-12T12:00', '2021-02-12T13:00', '2021-02-12T14:00', '2021-02-12T15:00', '2021-02-12T16:00', '2021-02-12T17:00', '2021-02-12T18:00', '2021-02-12T19:00', '2021-02-12T20:00', '2021-02-12T21:00', '2021-02-12T22:00', '2021-02-12T23:00', '2021-02-13T00:00', '2021-02-13T01:00', '2021-02-13T02:00', '2021-02-13T03:00', '2021-02-13T04:00', '2021-02-13T05:00', '2021-02-13T06:00', '2021-02-13T07:00', '2021-02-13T08:00', '2021-02-13T09:00', '2021-02-13T10:00', '2021-02-13T11:00', '2021-02-13T12:00', '2021-02-13T13:00', '2021-02-13T14:00', '2021-02-13T15:00', '2021-02-13T16:00', '2021-02-13T17:00', '2021-02-13T18:00', '2021-02-13T19:00', '2021-02-13T20:00', '2021-02-13T21:00', '2021-02-13T22:00', '2021-02-13T23:00', '2021-02-14T00:00', '2021-02-14T01:00', '2021-02-14T02:00', '2021-02-14T03:00', '2021-02-14T04:00', '2021-02-14T05:00', '2021-02-14T06:00', '2021-02-14T07:00', '2021-02-14T08:00', '2021-02-14T09:00', '2021-02-14T10:00', '2021-02-14T11:00', '2021-02-14T12:00', '2021-02-14T13:00', '2021-02-14T14:00', '2021-02-14T15:00', '2021-02-14T16:00', '2021-02-14T17:00', '2021-02-14T18:00', '2021-02-14T19:00', '2021-02-14T20:00', '2021-02-14T21:00', '2021-02-14T22:00', '2021-02-14T23:00', '2021-02-15T00:00', '2021-02-15T01:00', '2021-02-15T02:00', '2021-02-15T03:00', '2021-02-15T04:00', '2021-02-15T05:00', '2021-02-15T06:00', '2021-02-15T07:00', '2021-02-15T08:00', '2021-02-15T09:00', '2021-02-15T10:00', '2021-02-15T11:00', '2021-02-15T12:00', '2021-02-15T13:00', '2021-02-15T14:00', '2021-02-15T15:00', '2021-02-15T16:00', '2021-02-15T17:00', '2021-02-15T18:00', '2021-02-15T19:00', '2021-02-15T20:00', '2021-02-15T21:00', '2021-02-15T22:00', '2021-02-15T23:00', '2021-02-16T00:00', '2021-02-16T01:00', '2021-02-16T02:00', '2021-02-16T03:00', '2021-02-16T04:00', '2021-02-16T05:00', '2021-02-16T06:00', '2021-02-16T07:00', '2021-02-16T08:00', '2021-02-16T09:00', '2021-02-16T10:00', '2021-02-16T11:00', '2021-02-16T12:00', '2021-02-16T13:00', '2021-02-16T14:00', '2021-02-16T15:00', '2021-02-16T16:00', '2021-02-16T17:00', '2021-02-16T18:00', '2021-02-16T19:00', '2021-02-16T20:00', '2021-02-16T21:00', '2021-02-16T22:00', '2021-02-16T23:00', '2021-02-17T00:00', '2021-02-17T01:00', '2021-02-17T02:00', '2021-02-17T03:00', '2021-02-17T04:00', '2021-02-17T05:00', '2021-02-17T06:00', '2021-02-17T07:00', '2021-02-17T08:00', '2021-02-17T09:00', '2021-02-17T10:00', '2021-02-17T11:00', '2021-02-17T12:00', '2021-02-17T13:00', '2021-02-17T14:00', '2021-02-17T15:00', '2021-02-17T16:00', '2021-02-17T17:00', '2021-02-17T18:00', '2021-02-17T19:00', '2021-02-17T20:00', '2021-02-17T21:00', '2021-02-17T22:00', '2021-02-17T23:00', '2021-02-18T00:00', '2021-02-18T01:00', '2021-02-18T02:00', '2021-02-18T03:00', '2021-02-18T04:00', '2021-02-18T05:00', '2021-02-18T06:00', '2021-02-18T07:00', '2021-02-18T08:00', '2021-02-18T09:00', '2021-02-18T10:00', '2021-02-18T11:00', '2021-02-18T12:00', '2021-02-18T13:00', '2021-02-18T14:00', '2021-02-18T15:00', '2021-02-18T16:00', '2021-02-18T17:00', '2021-02-18T18:00', '2021-02-18T19:00', '2021-02-18T20:00', '2021-02-18T21:00', '2021-02-18T22:00', '2021-02-18T23:00', '2021-02-19T00:00', '2021-02-19T01:00', '2021-02-19T02:00', '2021-02-19T03:00', '2021-02-19T04:00', '2021-02-19T05:00', '2021-02-19T06:00', '2021-02-19T07:00', '2021-02-19T08:00', '2021-02-19T09:00', '2021-02-19T10:00', '2021-02-19T11:00', '2021-02-19T12:00', '2021-02-19T13:00', '2021-02-19T14:00', '2021-02-19T15:00', '2021-02-19T16:00', '2021-02-19T17:00', '2021-02-19T18:00', '2021-02-19T19:00', '2021-02-19T20:00', '2021-02-19T21:00', '2021-02-19T22:00', '2021-02-19T23:00', '2021-02-20T00:00', '2021-02-20T01:00', '2021-02-20T02:00', '2021-02-20T03:00', '2021-02-20T04:00', '2021-02-20T05:00', '2021-02-20T06:00', '2021-02-20T07:00', '2021-02-20T08:00', '2021-02-20T09:00', '2021-02-20T10:00', '2021-02-20T11:00', '2021-02-20T12:00', '2021-02-20T13:00', '2021-02-20T14:00', '2021-02-20T15:00', '2021-02-20T16:00', '2021-02-20T17:00', '2021-02-20T18:00', '2021-02-20T19:00', '2021-02-20T20:00', '2021-02-20T21:00', '2021-02-20T22:00', '2021-02-20T23:00', '2021-02-21T00:00', '2021-02-21T01:00', '2021-02-21T02:00', '2021-02-21T03:00', '2021-02-21T04:00', '2021-02-21T05:00', '2021-02-21T06:00', '2021-02-21T07:00', '2021-02-21T08:00', '2021-02-21T09:00', '2021-02-21T10:00', '2021-02-21T11:00', '2021-02-21T12:00', '2021-02-21T13:00', '2021-02-21T14:00', '2021-02-21T15:00', '2021-02-21T16:00', '2021-02-21T17:00', '2021-02-21T18:00', '2021-02-21T19:00', '2021-02-21T20:00', '2021-02-21T21:00', '2021-02-21T22:00', '2021-02-21T23:00', '2021-02-22T00:00', '2021-02-22T01:00', '2021-02-22T02:00', '2021-02-22T03:00', '2021-02-22T04:00', '2021-02-22T05:00', '2021-02-22T06:00', '2021-02-22T07:00', '2021-02-22T08:00', '2021-02-22T09:00', '2021-02-22T10:00', '2021-02-22T11:00', '2021-02-22T12:00', '2021-02-22T13:00', '2021-02-22T14:00', '2021-02-22T15:00', '2021-02-22T16:00', '2021-02-22T17:00', '2021-02-22T18:00', '2021-02-22T19:00', '2021-02-22T20:00', '2021-02-22T21:00', '2021-02-22T22:00', '2021-02-22T23:00', '2021-02-23T00:00', '2021-02-23T01:00', '2021-02-23T02:00', '2021-02-23T03:00', '2021-02-23T04:00', '2021-02-23T05:00', '2021-02-23T06:00', '2021-02-23T07:00', '2021-02-23T08:00', '2021-02-23T09:00', '2021-02-23T10:00', '2021-02-23T11:00', '2021-02-23T12:00', '2021-02-23T13:00', '2021-02-23T14:00', '2021-02-23T15:00', '2021-02-23T16:00', '2021-02-23T17:00', '2021-02-23T18:00', '2021-02-23T19:00', '2021-02-23T20:00', '2021-02-23T21:00', '2021-02-23T22:00', '2021-02-23T23:00', '2021-02-24T00:00', '2021-02-24T01:00', '2021-02-24T02:00', '2021-02-24T03:00', '2021-02-24T04:00', '2021-02-24T05:00', '2021-02-24T06:00', '2021-02-24T07:00', '2021-02-24T08:00', '2021-02-24T09:00', '2021-02-24T10:00', '2021-02-24T11:00', '2021-02-24T12:00', '2021-02-24T13:00', '2021-02-24T14:00', '2021-02-24T15:00', '2021-02-24T16:00', '2021-02-24T17:00', '2021-02-24T18:00', '2021-02-24T19:00', '2021-02-24T20:00', '2021-02-24T21:00', '2021-02-24T22:00', '2021-02-24T23:00', '2021-02-25T00:00', '2021-02-25T01:00', '2021-02-25T02:00', '2021-02-25T03:00', '2021-02-25T04:00', '2021-02-25T05:00', '2021-02-25T06:00', '2021-02-25T07:00', '2021-02-25T08:00', '2021-02-25T09:00', '2021-02-25T10:00', '2021-02-25T11:00', '2021-02-25T12:00', '2021-02-25T13:00', '2021-02-25T14:00', '2021-02-25T15:00', '2021-02-25T16:00', '2021-02-25T17:00', '2021-02-25T18:00', '2021-02-25T19:00', '2021-02-25T20:00', '2021-02-25T21:00', '2021-02-25T22:00', '2021-02-25T23:00', '2021-02-26T00:00', '2021-02-26T01:00', '2021-02-26T02:00', '2021-02-26T03:00', '2021-02-26T04:00', '2021-02-26T05:00', '2021-02-26T06:00', '2021-02-26T07:00', '2021-02-26T08:00', '2021-02-26T09:00', '2021-02-26T10:00', '2021-02-26T11:00', '2021-02-26T12:00', '2021-02-26T13:00', '2021-02-26T14:00', '2021-02-26T15:00', '2021-02-26T16:00', '2021-02-26T17:00', '2021-02-26T18:00', '2021-02-26T19:00', '2021-02-26T20:00', '2021-02-26T21:00', '2021-02-26T22:00', '2021-02-26T23:00', '2021-02-27T00:00', '2021-02-27T01:00', '2021-02-27T02:00', '2021-02-27T03:00', '2021-02-27T04:00', '2021-02-27T05:00', '2021-02-27T06:00', '2021-02-27T07:00', '2021-02-27T08:00', '2021-02-27T09:00', '2021-02-27T10:00', '2021-02-27T11:00', '2021-02-27T12:00', '2021-02-27T13:00', '2021-02-27T14:00', '2021-02-27T15:00', '2021-02-27T16:00', '2021-02-27T17:00', '2021-02-27T18:00', '2021-02-27T19:00', '2021-02-27T20:00', '2021-02-27T21:00', '2021-02-27T22:00', '2021-02-27T23:00', '2021-02-28T00:00', '2021-02-28T01:00', '2021-02-28T02:00', '2021-02-28T03:00', '2021-02-28T04:00', '2021-02-28T05:00', '2021-02-28T06:00', '2021-02-28T07:00', '2021-02-28T08:00', '2021-02-28T09:00', '2021-02-28T10:00', '2021-02-28T11:00', '2021-02-28T12:00', '2021-02-28T13:00', '2021-02-28T14:00', '2021-02-28T15:00', '2021-02-28T16:00', '2021-02-28T17:00', '2021-02-28T18:00', '2021-02-28T19:00', '2021-02-28T20:00', '2021-02-28T21:00', '2021-02-28T22:00', '2021-02-28T23:00', '2021-03-01T00:00', '2021-03-01T01:00', '2021-03-01T02:00', '2021-03-01T03:00', '2021-03-01T04:00', '2021-03-01T05:00', '2021-03-01T06:00', '2021-03-01T07:00', '2021-03-01T08:00', '2021-03-01T09:00', '2021-03-01T10:00', '2021-03-01T11:00', '2021-03-01T12:00', '2021-03-01T13:00', '2021-03-01T14:00', '2021-03-01T15:00', '2021-03-01T16:00', '2021-03-01T17:00', '2021-03-01T18:00', '2021-03-01T19:00', '2021-03-01T20:00', '2021-03-01T21:00', '2021-03-01T22:00', '2021-03-01T23:00', '2021-03-02T00:00', '2021-03-02T01:00', '2021-03-02T02:00', '2021-03-02T03:00', '2021-03-02T04:00', '2021-03-02T05:00', '2021-03-02T06:00', '2021-03-02T07:00', '2021-03-02T08:00', '2021-03-02T09:00', '2021-03-02T10:00', '2021-03-02T11:00', '2021-03-02T12:00', '2021-03-02T13:00', '2021-03-02T14:00', '2021-03-02T15:00', '2021-03-02T16:00', '2021-03-02T17:00', '2021-03-02T18:00', '2021-03-02T19:00', '2021-03-02T20:00', '2021-03-02T21:00', '2021-03-02T22:00', '2021-03-02T23:00', '2021-03-03T00:00', '2021-03-03T01:00', '2021-03-03T02:00', '2021-03-03T03:00', '2021-03-03T04:00', '2021-03-03T05:00', '2021-03-03T06:00', '2021-03-03T07:00', '2021-03-03T08:00', '2021-03-03T09:00', '2021-03-03T10:00', '2021-03-03T11:00', '2021-03-03T12:00', '2021-03-03T13:00', '2021-03-03T14:00', '2021-03-03T15:00', '2021-03-03T16:00', '2021-03-03T17:00', '2021-03-03T18:00', '2021-03-03T19:00', '2021-03-03T20:00', '2021-03-03T21:00', '2021-03-03T22:00', '2021-03-03T23:00', '2021-03-04T00:00', '2021-03-04T01:00', '2021-03-04T02:00', '2021-03-04T03:00', '2021-03-04T04:00', '2021-03-04T05:00', '2021-03-04T06:00', '2021-03-04T07:00', '2021-03-04T08:00', '2021-03-04T09:00', '2021-03-04T10:00', '2021-03-04T11:00', '2021-03-04T12:00', '2021-03-04T13:00', '2021-03-04T14:00', '2021-03-04T15:00', '2021-03-04T16:00', '2021-03-04T17:00', '2021-03-04T18:00', '2021-03-04T19:00', '2021-03-04T20:00', '2021-03-04T21:00', '2021-03-04T22:00', '2021-03-04T23:00', '2021-03-05T00:00', '2021-03-05T01:00', '2021-03-05T02:00', '2021-03-05T03:00', '2021-03-05T04:00', '2021-03-05T05:00', '2021-03-05T06:00', '2021-03-05T07:00', '2021-03-05T08:00', '2021-03-05T09:00', '2021-03-05T10:00', '2021-03-05T11:00', '2021-03-05T12:00', '2021-03-05T13:00', '2021-03-05T14:00', '2021-03-05T15:00', '2021-03-05T16:00', '2021-03-05T17:00', '2021-03-05T18:00', '2021-03-05T19:00', '2021-03-05T20:00', '2021-03-05T21:00', '2021-03-05T22:00', '2021-03-05T23:00', '2021-03-06T00:00', '2021-03-06T01:00', '2021-03-06T02:00', '2021-03-06T03:00', '2021-03-06T04:00', '2021-03-06T05:00', '2021-03-06T06:00', '2021-03-06T07:00', '2021-03-06T08:00', '2021-03-06T09:00', '2021-03-06T10:00', '2021-03-06T11:00', '2021-03-06T12:00', '2021-03-06T13:00', '2021-03-06T14:00', '2021-03-06T15:00', '2021-03-06T16:00', '2021-03-06T17:00', '2021-03-06T18:00', '2021-03-06T19:00', '2021-03-06T20:00', '2021-03-06T21:00', '2021-03-06T22:00', '2021-03-06T23:00', '2021-03-07T00:00', '2021-03-07T01:00', '2021-03-07T02:00', '2021-03-07T03:00', '2021-03-07T04:00', '2021-03-07T05:00', '2021-03-07T06:00', '2021-03-07T07:00', '2021-03-07T08:00', '2021-03-07T09:00', '2021-03-07T10:00', '2021-03-07T11:00', '2021-03-07T12:00', '2021-03-07T13:00', '2021-03-07T14:00', '2021-03-07T15:00', '2021-03-07T16:00', '2021-03-07T17:00', '2021-03-07T18:00', '2021-03-07T19:00', '2021-03-07T20:00', '2021-03-07T21:00', '2021-03-07T22:00', '2021-03-07T23:00', '2021-03-08T00:00', '2021-03-08T01:00', '2021-03-08T02:00', '2021-03-08T03:00', '2021-03-08T04:00', '2021-03-08T05:00', '2021-03-08T06:00', '2021-03-08T07:00', '2021-03-08T08:00', '2021-03-08T09:00', '2021-03-08T10:00', '2021-03-08T11:00', '2021-03-08T12:00', '2021-03-08T13:00', '2021-03-08T14:00', '2021-03-08T15:00', '2021-03-08T16:00', '2021-03-08T17:00', '2021-03-08T18:00', '2021-03-08T19:00', '2021-03-08T20:00', '2021-03-08T21:00', '2021-03-08T22:00', '2021-03-08T23:00', '2021-03-09T00:00', '2021-03-09T01:00', '2021-03-09T02:00', '2021-03-09T03:00', '2021-03-09T04:00', '2021-03-09T05:00', '2021-03-09T06:00', '2021-03-09T07:00', '2021-03-09T08:00', '2021-03-09T09:00', '2021-03-09T10:00', '2021-03-09T11:00', '2021-03-09T12:00', '2021-03-09T13:00', '2021-03-09T14:00', '2021-03-09T15:00', '2021-03-09T16:00', '2021-03-09T17:00', '2021-03-09T18:00', '2021-03-09T19:00', '2021-03-09T20:00', '2021-03-09T21:00', '2021-03-09T22:00', '2021-03-09T23:00', '2021-03-10T00:00', '2021-03-10T01:00', '2021-03-10T02:00', '2021-03-10T03:00', '2021-03-10T04:00', '2021-03-10T05:00', '2021-03-10T06:00', '2021-03-10T07:00', '2021-03-10T08:00', '2021-03-10T09:00', '2021-03-10T10:00', '2021-03-10T11:00', '2021-03-10T12:00', '2021-03-10T13:00', '2021-03-10T14:00', '2021-03-10T15:00', '2021-03-10T16:00', '2021-03-10T17:00', '2021-03-10T18:00', '2021-03-10T19:00', '2021-03-10T20:00', '2021-03-10T21:00', '2021-03-10T22:00', '2021-03-10T23:00', '2021-03-11T00:00', '2021-03-11T01:00', '2021-03-11T02:00', '2021-03-11T03:00', '2021-03-11T04:00', '2021-03-11T05:00', '2021-03-11T06:00', '2021-03-11T07:00', '2021-03-11T08:00', '2021-03-11T09:00', '2021-03-11T10:00', '2021-03-11T11:00', '2021-03-11T12:00', '2021-03-11T13:00', '2021-03-11T14:00', '2021-03-11T15:00', '2021-03-11T16:00', '2021-03-11T17:00', '2021-03-11T18:00', '2021-03-11T19:00', '2021-03-11T20:00', '2021-03-11T21:00', '2021-03-11T22:00', '2021-03-11T23:00', '2021-03-12T00:00', '2021-03-12T01:00', '2021-03-12T02:00', '2021-03-12T03:00', '2021-03-12T04:00', '2021-03-12T05:00', '2021-03-12T06:00', '2021-03-12T07:00', '2021-03-12T08:00', '2021-03-12T09:00', '2021-03-12T10:00', '2021-03-12T11:00', '2021-03-12T12:00', '2021-03-12T13:00', '2021-03-12T14:00', '2021-03-12T15:00', '2021-03-12T16:00', '2021-03-12T17:00', '2021-03-12T18:00', '2021-03-12T19:00', '2021-03-12T20:00', '2021-03-12T21:00', '2021-03-12T22:00', '2021-03-12T23:00', '2021-03-13T00:00', '2021-03-13T01:00', '2021-03-13T02:00', '2021-03-13T03:00', '2021-03-13T04:00', '2021-03-13T05:00', '2021-03-13T06:00', '2021-03-13T07:00', '2021-03-13T08:00', '2021-03-13T09:00', '2021-03-13T10:00', '2021-03-13T11:00', '2021-03-13T12:00', '2021-03-13T13:00', '2021-03-13T14:00', '2021-03-13T15:00', '2021-03-13T16:00', '2021-03-13T17:00', '2021-03-13T18:00', '2021-03-13T19:00', '2021-03-13T20:00', '2021-03-13T21:00', '2021-03-13T22:00', '2021-03-13T23:00', '2021-03-14T00:00', '2021-03-14T01:00', '2021-03-14T02:00', '2021-03-14T03:00', '2021-03-14T04:00', '2021-03-14T05:00', '2021-03-14T06:00', '2021-03-14T07:00', '2021-03-14T08:00', '2021-03-14T09:00', '2021-03-14T10:00', '2021-03-14T11:00', '2021-03-14T12:00', '2021-03-14T13:00', '2021-03-14T14:00', '2021-03-14T15:00', '2021-03-14T16:00', '2021-03-14T17:00', '2021-03-14T18:00', '2021-03-14T19:00', '2021-03-14T20:00', '2021-03-14T21:00', '2021-03-14T22:00', '2021-03-14T23:00', '2021-03-15T00:00', '2021-03-15T01:00', '2021-03-15T02:00', '2021-03-15T03:00', '2021-03-15T04:00', '2021-03-15T05:00', '2021-03-15T06:00', '2021-03-15T07:00', '2021-03-15T08:00', '2021-03-15T09:00', '2021-03-15T10:00', '2021-03-15T11:00', '2021-03-15T12:00', '2021-03-15T13:00', '2021-03-15T14:00', '2021-03-15T15:00', '2021-03-15T16:00', '2021-03-15T17:00', '2021-03-15T18:00', '2021-03-15T19:00', '2021-03-15T20:00', '2021-03-15T21:00', '2021-03-15T22:00', '2021-03-15T23:00', '2021-03-16T00:00', '2021-03-16T01:00', '2021-03-16T02:00', '2021-03-16T03:00', '2021-03-16T04:00', '2021-03-16T05:00', '2021-03-16T06:00', '2021-03-16T07:00', '2021-03-16T08:00', '2021-03-16T09:00', '2021-03-16T10:00', '2021-03-16T11:00', '2021-03-16T12:00', '2021-03-16T13:00', '2021-03-16T14:00', '2021-03-16T15:00', '2021-03-16T16:00', '2021-03-16T17:00', '2021-03-16T18:00', '2021-03-16T19:00', '2021-03-16T20:00', '2021-03-16T21:00', '2021-03-16T22:00', '2021-03-16T23:00', '2021-03-17T00:00', '2021-03-17T01:00', '2021-03-17T02:00', '2021-03-17T03:00', '2021-03-17T04:00', '2021-03-17T05:00', '2021-03-17T06:00', '2021-03-17T07:00', '2021-03-17T08:00', '2021-03-17T09:00', '2021-03-17T10:00', '2021-03-17T11:00', '2021-03-17T12:00', '2021-03-17T13:00', '2021-03-17T14:00', '2021-03-17T15:00', '2021-03-17T16:00', '2021-03-17T17:00', '2021-03-17T18:00', '2021-03-17T19:00', '2021-03-17T20:00', '2021-03-17T21:00', '2021-03-17T22:00', '2021-03-17T23:00', '2021-03-18T00:00', '2021-03-18T01:00', '2021-03-18T02:00', '2021-03-18T03:00', '2021-03-18T04:00', '2021-03-18T05:00', '2021-03-18T06:00', '2021-03-18T07:00', '2021-03-18T08:00', '2021-03-18T09:00', '2021-03-18T10:00', '2021-03-18T11:00', '2021-03-18T12:00', '2021-03-18T13:00', '2021-03-18T14:00', '2021-03-18T15:00', '2021-03-18T16:00', '2021-03-18T17:00', '2021-03-18T18:00', '2021-03-18T19:00', '2021-03-18T20:00', '2021-03-18T21:00', '2021-03-18T22:00', '2021-03-18T23:00', '2021-03-19T00:00', '2021-03-19T01:00', '2021-03-19T02:00', '2021-03-19T03:00', '2021-03-19T04:00', '2021-03-19T05:00', '2021-03-19T06:00', '2021-03-19T07:00', '2021-03-19T08:00', '2021-03-19T09:00', '2021-03-19T10:00', '2021-03-19T11:00', '2021-03-19T12:00', '2021-03-19T13:00', '2021-03-19T14:00', '2021-03-19T15:00', '2021-03-19T16:00', '2021-03-19T17:00', '2021-03-19T18:00', '2021-03-19T19:00', '2021-03-19T20:00', '2021-03-19T21:00', '2021-03-19T22:00', '2021-03-19T23:00', '2021-03-20T00:00', '2021-03-20T01:00', '2021-03-20T02:00', '2021-03-20T03:00', '2021-03-20T04:00', '2021-03-20T05:00', '2021-03-20T06:00', '2021-03-20T07:00', '2021-03-20T08:00', '2021-03-20T09:00', '2021-03-20T10:00', '2021-03-20T11:00', '2021-03-20T12:00', '2021-03-20T13:00', '2021-03-20T14:00', '2021-03-20T15:00', '2021-03-20T16:00', '2021-03-20T17:00', '2021-03-20T18:00', '2021-03-20T19:00', '2021-03-20T20:00', '2021-03-20T21:00', '2021-03-20T22:00', '2021-03-20T23:00', '2021-03-21T00:00', '2021-03-21T01:00', '2021-03-21T02:00', '2021-03-21T03:00', '2021-03-21T04:00', '2021-03-21T05:00', '2021-03-21T06:00', '2021-03-21T07:00', '2021-03-21T08:00', '2021-03-21T09:00', '2021-03-21T10:00', '2021-03-21T11:00', '2021-03-21T12:00', '2021-03-21T13:00', '2021-03-21T14:00', '2021-03-21T15:00', '2021-03-21T16:00', '2021-03-21T17:00', '2021-03-21T18:00', '2021-03-21T19:00', '2021-03-21T20:00', '2021-03-21T21:00', '2021-03-21T22:00', '2021-03-21T23:00', '2021-03-22T00:00', '2021-03-22T01:00', '2021-03-22T02:00', '2021-03-22T03:00', '2021-03-22T04:00', '2021-03-22T05:00', '2021-03-22T06:00', '2021-03-22T07:00', '2021-03-22T08:00', '2021-03-22T09:00', '2021-03-22T10:00', '2021-03-22T11:00', '2021-03-22T12:00', '2021-03-22T13:00', '2021-03-22T14:00', '2021-03-22T15:00', '2021-03-22T16:00', '2021-03-22T17:00', '2021-03-22T18:00', '2021-03-22T19:00', '2021-03-22T20:00', '2021-03-22T21:00', '2021-03-22T22:00', '2021-03-22T23:00', '2021-03-23T00:00', '2021-03-23T01:00', '2021-03-23T02:00', '2021-03-23T03:00', '2021-03-23T04:00', '2021-03-23T05:00', '2021-03-23T06:00', '2021-03-23T07:00', '2021-03-23T08:00', '2021-03-23T09:00', '2021-03-23T10:00', '2021-03-23T11:00', '2021-03-23T12:00', '2021-03-23T13:00', '2021-03-23T14:00', '2021-03-23T15:00', '2021-03-23T16:00', '2021-03-23T17:00', '2021-03-23T18:00', '2021-03-23T19:00', '2021-03-23T20:00', '2021-03-23T21:00', '2021-03-23T22:00', '2021-03-23T23:00', '2021-03-24T00:00', '2021-03-24T01:00', '2021-03-24T02:00', '2021-03-24T03:00', '2021-03-24T04:00', '2021-03-24T05:00', '2021-03-24T06:00', '2021-03-24T07:00', '2021-03-24T08:00', '2021-03-24T09:00', '2021-03-24T10:00', '2021-03-24T11:00', '2021-03-24T12:00', '2021-03-24T13:00', '2021-03-24T14:00', '2021-03-24T15:00', '2021-03-24T16:00', '2021-03-24T17:00', '2021-03-24T18:00', '2021-03-24T19:00', '2021-03-24T20:00', '2021-03-24T21:00', '2021-03-24T22:00', '2021-03-24T23:00', '2021-03-25T00:00', '2021-03-25T01:00', '2021-03-25T02:00', '2021-03-25T03:00', '2021-03-25T04:00', '2021-03-25T05:00', '2021-03-25T06:00', '2021-03-25T07:00', '2021-03-25T08:00', '2021-03-25T09:00', '2021-03-25T10:00', '2021-03-25T11:00', '2021-03-25T12:00', '2021-03-25T13:00', '2021-03-25T14:00', '2021-03-25T15:00', '2021-03-25T16:00', '2021-03-25T17:00', '2021-03-25T18:00', '2021-03-25T19:00', '2021-03-25T20:00', '2021-03-25T21:00', '2021-03-25T22:00', '2021-03-25T23:00', '2021-03-26T00:00', '2021-03-26T01:00', '2021-03-26T02:00', '2021-03-26T03:00', '2021-03-26T04:00', '2021-03-26T05:00', '2021-03-26T06:00', '2021-03-26T07:00', '2021-03-26T08:00', '2021-03-26T09:00', '2021-03-26T10:00', '2021-03-26T11:00', '2021-03-26T12:00', '2021-03-26T13:00', '2021-03-26T14:00', '2021-03-26T15:00', '2021-03-26T16:00', '2021-03-26T17:00', '2021-03-26T18:00', '2021-03-26T19:00', '2021-03-26T20:00', '2021-03-26T21:00', '2021-03-26T22:00', '2021-03-26T23:00', '2021-03-27T00:00', '2021-03-27T01:00', '2021-03-27T02:00', '2021-03-27T03:00', '2021-03-27T04:00', '2021-03-27T05:00', '2021-03-27T06:00', '2021-03-27T07:00', '2021-03-27T08:00', '2021-03-27T09:00', '2021-03-27T10:00', '2021-03-27T11:00', '2021-03-27T12:00', '2021-03-27T13:00', '2021-03-27T14:00', '2021-03-27T15:00', '2021-03-27T16:00', '2021-03-27T17:00', '2021-03-27T18:00', '2021-03-27T19:00', '2021-03-27T20:00', '2021-03-27T21:00', '2021-03-27T22:00', '2021-03-27T23:00', '2021-03-28T00:00', '2021-03-28T01:00', '2021-03-28T02:00', '2021-03-28T03:00', '2021-03-28T04:00', '2021-03-28T05:00', '2021-03-28T06:00', '2021-03-28T07:00', '2021-03-28T08:00', '2021-03-28T09:00', '2021-03-28T10:00', '2021-03-28T11:00', '2021-03-28T12:00', '2021-03-28T13:00', '2021-03-28T14:00', '2021-03-28T15:00', '2021-03-28T16:00', '2021-03-28T17:00', '2021-03-28T18:00', '2021-03-28T19:00', '2021-03-28T20:00', '2021-03-28T21:00', '2021-03-28T22:00', '2021-03-28T23:00', '2021-03-29T00:00', '2021-03-29T01:00', '2021-03-29T02:00', '2021-03-29T03:00', '2021-03-29T04:00', '2021-03-29T05:00', '2021-03-29T06:00', '2021-03-29T07:00', '2021-03-29T08:00', '2021-03-29T09:00', '2021-03-29T10:00', '2021-03-29T11:00', '2021-03-29T12:00', '2021-03-29T13:00', '2021-03-29T14:00', '2021-03-29T15:00', '2021-03-29T16:00', '2021-03-29T17:00', '2021-03-29T18:00', '2021-03-29T19:00', '2021-03-29T20:00', '2021-03-29T21:00', '2021-03-29T22:00', '2021-03-29T23:00', '2021-03-30T00:00', '2021-03-30T01:00', '2021-03-30T02:00', '2021-03-30T03:00', '2021-03-30T04:00', '2021-03-30T05:00', '2021-03-30T06:00', '2021-03-30T07:00', '2021-03-30T08:00', '2021-03-30T09:00', '2021-03-30T10:00', '2021-03-30T11:00', '2021-03-30T12:00', '2021-03-30T13:00', '2021-03-30T14:00', '2021-03-30T15:00', '2021-03-30T16:00', '2021-03-30T17:00', '2021-03-30T18:00', '2021-03-30T19:00', '2021-03-30T20:00', '2021-03-30T21:00', '2021-03-30T22:00', '2021-03-30T23:00', '2021-03-31T00:00', '2021-03-31T01:00', '2021-03-31T02:00', '2021-03-31T03:00', '2021-03-31T04:00', '2021-03-31T05:00', '2021-03-31T06:00', '2021-03-31T07:00', '2021-03-31T08:00', '2021-03-31T09:00', '2021-03-31T10:00', '2021-03-31T11:00', '2021-03-31T12:00', '2021-03-31T13:00', '2021-03-31T14:00', '2021-03-31T15:00', '2021-03-31T16:00', '2021-03-31T17:00', '2021-03-31T18:00', '2021-03-31T19:00', '2021-03-31T20:00', '2021-03-31T21:00', '2021-03-31T22:00', '2021-03-31T23:00', '2021-04-01T00:00', '2021-04-01T01:00', '2021-04-01T02:00', '2021-04-01T03:00', '2021-04-01T04:00', '2021-04-01T05:00', '2021-04-01T06:00', '2021-04-01T07:00', '2021-04-01T08:00', '2021-04-01T09:00', '2021-04-01T10:00', '2021-04-01T11:00', '2021-04-01T12:00', '2021-04-01T13:00', '2021-04-01T14:00', '2021-04-01T15:00', '2021-04-01T16:00', '2021-04-01T17:00', '2021-04-01T18:00', '2021-04-01T19:00', '2021-04-01T20:00', '2021-04-01T21:00', '2021-04-01T22:00', '2021-04-01T23:00', '2021-04-02T00:00', '2021-04-02T01:00', '2021-04-02T02:00', '2021-04-02T03:00', '2021-04-02T04:00', '2021-04-02T05:00', '2021-04-02T06:00', '2021-04-02T07:00', '2021-04-02T08:00', '2021-04-02T09:00', '2021-04-02T10:00', '2021-04-02T11:00', '2021-04-02T12:00', '2021-04-02T13:00', '2021-04-02T14:00', '2021-04-02T15:00', '2021-04-02T16:00', '2021-04-02T17:00', '2021-04-02T18:00', '2021-04-02T19:00', '2021-04-02T20:00', '2021-04-02T21:00', '2021-04-02T22:00', '2021-04-02T23:00', '2021-04-03T00:00', '2021-04-03T01:00', '2021-04-03T02:00', '2021-04-03T03:00', '2021-04-03T04:00', '2021-04-03T05:00', '2021-04-03T06:00', '2021-04-03T07:00', '2021-04-03T08:00', '2021-04-03T09:00', '2021-04-03T10:00', '2021-04-03T11:00', '2021-04-03T12:00', '2021-04-03T13:00', '2021-04-03T14:00', '2021-04-03T15:00', '2021-04-03T16:00', '2021-04-03T17:00', '2021-04-03T18:00', '2021-04-03T19:00', '2021-04-03T20:00', '2021-04-03T21:00', '2021-04-03T22:00', '2021-04-03T23:00', '2021-04-04T00:00', '2021-04-04T01:00', '2021-04-04T02:00', '2021-04-04T03:00', '2021-04-04T04:00', '2021-04-04T05:00', '2021-04-04T06:00', '2021-04-04T07:00', '2021-04-04T08:00', '2021-04-04T09:00', '2021-04-04T10:00', '2021-04-04T11:00', '2021-04-04T12:00', '2021-04-04T13:00', '2021-04-04T14:00', '2021-04-04T15:00', '2021-04-04T16:00', '2021-04-04T17:00', '2021-04-04T18:00', '2021-04-04T19:00', '2021-04-04T20:00', '2021-04-04T21:00', '2021-04-04T22:00', '2021-04-04T23:00', '2021-04-05T00:00', '2021-04-05T01:00', '2021-04-05T02:00', '2021-04-05T03:00', '2021-04-05T04:00', '2021-04-05T05:00', '2021-04-05T06:00', '2021-04-05T07:00', '2021-04-05T08:00', '2021-04-05T09:00', '2021-04-05T10:00', '2021-04-05T11:00', '2021-04-05T12:00', '2021-04-05T13:00', '2021-04-05T14:00', '2021-04-05T15:00', '2021-04-05T16:00', '2021-04-05T17:00', '2021-04-05T18:00', '2021-04-05T19:00', '2021-04-05T20:00', '2021-04-05T21:00', '2021-04-05T22:00', '2021-04-05T23:00', '2021-04-06T00:00', '2021-04-06T01:00', '2021-04-06T02:00', '2021-04-06T03:00', '2021-04-06T04:00', '2021-04-06T05:00', '2021-04-06T06:00', '2021-04-06T07:00', '2021-04-06T08:00', '2021-04-06T09:00', '2021-04-06T10:00', '2021-04-06T11:00', '2021-04-06T12:00', '2021-04-06T13:00', '2021-04-06T14:00', '2021-04-06T15:00', '2021-04-06T16:00', '2021-04-06T17:00', '2021-04-06T18:00', '2021-04-06T19:00', '2021-04-06T20:00', '2021-04-06T21:00', '2021-04-06T22:00', '2021-04-06T23:00', '2021-04-07T00:00', '2021-04-07T01:00', '2021-04-07T02:00', '2021-04-07T03:00', '2021-04-07T04:00', '2021-04-07T05:00', '2021-04-07T06:00', '2021-04-07T07:00', '2021-04-07T08:00', '2021-04-07T09:00', '2021-04-07T10:00', '2021-04-07T11:00', '2021-04-07T12:00', '2021-04-07T13:00', '2021-04-07T14:00', '2021-04-07T15:00', '2021-04-07T16:00', '2021-04-07T17:00', '2021-04-07T18:00', '2021-04-07T19:00', '2021-04-07T20:00', '2021-04-07T21:00', '2021-04-07T22:00', '2021-04-07T23:00', '2021-04-08T00:00', '2021-04-08T01:00', '2021-04-08T02:00', '2021-04-08T03:00', '2021-04-08T04:00', '2021-04-08T05:00', '2021-04-08T06:00', '2021-04-08T07:00', '2021-04-08T08:00', '2021-04-08T09:00', '2021-04-08T10:00', '2021-04-08T11:00', '2021-04-08T12:00', '2021-04-08T13:00', '2021-04-08T14:00', '2021-04-08T15:00', '2021-04-08T16:00', '2021-04-08T17:00', '2021-04-08T18:00', '2021-04-08T19:00', '2021-04-08T20:00', '2021-04-08T21:00', '2021-04-08T22:00', '2021-04-08T23:00', '2021-04-09T00:00', '2021-04-09T01:00', '2021-04-09T02:00', '2021-04-09T03:00', '2021-04-09T04:00', '2021-04-09T05:00', '2021-04-09T06:00', '2021-04-09T07:00', '2021-04-09T08:00', '2021-04-09T09:00', '2021-04-09T10:00', '2021-04-09T11:00', '2021-04-09T12:00', '2021-04-09T13:00', '2021-04-09T14:00', '2021-04-09T15:00', '2021-04-09T16:00', '2021-04-09T17:00', '2021-04-09T18:00', '2021-04-09T19:00', '2021-04-09T20:00', '2021-04-09T21:00', '2021-04-09T22:00', '2021-04-09T23:00', '2021-04-10T00:00', '2021-04-10T01:00', '2021-04-10T02:00', '2021-04-10T03:00', '2021-04-10T04:00', '2021-04-10T05:00', '2021-04-10T06:00', '2021-04-10T07:00', '2021-04-10T08:00', '2021-04-10T09:00', '2021-04-10T10:00', '2021-04-10T11:00', '2021-04-10T12:00', '2021-04-10T13:00', '2021-04-10T14:00', '2021-04-10T15:00', '2021-04-10T16:00', '2021-04-10T17:00', '2021-04-10T18:00', '2021-04-10T19:00', '2021-04-10T20:00', '2021-04-10T21:00', '2021-04-10T22:00', '2021-04-10T23:00', '2021-04-11T00:00', '2021-04-11T01:00', '2021-04-11T02:00', '2021-04-11T03:00', '2021-04-11T04:00', '2021-04-11T05:00', '2021-04-11T06:00', '2021-04-11T07:00', '2021-04-11T08:00', '2021-04-11T09:00', '2021-04-11T10:00', '2021-04-11T11:00', '2021-04-11T12:00', '2021-04-11T13:00', '2021-04-11T14:00', '2021-04-11T15:00', '2021-04-11T16:00', '2021-04-11T17:00', '2021-04-11T18:00', '2021-04-11T19:00', '2021-04-11T20:00', '2021-04-11T21:00', '2021-04-11T22:00', '2021-04-11T23:00', '2021-04-12T00:00', '2021-04-12T01:00', '2021-04-12T02:00', '2021-04-12T03:00', '2021-04-12T04:00', '2021-04-12T05:00', '2021-04-12T06:00', '2021-04-12T07:00', '2021-04-12T08:00', '2021-04-12T09:00', '2021-04-12T10:00', '2021-04-12T11:00', '2021-04-12T12:00', '2021-04-12T13:00', '2021-04-12T14:00', '2021-04-12T15:00', '2021-04-12T16:00', '2021-04-12T17:00', '2021-04-12T18:00', '2021-04-12T19:00', '2021-04-12T20:00', '2021-04-12T21:00', '2021-04-12T22:00', '2021-04-12T23:00', '2021-04-13T00:00', '2021-04-13T01:00', '2021-04-13T02:00', '2021-04-13T03:00', '2021-04-13T04:00', '2021-04-13T05:00', '2021-04-13T06:00', '2021-04-13T07:00', '2021-04-13T08:00', '2021-04-13T09:00', '2021-04-13T10:00', '2021-04-13T11:00', '2021-04-13T12:00', '2021-04-13T13:00', '2021-04-13T14:00', '2021-04-13T15:00', '2021-04-13T16:00', '2021-04-13T17:00', '2021-04-13T18:00', '2021-04-13T19:00', '2021-04-13T20:00', '2021-04-13T21:00', '2021-04-13T22:00', '2021-04-13T23:00', '2021-04-14T00:00', '2021-04-14T01:00', '2021-04-14T02:00', '2021-04-14T03:00', '2021-04-14T04:00', '2021-04-14T05:00', '2021-04-14T06:00', '2021-04-14T07:00', '2021-04-14T08:00', '2021-04-14T09:00', '2021-04-14T10:00', '2021-04-14T11:00', '2021-04-14T12:00', '2021-04-14T13:00', '2021-04-14T14:00', '2021-04-14T15:00', '2021-04-14T16:00', '2021-04-14T17:00', '2021-04-14T18:00', '2021-04-14T19:00', '2021-04-14T20:00', '2021-04-14T21:00', '2021-04-14T22:00', '2021-04-14T23:00', '2021-04-15T00:00', '2021-04-15T01:00', '2021-04-15T02:00', '2021-04-15T03:00', '2021-04-15T04:00', '2021-04-15T05:00', '2021-04-15T06:00', '2021-04-15T07:00', '2021-04-15T08:00', '2021-04-15T09:00', '2021-04-15T10:00', '2021-04-15T11:00', '2021-04-15T12:00', '2021-04-15T13:00', '2021-04-15T14:00', '2021-04-15T15:00', '2021-04-15T16:00', '2021-04-15T17:00', '2021-04-15T18:00', '2021-04-15T19:00', '2021-04-15T20:00', '2021-04-15T21:00', '2021-04-15T22:00', '2021-04-15T23:00', '2021-04-16T00:00', '2021-04-16T01:00', '2021-04-16T02:00', '2021-04-16T03:00', '2021-04-16T04:00', '2021-04-16T05:00', '2021-04-16T06:00', '2021-04-16T07:00', '2021-04-16T08:00', '2021-04-16T09:00', '2021-04-16T10:00', '2021-04-16T11:00', '2021-04-16T12:00', '2021-04-16T13:00', '2021-04-16T14:00', '2021-04-16T15:00', '2021-04-16T16:00', '2021-04-16T17:00', '2021-04-16T18:00', '2021-04-16T19:00', '2021-04-16T20:00', '2021-04-16T21:00', '2021-04-16T22:00', '2021-04-16T23:00', '2021-04-17T00:00', '2021-04-17T01:00', '2021-04-17T02:00', '2021-04-17T03:00', '2021-04-17T04:00', '2021-04-17T05:00', '2021-04-17T06:00', '2021-04-17T07:00', '2021-04-17T08:00', '2021-04-17T09:00', '2021-04-17T10:00', '2021-04-17T11:00', '2021-04-17T12:00', '2021-04-17T13:00', '2021-04-17T14:00', '2021-04-17T15:00', '2021-04-17T16:00', '2021-04-17T17:00', '2021-04-17T18:00', '2021-04-17T19:00', '2021-04-17T20:00', '2021-04-17T21:00', '2021-04-17T22:00', '2021-04-17T23:00', '2021-04-18T00:00', '2021-04-18T01:00', '2021-04-18T02:00', '2021-04-18T03:00', '2021-04-18T04:00', '2021-04-18T05:00', '2021-04-18T06:00', '2021-04-18T07:00', '2021-04-18T08:00', '2021-04-18T09:00', '2021-04-18T10:00', '2021-04-18T11:00', '2021-04-18T12:00', '2021-04-18T13:00', '2021-04-18T14:00', '2021-04-18T15:00', '2021-04-18T16:00', '2021-04-18T17:00', '2021-04-18T18:00', '2021-04-18T19:00', '2021-04-18T20:00', '2021-04-18T21:00', '2021-04-18T22:00', '2021-04-18T23:00', '2021-04-19T00:00', '2021-04-19T01:00', '2021-04-19T02:00', '2021-04-19T03:00', '2021-04-19T04:00', '2021-04-19T05:00', '2021-04-19T06:00', '2021-04-19T07:00', '2021-04-19T08:00', '2021-04-19T09:00', '2021-04-19T10:00', '2021-04-19T11:00', '2021-04-19T12:00', '2021-04-19T13:00', '2021-04-19T14:00', '2021-04-19T15:00', '2021-04-19T16:00', '2021-04-19T17:00', '2021-04-19T18:00', '2021-04-19T19:00', '2021-04-19T20:00', '2021-04-19T21:00', '2021-04-19T22:00', '2021-04-19T23:00', '2021-04-20T00:00', '2021-04-20T01:00', '2021-04-20T02:00', '2021-04-20T03:00', '2021-04-20T04:00', '2021-04-20T05:00', '2021-04-20T06:00', '2021-04-20T07:00', '2021-04-20T08:00', '2021-04-20T09:00', '2021-04-20T10:00', '2021-04-20T11:00', '2021-04-20T12:00', '2021-04-20T13:00', '2021-04-20T14:00', '2021-04-20T15:00', '2021-04-20T16:00', '2021-04-20T17:00', '2021-04-20T18:00', '2021-04-20T19:00', '2021-04-20T20:00', '2021-04-20T21:00', '2021-04-20T22:00', '2021-04-20T23:00', '2021-04-21T00:00', '2021-04-21T01:00', '2021-04-21T02:00', '2021-04-21T03:00', '2021-04-21T04:00', '2021-04-21T05:00', '2021-04-21T06:00', '2021-04-21T07:00', '2021-04-21T08:00', '2021-04-21T09:00', '2021-04-21T10:00', '2021-04-21T11:00', '2021-04-21T12:00', '2021-04-21T13:00', '2021-04-21T14:00', '2021-04-21T15:00', '2021-04-21T16:00', '2021-04-21T17:00', '2021-04-21T18:00', '2021-04-21T19:00', '2021-04-21T20:00', '2021-04-21T21:00', '2021-04-21T22:00', '2021-04-21T23:00', '2021-04-22T00:00', '2021-04-22T01:00', '2021-04-22T02:00', '2021-04-22T03:00', '2021-04-22T04:00', '2021-04-22T05:00', '2021-04-22T06:00', '2021-04-22T07:00', '2021-04-22T08:00', '2021-04-22T09:00', '2021-04-22T10:00', '2021-04-22T11:00', '2021-04-22T12:00', '2021-04-22T13:00', '2021-04-22T14:00', '2021-04-22T15:00', '2021-04-22T16:00', '2021-04-22T17:00', '2021-04-22T18:00', '2021-04-22T19:00', '2021-04-22T20:00', '2021-04-22T21:00', '2021-04-22T22:00', '2021-04-22T23:00', '2021-04-23T00:00', '2021-04-23T01:00', '2021-04-23T02:00', '2021-04-23T03:00', '2021-04-23T04:00', '2021-04-23T05:00', '2021-04-23T06:00', '2021-04-23T07:00', '2021-04-23T08:00', '2021-04-23T09:00', '2021-04-23T10:00', '2021-04-23T11:00', '2021-04-23T12:00', '2021-04-23T13:00', '2021-04-23T14:00', '2021-04-23T15:00', '2021-04-23T16:00', '2021-04-23T17:00', '2021-04-23T18:00', '2021-04-23T19:00', '2021-04-23T20:00', '2021-04-23T21:00', '2021-04-23T22:00', '2021-04-23T23:00', '2021-04-24T00:00', '2021-04-24T01:00', '2021-04-24T02:00', '2021-04-24T03:00', '2021-04-24T04:00', '2021-04-24T05:00', '2021-04-24T06:00', '2021-04-24T07:00', '2021-04-24T08:00', '2021-04-24T09:00', '2021-04-24T10:00', '2021-04-24T11:00', '2021-04-24T12:00', '2021-04-24T13:00', '2021-04-24T14:00', '2021-04-24T15:00', '2021-04-24T16:00', '2021-04-24T17:00', '2021-04-24T18:00', '2021-04-24T19:00', '2021-04-24T20:00', '2021-04-24T21:00', '2021-04-24T22:00', '2021-04-24T23:00', '2021-04-25T00:00', '2021-04-25T01:00', '2021-04-25T02:00', '2021-04-25T03:00', '2021-04-25T04:00', '2021-04-25T05:00', '2021-04-25T06:00', '2021-04-25T07:00', '2021-04-25T08:00', '2021-04-25T09:00', '2021-04-25T10:00', '2021-04-25T11:00', '2021-04-25T12:00', '2021-04-25T13:00', '2021-04-25T14:00', '2021-04-25T15:00', '2021-04-25T16:00', '2021-04-25T17:00', '2021-04-25T18:00', '2021-04-25T19:00', '2021-04-25T20:00', '2021-04-25T21:00', '2021-04-25T22:00', '2021-04-25T23:00', '2021-04-26T00:00', '2021-04-26T01:00', '2021-04-26T02:00', '2021-04-26T03:00', '2021-04-26T04:00', '2021-04-26T05:00', '2021-04-26T06:00', '2021-04-26T07:00', '2021-04-26T08:00', '2021-04-26T09:00', '2021-04-26T10:00', '2021-04-26T11:00', '2021-04-26T12:00', '2021-04-26T13:00', '2021-04-26T14:00', '2021-04-26T15:00', '2021-04-26T16:00', '2021-04-26T17:00', '2021-04-26T18:00', '2021-04-26T19:00', '2021-04-26T20:00', '2021-04-26T21:00', '2021-04-26T22:00', '2021-04-26T23:00', '2021-04-27T00:00', '2021-04-27T01:00', '2021-04-27T02:00', '2021-04-27T03:00', '2021-04-27T04:00', '2021-04-27T05:00', '2021-04-27T06:00', '2021-04-27T07:00', '2021-04-27T08:00', '2021-04-27T09:00', '2021-04-27T10:00', '2021-04-27T11:00', '2021-04-27T12:00', '2021-04-27T13:00', '2021-04-27T14:00', '2021-04-27T15:00', '2021-04-27T16:00', '2021-04-27T17:00', '2021-04-27T18:00', '2021-04-27T19:00', '2021-04-27T20:00', '2021-04-27T21:00', '2021-04-27T22:00', '2021-04-27T23:00', '2021-04-28T00:00', '2021-04-28T01:00', '2021-04-28T02:00', '2021-04-28T03:00', '2021-04-28T04:00', '2021-04-28T05:00', '2021-04-28T06:00', '2021-04-28T07:00', '2021-04-28T08:00', '2021-04-28T09:00', '2021-04-28T10:00', '2021-04-28T11:00', '2021-04-28T12:00', '2021-04-28T13:00', '2021-04-28T14:00', '2021-04-28T15:00', '2021-04-28T16:00', '2021-04-28T17:00', '2021-04-28T18:00', '2021-04-28T19:00', '2021-04-28T20:00', '2021-04-28T21:00', '2021-04-28T22:00', '2021-04-28T23:00', '2021-04-29T00:00', '2021-04-29T01:00', '2021-04-29T02:00', '2021-04-29T03:00', '2021-04-29T04:00', '2021-04-29T05:00', '2021-04-29T06:00', '2021-04-29T07:00', '2021-04-29T08:00', '2021-04-29T09:00', '2021-04-29T10:00', '2021-04-29T11:00', '2021-04-29T12:00', '2021-04-29T13:00', '2021-04-29T14:00', '2021-04-29T15:00', '2021-04-29T16:00', '2021-04-29T17:00', '2021-04-29T18:00', '2021-04-29T19:00', '2021-04-29T20:00', '2021-04-29T21:00', '2021-04-29T22:00', '2021-04-29T23:00', '2021-04-30T00:00', '2021-04-30T01:00', '2021-04-30T02:00', '2021-04-30T03:00', '2021-04-30T04:00', '2021-04-30T05:00', '2021-04-30T06:00', '2021-04-30T07:00', '2021-04-30T08:00', '2021-04-30T09:00', '2021-04-30T10:00', '2021-04-30T11:00', '2021-04-30T12:00', '2021-04-30T13:00', '2021-04-30T14:00', '2021-04-30T15:00', '2021-04-30T16:00', '2021-04-30T17:00', '2021-04-30T18:00', '2021-04-30T19:00', '2021-04-30T20:00', '2021-04-30T21:00', '2021-04-30T22:00', '2021-04-30T23:00', '2021-05-01T00:00', '2021-05-01T01:00', '2021-05-01T02:00', '2021-05-01T03:00', '2021-05-01T04:00', '2021-05-01T05:00', '2021-05-01T06:00', '2021-05-01T07:00', '2021-05-01T08:00', '2021-05-01T09:00', '2021-05-01T10:00', '2021-05-01T11:00', '2021-05-01T12:00', '2021-05-01T13:00', '2021-05-01T14:00', '2021-05-01T15:00', '2021-05-01T16:00', '2021-05-01T17:00', '2021-05-01T18:00', '2021-05-01T19:00', '2021-05-01T20:00', '2021-05-01T21:00', '2021-05-01T22:00', '2021-05-01T23:00', '2021-05-02T00:00', '2021-05-02T01:00', '2021-05-02T02:00', '2021-05-02T03:00', '2021-05-02T04:00', '2021-05-02T05:00', '2021-05-02T06:00', '2021-05-02T07:00', '2021-05-02T08:00', '2021-05-02T09:00', '2021-05-02T10:00', '2021-05-02T11:00', '2021-05-02T12:00', '2021-05-02T13:00', '2021-05-02T14:00', '2021-05-02T15:00', '2021-05-02T16:00', '2021-05-02T17:00', '2021-05-02T18:00', '2021-05-02T19:00', '2021-05-02T20:00', '2021-05-02T21:00', '2021-05-02T22:00', '2021-05-02T23:00', '2021-05-03T00:00', '2021-05-03T01:00', '2021-05-03T02:00', '2021-05-03T03:00', '2021-05-03T04:00', '2021-05-03T05:00', '2021-05-03T06:00', '2021-05-03T07:00', '2021-05-03T08:00', '2021-05-03T09:00', '2021-05-03T10:00', '2021-05-03T11:00', '2021-05-03T12:00', '2021-05-03T13:00', '2021-05-03T14:00', '2021-05-03T15:00', '2021-05-03T16:00', '2021-05-03T17:00', '2021-05-03T18:00', '2021-05-03T19:00', '2021-05-03T20:00', '2021-05-03T21:00', '2021-05-03T22:00', '2021-05-03T23:00', '2021-05-04T00:00', '2021-05-04T01:00', '2021-05-04T02:00', '2021-05-04T03:00', '2021-05-04T04:00', '2021-05-04T05:00', '2021-05-04T06:00', '2021-05-04T07:00', '2021-05-04T08:00', '2021-05-04T09:00', '2021-05-04T10:00', '2021-05-04T11:00', '2021-05-04T12:00', '2021-05-04T13:00', '2021-05-04T14:00', '2021-05-04T15:00', '2021-05-04T16:00', '2021-05-04T17:00', '2021-05-04T18:00', '2021-05-04T19:00', '2021-05-04T20:00', '2021-05-04T21:00', '2021-05-04T22:00', '2021-05-04T23:00', '2021-05-05T00:00', '2021-05-05T01:00', '2021-05-05T02:00', '2021-05-05T03:00', '2021-05-05T04:00', '2021-05-05T05:00', '2021-05-05T06:00', '2021-05-05T07:00', '2021-05-05T08:00', '2021-05-05T09:00', '2021-05-05T10:00', '2021-05-05T11:00', '2021-05-05T12:00', '2021-05-05T13:00', '2021-05-05T14:00', '2021-05-05T15:00', '2021-05-05T16:00', '2021-05-05T17:00', '2021-05-05T18:00', '2021-05-05T19:00', '2021-05-05T20:00', '2021-05-05T21:00', '2021-05-05T22:00', '2021-05-05T23:00', '2021-05-06T00:00', '2021-05-06T01:00', '2021-05-06T02:00', '2021-05-06T03:00', '2021-05-06T04:00', '2021-05-06T05:00', '2021-05-06T06:00', '2021-05-06T07:00', '2021-05-06T08:00', '2021-05-06T09:00', '2021-05-06T10:00', '2021-05-06T11:00', '2021-05-06T12:00', '2021-05-06T13:00', '2021-05-06T14:00', '2021-05-06T15:00', '2021-05-06T16:00', '2021-05-06T17:00', '2021-05-06T18:00', '2021-05-06T19:00', '2021-05-06T20:00', '2021-05-06T21:00', '2021-05-06T22:00', '2021-05-06T23:00', '2021-05-07T00:00', '2021-05-07T01:00', '2021-05-07T02:00', '2021-05-07T03:00', '2021-05-07T04:00', '2021-05-07T05:00', '2021-05-07T06:00', '2021-05-07T07:00', '2021-05-07T08:00', '2021-05-07T09:00', '2021-05-07T10:00', '2021-05-07T11:00', '2021-05-07T12:00', '2021-05-07T13:00', '2021-05-07T14:00', '2021-05-07T15:00', '2021-05-07T16:00', '2021-05-07T17:00', '2021-05-07T18:00', '2021-05-07T19:00', '2021-05-07T20:00', '2021-05-07T21:00', '2021-05-07T22:00', '2021-05-07T23:00', '2021-05-08T00:00', '2021-05-08T01:00', '2021-05-08T02:00', '2021-05-08T03:00', '2021-05-08T04:00', '2021-05-08T05:00', '2021-05-08T06:00', '2021-05-08T07:00', '2021-05-08T08:00', '2021-05-08T09:00', '2021-05-08T10:00', '2021-05-08T11:00', '2021-05-08T12:00', '2021-05-08T13:00', '2021-05-08T14:00', '2021-05-08T15:00', '2021-05-08T16:00', '2021-05-08T17:00', '2021-05-08T18:00', '2021-05-08T19:00', '2021-05-08T20:00', '2021-05-08T21:00', '2021-05-08T22:00', '2021-05-08T23:00', '2021-05-09T00:00', '2021-05-09T01:00', '2021-05-09T02:00', '2021-05-09T03:00', '2021-05-09T04:00', '2021-05-09T05:00', '2021-05-09T06:00', '2021-05-09T07:00', '2021-05-09T08:00', '2021-05-09T09:00', '2021-05-09T10:00', '2021-05-09T11:00', '2021-05-09T12:00', '2021-05-09T13:00', '2021-05-09T14:00', '2021-05-09T15:00', '2021-05-09T16:00', '2021-05-09T17:00', '2021-05-09T18:00', '2021-05-09T19:00', '2021-05-09T20:00', '2021-05-09T21:00', '2021-05-09T22:00', '2021-05-09T23:00', '2021-05-10T00:00', '2021-05-10T01:00', '2021-05-10T02:00', '2021-05-10T03:00', '2021-05-10T04:00', '2021-05-10T05:00', '2021-05-10T06:00', '2021-05-10T07:00', '2021-05-10T08:00', '2021-05-10T09:00', '2021-05-10T10:00', '2021-05-10T11:00', '2021-05-10T12:00', '2021-05-10T13:00', '2021-05-10T14:00', '2021-05-10T15:00', '2021-05-10T16:00', '2021-05-10T17:00', '2021-05-10T18:00', '2021-05-10T19:00', '2021-05-10T20:00', '2021-05-10T21:00', '2021-05-10T22:00', '2021-05-10T23:00', '2021-05-11T00:00', '2021-05-11T01:00', '2021-05-11T02:00', '2021-05-11T03:00', '2021-05-11T04:00', '2021-05-11T05:00', '2021-05-11T06:00', '2021-05-11T07:00', '2021-05-11T08:00', '2021-05-11T09:00', '2021-05-11T10:00', '2021-05-11T11:00', '2021-05-11T12:00', '2021-05-11T13:00', '2021-05-11T14:00', '2021-05-11T15:00', '2021-05-11T16:00', '2021-05-11T17:00', '2021-05-11T18:00', '2021-05-11T19:00', '2021-05-11T20:00', '2021-05-11T21:00', '2021-05-11T22:00', '2021-05-11T23:00', '2021-05-12T00:00', '2021-05-12T01:00', '2021-05-12T02:00', '2021-05-12T03:00', '2021-05-12T04:00', '2021-05-12T05:00', '2021-05-12T06:00', '2021-05-12T07:00', '2021-05-12T08:00', '2021-05-12T09:00', '2021-05-12T10:00', '2021-05-12T11:00', '2021-05-12T12:00', '2021-05-12T13:00', '2021-05-12T14:00', '2021-05-12T15:00', '2021-05-12T16:00', '2021-05-12T17:00', '2021-05-12T18:00', '2021-05-12T19:00', '2021-05-12T20:00', '2021-05-12T21:00', '2021-05-12T22:00', '2021-05-12T23:00', '2021-05-13T00:00', '2021-05-13T01:00', '2021-05-13T02:00', '2021-05-13T03:00', '2021-05-13T04:00', '2021-05-13T05:00', '2021-05-13T06:00', '2021-05-13T07:00', '2021-05-13T08:00', '2021-05-13T09:00', '2021-05-13T10:00', '2021-05-13T11:00', '2021-05-13T12:00', '2021-05-13T13:00', '2021-05-13T14:00', '2021-05-13T15:00', '2021-05-13T16:00', '2021-05-13T17:00', '2021-05-13T18:00', '2021-05-13T19:00', '2021-05-13T20:00', '2021-05-13T21:00', '2021-05-13T22:00', '2021-05-13T23:00', '2021-05-14T00:00', '2021-05-14T01:00', '2021-05-14T02:00', '2021-05-14T03:00', '2021-05-14T04:00', '2021-05-14T05:00', '2021-05-14T06:00', '2021-05-14T07:00', '2021-05-14T08:00', '2021-05-14T09:00', '2021-05-14T10:00', '2021-05-14T11:00', '2021-05-14T12:00', '2021-05-14T13:00', '2021-05-14T14:00', '2021-05-14T15:00', '2021-05-14T16:00', '2021-05-14T17:00', '2021-05-14T18:00', '2021-05-14T19:00', '2021-05-14T20:00', '2021-05-14T21:00', '2021-05-14T22:00', '2021-05-14T23:00', '2021-05-15T00:00', '2021-05-15T01:00', '2021-05-15T02:00', '2021-05-15T03:00', '2021-05-15T04:00', '2021-05-15T05:00', '2021-05-15T06:00', '2021-05-15T07:00', '2021-05-15T08:00', '2021-05-15T09:00', '2021-05-15T10:00', '2021-05-15T11:00', '2021-05-15T12:00', '2021-05-15T13:00', '2021-05-15T14:00', '2021-05-15T15:00', '2021-05-15T16:00', '2021-05-15T17:00', '2021-05-15T18:00', '2021-05-15T19:00', '2021-05-15T20:00', '2021-05-15T21:00', '2021-05-15T22:00', '2021-05-15T23:00', '2021-05-16T00:00', '2021-05-16T01:00', '2021-05-16T02:00', '2021-05-16T03:00', '2021-05-16T04:00', '2021-05-16T05:00', '2021-05-16T06:00', '2021-05-16T07:00', '2021-05-16T08:00', '2021-05-16T09:00', '2021-05-16T10:00', '2021-05-16T11:00', '2021-05-16T12:00', '2021-05-16T13:00', '2021-05-16T14:00', '2021-05-16T15:00', '2021-05-16T16:00', '2021-05-16T17:00', '2021-05-16T18:00', '2021-05-16T19:00', '2021-05-16T20:00', '2021-05-16T21:00', '2021-05-16T22:00', '2021-05-16T23:00', '2021-05-17T00:00', '2021-05-17T01:00', '2021-05-17T02:00', '2021-05-17T03:00', '2021-05-17T04:00', '2021-05-17T05:00', '2021-05-17T06:00', '2021-05-17T07:00', '2021-05-17T08:00', '2021-05-17T09:00', '2021-05-17T10:00', '2021-05-17T11:00', '2021-05-17T12:00', '2021-05-17T13:00', '2021-05-17T14:00', '2021-05-17T15:00', '2021-05-17T16:00', '2021-05-17T17:00', '2021-05-17T18:00', '2021-05-17T19:00', '2021-05-17T20:00', '2021-05-17T21:00', '2021-05-17T22:00', '2021-05-17T23:00', '2021-05-18T00:00', '2021-05-18T01:00', '2021-05-18T02:00', '2021-05-18T03:00', '2021-05-18T04:00', '2021-05-18T05:00', '2021-05-18T06:00', '2021-05-18T07:00', '2021-05-18T08:00', '2021-05-18T09:00', '2021-05-18T10:00', '2021-05-18T11:00', '2021-05-18T12:00', '2021-05-18T13:00', '2021-05-18T14:00', '2021-05-18T15:00', '2021-05-18T16:00', '2021-05-18T17:00', '2021-05-18T18:00', '2021-05-18T19:00', '2021-05-18T20:00', '2021-05-18T21:00', '2021-05-18T22:00', '2021-05-18T23:00', '2021-05-19T00:00', '2021-05-19T01:00', '2021-05-19T02:00', '2021-05-19T03:00', '2021-05-19T04:00', '2021-05-19T05:00', '2021-05-19T06:00', '2021-05-19T07:00', '2021-05-19T08:00', '2021-05-19T09:00', '2021-05-19T10:00', '2021-05-19T11:00', '2021-05-19T12:00', '2021-05-19T13:00', '2021-05-19T14:00', '2021-05-19T15:00', '2021-05-19T16:00', '2021-05-19T17:00', '2021-05-19T18:00', '2021-05-19T19:00', '2021-05-19T20:00', '2021-05-19T21:00', '2021-05-19T22:00', '2021-05-19T23:00', '2021-05-20T00:00', '2021-05-20T01:00', '2021-05-20T02:00', '2021-05-20T03:00', '2021-05-20T04:00', '2021-05-20T05:00', '2021-05-20T06:00', '2021-05-20T07:00', '2021-05-20T08:00', '2021-05-20T09:00', '2021-05-20T10:00', '2021-05-20T11:00', '2021-05-20T12:00', '2021-05-20T13:00', '2021-05-20T14:00', '2021-05-20T15:00', '2021-05-20T16:00', '2021-05-20T17:00', '2021-05-20T18:00', '2021-05-20T19:00', '2021-05-20T20:00', '2021-05-20T21:00', '2021-05-20T22:00', '2021-05-20T23:00', '2021-05-21T00:00', '2021-05-21T01:00', '2021-05-21T02:00', '2021-05-21T03:00', '2021-05-21T04:00', '2021-05-21T05:00', '2021-05-21T06:00', '2021-05-21T07:00', '2021-05-21T08:00', '2021-05-21T09:00', '2021-05-21T10:00', '2021-05-21T11:00', '2021-05-21T12:00', '2021-05-21T13:00', '2021-05-21T14:00', '2021-05-21T15:00', '2021-05-21T16:00', '2021-05-21T17:00', '2021-05-21T18:00', '2021-05-21T19:00', '2021-05-21T20:00', '2021-05-21T21:00', '2021-05-21T22:00', '2021-05-21T23:00', '2021-05-22T00:00', '2021-05-22T01:00', '2021-05-22T02:00', '2021-05-22T03:00', '2021-05-22T04:00', '2021-05-22T05:00', '2021-05-22T06:00', '2021-05-22T07:00', '2021-05-22T08:00', '2021-05-22T09:00', '2021-05-22T10:00', '2021-05-22T11:00', '2021-05-22T12:00', '2021-05-22T13:00', '2021-05-22T14:00', '2021-05-22T15:00', '2021-05-22T16:00', '2021-05-22T17:00', '2021-05-22T18:00', '2021-05-22T19:00', '2021-05-22T20:00', '2021-05-22T21:00', '2021-05-22T22:00', '2021-05-22T23:00', '2021-05-23T00:00', '2021-05-23T01:00', '2021-05-23T02:00', '2021-05-23T03:00', '2021-05-23T04:00', '2021-05-23T05:00', '2021-05-23T06:00', '2021-05-23T07:00', '2021-05-23T08:00', '2021-05-23T09:00', '2021-05-23T10:00', '2021-05-23T11:00', '2021-05-23T12:00', '2021-05-23T13:00', '2021-05-23T14:00', '2021-05-23T15:00', '2021-05-23T16:00', '2021-05-23T17:00', '2021-05-23T18:00', '2021-05-23T19:00', '2021-05-23T20:00', '2021-05-23T21:00', '2021-05-23T22:00', '2021-05-23T23:00', '2021-05-24T00:00', '2021-05-24T01:00', '2021-05-24T02:00', '2021-05-24T03:00', '2021-05-24T04:00', '2021-05-24T05:00', '2021-05-24T06:00', '2021-05-24T07:00', '2021-05-24T08:00', '2021-05-24T09:00', '2021-05-24T10:00', '2021-05-24T11:00', '2021-05-24T12:00', '2021-05-24T13:00', '2021-05-24T14:00', '2021-05-24T15:00', '2021-05-24T16:00', '2021-05-24T17:00', '2021-05-24T18:00', '2021-05-24T19:00', '2021-05-24T20:00', '2021-05-24T21:00', '2021-05-24T22:00', '2021-05-24T23:00', '2021-05-25T00:00', '2021-05-25T01:00', '2021-05-25T02:00', '2021-05-25T03:00', '2021-05-25T04:00', '2021-05-25T05:00', '2021-05-25T06:00', '2021-05-25T07:00', '2021-05-25T08:00', '2021-05-25T09:00', '2021-05-25T10:00', '2021-05-25T11:00', '2021-05-25T12:00', '2021-05-25T13:00', '2021-05-25T14:00', '2021-05-25T15:00', '2021-05-25T16:00', '2021-05-25T17:00', '2021-05-25T18:00', '2021-05-25T19:00', '2021-05-25T20:00', '2021-05-25T21:00', '2021-05-25T22:00', '2021-05-25T23:00', '2021-05-26T00:00', '2021-05-26T01:00', '2021-05-26T02:00', '2021-05-26T03:00', '2021-05-26T04:00', '2021-05-26T05:00', '2021-05-26T06:00', '2021-05-26T07:00', '2021-05-26T08:00', '2021-05-26T09:00', '2021-05-26T10:00', '2021-05-26T11:00', '2021-05-26T12:00', '2021-05-26T13:00', '2021-05-26T14:00', '2021-05-26T15:00', '2021-05-26T16:00', '2021-05-26T17:00', '2021-05-26T18:00', '2021-05-26T19:00', '2021-05-26T20:00', '2021-05-26T21:00', '2021-05-26T22:00', '2021-05-26T23:00', '2021-05-27T00:00', '2021-05-27T01:00', '2021-05-27T02:00', '2021-05-27T03:00', '2021-05-27T04:00', '2021-05-27T05:00', '2021-05-27T06:00', '2021-05-27T07:00', '2021-05-27T08:00', '2021-05-27T09:00', '2021-05-27T10:00', '2021-05-27T11:00', '2021-05-27T12:00', '2021-05-27T13:00', '2021-05-27T14:00', '2021-05-27T15:00', '2021-05-27T16:00', '2021-05-27T17:00', '2021-05-27T18:00', '2021-05-27T19:00', '2021-05-27T20:00', '2021-05-27T21:00', '2021-05-27T22:00', '2021-05-27T23:00', '2021-05-28T00:00', '2021-05-28T01:00', '2021-05-28T02:00', '2021-05-28T03:00', '2021-05-28T04:00', '2021-05-28T05:00', '2021-05-28T06:00', '2021-05-28T07:00', '2021-05-28T08:00', '2021-05-28T09:00', '2021-05-28T10:00', '2021-05-28T11:00', '2021-05-28T12:00', '2021-05-28T13:00', '2021-05-28T14:00', '2021-05-28T15:00', '2021-05-28T16:00', '2021-05-28T17:00', '2021-05-28T18:00', '2021-05-28T19:00', '2021-05-28T20:00', '2021-05-28T21:00', '2021-05-28T22:00', '2021-05-28T23:00', '2021-05-29T00:00', '2021-05-29T01:00', '2021-05-29T02:00', '2021-05-29T03:00', '2021-05-29T04:00', '2021-05-29T05:00', '2021-05-29T06:00', '2021-05-29T07:00', '2021-05-29T08:00', '2021-05-29T09:00', '2021-05-29T10:00', '2021-05-29T11:00', '2021-05-29T12:00', '2021-05-29T13:00', '2021-05-29T14:00', '2021-05-29T15:00', '2021-05-29T16:00', '2021-05-29T17:00', '2021-05-29T18:00', '2021-05-29T19:00', '2021-05-29T20:00', '2021-05-29T21:00', '2021-05-29T22:00', '2021-05-29T23:00', '2021-05-30T00:00', '2021-05-30T01:00', '2021-05-30T02:00', '2021-05-30T03:00', '2021-05-30T04:00', '2021-05-30T05:00', '2021-05-30T06:00', '2021-05-30T07:00', '2021-05-30T08:00', '2021-05-30T09:00', '2021-05-30T10:00', '2021-05-30T11:00', '2021-05-30T12:00', '2021-05-30T13:00', '2021-05-30T14:00', '2021-05-30T15:00', '2021-05-30T16:00', '2021-05-30T17:00', '2021-05-30T18:00', '2021-05-30T19:00', '2021-05-30T20:00', '2021-05-30T21:00', '2021-05-30T22:00', '2021-05-30T23:00', '2021-05-31T00:00', '2021-05-31T01:00', '2021-05-31T02:00', '2021-05-31T03:00', '2021-05-31T04:00', '2021-05-31T05:00', '2021-05-31T06:00', '2021-05-31T07:00', '2021-05-31T08:00', '2021-05-31T09:00', '2021-05-31T10:00', '2021-05-31T11:00', '2021-05-31T12:00', '2021-05-31T13:00', '2021-05-31T14:00', '2021-05-31T15:00', '2021-05-31T16:00', '2021-05-31T17:00', '2021-05-31T18:00', '2021-05-31T19:00', '2021-05-31T20:00', '2021-05-31T21:00', '2021-05-31T22:00', '2021-05-31T23:00', '2021-06-01T00:00', '2021-06-01T01:00', '2021-06-01T02:00', '2021-06-01T03:00', '2021-06-01T04:00', '2021-06-01T05:00', '2021-06-01T06:00', '2021-06-01T07:00', '2021-06-01T08:00', '2021-06-01T09:00', '2021-06-01T10:00', '2021-06-01T11:00', '2021-06-01T12:00', '2021-06-01T13:00', '2021-06-01T14:00', '2021-06-01T15:00', '2021-06-01T16:00', '2021-06-01T17:00', '2021-06-01T18:00', '2021-06-01T19:00', '2021-06-01T20:00', '2021-06-01T21:00', '2021-06-01T22:00', '2021-06-01T23:00', '2021-06-02T00:00', '2021-06-02T01:00', '2021-06-02T02:00', '2021-06-02T03:00', '2021-06-02T04:00', '2021-06-02T05:00', '2021-06-02T06:00', '2021-06-02T07:00', '2021-06-02T08:00', '2021-06-02T09:00', '2021-06-02T10:00', '2021-06-02T11:00', '2021-06-02T12:00', '2021-06-02T13:00', '2021-06-02T14:00', '2021-06-02T15:00', '2021-06-02T16:00', '2021-06-02T17:00', '2021-06-02T18:00', '2021-06-02T19:00', '2021-06-02T20:00', '2021-06-02T21:00', '2021-06-02T22:00', '2021-06-02T23:00', '2021-06-03T00:00', '2021-06-03T01:00', '2021-06-03T02:00', '2021-06-03T03:00', '2021-06-03T04:00', '2021-06-03T05:00', '2021-06-03T06:00', '2021-06-03T07:00', '2021-06-03T08:00', '2021-06-03T09:00', '2021-06-03T10:00', '2021-06-03T11:00', '2021-06-03T12:00', '2021-06-03T13:00', '2021-06-03T14:00', '2021-06-03T15:00', '2021-06-03T16:00', '2021-06-03T17:00', '2021-06-03T18:00', '2021-06-03T19:00', '2021-06-03T20:00', '2021-06-03T21:00', '2021-06-03T22:00', '2021-06-03T23:00', '2021-06-04T00:00', '2021-06-04T01:00', '2021-06-04T02:00', '2021-06-04T03:00', '2021-06-04T04:00', '2021-06-04T05:00', '2021-06-04T06:00', '2021-06-04T07:00', '2021-06-04T08:00', '2021-06-04T09:00', '2021-06-04T10:00', '2021-06-04T11:00', '2021-06-04T12:00', '2021-06-04T13:00', '2021-06-04T14:00', '2021-06-04T15:00', '2021-06-04T16:00', '2021-06-04T17:00', '2021-06-04T18:00', '2021-06-04T19:00', '2021-06-04T20:00', '2021-06-04T21:00', '2021-06-04T22:00', '2021-06-04T23:00', '2021-06-05T00:00', '2021-06-05T01:00', '2021-06-05T02:00', '2021-06-05T03:00', '2021-06-05T04:00', '2021-06-05T05:00', '2021-06-05T06:00', '2021-06-05T07:00', '2021-06-05T08:00', '2021-06-05T09:00', '2021-06-05T10:00', '2021-06-05T11:00', '2021-06-05T12:00', '2021-06-05T13:00', '2021-06-05T14:00', '2021-06-05T15:00', '2021-06-05T16:00', '2021-06-05T17:00', '2021-06-05T18:00', '2021-06-05T19:00', '2021-06-05T20:00', '2021-06-05T21:00', '2021-06-05T22:00', '2021-06-05T23:00', '2021-06-06T00:00', '2021-06-06T01:00', '2021-06-06T02:00', '2021-06-06T03:00', '2021-06-06T04:00', '2021-06-06T05:00', '2021-06-06T06:00', '2021-06-06T07:00', '2021-06-06T08:00', '2021-06-06T09:00', '2021-06-06T10:00', '2021-06-06T11:00', '2021-06-06T12:00', '2021-06-06T13:00', '2021-06-06T14:00', '2021-06-06T15:00', '2021-06-06T16:00', '2021-06-06T17:00', '2021-06-06T18:00', '2021-06-06T19:00', '2021-06-06T20:00', '2021-06-06T21:00', '2021-06-06T22:00', '2021-06-06T23:00', '2021-06-07T00:00', '2021-06-07T01:00', '2021-06-07T02:00', '2021-06-07T03:00', '2021-06-07T04:00', '2021-06-07T05:00', '2021-06-07T06:00', '2021-06-07T07:00', '2021-06-07T08:00', '2021-06-07T09:00', '2021-06-07T10:00', '2021-06-07T11:00', '2021-06-07T12:00', '2021-06-07T13:00', '2021-06-07T14:00', '2021-06-07T15:00', '2021-06-07T16:00', '2021-06-07T17:00', '2021-06-07T18:00', '2021-06-07T19:00', '2021-06-07T20:00', '2021-06-07T21:00', '2021-06-07T22:00', '2021-06-07T23:00', '2021-06-08T00:00', '2021-06-08T01:00', '2021-06-08T02:00', '2021-06-08T03:00', '2021-06-08T04:00', '2021-06-08T05:00', '2021-06-08T06:00', '2021-06-08T07:00', '2021-06-08T08:00', '2021-06-08T09:00', '2021-06-08T10:00', '2021-06-08T11:00', '2021-06-08T12:00', '2021-06-08T13:00', '2021-06-08T14:00', '2021-06-08T15:00', '2021-06-08T16:00', '2021-06-08T17:00', '2021-06-08T18:00', '2021-06-08T19:00', '2021-06-08T20:00', '2021-06-08T21:00', '2021-06-08T22:00', '2021-06-08T23:00', '2021-06-09T00:00', '2021-06-09T01:00', '2021-06-09T02:00', '2021-06-09T03:00', '2021-06-09T04:00', '2021-06-09T05:00', '2021-06-09T06:00', '2021-06-09T07:00', '2021-06-09T08:00', '2021-06-09T09:00', '2021-06-09T10:00', '2021-06-09T11:00', '2021-06-09T12:00', '2021-06-09T13:00', '2021-06-09T14:00', '2021-06-09T15:00', '2021-06-09T16:00', '2021-06-09T17:00', '2021-06-09T18:00', '2021-06-09T19:00', '2021-06-09T20:00', '2021-06-09T21:00', '2021-06-09T22:00', '2021-06-09T23:00', '2021-06-10T00:00', '2021-06-10T01:00', '2021-06-10T02:00', '2021-06-10T03:00', '2021-06-10T04:00', '2021-06-10T05:00', '2021-06-10T06:00', '2021-06-10T07:00', '2021-06-10T08:00', '2021-06-10T09:00', '2021-06-10T10:00', '2021-06-10T11:00', '2021-06-10T12:00', '2021-06-10T13:00', '2021-06-10T14:00', '2021-06-10T15:00', '2021-06-10T16:00', '2021-06-10T17:00', '2021-06-10T18:00', '2021-06-10T19:00', '2021-06-10T20:00', '2021-06-10T21:00', '2021-06-10T22:00', '2021-06-10T23:00', '2021-06-11T00:00', '2021-06-11T01:00', '2021-06-11T02:00', '2021-06-11T03:00', '2021-06-11T04:00', '2021-06-11T05:00', '2021-06-11T06:00', '2021-06-11T07:00', '2021-06-11T08:00', '2021-06-11T09:00', '2021-06-11T10:00', '2021-06-11T11:00', '2021-06-11T12:00', '2021-06-11T13:00', '2021-06-11T14:00', '2021-06-11T15:00', '2021-06-11T16:00', '2021-06-11T17:00', '2021-06-11T18:00', '2021-06-11T19:00', '2021-06-11T20:00', '2021-06-11T21:00', '2021-06-11T22:00', '2021-06-11T23:00', '2021-06-12T00:00', '2021-06-12T01:00', '2021-06-12T02:00', '2021-06-12T03:00', '2021-06-12T04:00', '2021-06-12T05:00', '2021-06-12T06:00', '2021-06-12T07:00', '2021-06-12T08:00', '2021-06-12T09:00', '2021-06-12T10:00', '2021-06-12T11:00', '2021-06-12T12:00', '2021-06-12T13:00', '2021-06-12T14:00', '2021-06-12T15:00', '2021-06-12T16:00', '2021-06-12T17:00', '2021-06-12T18:00', '2021-06-12T19:00', '2021-06-12T20:00', '2021-06-12T21:00', '2021-06-12T22:00', '2021-06-12T23:00', '2021-06-13T00:00', '2021-06-13T01:00', '2021-06-13T02:00', '2021-06-13T03:00', '2021-06-13T04:00', '2021-06-13T05:00', '2021-06-13T06:00', '2021-06-13T07:00', '2021-06-13T08:00', '2021-06-13T09:00', '2021-06-13T10:00', '2021-06-13T11:00', '2021-06-13T12:00', '2021-06-13T13:00', '2021-06-13T14:00', '2021-06-13T15:00', '2021-06-13T16:00', '2021-06-13T17:00', '2021-06-13T18:00', '2021-06-13T19:00', '2021-06-13T20:00', '2021-06-13T21:00', '2021-06-13T22:00', '2021-06-13T23:00', '2021-06-14T00:00', '2021-06-14T01:00', '2021-06-14T02:00', '2021-06-14T03:00', '2021-06-14T04:00', '2021-06-14T05:00', '2021-06-14T06:00', '2021-06-14T07:00', '2021-06-14T08:00', '2021-06-14T09:00', '2021-06-14T10:00', '2021-06-14T11:00', '2021-06-14T12:00', '2021-06-14T13:00', '2021-06-14T14:00', '2021-06-14T15:00', '2021-06-14T16:00', '2021-06-14T17:00', '2021-06-14T18:00', '2021-06-14T19:00', '2021-06-14T20:00', '2021-06-14T21:00', '2021-06-14T22:00', '2021-06-14T23:00', '2021-06-15T00:00', '2021-06-15T01:00', '2021-06-15T02:00', '2021-06-15T03:00', '2021-06-15T04:00', '2021-06-15T05:00', '2021-06-15T06:00', '2021-06-15T07:00', '2021-06-15T08:00', '2021-06-15T09:00', '2021-06-15T10:00', '2021-06-15T11:00', '2021-06-15T12:00', '2021-06-15T13:00', '2021-06-15T14:00', '2021-06-15T15:00', '2021-06-15T16:00', '2021-06-15T17:00', '2021-06-15T18:00', '2021-06-15T19:00', '2021-06-15T20:00', '2021-06-15T21:00', '2021-06-15T22:00', '2021-06-15T23:00', '2021-06-16T00:00', '2021-06-16T01:00', '2021-06-16T02:00', '2021-06-16T03:00', '2021-06-16T04:00', '2021-06-16T05:00', '2021-06-16T06:00', '2021-06-16T07:00', '2021-06-16T08:00', '2021-06-16T09:00', '2021-06-16T10:00', '2021-06-16T11:00', '2021-06-16T12:00', '2021-06-16T13:00', '2021-06-16T14:00', '2021-06-16T15:00', '2021-06-16T16:00', '2021-06-16T17:00', '2021-06-16T18:00', '2021-06-16T19:00', '2021-06-16T20:00', '2021-06-16T21:00', '2021-06-16T22:00', '2021-06-16T23:00', '2021-06-17T00:00', '2021-06-17T01:00', '2021-06-17T02:00', '2021-06-17T03:00', '2021-06-17T04:00', '2021-06-17T05:00', '2021-06-17T06:00', '2021-06-17T07:00', '2021-06-17T08:00', '2021-06-17T09:00', '2021-06-17T10:00', '2021-06-17T11:00', '2021-06-17T12:00', '2021-06-17T13:00', '2021-06-17T14:00', '2021-06-17T15:00', '2021-06-17T16:00', '2021-06-17T17:00', '2021-06-17T18:00', '2021-06-17T19:00', '2021-06-17T20:00', '2021-06-17T21:00', '2021-06-17T22:00', '2021-06-17T23:00', '2021-06-18T00:00', '2021-06-18T01:00', '2021-06-18T02:00', '2021-06-18T03:00', '2021-06-18T04:00', '2021-06-18T05:00', '2021-06-18T06:00', '2021-06-18T07:00', '2021-06-18T08:00', '2021-06-18T09:00', '2021-06-18T10:00', '2021-06-18T11:00', '2021-06-18T12:00', '2021-06-18T13:00', '2021-06-18T14:00', '2021-06-18T15:00', '2021-06-18T16:00', '2021-06-18T17:00', '2021-06-18T18:00', '2021-06-18T19:00', '2021-06-18T20:00', '2021-06-18T21:00', '2021-06-18T22:00', '2021-06-18T23:00', '2021-06-19T00:00', '2021-06-19T01:00', '2021-06-19T02:00', '2021-06-19T03:00', '2021-06-19T04:00', '2021-06-19T05:00', '2021-06-19T06:00', '2021-06-19T07:00', '2021-06-19T08:00', '2021-06-19T09:00', '2021-06-19T10:00', '2021-06-19T11:00', '2021-06-19T12:00', '2021-06-19T13:00', '2021-06-19T14:00', '2021-06-19T15:00', '2021-06-19T16:00', '2021-06-19T17:00', '2021-06-19T18:00', '2021-06-19T19:00', '2021-06-19T20:00', '2021-06-19T21:00', '2021-06-19T22:00', '2021-06-19T23:00', '2021-06-20T00:00', '2021-06-20T01:00', '2021-06-20T02:00', '2021-06-20T03:00', '2021-06-20T04:00', '2021-06-20T05:00', '2021-06-20T06:00', '2021-06-20T07:00', '2021-06-20T08:00', '2021-06-20T09:00', '2021-06-20T10:00', '2021-06-20T11:00', '2021-06-20T12:00', '2021-06-20T13:00', '2021-06-20T14:00', '2021-06-20T15:00', '2021-06-20T16:00', '2021-06-20T17:00', '2021-06-20T18:00', '2021-06-20T19:00', '2021-06-20T20:00', '2021-06-20T21:00', '2021-06-20T22:00', '2021-06-20T23:00', '2021-06-21T00:00', '2021-06-21T01:00', '2021-06-21T02:00', '2021-06-21T03:00', '2021-06-21T04:00', '2021-06-21T05:00', '2021-06-21T06:00', '2021-06-21T07:00', '2021-06-21T08:00', '2021-06-21T09:00', '2021-06-21T10:00', '2021-06-21T11:00', '2021-06-21T12:00', '2021-06-21T13:00', '2021-06-21T14:00', '2021-06-21T15:00', '2021-06-21T16:00', '2021-06-21T17:00', '2021-06-21T18:00', '2021-06-21T19:00', '2021-06-21T20:00', '2021-06-21T21:00', '2021-06-21T22:00', '2021-06-21T23:00', '2021-06-22T00:00', '2021-06-22T01:00', '2021-06-22T02:00', '2021-06-22T03:00', '2021-06-22T04:00', '2021-06-22T05:00', '2021-06-22T06:00', '2021-06-22T07:00', '2021-06-22T08:00', '2021-06-22T09:00', '2021-06-22T10:00', '2021-06-22T11:00', '2021-06-22T12:00', '2021-06-22T13:00', '2021-06-22T14:00', '2021-06-22T15:00', '2021-06-22T16:00', '2021-06-22T17:00', '2021-06-22T18:00', '2021-06-22T19:00', '2021-06-22T20:00', '2021-06-22T21:00', '2021-06-22T22:00', '2021-06-22T23:00', '2021-06-23T00:00', '2021-06-23T01:00', '2021-06-23T02:00', '2021-06-23T03:00', '2021-06-23T04:00', '2021-06-23T05:00', '2021-06-23T06:00', '2021-06-23T07:00', '2021-06-23T08:00', '2021-06-23T09:00', '2021-06-23T10:00', '2021-06-23T11:00', '2021-06-23T12:00', '2021-06-23T13:00', '2021-06-23T14:00', '2021-06-23T15:00', '2021-06-23T16:00', '2021-06-23T17:00', '2021-06-23T18:00', '2021-06-23T19:00', '2021-06-23T20:00', '2021-06-23T21:00', '2021-06-23T22:00', '2021-06-23T23:00', '2021-06-24T00:00', '2021-06-24T01:00', '2021-06-24T02:00', '2021-06-24T03:00', '2021-06-24T04:00', '2021-06-24T05:00', '2021-06-24T06:00', '2021-06-24T07:00', '2021-06-24T08:00', '2021-06-24T09:00', '2021-06-24T10:00', '2021-06-24T11:00', '2021-06-24T12:00', '2021-06-24T13:00', '2021-06-24T14:00', '2021-06-24T15:00', '2021-06-24T16:00', '2021-06-24T17:00', '2021-06-24T18:00', '2021-06-24T19:00', '2021-06-24T20:00', '2021-06-24T21:00', '2021-06-24T22:00', '2021-06-24T23:00', '2021-06-25T00:00', '2021-06-25T01:00', '2021-06-25T02:00', '2021-06-25T03:00', '2021-06-25T04:00', '2021-06-25T05:00', '2021-06-25T06:00', '2021-06-25T07:00', '2021-06-25T08:00', '2021-06-25T09:00', '2021-06-25T10:00', '2021-06-25T11:00', '2021-06-25T12:00', '2021-06-25T13:00', '2021-06-25T14:00', '2021-06-25T15:00', '2021-06-25T16:00', '2021-06-25T17:00', '2021-06-25T18:00', '2021-06-25T19:00', '2021-06-25T20:00', '2021-06-25T21:00', '2021-06-25T22:00', '2021-06-25T23:00', '2021-06-26T00:00', '2021-06-26T01:00', '2021-06-26T02:00', '2021-06-26T03:00', '2021-06-26T04:00', '2021-06-26T05:00', '2021-06-26T06:00', '2021-06-26T07:00', '2021-06-26T08:00', '2021-06-26T09:00', '2021-06-26T10:00', '2021-06-26T11:00', '2021-06-26T12:00', '2021-06-26T13:00', '2021-06-26T14:00', '2021-06-26T15:00', '2021-06-26T16:00', '2021-06-26T17:00', '2021-06-26T18:00', '2021-06-26T19:00', '2021-06-26T20:00', '2021-06-26T21:00', '2021-06-26T22:00', '2021-06-26T23:00', '2021-06-27T00:00', '2021-06-27T01:00', '2021-06-27T02:00', '2021-06-27T03:00', '2021-06-27T04:00', '2021-06-27T05:00', '2021-06-27T06:00', '2021-06-27T07:00', '2021-06-27T08:00', '2021-06-27T09:00', '2021-06-27T10:00', '2021-06-27T11:00', '2021-06-27T12:00', '2021-06-27T13:00', '2021-06-27T14:00', '2021-06-27T15:00', '2021-06-27T16:00', '2021-06-27T17:00', '2021-06-27T18:00', '2021-06-27T19:00', '2021-06-27T20:00', '2021-06-27T21:00', '2021-06-27T22:00', '2021-06-27T23:00', '2021-06-28T00:00', '2021-06-28T01:00', '2021-06-28T02:00', '2021-06-28T03:00', '2021-06-28T04:00', '2021-06-28T05:00', '2021-06-28T06:00', '2021-06-28T07:00', '2021-06-28T08:00', '2021-06-28T09:00', '2021-06-28T10:00', '2021-06-28T11:00', '2021-06-28T12:00', '2021-06-28T13:00', '2021-06-28T14:00', '2021-06-28T15:00', '2021-06-28T16:00', '2021-06-28T17:00', '2021-06-28T18:00', '2021-06-28T19:00', '2021-06-28T20:00', '2021-06-28T21:00', '2021-06-28T22:00', '2021-06-28T23:00', '2021-06-29T00:00', '2021-06-29T01:00', '2021-06-29T02:00', '2021-06-29T03:00', '2021-06-29T04:00', '2021-06-29T05:00', '2021-06-29T06:00', '2021-06-29T07:00', '2021-06-29T08:00', '2021-06-29T09:00', '2021-06-29T10:00', '2021-06-29T11:00', '2021-06-29T12:00', '2021-06-29T13:00', '2021-06-29T14:00', '2021-06-29T15:00', '2021-06-29T16:00', '2021-06-29T17:00', '2021-06-29T18:00', '2021-06-29T19:00', '2021-06-29T20:00', '2021-06-29T21:00', '2021-06-29T22:00', '2021-06-29T23:00', '2021-06-30T00:00', '2021-06-30T01:00', '2021-06-30T02:00', '2021-06-30T03:00', '2021-06-30T04:00', '2021-06-30T05:00', '2021-06-30T06:00', '2021-06-30T07:00', '2021-06-30T08:00', '2021-06-30T09:00', '2021-06-30T10:00', '2021-06-30T11:00', '2021-06-30T12:00', '2021-06-30T13:00', '2021-06-30T14:00', '2021-06-30T15:00', '2021-06-30T16:00', '2021-06-30T17:00', '2021-06-30T18:00', '2021-06-30T19:00', '2021-06-30T20:00', '2021-06-30T21:00', '2021-06-30T22:00', '2021-06-30T23:00', '2021-07-01T00:00', '2021-07-01T01:00', '2021-07-01T02:00', '2021-07-01T03:00', '2021-07-01T04:00', '2021-07-01T05:00', '2021-07-01T06:00', '2021-07-01T07:00', '2021-07-01T08:00', '2021-07-01T09:00', '2021-07-01T10:00', '2021-07-01T11:00', '2021-07-01T12:00', '2021-07-01T13:00', '2021-07-01T14:00', '2021-07-01T15:00', '2021-07-01T16:00', '2021-07-01T17:00', '2021-07-01T18:00', '2021-07-01T19:00', '2021-07-01T20:00', '2021-07-01T21:00', '2021-07-01T22:00', '2021-07-01T23:00', '2021-07-02T00:00', '2021-07-02T01:00', '2021-07-02T02:00', '2021-07-02T03:00', '2021-07-02T04:00', '2021-07-02T05:00', '2021-07-02T06:00', '2021-07-02T07:00', '2021-07-02T08:00', '2021-07-02T09:00', '2021-07-02T10:00', '2021-07-02T11:00', '2021-07-02T12:00', '2021-07-02T13:00', '2021-07-02T14:00', '2021-07-02T15:00', '2021-07-02T16:00', '2021-07-02T17:00', '2021-07-02T18:00', '2021-07-02T19:00', '2021-07-02T20:00', '2021-07-02T21:00', '2021-07-02T22:00', '2021-07-02T23:00', '2021-07-03T00:00', '2021-07-03T01:00', '2021-07-03T02:00', '2021-07-03T03:00', '2021-07-03T04:00', '2021-07-03T05:00', '2021-07-03T06:00', '2021-07-03T07:00', '2021-07-03T08:00', '2021-07-03T09:00', '2021-07-03T10:00', '2021-07-03T11:00', '2021-07-03T12:00', '2021-07-03T13:00', '2021-07-03T14:00', '2021-07-03T15:00', '2021-07-03T16:00', '2021-07-03T17:00', '2021-07-03T18:00', '2021-07-03T19:00', '2021-07-03T20:00', '2021-07-03T21:00', '2021-07-03T22:00', '2021-07-03T23:00', '2021-07-04T00:00', '2021-07-04T01:00', '2021-07-04T02:00', '2021-07-04T03:00', '2021-07-04T04:00', '2021-07-04T05:00', '2021-07-04T06:00', '2021-07-04T07:00', '2021-07-04T08:00', '2021-07-04T09:00', '2021-07-04T10:00', '2021-07-04T11:00', '2021-07-04T12:00', '2021-07-04T13:00', '2021-07-04T14:00', '2021-07-04T15:00', '2021-07-04T16:00', '2021-07-04T17:00', '2021-07-04T18:00', '2021-07-04T19:00', '2021-07-04T20:00', '2021-07-04T21:00', '2021-07-04T22:00', '2021-07-04T23:00', '2021-07-05T00:00', '2021-07-05T01:00', '2021-07-05T02:00', '2021-07-05T03:00', '2021-07-05T04:00', '2021-07-05T05:00', '2021-07-05T06:00', '2021-07-05T07:00', '2021-07-05T08:00', '2021-07-05T09:00', '2021-07-05T10:00', '2021-07-05T11:00', '2021-07-05T12:00', '2021-07-05T13:00', '2021-07-05T14:00', '2021-07-05T15:00', '2021-07-05T16:00', '2021-07-05T17:00', '2021-07-05T18:00', '2021-07-05T19:00', '2021-07-05T20:00', '2021-07-05T21:00', '2021-07-05T22:00', '2021-07-05T23:00', '2021-07-06T00:00', '2021-07-06T01:00', '2021-07-06T02:00', '2021-07-06T03:00', '2021-07-06T04:00', '2021-07-06T05:00', '2021-07-06T06:00', '2021-07-06T07:00', '2021-07-06T08:00', '2021-07-06T09:00', '2021-07-06T10:00', '2021-07-06T11:00', '2021-07-06T12:00', '2021-07-06T13:00', '2021-07-06T14:00', '2021-07-06T15:00', '2021-07-06T16:00', '2021-07-06T17:00', '2021-07-06T18:00', '2021-07-06T19:00', '2021-07-06T20:00', '2021-07-06T21:00', '2021-07-06T22:00', '2021-07-06T23:00', '2021-07-07T00:00', '2021-07-07T01:00', '2021-07-07T02:00', '2021-07-07T03:00', '2021-07-07T04:00', '2021-07-07T05:00', '2021-07-07T06:00', '2021-07-07T07:00', '2021-07-07T08:00', '2021-07-07T09:00', '2021-07-07T10:00', '2021-07-07T11:00', '2021-07-07T12:00', '2021-07-07T13:00', '2021-07-07T14:00', '2021-07-07T15:00', '2021-07-07T16:00', '2021-07-07T17:00', '2021-07-07T18:00', '2021-07-07T19:00', '2021-07-07T20:00', '2021-07-07T21:00', '2021-07-07T22:00', '2021-07-07T23:00', '2021-07-08T00:00', '2021-07-08T01:00', '2021-07-08T02:00', '2021-07-08T03:00', '2021-07-08T04:00', '2021-07-08T05:00', '2021-07-08T06:00', '2021-07-08T07:00', '2021-07-08T08:00', '2021-07-08T09:00', '2021-07-08T10:00', '2021-07-08T11:00', '2021-07-08T12:00', '2021-07-08T13:00', '2021-07-08T14:00', '2021-07-08T15:00', '2021-07-08T16:00', '2021-07-08T17:00', '2021-07-08T18:00', '2021-07-08T19:00', '2021-07-08T20:00', '2021-07-08T21:00', '2021-07-08T22:00', '2021-07-08T23:00', '2021-07-09T00:00', '2021-07-09T01:00', '2021-07-09T02:00', '2021-07-09T03:00', '2021-07-09T04:00', '2021-07-09T05:00', '2021-07-09T06:00', '2021-07-09T07:00', '2021-07-09T08:00', '2021-07-09T09:00', '2021-07-09T10:00', '2021-07-09T11:00', '2021-07-09T12:00', '2021-07-09T13:00', '2021-07-09T14:00', '2021-07-09T15:00', '2021-07-09T16:00', '2021-07-09T17:00', '2021-07-09T18:00', '2021-07-09T19:00', '2021-07-09T20:00', '2021-07-09T21:00', '2021-07-09T22:00', '2021-07-09T23:00', '2021-07-10T00:00', '2021-07-10T01:00', '2021-07-10T02:00', '2021-07-10T03:00', '2021-07-10T04:00', '2021-07-10T05:00', '2021-07-10T06:00', '2021-07-10T07:00', '2021-07-10T08:00', '2021-07-10T09:00', '2021-07-10T10:00', '2021-07-10T11:00', '2021-07-10T12:00', '2021-07-10T13:00', '2021-07-10T14:00', '2021-07-10T15:00', '2021-07-10T16:00', '2021-07-10T17:00', '2021-07-10T18:00', '2021-07-10T19:00', '2021-07-10T20:00', '2021-07-10T21:00', '2021-07-10T22:00', '2021-07-10T23:00', '2021-07-11T00:00', '2021-07-11T01:00', '2021-07-11T02:00', '2021-07-11T03:00', '2021-07-11T04:00', '2021-07-11T05:00', '2021-07-11T06:00', '2021-07-11T07:00', '2021-07-11T08:00', '2021-07-11T09:00', '2021-07-11T10:00', '2021-07-11T11:00', '2021-07-11T12:00', '2021-07-11T13:00', '2021-07-11T14:00', '2021-07-11T15:00', '2021-07-11T16:00', '2021-07-11T17:00', '2021-07-11T18:00', '2021-07-11T19:00', '2021-07-11T20:00', '2021-07-11T21:00', '2021-07-11T22:00', '2021-07-11T23:00', '2021-07-12T00:00', '2021-07-12T01:00', '2021-07-12T02:00', '2021-07-12T03:00', '2021-07-12T04:00', '2021-07-12T05:00', '2021-07-12T06:00', '2021-07-12T07:00', '2021-07-12T08:00', '2021-07-12T09:00', '2021-07-12T10:00', '2021-07-12T11:00', '2021-07-12T12:00', '2021-07-12T13:00', '2021-07-12T14:00', '2021-07-12T15:00', '2021-07-12T16:00', '2021-07-12T17:00', '2021-07-12T18:00', '2021-07-12T19:00', '2021-07-12T20:00', '2021-07-12T21:00', '2021-07-12T22:00', '2021-07-12T23:00', '2021-07-13T00:00', '2021-07-13T01:00', '2021-07-13T02:00', '2021-07-13T03:00', '2021-07-13T04:00', '2021-07-13T05:00', '2021-07-13T06:00', '2021-07-13T07:00', '2021-07-13T08:00', '2021-07-13T09:00', '2021-07-13T10:00', '2021-07-13T11:00', '2021-07-13T12:00', '2021-07-13T13:00', '2021-07-13T14:00', '2021-07-13T15:00', '2021-07-13T16:00', '2021-07-13T17:00', '2021-07-13T18:00', '2021-07-13T19:00', '2021-07-13T20:00', '2021-07-13T21:00', '2021-07-13T22:00', '2021-07-13T23:00', '2021-07-14T00:00', '2021-07-14T01:00', '2021-07-14T02:00', '2021-07-14T03:00', '2021-07-14T04:00', '2021-07-14T05:00', '2021-07-14T06:00', '2021-07-14T07:00', '2021-07-14T08:00', '2021-07-14T09:00', '2021-07-14T10:00', '2021-07-14T11:00', '2021-07-14T12:00', '2021-07-14T13:00', '2021-07-14T14:00', '2021-07-14T15:00', '2021-07-14T16:00', '2021-07-14T17:00', '2021-07-14T18:00', '2021-07-14T19:00', '2021-07-14T20:00', '2021-07-14T21:00', '2021-07-14T22:00', '2021-07-14T23:00', '2021-07-15T00:00', '2021-07-15T01:00', '2021-07-15T02:00', '2021-07-15T03:00', '2021-07-15T04:00', '2021-07-15T05:00', '2021-07-15T06:00', '2021-07-15T07:00', '2021-07-15T08:00', '2021-07-15T09:00', '2021-07-15T10:00', '2021-07-15T11:00', '2021-07-15T12:00', '2021-07-15T13:00', '2021-07-15T14:00', '2021-07-15T15:00', '2021-07-15T16:00', '2021-07-15T17:00', '2021-07-15T18:00', '2021-07-15T19:00', '2021-07-15T20:00', '2021-07-15T21:00', '2021-07-15T22:00', '2021-07-15T23:00', '2021-07-16T00:00', '2021-07-16T01:00', '2021-07-16T02:00', '2021-07-16T03:00', '2021-07-16T04:00', '2021-07-16T05:00', '2021-07-16T06:00', '2021-07-16T07:00', '2021-07-16T08:00', '2021-07-16T09:00', '2021-07-16T10:00', '2021-07-16T11:00', '2021-07-16T12:00', '2021-07-16T13:00', '2021-07-16T14:00', '2021-07-16T15:00', '2021-07-16T16:00', '2021-07-16T17:00', '2021-07-16T18:00', '2021-07-16T19:00', '2021-07-16T20:00', '2021-07-16T21:00', '2021-07-16T22:00', '2021-07-16T23:00', '2021-07-17T00:00', '2021-07-17T01:00', '2021-07-17T02:00', '2021-07-17T03:00', '2021-07-17T04:00', '2021-07-17T05:00', '2021-07-17T06:00', '2021-07-17T07:00', '2021-07-17T08:00', '2021-07-17T09:00', '2021-07-17T10:00', '2021-07-17T11:00', '2021-07-17T12:00', '2021-07-17T13:00', '2021-07-17T14:00', '2021-07-17T15:00', '2021-07-17T16:00', '2021-07-17T17:00', '2021-07-17T18:00', '2021-07-17T19:00', '2021-07-17T20:00', '2021-07-17T21:00', '2021-07-17T22:00', '2021-07-17T23:00', '2021-07-18T00:00', '2021-07-18T01:00', '2021-07-18T02:00', '2021-07-18T03:00', '2021-07-18T04:00', '2021-07-18T05:00', '2021-07-18T06:00', '2021-07-18T07:00', '2021-07-18T08:00', '2021-07-18T09:00', '2021-07-18T10:00', '2021-07-18T11:00', '2021-07-18T12:00', '2021-07-18T13:00', '2021-07-18T14:00', '2021-07-18T15:00', '2021-07-18T16:00', '2021-07-18T17:00', '2021-07-18T18:00', '2021-07-18T19:00', '2021-07-18T20:00', '2021-07-18T21:00', '2021-07-18T22:00', '2021-07-18T23:00', '2021-07-19T00:00', '2021-07-19T01:00', '2021-07-19T02:00', '2021-07-19T03:00', '2021-07-19T04:00', '2021-07-19T05:00', '2021-07-19T06:00', '2021-07-19T07:00', '2021-07-19T08:00', '2021-07-19T09:00', '2021-07-19T10:00', '2021-07-19T11:00', '2021-07-19T12:00', '2021-07-19T13:00', '2021-07-19T14:00', '2021-07-19T15:00', '2021-07-19T16:00', '2021-07-19T17:00', '2021-07-19T18:00', '2021-07-19T19:00', '2021-07-19T20:00', '2021-07-19T21:00', '2021-07-19T22:00', '2021-07-19T23:00', '2021-07-20T00:00', '2021-07-20T01:00', '2021-07-20T02:00', '2021-07-20T03:00', '2021-07-20T04:00', '2021-07-20T05:00', '2021-07-20T06:00', '2021-07-20T07:00', '2021-07-20T08:00', '2021-07-20T09:00', '2021-07-20T10:00', '2021-07-20T11:00', '2021-07-20T12:00', '2021-07-20T13:00', '2021-07-20T14:00', '2021-07-20T15:00', '2021-07-20T16:00', '2021-07-20T17:00', '2021-07-20T18:00', '2021-07-20T19:00', '2021-07-20T20:00', '2021-07-20T21:00', '2021-07-20T22:00', '2021-07-20T23:00', '2021-07-21T00:00', '2021-07-21T01:00', '2021-07-21T02:00', '2021-07-21T03:00', '2021-07-21T04:00', '2021-07-21T05:00', '2021-07-21T06:00', '2021-07-21T07:00', '2021-07-21T08:00', '2021-07-21T09:00', '2021-07-21T10:00', '2021-07-21T11:00', '2021-07-21T12:00', '2021-07-21T13:00', '2021-07-21T14:00', '2021-07-21T15:00', '2021-07-21T16:00', '2021-07-21T17:00', '2021-07-21T18:00', '2021-07-21T19:00', '2021-07-21T20:00', '2021-07-21T21:00', '2021-07-21T22:00', '2021-07-21T23:00', '2021-07-22T00:00', '2021-07-22T01:00', '2021-07-22T02:00', '2021-07-22T03:00', '2021-07-22T04:00', '2021-07-22T05:00', '2021-07-22T06:00', '2021-07-22T07:00', '2021-07-22T08:00', '2021-07-22T09:00', '2021-07-22T10:00', '2021-07-22T11:00', '2021-07-22T12:00', '2021-07-22T13:00', '2021-07-22T14:00', '2021-07-22T15:00', '2021-07-22T16:00', '2021-07-22T17:00', '2021-07-22T18:00', '2021-07-22T19:00', '2021-07-22T20:00', '2021-07-22T21:00', '2021-07-22T22:00', '2021-07-22T23:00', '2021-07-23T00:00', '2021-07-23T01:00', '2021-07-23T02:00', '2021-07-23T03:00', '2021-07-23T04:00', '2021-07-23T05:00', '2021-07-23T06:00', '2021-07-23T07:00', '2021-07-23T08:00', '2021-07-23T09:00', '2021-07-23T10:00', '2021-07-23T11:00', '2021-07-23T12:00', '2021-07-23T13:00', '2021-07-23T14:00', '2021-07-23T15:00', '2021-07-23T16:00', '2021-07-23T17:00', '2021-07-23T18:00', '2021-07-23T19:00', '2021-07-23T20:00', '2021-07-23T21:00', '2021-07-23T22:00', '2021-07-23T23:00', '2021-07-24T00:00', '2021-07-24T01:00', '2021-07-24T02:00', '2021-07-24T03:00', '2021-07-24T04:00', '2021-07-24T05:00', '2021-07-24T06:00', '2021-07-24T07:00', '2021-07-24T08:00', '2021-07-24T09:00', '2021-07-24T10:00', '2021-07-24T11:00', '2021-07-24T12:00', '2021-07-24T13:00', '2021-07-24T14:00', '2021-07-24T15:00', '2021-07-24T16:00', '2021-07-24T17:00', '2021-07-24T18:00', '2021-07-24T19:00', '2021-07-24T20:00', '2021-07-24T21:00', '2021-07-24T22:00', '2021-07-24T23:00', '2021-07-25T00:00', '2021-07-25T01:00', '2021-07-25T02:00', '2021-07-25T03:00', '2021-07-25T04:00', '2021-07-25T05:00', '2021-07-25T06:00', '2021-07-25T07:00', '2021-07-25T08:00', '2021-07-25T09:00', '2021-07-25T10:00', '2021-07-25T11:00', '2021-07-25T12:00', '2021-07-25T13:00', '2021-07-25T14:00', '2021-07-25T15:00', '2021-07-25T16:00', '2021-07-25T17:00', '2021-07-25T18:00', '2021-07-25T19:00', '2021-07-25T20:00', '2021-07-25T21:00', '2021-07-25T22:00', '2021-07-25T23:00', '2021-07-26T00:00', '2021-07-26T01:00', '2021-07-26T02:00', '2021-07-26T03:00', '2021-07-26T04:00', '2021-07-26T05:00', '2021-07-26T06:00', '2021-07-26T07:00', '2021-07-26T08:00', '2021-07-26T09:00', '2021-07-26T10:00', '2021-07-26T11:00', '2021-07-26T12:00', '2021-07-26T13:00', '2021-07-26T14:00', '2021-07-26T15:00', '2021-07-26T16:00', '2021-07-26T17:00', '2021-07-26T18:00', '2021-07-26T19:00', '2021-07-26T20:00', '2021-07-26T21:00', '2021-07-26T22:00', '2021-07-26T23:00', '2021-07-27T00:00', '2021-07-27T01:00', '2021-07-27T02:00', '2021-07-27T03:00', '2021-07-27T04:00', '2021-07-27T05:00', '2021-07-27T06:00', '2021-07-27T07:00', '2021-07-27T08:00', '2021-07-27T09:00', '2021-07-27T10:00', '2021-07-27T11:00', '2021-07-27T12:00', '2021-07-27T13:00', '2021-07-27T14:00', '2021-07-27T15:00', '2021-07-27T16:00', '2021-07-27T17:00', '2021-07-27T18:00', '2021-07-27T19:00', '2021-07-27T20:00', '2021-07-27T21:00', '2021-07-27T22:00', '2021-07-27T23:00', '2021-07-28T00:00', '2021-07-28T01:00', '2021-07-28T02:00', '2021-07-28T03:00', '2021-07-28T04:00', '2021-07-28T05:00', '2021-07-28T06:00', '2021-07-28T07:00', '2021-07-28T08:00', '2021-07-28T09:00', '2021-07-28T10:00', '2021-07-28T11:00', '2021-07-28T12:00', '2021-07-28T13:00', '2021-07-28T14:00', '2021-07-28T15:00', '2021-07-28T16:00', '2021-07-28T17:00', '2021-07-28T18:00', '2021-07-28T19:00', '2021-07-28T20:00', '2021-07-28T21:00', '2021-07-28T22:00', '2021-07-28T23:00', '2021-07-29T00:00', '2021-07-29T01:00', '2021-07-29T02:00', '2021-07-29T03:00', '2021-07-29T04:00', '2021-07-29T05:00', '2021-07-29T06:00', '2021-07-29T07:00', '2021-07-29T08:00', '2021-07-29T09:00', '2021-07-29T10:00', '2021-07-29T11:00', '2021-07-29T12:00', '2021-07-29T13:00', '2021-07-29T14:00', '2021-07-29T15:00', '2021-07-29T16:00', '2021-07-29T17:00', '2021-07-29T18:00', '2021-07-29T19:00', '2021-07-29T20:00', '2021-07-29T21:00', '2021-07-29T22:00', '2021-07-29T23:00', '2021-07-30T00:00', '2021-07-30T01:00', '2021-07-30T02:00', '2021-07-30T03:00', '2021-07-30T04:00', '2021-07-30T05:00', '2021-07-30T06:00', '2021-07-30T07:00', '2021-07-30T08:00', '2021-07-30T09:00', '2021-07-30T10:00', '2021-07-30T11:00', '2021-07-30T12:00', '2021-07-30T13:00', '2021-07-30T14:00', '2021-07-30T15:00', '2021-07-30T16:00', '2021-07-30T17:00', '2021-07-30T18:00', '2021-07-30T19:00', '2021-07-30T20:00', '2021-07-30T21:00', '2021-07-30T22:00', '2021-07-30T23:00', '2021-07-31T00:00', '2021-07-31T01:00', '2021-07-31T02:00', '2021-07-31T03:00', '2021-07-31T04:00', '2021-07-31T05:00', '2021-07-31T06:00', '2021-07-31T07:00', '2021-07-31T08:00', '2021-07-31T09:00', '2021-07-31T10:00', '2021-07-31T11:00', '2021-07-31T12:00', '2021-07-31T13:00', '2021-07-31T14:00', '2021-07-31T15:00', '2021-07-31T16:00', '2021-07-31T17:00', '2021-07-31T18:00', '2021-07-31T19:00', '2021-07-31T20:00', '2021-07-31T21:00', '2021-07-31T22:00', '2021-07-31T23:00', '2021-08-01T00:00', '2021-08-01T01:00', '2021-08-01T02:00', '2021-08-01T03:00', '2021-08-01T04:00', '2021-08-01T05:00', '2021-08-01T06:00', '2021-08-01T07:00', '2021-08-01T08:00', '2021-08-01T09:00', '2021-08-01T10:00', '2021-08-01T11:00', '2021-08-01T12:00', '2021-08-01T13:00', '2021-08-01T14:00', '2021-08-01T15:00', '2021-08-01T16:00', '2021-08-01T17:00', '2021-08-01T18:00', '2021-08-01T19:00', '2021-08-01T20:00', '2021-08-01T21:00', '2021-08-01T22:00', '2021-08-01T23:00', '2021-08-02T00:00', '2021-08-02T01:00', '2021-08-02T02:00', '2021-08-02T03:00', '2021-08-02T04:00', '2021-08-02T05:00', '2021-08-02T06:00', '2021-08-02T07:00', '2021-08-02T08:00', '2021-08-02T09:00', '2021-08-02T10:00', '2021-08-02T11:00', '2021-08-02T12:00', '2021-08-02T13:00', '2021-08-02T14:00', '2021-08-02T15:00', '2021-08-02T16:00', '2021-08-02T17:00', '2021-08-02T18:00', '2021-08-02T19:00', '2021-08-02T20:00', '2021-08-02T21:00', '2021-08-02T22:00', '2021-08-02T23:00', '2021-08-03T00:00', '2021-08-03T01:00', '2021-08-03T02:00', '2021-08-03T03:00', '2021-08-03T04:00', '2021-08-03T05:00', '2021-08-03T06:00', '2021-08-03T07:00', '2021-08-03T08:00', '2021-08-03T09:00', '2021-08-03T10:00', '2021-08-03T11:00', '2021-08-03T12:00', '2021-08-03T13:00', '2021-08-03T14:00', '2021-08-03T15:00', '2021-08-03T16:00', '2021-08-03T17:00', '2021-08-03T18:00', '2021-08-03T19:00', '2021-08-03T20:00', '2021-08-03T21:00', '2021-08-03T22:00', '2021-08-03T23:00', '2021-08-04T00:00', '2021-08-04T01:00', '2021-08-04T02:00', '2021-08-04T03:00', '2021-08-04T04:00', '2021-08-04T05:00', '2021-08-04T06:00', '2021-08-04T07:00', '2021-08-04T08:00', '2021-08-04T09:00', '2021-08-04T10:00', '2021-08-04T11:00', '2021-08-04T12:00', '2021-08-04T13:00', '2021-08-04T14:00', '2021-08-04T15:00', '2021-08-04T16:00', '2021-08-04T17:00', '2021-08-04T18:00', '2021-08-04T19:00', '2021-08-04T20:00', '2021-08-04T21:00', '2021-08-04T22:00', '2021-08-04T23:00', '2021-08-05T00:00', '2021-08-05T01:00', '2021-08-05T02:00', '2021-08-05T03:00', '2021-08-05T04:00', '2021-08-05T05:00', '2021-08-05T06:00', '2021-08-05T07:00', '2021-08-05T08:00', '2021-08-05T09:00', '2021-08-05T10:00', '2021-08-05T11:00', '2021-08-05T12:00', '2021-08-05T13:00', '2021-08-05T14:00', '2021-08-05T15:00', '2021-08-05T16:00', '2021-08-05T17:00', '2021-08-05T18:00', '2021-08-05T19:00', '2021-08-05T20:00', '2021-08-05T21:00', '2021-08-05T22:00', '2021-08-05T23:00', '2021-08-06T00:00', '2021-08-06T01:00', '2021-08-06T02:00', '2021-08-06T03:00', '2021-08-06T04:00', '2021-08-06T05:00', '2021-08-06T06:00', '2021-08-06T07:00', '2021-08-06T08:00', '2021-08-06T09:00', '2021-08-06T10:00', '2021-08-06T11:00', '2021-08-06T12:00', '2021-08-06T13:00', '2021-08-06T14:00', '2021-08-06T15:00', '2021-08-06T16:00', '2021-08-06T17:00', '2021-08-06T18:00', '2021-08-06T19:00', '2021-08-06T20:00', '2021-08-06T21:00', '2021-08-06T22:00', '2021-08-06T23:00', '2021-08-07T00:00', '2021-08-07T01:00', '2021-08-07T02:00', '2021-08-07T03:00', '2021-08-07T04:00', '2021-08-07T05:00', '2021-08-07T06:00', '2021-08-07T07:00', '2021-08-07T08:00', '2021-08-07T09:00', '2021-08-07T10:00', '2021-08-07T11:00', '2021-08-07T12:00', '2021-08-07T13:00', '2021-08-07T14:00', '2021-08-07T15:00', '2021-08-07T16:00', '2021-08-07T17:00', '2021-08-07T18:00', '2021-08-07T19:00', '2021-08-07T20:00', '2021-08-07T21:00', '2021-08-07T22:00', '2021-08-07T23:00', '2021-08-08T00:00', '2021-08-08T01:00', '2021-08-08T02:00', '2021-08-08T03:00', '2021-08-08T04:00', '2021-08-08T05:00', '2021-08-08T06:00', '2021-08-08T07:00', '2021-08-08T08:00', '2021-08-08T09:00', '2021-08-08T10:00', '2021-08-08T11:00', '2021-08-08T12:00', '2021-08-08T13:00', '2021-08-08T14:00', '2021-08-08T15:00', '2021-08-08T16:00', '2021-08-08T17:00', '2021-08-08T18:00', '2021-08-08T19:00', '2021-08-08T20:00', '2021-08-08T21:00', '2021-08-08T22:00', '2021-08-08T23:00', '2021-08-09T00:00', '2021-08-09T01:00', '2021-08-09T02:00', '2021-08-09T03:00', '2021-08-09T04:00', '2021-08-09T05:00', '2021-08-09T06:00', '2021-08-09T07:00', '2021-08-09T08:00', '2021-08-09T09:00', '2021-08-09T10:00', '2021-08-09T11:00', '2021-08-09T12:00', '2021-08-09T13:00', '2021-08-09T14:00', '2021-08-09T15:00', '2021-08-09T16:00', '2021-08-09T17:00', '2021-08-09T18:00', '2021-08-09T19:00', '2021-08-09T20:00', '2021-08-09T21:00', '2021-08-09T22:00', '2021-08-09T23:00', '2021-08-10T00:00', '2021-08-10T01:00', '2021-08-10T02:00', '2021-08-10T03:00', '2021-08-10T04:00', '2021-08-10T05:00', '2021-08-10T06:00', '2021-08-10T07:00', '2021-08-10T08:00', '2021-08-10T09:00', '2021-08-10T10:00', '2021-08-10T11:00', '2021-08-10T12:00', '2021-08-10T13:00', '2021-08-10T14:00', '2021-08-10T15:00', '2021-08-10T16:00', '2021-08-10T17:00', '2021-08-10T18:00', '2021-08-10T19:00', '2021-08-10T20:00', '2021-08-10T21:00', '2021-08-10T22:00', '2021-08-10T23:00', '2021-08-11T00:00', '2021-08-11T01:00', '2021-08-11T02:00', '2021-08-11T03:00', '2021-08-11T04:00', '2021-08-11T05:00', '2021-08-11T06:00', '2021-08-11T07:00', '2021-08-11T08:00', '2021-08-11T09:00', '2021-08-11T10:00', '2021-08-11T11:00', '2021-08-11T12:00', '2021-08-11T13:00', '2021-08-11T14:00', '2021-08-11T15:00', '2021-08-11T16:00', '2021-08-11T17:00', '2021-08-11T18:00', '2021-08-11T19:00', '2021-08-11T20:00', '2021-08-11T21:00', '2021-08-11T22:00', '2021-08-11T23:00', '2021-08-12T00:00', '2021-08-12T01:00', '2021-08-12T02:00', '2021-08-12T03:00', '2021-08-12T04:00', '2021-08-12T05:00', '2021-08-12T06:00', '2021-08-12T07:00', '2021-08-12T08:00', '2021-08-12T09:00', '2021-08-12T10:00', '2021-08-12T11:00', '2021-08-12T12:00', '2021-08-12T13:00', '2021-08-12T14:00', '2021-08-12T15:00', '2021-08-12T16:00', '2021-08-12T17:00', '2021-08-12T18:00', '2021-08-12T19:00', '2021-08-12T20:00', '2021-08-12T21:00', '2021-08-12T22:00', '2021-08-12T23:00', '2021-08-13T00:00', '2021-08-13T01:00', '2021-08-13T02:00', '2021-08-13T03:00', '2021-08-13T04:00', '2021-08-13T05:00', '2021-08-13T06:00', '2021-08-13T07:00', '2021-08-13T08:00', '2021-08-13T09:00', '2021-08-13T10:00', '2021-08-13T11:00', '2021-08-13T12:00', '2021-08-13T13:00', '2021-08-13T14:00', '2021-08-13T15:00', '2021-08-13T16:00', '2021-08-13T17:00', '2021-08-13T18:00', '2021-08-13T19:00', '2021-08-13T20:00', '2021-08-13T21:00', '2021-08-13T22:00', '2021-08-13T23:00', '2021-08-14T00:00', '2021-08-14T01:00', '2021-08-14T02:00', '2021-08-14T03:00', '2021-08-14T04:00', '2021-08-14T05:00', '2021-08-14T06:00', '2021-08-14T07:00', '2021-08-14T08:00', '2021-08-14T09:00', '2021-08-14T10:00', '2021-08-14T11:00', '2021-08-14T12:00', '2021-08-14T13:00', '2021-08-14T14:00', '2021-08-14T15:00', '2021-08-14T16:00', '2021-08-14T17:00', '2021-08-14T18:00', '2021-08-14T19:00', '2021-08-14T20:00', '2021-08-14T21:00', '2021-08-14T22:00', '2021-08-14T23:00', '2021-08-15T00:00', '2021-08-15T01:00', '2021-08-15T02:00', '2021-08-15T03:00', '2021-08-15T04:00', '2021-08-15T05:00', '2021-08-15T06:00', '2021-08-15T07:00', '2021-08-15T08:00', '2021-08-15T09:00', '2021-08-15T10:00', '2021-08-15T11:00', '2021-08-15T12:00', '2021-08-15T13:00', '2021-08-15T14:00', '2021-08-15T15:00', '2021-08-15T16:00', '2021-08-15T17:00', '2021-08-15T18:00', '2021-08-15T19:00', '2021-08-15T20:00', '2021-08-15T21:00', '2021-08-15T22:00', '2021-08-15T23:00', '2021-08-16T00:00', '2021-08-16T01:00', '2021-08-16T02:00', '2021-08-16T03:00', '2021-08-16T04:00', '2021-08-16T05:00', '2021-08-16T06:00', '2021-08-16T07:00', '2021-08-16T08:00', '2021-08-16T09:00', '2021-08-16T10:00', '2021-08-16T11:00', '2021-08-16T12:00', '2021-08-16T13:00', '2021-08-16T14:00', '2021-08-16T15:00', '2021-08-16T16:00', '2021-08-16T17:00', '2021-08-16T18:00', '2021-08-16T19:00', '2021-08-16T20:00', '2021-08-16T21:00', '2021-08-16T22:00', '2021-08-16T23:00', '2021-08-17T00:00', '2021-08-17T01:00', '2021-08-17T02:00', '2021-08-17T03:00', '2021-08-17T04:00', '2021-08-17T05:00', '2021-08-17T06:00', '2021-08-17T07:00', '2021-08-17T08:00', '2021-08-17T09:00', '2021-08-17T10:00', '2021-08-17T11:00', '2021-08-17T12:00', '2021-08-17T13:00', '2021-08-17T14:00', '2021-08-17T15:00', '2021-08-17T16:00', '2021-08-17T17:00', '2021-08-17T18:00', '2021-08-17T19:00', '2021-08-17T20:00', '2021-08-17T21:00', '2021-08-17T22:00', '2021-08-17T23:00', '2021-08-18T00:00', '2021-08-18T01:00', '2021-08-18T02:00', '2021-08-18T03:00', '2021-08-18T04:00', '2021-08-18T05:00', '2021-08-18T06:00', '2021-08-18T07:00', '2021-08-18T08:00', '2021-08-18T09:00', '2021-08-18T10:00', '2021-08-18T11:00', '2021-08-18T12:00', '2021-08-18T13:00', '2021-08-18T14:00', '2021-08-18T15:00', '2021-08-18T16:00', '2021-08-18T17:00', '2021-08-18T18:00', '2021-08-18T19:00', '2021-08-18T20:00', '2021-08-18T21:00', '2021-08-18T22:00', '2021-08-18T23:00', '2021-08-19T00:00', '2021-08-19T01:00', '2021-08-19T02:00', '2021-08-19T03:00', '2021-08-19T04:00', '2021-08-19T05:00', '2021-08-19T06:00', '2021-08-19T07:00', '2021-08-19T08:00', '2021-08-19T09:00', '2021-08-19T10:00', '2021-08-19T11:00', '2021-08-19T12:00', '2021-08-19T13:00', '2021-08-19T14:00', '2021-08-19T15:00', '2021-08-19T16:00', '2021-08-19T17:00', '2021-08-19T18:00', '2021-08-19T19:00', '2021-08-19T20:00', '2021-08-19T21:00', '2021-08-19T22:00', '2021-08-19T23:00', '2021-08-20T00:00', '2021-08-20T01:00', '2021-08-20T02:00', '2021-08-20T03:00', '2021-08-20T04:00', '2021-08-20T05:00', '2021-08-20T06:00', '2021-08-20T07:00', '2021-08-20T08:00', '2021-08-20T09:00', '2021-08-20T10:00', '2021-08-20T11:00', '2021-08-20T12:00', '2021-08-20T13:00', '2021-08-20T14:00', '2021-08-20T15:00', '2021-08-20T16:00', '2021-08-20T17:00', '2021-08-20T18:00', '2021-08-20T19:00', '2021-08-20T20:00', '2021-08-20T21:00', '2021-08-20T22:00', '2021-08-20T23:00', '2021-08-21T00:00', '2021-08-21T01:00', '2021-08-21T02:00', '2021-08-21T03:00', '2021-08-21T04:00', '2021-08-21T05:00', '2021-08-21T06:00', '2021-08-21T07:00', '2021-08-21T08:00', '2021-08-21T09:00', '2021-08-21T10:00', '2021-08-21T11:00', '2021-08-21T12:00', '2021-08-21T13:00', '2021-08-21T14:00', '2021-08-21T15:00', '2021-08-21T16:00', '2021-08-21T17:00', '2021-08-21T18:00', '2021-08-21T19:00', '2021-08-21T20:00', '2021-08-21T21:00', '2021-08-21T22:00', '2021-08-21T23:00', '2021-08-22T00:00', '2021-08-22T01:00', '2021-08-22T02:00', '2021-08-22T03:00', '2021-08-22T04:00', '2021-08-22T05:00', '2021-08-22T06:00', '2021-08-22T07:00', '2021-08-22T08:00', '2021-08-22T09:00', '2021-08-22T10:00', '2021-08-22T11:00', '2021-08-22T12:00', '2021-08-22T13:00', '2021-08-22T14:00', '2021-08-22T15:00', '2021-08-22T16:00', '2021-08-22T17:00', '2021-08-22T18:00', '2021-08-22T19:00', '2021-08-22T20:00', '2021-08-22T21:00', '2021-08-22T22:00', '2021-08-22T23:00', '2021-08-23T00:00', '2021-08-23T01:00', '2021-08-23T02:00', '2021-08-23T03:00', '2021-08-23T04:00', '2021-08-23T05:00', '2021-08-23T06:00', '2021-08-23T07:00', '2021-08-23T08:00', '2021-08-23T09:00', '2021-08-23T10:00', '2021-08-23T11:00', '2021-08-23T12:00', '2021-08-23T13:00', '2021-08-23T14:00', '2021-08-23T15:00', '2021-08-23T16:00', '2021-08-23T17:00', '2021-08-23T18:00', '2021-08-23T19:00', '2021-08-23T20:00', '2021-08-23T21:00', '2021-08-23T22:00', '2021-08-23T23:00', '2021-08-24T00:00', '2021-08-24T01:00', '2021-08-24T02:00', '2021-08-24T03:00', '2021-08-24T04:00', '2021-08-24T05:00', '2021-08-24T06:00', '2021-08-24T07:00', '2021-08-24T08:00', '2021-08-24T09:00', '2021-08-24T10:00', '2021-08-24T11:00', '2021-08-24T12:00', '2021-08-24T13:00', '2021-08-24T14:00', '2021-08-24T15:00', '2021-08-24T16:00', '2021-08-24T17:00', '2021-08-24T18:00', '2021-08-24T19:00', '2021-08-24T20:00', '2021-08-24T21:00', '2021-08-24T22:00', '2021-08-24T23:00', '2021-08-25T00:00', '2021-08-25T01:00', '2021-08-25T02:00', '2021-08-25T03:00', '2021-08-25T04:00', '2021-08-25T05:00', '2021-08-25T06:00', '2021-08-25T07:00', '2021-08-25T08:00', '2021-08-25T09:00', '2021-08-25T10:00', '2021-08-25T11:00', '2021-08-25T12:00', '2021-08-25T13:00', '2021-08-25T14:00', '2021-08-25T15:00', '2021-08-25T16:00', '2021-08-25T17:00', '2021-08-25T18:00', '2021-08-25T19:00', '2021-08-25T20:00', '2021-08-25T21:00', '2021-08-25T22:00', '2021-08-25T23:00', '2021-08-26T00:00', '2021-08-26T01:00', '2021-08-26T02:00', '2021-08-26T03:00', '2021-08-26T04:00', '2021-08-26T05:00', '2021-08-26T06:00', '2021-08-26T07:00', '2021-08-26T08:00', '2021-08-26T09:00', '2021-08-26T10:00', '2021-08-26T11:00', '2021-08-26T12:00', '2021-08-26T13:00', '2021-08-26T14:00', '2021-08-26T15:00', '2021-08-26T16:00', '2021-08-26T17:00', '2021-08-26T18:00', '2021-08-26T19:00', '2021-08-26T20:00', '2021-08-26T21:00', '2021-08-26T22:00', '2021-08-26T23:00', '2021-08-27T00:00', '2021-08-27T01:00', '2021-08-27T02:00', '2021-08-27T03:00', '2021-08-27T04:00', '2021-08-27T05:00', '2021-08-27T06:00', '2021-08-27T07:00', '2021-08-27T08:00', '2021-08-27T09:00', '2021-08-27T10:00', '2021-08-27T11:00', '2021-08-27T12:00', '2021-08-27T13:00', '2021-08-27T14:00', '2021-08-27T15:00', '2021-08-27T16:00', '2021-08-27T17:00', '2021-08-27T18:00', '2021-08-27T19:00', '2021-08-27T20:00', '2021-08-27T21:00', '2021-08-27T22:00', '2021-08-27T23:00', '2021-08-28T00:00', '2021-08-28T01:00', '2021-08-28T02:00', '2021-08-28T03:00', '2021-08-28T04:00', '2021-08-28T05:00', '2021-08-28T06:00', '2021-08-28T07:00', '2021-08-28T08:00', '2021-08-28T09:00', '2021-08-28T10:00', '2021-08-28T11:00', '2021-08-28T12:00', '2021-08-28T13:00', '2021-08-28T14:00', '2021-08-28T15:00', '2021-08-28T16:00', '2021-08-28T17:00', '2021-08-28T18:00', '2021-08-28T19:00', '2021-08-28T20:00', '2021-08-28T21:00', '2021-08-28T22:00', '2021-08-28T23:00', '2021-08-29T00:00', '2021-08-29T01:00', '2021-08-29T02:00', '2021-08-29T03:00', '2021-08-29T04:00', '2021-08-29T05:00', '2021-08-29T06:00', '2021-08-29T07:00', '2021-08-29T08:00', '2021-08-29T09:00', '2021-08-29T10:00', '2021-08-29T11:00', '2021-08-29T12:00', '2021-08-29T13:00', '2021-08-29T14:00', '2021-08-29T15:00', '2021-08-29T16:00', '2021-08-29T17:00', '2021-08-29T18:00', '2021-08-29T19:00', '2021-08-29T20:00', '2021-08-29T21:00', '2021-08-29T22:00', '2021-08-29T23:00', '2021-08-30T00:00', '2021-08-30T01:00', '2021-08-30T02:00', '2021-08-30T03:00', '2021-08-30T04:00', '2021-08-30T05:00', '2021-08-30T06:00', '2021-08-30T07:00', '2021-08-30T08:00', '2021-08-30T09:00', '2021-08-30T10:00', '2021-08-30T11:00', '2021-08-30T12:00', '2021-08-30T13:00', '2021-08-30T14:00', '2021-08-30T15:00', '2021-08-30T16:00', '2021-08-30T17:00', '2021-08-30T18:00', '2021-08-30T19:00', '2021-08-30T20:00', '2021-08-30T21:00', '2021-08-30T22:00', '2021-08-30T23:00', '2021-08-31T00:00', '2021-08-31T01:00', '2021-08-31T02:00', '2021-08-31T03:00', '2021-08-31T04:00', '2021-08-31T05:00', '2021-08-31T06:00', '2021-08-31T07:00', '2021-08-31T08:00', '2021-08-31T09:00', '2021-08-31T10:00', '2021-08-31T11:00', '2021-08-31T12:00', '2021-08-31T13:00', '2021-08-31T14:00', '2021-08-31T15:00', '2021-08-31T16:00', '2021-08-31T17:00', '2021-08-31T18:00', '2021-08-31T19:00', '2021-08-31T20:00', '2021-08-31T21:00', '2021-08-31T22:00', '2021-08-31T23:00', '2021-09-01T00:00', '2021-09-01T01:00', '2021-09-01T02:00', '2021-09-01T03:00', '2021-09-01T04:00', '2021-09-01T05:00', '2021-09-01T06:00', '2021-09-01T07:00', '2021-09-01T08:00', '2021-09-01T09:00', '2021-09-01T10:00', '2021-09-01T11:00', '2021-09-01T12:00', '2021-09-01T13:00', '2021-09-01T14:00', '2021-09-01T15:00', '2021-09-01T16:00', '2021-09-01T17:00', '2021-09-01T18:00', '2021-09-01T19:00', '2021-09-01T20:00', '2021-09-01T21:00', '2021-09-01T22:00', '2021-09-01T23:00', '2021-09-02T00:00', '2021-09-02T01:00', '2021-09-02T02:00', '2021-09-02T03:00', '2021-09-02T04:00', '2021-09-02T05:00', '2021-09-02T06:00', '2021-09-02T07:00', '2021-09-02T08:00', '2021-09-02T09:00', '2021-09-02T10:00', '2021-09-02T11:00', '2021-09-02T12:00', '2021-09-02T13:00', '2021-09-02T14:00', '2021-09-02T15:00', '2021-09-02T16:00', '2021-09-02T17:00', '2021-09-02T18:00', '2021-09-02T19:00', '2021-09-02T20:00', '2021-09-02T21:00', '2021-09-02T22:00', '2021-09-02T23:00', '2021-09-03T00:00', '2021-09-03T01:00', '2021-09-03T02:00', '2021-09-03T03:00', '2021-09-03T04:00', '2021-09-03T05:00', '2021-09-03T06:00', '2021-09-03T07:00', '2021-09-03T08:00', '2021-09-03T09:00', '2021-09-03T10:00', '2021-09-03T11:00', '2021-09-03T12:00', '2021-09-03T13:00', '2021-09-03T14:00', '2021-09-03T15:00', '2021-09-03T16:00', '2021-09-03T17:00', '2021-09-03T18:00', '2021-09-03T19:00', '2021-09-03T20:00', '2021-09-03T21:00', '2021-09-03T22:00', '2021-09-03T23:00', '2021-09-04T00:00', '2021-09-04T01:00', '2021-09-04T02:00', '2021-09-04T03:00', '2021-09-04T04:00', '2021-09-04T05:00', '2021-09-04T06:00', '2021-09-04T07:00', '2021-09-04T08:00', '2021-09-04T09:00', '2021-09-04T10:00', '2021-09-04T11:00', '2021-09-04T12:00', '2021-09-04T13:00', '2021-09-04T14:00', '2021-09-04T15:00', '2021-09-04T16:00', '2021-09-04T17:00', '2021-09-04T18:00', '2021-09-04T19:00', '2021-09-04T20:00', '2021-09-04T21:00', '2021-09-04T22:00', '2021-09-04T23:00', '2021-09-05T00:00', '2021-09-05T01:00', '2021-09-05T02:00', '2021-09-05T03:00', '2021-09-05T04:00', '2021-09-05T05:00', '2021-09-05T06:00', '2021-09-05T07:00', '2021-09-05T08:00', '2021-09-05T09:00', '2021-09-05T10:00', '2021-09-05T11:00', '2021-09-05T12:00', '2021-09-05T13:00', '2021-09-05T14:00', '2021-09-05T15:00', '2021-09-05T16:00', '2021-09-05T17:00', '2021-09-05T18:00', '2021-09-05T19:00', '2021-09-05T20:00', '2021-09-05T21:00', '2021-09-05T22:00', '2021-09-05T23:00', '2021-09-06T00:00', '2021-09-06T01:00', '2021-09-06T02:00', '2021-09-06T03:00', '2021-09-06T04:00', '2021-09-06T05:00', '2021-09-06T06:00', '2021-09-06T07:00', '2021-09-06T08:00', '2021-09-06T09:00', '2021-09-06T10:00', '2021-09-06T11:00', '2021-09-06T12:00', '2021-09-06T13:00', '2021-09-06T14:00', '2021-09-06T15:00', '2021-09-06T16:00', '2021-09-06T17:00', '2021-09-06T18:00', '2021-09-06T19:00', '2021-09-06T20:00', '2021-09-06T21:00', '2021-09-06T22:00', '2021-09-06T23:00', '2021-09-07T00:00', '2021-09-07T01:00', '2021-09-07T02:00', '2021-09-07T03:00', '2021-09-07T04:00', '2021-09-07T05:00', '2021-09-07T06:00', '2021-09-07T07:00', '2021-09-07T08:00', '2021-09-07T09:00', '2021-09-07T10:00', '2021-09-07T11:00', '2021-09-07T12:00', '2021-09-07T13:00', '2021-09-07T14:00', '2021-09-07T15:00', '2021-09-07T16:00', '2021-09-07T17:00', '2021-09-07T18:00', '2021-09-07T19:00', '2021-09-07T20:00', '2021-09-07T21:00', '2021-09-07T22:00', '2021-09-07T23:00', '2021-09-08T00:00', '2021-09-08T01:00', '2021-09-08T02:00', '2021-09-08T03:00', '2021-09-08T04:00', '2021-09-08T05:00', '2021-09-08T06:00', '2021-09-08T07:00', '2021-09-08T08:00', '2021-09-08T09:00', '2021-09-08T10:00', '2021-09-08T11:00', '2021-09-08T12:00', '2021-09-08T13:00', '2021-09-08T14:00', '2021-09-08T15:00', '2021-09-08T16:00', '2021-09-08T17:00', '2021-09-08T18:00', '2021-09-08T19:00', '2021-09-08T20:00', '2021-09-08T21:00', '2021-09-08T22:00', '2021-09-08T23:00', '2021-09-09T00:00', '2021-09-09T01:00', '2021-09-09T02:00', '2021-09-09T03:00', '2021-09-09T04:00', '2021-09-09T05:00', '2021-09-09T06:00', '2021-09-09T07:00', '2021-09-09T08:00', '2021-09-09T09:00', '2021-09-09T10:00', '2021-09-09T11:00', '2021-09-09T12:00', '2021-09-09T13:00', '2021-09-09T14:00', '2021-09-09T15:00', '2021-09-09T16:00', '2021-09-09T17:00', '2021-09-09T18:00', '2021-09-09T19:00', '2021-09-09T20:00', '2021-09-09T21:00', '2021-09-09T22:00', '2021-09-09T23:00', '2021-09-10T00:00', '2021-09-10T01:00', '2021-09-10T02:00', '2021-09-10T03:00', '2021-09-10T04:00', '2021-09-10T05:00', '2021-09-10T06:00', '2021-09-10T07:00', '2021-09-10T08:00', '2021-09-10T09:00', '2021-09-10T10:00', '2021-09-10T11:00', '2021-09-10T12:00', '2021-09-10T13:00', '2021-09-10T14:00', '2021-09-10T15:00', '2021-09-10T16:00', '2021-09-10T17:00', '2021-09-10T18:00', '2021-09-10T19:00', '2021-09-10T20:00', '2021-09-10T21:00', '2021-09-10T22:00', '2021-09-10T23:00', '2021-09-11T00:00', '2021-09-11T01:00', '2021-09-11T02:00', '2021-09-11T03:00', '2021-09-11T04:00', '2021-09-11T05:00', '2021-09-11T06:00', '2021-09-11T07:00', '2021-09-11T08:00', '2021-09-11T09:00', '2021-09-11T10:00', '2021-09-11T11:00', '2021-09-11T12:00', '2021-09-11T13:00', '2021-09-11T14:00', '2021-09-11T15:00', '2021-09-11T16:00', '2021-09-11T17:00', '2021-09-11T18:00', '2021-09-11T19:00', '2021-09-11T20:00', '2021-09-11T21:00', '2021-09-11T22:00', '2021-09-11T23:00', '2021-09-12T00:00', '2021-09-12T01:00', '2021-09-12T02:00', '2021-09-12T03:00', '2021-09-12T04:00', '2021-09-12T05:00', '2021-09-12T06:00', '2021-09-12T07:00', '2021-09-12T08:00', '2021-09-12T09:00', '2021-09-12T10:00', '2021-09-12T11:00', '2021-09-12T12:00', '2021-09-12T13:00', '2021-09-12T14:00', '2021-09-12T15:00', '2021-09-12T16:00', '2021-09-12T17:00', '2021-09-12T18:00', '2021-09-12T19:00', '2021-09-12T20:00', '2021-09-12T21:00', '2021-09-12T22:00', '2021-09-12T23:00', '2021-09-13T00:00', '2021-09-13T01:00', '2021-09-13T02:00', '2021-09-13T03:00', '2021-09-13T04:00', '2021-09-13T05:00', '2021-09-13T06:00', '2021-09-13T07:00', '2021-09-13T08:00', '2021-09-13T09:00', '2021-09-13T10:00', '2021-09-13T11:00', '2021-09-13T12:00', '2021-09-13T13:00', '2021-09-13T14:00', '2021-09-13T15:00', '2021-09-13T16:00', '2021-09-13T17:00', '2021-09-13T18:00', '2021-09-13T19:00', '2021-09-13T20:00', '2021-09-13T21:00', '2021-09-13T22:00', '2021-09-13T23:00', '2021-09-14T00:00', '2021-09-14T01:00', '2021-09-14T02:00', '2021-09-14T03:00', '2021-09-14T04:00', '2021-09-14T05:00', '2021-09-14T06:00', '2021-09-14T07:00', '2021-09-14T08:00', '2021-09-14T09:00', '2021-09-14T10:00', '2021-09-14T11:00', '2021-09-14T12:00', '2021-09-14T13:00', '2021-09-14T14:00', '2021-09-14T15:00', '2021-09-14T16:00', '2021-09-14T17:00', '2021-09-14T18:00', '2021-09-14T19:00', '2021-09-14T20:00', '2021-09-14T21:00', '2021-09-14T22:00', '2021-09-14T23:00', '2021-09-15T00:00', '2021-09-15T01:00', '2021-09-15T02:00', '2021-09-15T03:00', '2021-09-15T04:00', '2021-09-15T05:00', '2021-09-15T06:00', '2021-09-15T07:00', '2021-09-15T08:00', '2021-09-15T09:00', '2021-09-15T10:00', '2021-09-15T11:00', '2021-09-15T12:00', '2021-09-15T13:00', '2021-09-15T14:00', '2021-09-15T15:00', '2021-09-15T16:00', '2021-09-15T17:00', '2021-09-15T18:00', '2021-09-15T19:00', '2021-09-15T20:00', '2021-09-15T21:00', '2021-09-15T22:00', '2021-09-15T23:00', '2021-09-16T00:00', '2021-09-16T01:00', '2021-09-16T02:00', '2021-09-16T03:00', '2021-09-16T04:00', '2021-09-16T05:00', '2021-09-16T06:00', '2021-09-16T07:00', '2021-09-16T08:00', '2021-09-16T09:00', '2021-09-16T10:00', '2021-09-16T11:00', '2021-09-16T12:00', '2021-09-16T13:00', '2021-09-16T14:00', '2021-09-16T15:00', '2021-09-16T16:00', '2021-09-16T17:00', '2021-09-16T18:00', '2021-09-16T19:00', '2021-09-16T20:00', '2021-09-16T21:00', '2021-09-16T22:00', '2021-09-16T23:00', '2021-09-17T00:00', '2021-09-17T01:00', '2021-09-17T02:00', '2021-09-17T03:00', '2021-09-17T04:00', '2021-09-17T05:00', '2021-09-17T06:00', '2021-09-17T07:00', '2021-09-17T08:00', '2021-09-17T09:00', '2021-09-17T10:00', '2021-09-17T11:00', '2021-09-17T12:00', '2021-09-17T13:00', '2021-09-17T14:00', '2021-09-17T15:00', '2021-09-17T16:00', '2021-09-17T17:00', '2021-09-17T18:00', '2021-09-17T19:00', '2021-09-17T20:00', '2021-09-17T21:00', '2021-09-17T22:00', '2021-09-17T23:00', '2021-09-18T00:00', '2021-09-18T01:00', '2021-09-18T02:00', '2021-09-18T03:00', '2021-09-18T04:00', '2021-09-18T05:00', '2021-09-18T06:00', '2021-09-18T07:00', '2021-09-18T08:00', '2021-09-18T09:00', '2021-09-18T10:00', '2021-09-18T11:00', '2021-09-18T12:00', '2021-09-18T13:00', '2021-09-18T14:00', '2021-09-18T15:00', '2021-09-18T16:00', '2021-09-18T17:00', '2021-09-18T18:00', '2021-09-18T19:00', '2021-09-18T20:00', '2021-09-18T21:00', '2021-09-18T22:00', '2021-09-18T23:00', '2021-09-19T00:00', '2021-09-19T01:00', '2021-09-19T02:00', '2021-09-19T03:00', '2021-09-19T04:00', '2021-09-19T05:00', '2021-09-19T06:00', '2021-09-19T07:00', '2021-09-19T08:00', '2021-09-19T09:00', '2021-09-19T10:00', '2021-09-19T11:00', '2021-09-19T12:00', '2021-09-19T13:00', '2021-09-19T14:00', '2021-09-19T15:00', '2021-09-19T16:00', '2021-09-19T17:00', '2021-09-19T18:00', '2021-09-19T19:00', '2021-09-19T20:00', '2021-09-19T21:00', '2021-09-19T22:00', '2021-09-19T23:00', '2021-09-20T00:00', '2021-09-20T01:00', '2021-09-20T02:00', '2021-09-20T03:00', '2021-09-20T04:00', '2021-09-20T05:00', '2021-09-20T06:00', '2021-09-20T07:00', '2021-09-20T08:00', '2021-09-20T09:00', '2021-09-20T10:00', '2021-09-20T11:00', '2021-09-20T12:00', '2021-09-20T13:00', '2021-09-20T14:00', '2021-09-20T15:00', '2021-09-20T16:00', '2021-09-20T17:00', '2021-09-20T18:00', '2021-09-20T19:00', '2021-09-20T20:00', '2021-09-20T21:00', '2021-09-20T22:00', '2021-09-20T23:00', '2021-09-21T00:00', '2021-09-21T01:00', '2021-09-21T02:00', '2021-09-21T03:00', '2021-09-21T04:00', '2021-09-21T05:00', '2021-09-21T06:00', '2021-09-21T07:00', '2021-09-21T08:00', '2021-09-21T09:00', '2021-09-21T10:00', '2021-09-21T11:00', '2021-09-21T12:00', '2021-09-21T13:00', '2021-09-21T14:00', '2021-09-21T15:00', '2021-09-21T16:00', '2021-09-21T17:00', '2021-09-21T18:00', '2021-09-21T19:00', '2021-09-21T20:00', '2021-09-21T21:00', '2021-09-21T22:00', '2021-09-21T23:00', '2021-09-22T00:00', '2021-09-22T01:00', '2021-09-22T02:00', '2021-09-22T03:00', '2021-09-22T04:00', '2021-09-22T05:00', '2021-09-22T06:00', '2021-09-22T07:00', '2021-09-22T08:00', '2021-09-22T09:00', '2021-09-22T10:00', '2021-09-22T11:00', '2021-09-22T12:00', '2021-09-22T13:00', '2021-09-22T14:00', '2021-09-22T15:00', '2021-09-22T16:00', '2021-09-22T17:00', '2021-09-22T18:00', '2021-09-22T19:00', '2021-09-22T20:00', '2021-09-22T21:00', '2021-09-22T22:00', '2021-09-22T23:00', '2021-09-23T00:00', '2021-09-23T01:00', '2021-09-23T02:00', '2021-09-23T03:00', '2021-09-23T04:00', '2021-09-23T05:00', '2021-09-23T06:00', '2021-09-23T07:00', '2021-09-23T08:00', '2021-09-23T09:00', '2021-09-23T10:00', '2021-09-23T11:00', '2021-09-23T12:00', '2021-09-23T13:00', '2021-09-23T14:00', '2021-09-23T15:00', '2021-09-23T16:00', '2021-09-23T17:00', '2021-09-23T18:00', '2021-09-23T19:00', '2021-09-23T20:00', '2021-09-23T21:00', '2021-09-23T22:00', '2021-09-23T23:00', '2021-09-24T00:00', '2021-09-24T01:00', '2021-09-24T02:00', '2021-09-24T03:00', '2021-09-24T04:00', '2021-09-24T05:00', '2021-09-24T06:00', '2021-09-24T07:00', '2021-09-24T08:00', '2021-09-24T09:00', '2021-09-24T10:00', '2021-09-24T11:00', '2021-09-24T12:00', '2021-09-24T13:00', '2021-09-24T14:00', '2021-09-24T15:00', '2021-09-24T16:00', '2021-09-24T17:00', '2021-09-24T18:00', '2021-09-24T19:00', '2021-09-24T20:00', '2021-09-24T21:00', '2021-09-24T22:00', '2021-09-24T23:00', '2021-09-25T00:00', '2021-09-25T01:00', '2021-09-25T02:00', '2021-09-25T03:00', '2021-09-25T04:00', '2021-09-25T05:00', '2021-09-25T06:00', '2021-09-25T07:00', '2021-09-25T08:00', '2021-09-25T09:00', '2021-09-25T10:00', '2021-09-25T11:00', '2021-09-25T12:00', '2021-09-25T13:00', '2021-09-25T14:00', '2021-09-25T15:00', '2021-09-25T16:00', '2021-09-25T17:00', '2021-09-25T18:00', '2021-09-25T19:00', '2021-09-25T20:00', '2021-09-25T21:00', '2021-09-25T22:00', '2021-09-25T23:00', '2021-09-26T00:00', '2021-09-26T01:00', '2021-09-26T02:00', '2021-09-26T03:00', '2021-09-26T04:00', '2021-09-26T05:00', '2021-09-26T06:00', '2021-09-26T07:00', '2021-09-26T08:00', '2021-09-26T09:00', '2021-09-26T10:00', '2021-09-26T11:00', '2021-09-26T12:00', '2021-09-26T13:00', '2021-09-26T14:00', '2021-09-26T15:00', '2021-09-26T16:00', '2021-09-26T17:00', '2021-09-26T18:00', '2021-09-26T19:00', '2021-09-26T20:00', '2021-09-26T21:00', '2021-09-26T22:00', '2021-09-26T23:00', '2021-09-27T00:00', '2021-09-27T01:00', '2021-09-27T02:00', '2021-09-27T03:00', '2021-09-27T04:00', '2021-09-27T05:00', '2021-09-27T06:00', '2021-09-27T07:00', '2021-09-27T08:00', '2021-09-27T09:00', '2021-09-27T10:00', '2021-09-27T11:00', '2021-09-27T12:00', '2021-09-27T13:00', '2021-09-27T14:00', '2021-09-27T15:00', '2021-09-27T16:00', '2021-09-27T17:00', '2021-09-27T18:00', '2021-09-27T19:00', '2021-09-27T20:00', '2021-09-27T21:00', '2021-09-27T22:00', '2021-09-27T23:00', '2021-09-28T00:00', '2021-09-28T01:00', '2021-09-28T02:00', '2021-09-28T03:00', '2021-09-28T04:00', '2021-09-28T05:00', '2021-09-28T06:00', '2021-09-28T07:00', '2021-09-28T08:00', '2021-09-28T09:00', '2021-09-28T10:00', '2021-09-28T11:00', '2021-09-28T12:00', '2021-09-28T13:00', '2021-09-28T14:00', '2021-09-28T15:00', '2021-09-28T16:00', '2021-09-28T17:00', '2021-09-28T18:00', '2021-09-28T19:00', '2021-09-28T20:00', '2021-09-28T21:00', '2021-09-28T22:00', '2021-09-28T23:00', '2021-09-29T00:00', '2021-09-29T01:00', '2021-09-29T02:00', '2021-09-29T03:00', '2021-09-29T04:00', '2021-09-29T05:00', '2021-09-29T06:00', '2021-09-29T07:00', '2021-09-29T08:00', '2021-09-29T09:00', '2021-09-29T10:00', '2021-09-29T11:00', '2021-09-29T12:00', '2021-09-29T13:00', '2021-09-29T14:00', '2021-09-29T15:00', '2021-09-29T16:00', '2021-09-29T17:00', '2021-09-29T18:00', '2021-09-29T19:00', '2021-09-29T20:00', '2021-09-29T21:00', '2021-09-29T22:00', '2021-09-29T23:00', '2021-09-30T00:00', '2021-09-30T01:00', '2021-09-30T02:00', '2021-09-30T03:00', '2021-09-30T04:00', '2021-09-30T05:00', '2021-09-30T06:00', '2021-09-30T07:00', '2021-09-30T08:00', '2021-09-30T09:00', '2021-09-30T10:00', '2021-09-30T11:00', '2021-09-30T12:00', '2021-09-30T13:00', '2021-09-30T14:00', '2021-09-30T15:00', '2021-09-30T16:00', '2021-09-30T17:00', '2021-09-30T18:00', '2021-09-30T19:00', '2021-09-30T20:00', '2021-09-30T21:00', '2021-09-30T22:00', '2021-09-30T23:00', '2021-10-01T00:00', '2021-10-01T01:00', '2021-10-01T02:00', '2021-10-01T03:00', '2021-10-01T04:00', '2021-10-01T05:00', '2021-10-01T06:00', '2021-10-01T07:00', '2021-10-01T08:00', '2021-10-01T09:00', '2021-10-01T10:00', '2021-10-01T11:00', '2021-10-01T12:00', '2021-10-01T13:00', '2021-10-01T14:00', '2021-10-01T15:00', '2021-10-01T16:00', '2021-10-01T17:00', '2021-10-01T18:00', '2021-10-01T19:00', '2021-10-01T20:00', '2021-10-01T21:00', '2021-10-01T22:00', '2021-10-01T23:00', '2021-10-02T00:00', '2021-10-02T01:00', '2021-10-02T02:00', '2021-10-02T03:00', '2021-10-02T04:00', '2021-10-02T05:00', '2021-10-02T06:00', '2021-10-02T07:00', '2021-10-02T08:00', '2021-10-02T09:00', '2021-10-02T10:00', '2021-10-02T11:00', '2021-10-02T12:00', '2021-10-02T13:00', '2021-10-02T14:00', '2021-10-02T15:00', '2021-10-02T16:00', '2021-10-02T17:00', '2021-10-02T18:00', '2021-10-02T19:00', '2021-10-02T20:00', '2021-10-02T21:00', '2021-10-02T22:00', '2021-10-02T23:00', '2021-10-03T00:00', '2021-10-03T01:00', '2021-10-03T02:00', '2021-10-03T03:00', '2021-10-03T04:00', '2021-10-03T05:00', '2021-10-03T06:00', '2021-10-03T07:00', '2021-10-03T08:00', '2021-10-03T09:00', '2021-10-03T10:00', '2021-10-03T11:00', '2021-10-03T12:00', '2021-10-03T13:00', '2021-10-03T14:00', '2021-10-03T15:00', '2021-10-03T16:00', '2021-10-03T17:00', '2021-10-03T18:00', '2021-10-03T19:00', '2021-10-03T20:00', '2021-10-03T21:00', '2021-10-03T22:00', '2021-10-03T23:00', '2021-10-04T00:00', '2021-10-04T01:00', '2021-10-04T02:00', '2021-10-04T03:00', '2021-10-04T04:00', '2021-10-04T05:00', '2021-10-04T06:00', '2021-10-04T07:00', '2021-10-04T08:00', '2021-10-04T09:00', '2021-10-04T10:00', '2021-10-04T11:00', '2021-10-04T12:00', '2021-10-04T13:00', '2021-10-04T14:00', '2021-10-04T15:00', '2021-10-04T16:00', '2021-10-04T17:00', '2021-10-04T18:00', '2021-10-04T19:00', '2021-10-04T20:00', '2021-10-04T21:00', '2021-10-04T22:00', '2021-10-04T23:00', '2021-10-05T00:00', '2021-10-05T01:00', '2021-10-05T02:00', '2021-10-05T03:00', '2021-10-05T04:00', '2021-10-05T05:00', '2021-10-05T06:00', '2021-10-05T07:00', '2021-10-05T08:00', '2021-10-05T09:00', '2021-10-05T10:00', '2021-10-05T11:00', '2021-10-05T12:00', '2021-10-05T13:00', '2021-10-05T14:00', '2021-10-05T15:00', '2021-10-05T16:00', '2021-10-05T17:00', '2021-10-05T18:00', '2021-10-05T19:00', '2021-10-05T20:00', '2021-10-05T21:00', '2021-10-05T22:00', '2021-10-05T23:00', '2021-10-06T00:00', '2021-10-06T01:00', '2021-10-06T02:00', '2021-10-06T03:00', '2021-10-06T04:00', '2021-10-06T05:00', '2021-10-06T06:00', '2021-10-06T07:00', '2021-10-06T08:00', '2021-10-06T09:00', '2021-10-06T10:00', '2021-10-06T11:00', '2021-10-06T12:00', '2021-10-06T13:00', '2021-10-06T14:00', '2021-10-06T15:00', '2021-10-06T16:00', '2021-10-06T17:00', '2021-10-06T18:00', '2021-10-06T19:00', '2021-10-06T20:00', '2021-10-06T21:00', '2021-10-06T22:00', '2021-10-06T23:00', '2021-10-07T00:00', '2021-10-07T01:00', '2021-10-07T02:00', '2021-10-07T03:00', '2021-10-07T04:00', '2021-10-07T05:00', '2021-10-07T06:00', '2021-10-07T07:00', '2021-10-07T08:00', '2021-10-07T09:00', '2021-10-07T10:00', '2021-10-07T11:00', '2021-10-07T12:00', '2021-10-07T13:00', '2021-10-07T14:00', '2021-10-07T15:00', '2021-10-07T16:00', '2021-10-07T17:00', '2021-10-07T18:00', '2021-10-07T19:00', '2021-10-07T20:00', '2021-10-07T21:00', '2021-10-07T22:00', '2021-10-07T23:00', '2021-10-08T00:00', '2021-10-08T01:00', '2021-10-08T02:00', '2021-10-08T03:00', '2021-10-08T04:00', '2021-10-08T05:00', '2021-10-08T06:00', '2021-10-08T07:00', '2021-10-08T08:00', '2021-10-08T09:00', '2021-10-08T10:00', '2021-10-08T11:00', '2021-10-08T12:00', '2021-10-08T13:00', '2021-10-08T14:00', '2021-10-08T15:00', '2021-10-08T16:00', '2021-10-08T17:00', '2021-10-08T18:00', '2021-10-08T19:00', '2021-10-08T20:00', '2021-10-08T21:00', '2021-10-08T22:00', '2021-10-08T23:00', '2021-10-09T00:00', '2021-10-09T01:00', '2021-10-09T02:00', '2021-10-09T03:00', '2021-10-09T04:00', '2021-10-09T05:00', '2021-10-09T06:00', '2021-10-09T07:00', '2021-10-09T08:00', '2021-10-09T09:00', '2021-10-09T10:00', '2021-10-09T11:00', '2021-10-09T12:00', '2021-10-09T13:00', '2021-10-09T14:00', '2021-10-09T15:00', '2021-10-09T16:00', '2021-10-09T17:00', '2021-10-09T18:00', '2021-10-09T19:00', '2021-10-09T20:00', '2021-10-09T21:00', '2021-10-09T22:00', '2021-10-09T23:00', '2021-10-10T00:00', '2021-10-10T01:00', '2021-10-10T02:00', '2021-10-10T03:00', '2021-10-10T04:00', '2021-10-10T05:00', '2021-10-10T06:00', '2021-10-10T07:00', '2021-10-10T08:00', '2021-10-10T09:00', '2021-10-10T10:00', '2021-10-10T11:00', '2021-10-10T12:00', '2021-10-10T13:00', '2021-10-10T14:00', '2021-10-10T15:00', '2021-10-10T16:00', '2021-10-10T17:00', '2021-10-10T18:00', '2021-10-10T19:00', '2021-10-10T20:00', '2021-10-10T21:00', '2021-10-10T22:00', '2021-10-10T23:00', '2021-10-11T00:00', '2021-10-11T01:00', '2021-10-11T02:00', '2021-10-11T03:00', '2021-10-11T04:00', '2021-10-11T05:00', '2021-10-11T06:00', '2021-10-11T07:00', '2021-10-11T08:00', '2021-10-11T09:00', '2021-10-11T10:00', '2021-10-11T11:00', '2021-10-11T12:00', '2021-10-11T13:00', '2021-10-11T14:00', '2021-10-11T15:00', '2021-10-11T16:00', '2021-10-11T17:00', '2021-10-11T18:00', '2021-10-11T19:00', '2021-10-11T20:00', '2021-10-11T21:00', '2021-10-11T22:00', '2021-10-11T23:00', '2021-10-12T00:00', '2021-10-12T01:00', '2021-10-12T02:00', '2021-10-12T03:00', '2021-10-12T04:00', '2021-10-12T05:00', '2021-10-12T06:00', '2021-10-12T07:00', '2021-10-12T08:00', '2021-10-12T09:00', '2021-10-12T10:00', '2021-10-12T11:00', '2021-10-12T12:00', '2021-10-12T13:00', '2021-10-12T14:00', '2021-10-12T15:00', '2021-10-12T16:00', '2021-10-12T17:00', '2021-10-12T18:00', '2021-10-12T19:00', '2021-10-12T20:00', '2021-10-12T21:00', '2021-10-12T22:00', '2021-10-12T23:00', '2021-10-13T00:00', '2021-10-13T01:00', '2021-10-13T02:00', '2021-10-13T03:00', '2021-10-13T04:00', '2021-10-13T05:00', '2021-10-13T06:00', '2021-10-13T07:00', '2021-10-13T08:00', '2021-10-13T09:00', '2021-10-13T10:00', '2021-10-13T11:00', '2021-10-13T12:00', '2021-10-13T13:00', '2021-10-13T14:00', '2021-10-13T15:00', '2021-10-13T16:00', '2021-10-13T17:00', '2021-10-13T18:00', '2021-10-13T19:00', '2021-10-13T20:00', '2021-10-13T21:00', '2021-10-13T22:00', '2021-10-13T23:00', '2021-10-14T00:00', '2021-10-14T01:00', '2021-10-14T02:00', '2021-10-14T03:00', '2021-10-14T04:00', '2021-10-14T05:00', '2021-10-14T06:00', '2021-10-14T07:00', '2021-10-14T08:00', '2021-10-14T09:00', '2021-10-14T10:00', '2021-10-14T11:00', '2021-10-14T12:00', '2021-10-14T13:00', '2021-10-14T14:00', '2021-10-14T15:00', '2021-10-14T16:00', '2021-10-14T17:00', '2021-10-14T18:00', '2021-10-14T19:00', '2021-10-14T20:00', '2021-10-14T21:00', '2021-10-14T22:00', '2021-10-14T23:00', '2021-10-15T00:00', '2021-10-15T01:00', '2021-10-15T02:00', '2021-10-15T03:00', '2021-10-15T04:00', '2021-10-15T05:00', '2021-10-15T06:00', '2021-10-15T07:00', '2021-10-15T08:00', '2021-10-15T09:00', '2021-10-15T10:00', '2021-10-15T11:00', '2021-10-15T12:00', '2021-10-15T13:00', '2021-10-15T14:00', '2021-10-15T15:00', '2021-10-15T16:00', '2021-10-15T17:00', '2021-10-15T18:00', '2021-10-15T19:00', '2021-10-15T20:00', '2021-10-15T21:00', '2021-10-15T22:00', '2021-10-15T23:00', '2021-10-16T00:00', '2021-10-16T01:00', '2021-10-16T02:00', '2021-10-16T03:00', '2021-10-16T04:00', '2021-10-16T05:00', '2021-10-16T06:00', '2021-10-16T07:00', '2021-10-16T08:00', '2021-10-16T09:00', '2021-10-16T10:00', '2021-10-16T11:00', '2021-10-16T12:00', '2021-10-16T13:00', '2021-10-16T14:00', '2021-10-16T15:00', '2021-10-16T16:00', '2021-10-16T17:00', '2021-10-16T18:00', '2021-10-16T19:00', '2021-10-16T20:00', '2021-10-16T21:00', '2021-10-16T22:00', '2021-10-16T23:00', '2021-10-17T00:00', '2021-10-17T01:00', '2021-10-17T02:00', '2021-10-17T03:00', '2021-10-17T04:00', '2021-10-17T05:00', '2021-10-17T06:00', '2021-10-17T07:00', '2021-10-17T08:00', '2021-10-17T09:00', '2021-10-17T10:00', '2021-10-17T11:00', '2021-10-17T12:00', '2021-10-17T13:00', '2021-10-17T14:00', '2021-10-17T15:00', '2021-10-17T16:00', '2021-10-17T17:00', '2021-10-17T18:00', '2021-10-17T19:00', '2021-10-17T20:00', '2021-10-17T21:00', '2021-10-17T22:00', '2021-10-17T23:00', '2021-10-18T00:00', '2021-10-18T01:00', '2021-10-18T02:00', '2021-10-18T03:00', '2021-10-18T04:00', '2021-10-18T05:00', '2021-10-18T06:00', '2021-10-18T07:00', '2021-10-18T08:00', '2021-10-18T09:00', '2021-10-18T10:00', '2021-10-18T11:00', '2021-10-18T12:00', '2021-10-18T13:00', '2021-10-18T14:00', '2021-10-18T15:00', '2021-10-18T16:00', '2021-10-18T17:00', '2021-10-18T18:00', '2021-10-18T19:00', '2021-10-18T20:00', '2021-10-18T21:00', '2021-10-18T22:00', '2021-10-18T23:00', '2021-10-19T00:00', '2021-10-19T01:00', '2021-10-19T02:00', '2021-10-19T03:00', '2021-10-19T04:00', '2021-10-19T05:00', '2021-10-19T06:00', '2021-10-19T07:00', '2021-10-19T08:00', '2021-10-19T09:00', '2021-10-19T10:00', '2021-10-19T11:00', '2021-10-19T12:00', '2021-10-19T13:00', '2021-10-19T14:00', '2021-10-19T15:00', '2021-10-19T16:00', '2021-10-19T17:00', '2021-10-19T18:00', '2021-10-19T19:00', '2021-10-19T20:00', '2021-10-19T21:00', '2021-10-19T22:00', '2021-10-19T23:00', '2021-10-20T00:00', '2021-10-20T01:00', '2021-10-20T02:00', '2021-10-20T03:00', '2021-10-20T04:00', '2021-10-20T05:00', '2021-10-20T06:00', '2021-10-20T07:00', '2021-10-20T08:00', '2021-10-20T09:00', '2021-10-20T10:00', '2021-10-20T11:00', '2021-10-20T12:00', '2021-10-20T13:00', '2021-10-20T14:00', '2021-10-20T15:00', '2021-10-20T16:00', '2021-10-20T17:00', '2021-10-20T18:00', '2021-10-20T19:00', '2021-10-20T20:00', '2021-10-20T21:00', '2021-10-20T22:00', '2021-10-20T23:00', '2021-10-21T00:00', '2021-10-21T01:00', '2021-10-21T02:00', '2021-10-21T03:00', '2021-10-21T04:00', '2021-10-21T05:00', '2021-10-21T06:00', '2021-10-21T07:00', '2021-10-21T08:00', '2021-10-21T09:00', '2021-10-21T10:00', '2021-10-21T11:00', '2021-10-21T12:00', '2021-10-21T13:00', '2021-10-21T14:00', '2021-10-21T15:00', '2021-10-21T16:00', '2021-10-21T17:00', '2021-10-21T18:00', '2021-10-21T19:00', '2021-10-21T20:00', '2021-10-21T21:00', '2021-10-21T22:00', '2021-10-21T23:00', '2021-10-22T00:00', '2021-10-22T01:00', '2021-10-22T02:00', '2021-10-22T03:00', '2021-10-22T04:00', '2021-10-22T05:00', '2021-10-22T06:00', '2021-10-22T07:00', '2021-10-22T08:00', '2021-10-22T09:00', '2021-10-22T10:00', '2021-10-22T11:00', '2021-10-22T12:00', '2021-10-22T13:00', '2021-10-22T14:00', '2021-10-22T15:00', '2021-10-22T16:00', '2021-10-22T17:00', '2021-10-22T18:00', '2021-10-22T19:00', '2021-10-22T20:00', '2021-10-22T21:00', '2021-10-22T22:00', '2021-10-22T23:00', '2021-10-23T00:00', '2021-10-23T01:00', '2021-10-23T02:00', '2021-10-23T03:00', '2021-10-23T04:00', '2021-10-23T05:00', '2021-10-23T06:00', '2021-10-23T07:00', '2021-10-23T08:00', '2021-10-23T09:00', '2021-10-23T10:00', '2021-10-23T11:00', '2021-10-23T12:00', '2021-10-23T13:00', '2021-10-23T14:00', '2021-10-23T15:00', '2021-10-23T16:00', '2021-10-23T17:00', '2021-10-23T18:00', '2021-10-23T19:00', '2021-10-23T20:00', '2021-10-23T21:00', '2021-10-23T22:00', '2021-10-23T23:00', '2021-10-24T00:00', '2021-10-24T01:00', '2021-10-24T02:00', '2021-10-24T03:00', '2021-10-24T04:00', '2021-10-24T05:00', '2021-10-24T06:00', '2021-10-24T07:00', '2021-10-24T08:00', '2021-10-24T09:00', '2021-10-24T10:00', '2021-10-24T11:00', '2021-10-24T12:00', '2021-10-24T13:00', '2021-10-24T14:00', '2021-10-24T15:00', '2021-10-24T16:00', '2021-10-24T17:00', '2021-10-24T18:00', '2021-10-24T19:00', '2021-10-24T20:00', '2021-10-24T21:00', '2021-10-24T22:00', '2021-10-24T23:00', '2021-10-25T00:00', '2021-10-25T01:00', '2021-10-25T02:00', '2021-10-25T03:00', '2021-10-25T04:00', '2021-10-25T05:00', '2021-10-25T06:00', '2021-10-25T07:00', '2021-10-25T08:00', '2021-10-25T09:00', '2021-10-25T10:00', '2021-10-25T11:00', '2021-10-25T12:00', '2021-10-25T13:00', '2021-10-25T14:00', '2021-10-25T15:00', '2021-10-25T16:00', '2021-10-25T17:00', '2021-10-25T18:00', '2021-10-25T19:00', '2021-10-25T20:00', '2021-10-25T21:00', '2021-10-25T22:00', '2021-10-25T23:00', '2021-10-26T00:00', '2021-10-26T01:00', '2021-10-26T02:00', '2021-10-26T03:00', '2021-10-26T04:00', '2021-10-26T05:00', '2021-10-26T06:00', '2021-10-26T07:00', '2021-10-26T08:00', '2021-10-26T09:00', '2021-10-26T10:00', '2021-10-26T11:00', '2021-10-26T12:00', '2021-10-26T13:00', '2021-10-26T14:00', '2021-10-26T15:00', '2021-10-26T16:00', '2021-10-26T17:00', '2021-10-26T18:00', '2021-10-26T19:00', '2021-10-26T20:00', '2021-10-26T21:00', '2021-10-26T22:00', '2021-10-26T23:00', '2021-10-27T00:00', '2021-10-27T01:00', '2021-10-27T02:00', '2021-10-27T03:00', '2021-10-27T04:00', '2021-10-27T05:00', '2021-10-27T06:00', '2021-10-27T07:00', '2021-10-27T08:00', '2021-10-27T09:00', '2021-10-27T10:00', '2021-10-27T11:00', '2021-10-27T12:00', '2021-10-27T13:00', '2021-10-27T14:00', '2021-10-27T15:00', '2021-10-27T16:00', '2021-10-27T17:00', '2021-10-27T18:00', '2021-10-27T19:00', '2021-10-27T20:00', '2021-10-27T21:00', '2021-10-27T22:00', '2021-10-27T23:00', '2021-10-28T00:00', '2021-10-28T01:00', '2021-10-28T02:00', '2021-10-28T03:00', '2021-10-28T04:00', '2021-10-28T05:00', '2021-10-28T06:00', '2021-10-28T07:00', '2021-10-28T08:00', '2021-10-28T09:00', '2021-10-28T10:00', '2021-10-28T11:00', '2021-10-28T12:00', '2021-10-28T13:00', '2021-10-28T14:00', '2021-10-28T15:00', '2021-10-28T16:00', '2021-10-28T17:00', '2021-10-28T18:00', '2021-10-28T19:00', '2021-10-28T20:00', '2021-10-28T21:00', '2021-10-28T22:00', '2021-10-28T23:00', '2021-10-29T00:00', '2021-10-29T01:00', '2021-10-29T02:00', '2021-10-29T03:00', '2021-10-29T04:00', '2021-10-29T05:00', '2021-10-29T06:00', '2021-10-29T07:00', '2021-10-29T08:00', '2021-10-29T09:00', '2021-10-29T10:00', '2021-10-29T11:00', '2021-10-29T12:00', '2021-10-29T13:00', '2021-10-29T14:00', '2021-10-29T15:00', '2021-10-29T16:00', '2021-10-29T17:00', '2021-10-29T18:00', '2021-10-29T19:00', '2021-10-29T20:00', '2021-10-29T21:00', '2021-10-29T22:00', '2021-10-29T23:00', '2021-10-30T00:00', '2021-10-30T01:00', '2021-10-30T02:00', '2021-10-30T03:00', '2021-10-30T04:00', '2021-10-30T05:00', '2021-10-30T06:00', '2021-10-30T07:00', '2021-10-30T08:00', '2021-10-30T09:00', '2021-10-30T10:00', '2021-10-30T11:00', '2021-10-30T12:00', '2021-10-30T13:00', '2021-10-30T14:00', '2021-10-30T15:00', '2021-10-30T16:00', '2021-10-30T17:00', '2021-10-30T18:00', '2021-10-30T19:00', '2021-10-30T20:00', '2021-10-30T21:00', '2021-10-30T22:00', '2021-10-30T23:00', '2021-10-31T00:00', '2021-10-31T01:00', '2021-10-31T02:00', '2021-10-31T03:00', '2021-10-31T04:00', '2021-10-31T05:00', '2021-10-31T06:00', '2021-10-31T07:00', '2021-10-31T08:00', '2021-10-31T09:00', '2021-10-31T10:00', '2021-10-31T11:00', '2021-10-31T12:00', '2021-10-31T13:00', '2021-10-31T14:00', '2021-10-31T15:00', '2021-10-31T16:00', '2021-10-31T17:00', '2021-10-31T18:00', '2021-10-31T19:00', '2021-10-31T20:00', '2021-10-31T21:00', '2021-10-31T22:00', '2021-10-31T23:00', '2021-11-01T00:00', '2021-11-01T01:00', '2021-11-01T02:00', '2021-11-01T03:00', '2021-11-01T04:00', '2021-11-01T05:00', '2021-11-01T06:00', '2021-11-01T07:00', '2021-11-01T08:00', '2021-11-01T09:00', '2021-11-01T10:00', '2021-11-01T11:00', '2021-11-01T12:00', '2021-11-01T13:00', '2021-11-01T14:00', '2021-11-01T15:00', '2021-11-01T16:00', '2021-11-01T17:00', '2021-11-01T18:00', '2021-11-01T19:00', '2021-11-01T20:00', '2021-11-01T21:00', '2021-11-01T22:00', '2021-11-01T23:00', '2021-11-02T00:00', '2021-11-02T01:00', '2021-11-02T02:00', '2021-11-02T03:00', '2021-11-02T04:00', '2021-11-02T05:00', '2021-11-02T06:00', '2021-11-02T07:00', '2021-11-02T08:00', '2021-11-02T09:00', '2021-11-02T10:00', '2021-11-02T11:00', '2021-11-02T12:00', '2021-11-02T13:00', '2021-11-02T14:00', '2021-11-02T15:00', '2021-11-02T16:00', '2021-11-02T17:00', '2021-11-02T18:00', '2021-11-02T19:00', '2021-11-02T20:00', '2021-11-02T21:00', '2021-11-02T22:00', '2021-11-02T23:00', '2021-11-03T00:00', '2021-11-03T01:00', '2021-11-03T02:00', '2021-11-03T03:00', '2021-11-03T04:00', '2021-11-03T05:00', '2021-11-03T06:00', '2021-11-03T07:00', '2021-11-03T08:00', '2021-11-03T09:00', '2021-11-03T10:00', '2021-11-03T11:00', '2021-11-03T12:00', '2021-11-03T13:00', '2021-11-03T14:00', '2021-11-03T15:00', '2021-11-03T16:00', '2021-11-03T17:00', '2021-11-03T18:00', '2021-11-03T19:00', '2021-11-03T20:00', '2021-11-03T21:00', '2021-11-03T22:00', '2021-11-03T23:00', '2021-11-04T00:00', '2021-11-04T01:00', '2021-11-04T02:00', '2021-11-04T03:00', '2021-11-04T04:00', '2021-11-04T05:00', '2021-11-04T06:00', '2021-11-04T07:00', '2021-11-04T08:00', '2021-11-04T09:00', '2021-11-04T10:00', '2021-11-04T11:00', '2021-11-04T12:00', '2021-11-04T13:00', '2021-11-04T14:00', '2021-11-04T15:00', '2021-11-04T16:00', '2021-11-04T17:00', '2021-11-04T18:00', '2021-11-04T19:00', '2021-11-04T20:00', '2021-11-04T21:00', '2021-11-04T22:00', '2021-11-04T23:00', '2021-11-05T00:00', '2021-11-05T01:00', '2021-11-05T02:00', '2021-11-05T03:00', '2021-11-05T04:00', '2021-11-05T05:00', '2021-11-05T06:00', '2021-11-05T07:00', '2021-11-05T08:00', '2021-11-05T09:00', '2021-11-05T10:00', '2021-11-05T11:00', '2021-11-05T12:00', '2021-11-05T13:00', '2021-11-05T14:00', '2021-11-05T15:00', '2021-11-05T16:00', '2021-11-05T17:00', '2021-11-05T18:00', '2021-11-05T19:00', '2021-11-05T20:00', '2021-11-05T21:00', '2021-11-05T22:00', '2021-11-05T23:00', '2021-11-06T00:00', '2021-11-06T01:00', '2021-11-06T02:00', '2021-11-06T03:00', '2021-11-06T04:00', '2021-11-06T05:00', '2021-11-06T06:00', '2021-11-06T07:00', '2021-11-06T08:00', '2021-11-06T09:00', '2021-11-06T10:00', '2021-11-06T11:00', '2021-11-06T12:00', '2021-11-06T13:00', '2021-11-06T14:00', '2021-11-06T15:00', '2021-11-06T16:00', '2021-11-06T17:00', '2021-11-06T18:00', '2021-11-06T19:00', '2021-11-06T20:00', '2021-11-06T21:00', '2021-11-06T22:00', '2021-11-06T23:00', '2021-11-07T00:00', '2021-11-07T01:00', '2021-11-07T02:00', '2021-11-07T03:00', '2021-11-07T04:00', '2021-11-07T05:00', '2021-11-07T06:00', '2021-11-07T07:00', '2021-11-07T08:00', '2021-11-07T09:00', '2021-11-07T10:00', '2021-11-07T11:00', '2021-11-07T12:00', '2021-11-07T13:00', '2021-11-07T14:00', '2021-11-07T15:00', '2021-11-07T16:00', '2021-11-07T17:00', '2021-11-07T18:00', '2021-11-07T19:00', '2021-11-07T20:00', '2021-11-07T21:00', '2021-11-07T22:00', '2021-11-07T23:00', '2021-11-08T00:00', '2021-11-08T01:00', '2021-11-08T02:00', '2021-11-08T03:00', '2021-11-08T04:00', '2021-11-08T05:00', '2021-11-08T06:00', '2021-11-08T07:00', '2021-11-08T08:00', '2021-11-08T09:00', '2021-11-08T10:00', '2021-11-08T11:00', '2021-11-08T12:00', '2021-11-08T13:00', '2021-11-08T14:00', '2021-11-08T15:00', '2021-11-08T16:00', '2021-11-08T17:00', '2021-11-08T18:00', '2021-11-08T19:00', '2021-11-08T20:00', '2021-11-08T21:00', '2021-11-08T22:00', '2021-11-08T23:00', '2021-11-09T00:00', '2021-11-09T01:00', '2021-11-09T02:00', '2021-11-09T03:00', '2021-11-09T04:00', '2021-11-09T05:00', '2021-11-09T06:00', '2021-11-09T07:00', '2021-11-09T08:00', '2021-11-09T09:00', '2021-11-09T10:00', '2021-11-09T11:00', '2021-11-09T12:00', '2021-11-09T13:00', '2021-11-09T14:00', '2021-11-09T15:00', '2021-11-09T16:00', '2021-11-09T17:00', '2021-11-09T18:00', '2021-11-09T19:00', '2021-11-09T20:00', '2021-11-09T21:00', '2021-11-09T22:00', '2021-11-09T23:00', '2021-11-10T00:00', '2021-11-10T01:00', '2021-11-10T02:00', '2021-11-10T03:00', '2021-11-10T04:00', '2021-11-10T05:00', '2021-11-10T06:00', '2021-11-10T07:00', '2021-11-10T08:00', '2021-11-10T09:00', '2021-11-10T10:00', '2021-11-10T11:00', '2021-11-10T12:00', '2021-11-10T13:00', '2021-11-10T14:00', '2021-11-10T15:00', '2021-11-10T16:00', '2021-11-10T17:00', '2021-11-10T18:00', '2021-11-10T19:00', '2021-11-10T20:00', '2021-11-10T21:00', '2021-11-10T22:00', '2021-11-10T23:00', '2021-11-11T00:00', '2021-11-11T01:00', '2021-11-11T02:00', '2021-11-11T03:00', '2021-11-11T04:00', '2021-11-11T05:00', '2021-11-11T06:00', '2021-11-11T07:00', '2021-11-11T08:00', '2021-11-11T09:00', '2021-11-11T10:00', '2021-11-11T11:00', '2021-11-11T12:00', '2021-11-11T13:00', '2021-11-11T14:00', '2021-11-11T15:00', '2021-11-11T16:00', '2021-11-11T17:00', '2021-11-11T18:00', '2021-11-11T19:00', '2021-11-11T20:00', '2021-11-11T21:00', '2021-11-11T22:00', '2021-11-11T23:00', '2021-11-12T00:00', '2021-11-12T01:00', '2021-11-12T02:00', '2021-11-12T03:00', '2021-11-12T04:00', '2021-11-12T05:00', '2021-11-12T06:00', '2021-11-12T07:00', '2021-11-12T08:00', '2021-11-12T09:00', '2021-11-12T10:00', '2021-11-12T11:00', '2021-11-12T12:00', '2021-11-12T13:00', '2021-11-12T14:00', '2021-11-12T15:00', '2021-11-12T16:00', '2021-11-12T17:00', '2021-11-12T18:00', '2021-11-12T19:00', '2021-11-12T20:00', '2021-11-12T21:00', '2021-11-12T22:00', '2021-11-12T23:00', '2021-11-13T00:00', '2021-11-13T01:00', '2021-11-13T02:00', '2021-11-13T03:00', '2021-11-13T04:00', '2021-11-13T05:00', '2021-11-13T06:00', '2021-11-13T07:00', '2021-11-13T08:00', '2021-11-13T09:00', '2021-11-13T10:00', '2021-11-13T11:00', '2021-11-13T12:00', '2021-11-13T13:00', '2021-11-13T14:00', '2021-11-13T15:00', '2021-11-13T16:00', '2021-11-13T17:00', '2021-11-13T18:00', '2021-11-13T19:00', '2021-11-13T20:00', '2021-11-13T21:00', '2021-11-13T22:00', '2021-11-13T23:00', '2021-11-14T00:00', '2021-11-14T01:00', '2021-11-14T02:00', '2021-11-14T03:00', '2021-11-14T04:00', '2021-11-14T05:00', '2021-11-14T06:00', '2021-11-14T07:00', '2021-11-14T08:00', '2021-11-14T09:00', '2021-11-14T10:00', '2021-11-14T11:00', '2021-11-14T12:00', '2021-11-14T13:00', '2021-11-14T14:00', '2021-11-14T15:00', '2021-11-14T16:00', '2021-11-14T17:00', '2021-11-14T18:00', '2021-11-14T19:00', '2021-11-14T20:00', '2021-11-14T21:00', '2021-11-14T22:00', '2021-11-14T23:00', '2021-11-15T00:00', '2021-11-15T01:00', '2021-11-15T02:00', '2021-11-15T03:00', '2021-11-15T04:00', '2021-11-15T05:00', '2021-11-15T06:00', '2021-11-15T07:00', '2021-11-15T08:00', '2021-11-15T09:00', '2021-11-15T10:00', '2021-11-15T11:00', '2021-11-15T12:00', '2021-11-15T13:00', '2021-11-15T14:00', '2021-11-15T15:00', '2021-11-15T16:00', '2021-11-15T17:00', '2021-11-15T18:00', '2021-11-15T19:00', '2021-11-15T20:00', '2021-11-15T21:00', '2021-11-15T22:00', '2021-11-15T23:00', '2021-11-16T00:00', '2021-11-16T01:00', '2021-11-16T02:00', '2021-11-16T03:00', '2021-11-16T04:00', '2021-11-16T05:00', '2021-11-16T06:00', '2021-11-16T07:00', '2021-11-16T08:00', '2021-11-16T09:00', '2021-11-16T10:00', '2021-11-16T11:00', '2021-11-16T12:00', '2021-11-16T13:00', '2021-11-16T14:00', '2021-11-16T15:00', '2021-11-16T16:00', '2021-11-16T17:00', '2021-11-16T18:00', '2021-11-16T19:00', '2021-11-16T20:00', '2021-11-16T21:00', '2021-11-16T22:00', '2021-11-16T23:00', '2021-11-17T00:00', '2021-11-17T01:00', '2021-11-17T02:00', '2021-11-17T03:00', '2021-11-17T04:00', '2021-11-17T05:00', '2021-11-17T06:00', '2021-11-17T07:00', '2021-11-17T08:00', '2021-11-17T09:00', '2021-11-17T10:00', '2021-11-17T11:00', '2021-11-17T12:00', '2021-11-17T13:00', '2021-11-17T14:00', '2021-11-17T15:00', '2021-11-17T16:00', '2021-11-17T17:00', '2021-11-17T18:00', '2021-11-17T19:00', '2021-11-17T20:00', '2021-11-17T21:00', '2021-11-17T22:00', '2021-11-17T23:00', '2021-11-18T00:00', '2021-11-18T01:00', '2021-11-18T02:00', '2021-11-18T03:00', '2021-11-18T04:00', '2021-11-18T05:00', '2021-11-18T06:00', '2021-11-18T07:00', '2021-11-18T08:00', '2021-11-18T09:00', '2021-11-18T10:00', '2021-11-18T11:00', '2021-11-18T12:00', '2021-11-18T13:00', '2021-11-18T14:00', '2021-11-18T15:00', '2021-11-18T16:00', '2021-11-18T17:00', '2021-11-18T18:00', '2021-11-18T19:00', '2021-11-18T20:00', '2021-11-18T21:00', '2021-11-18T22:00', '2021-11-18T23:00', '2021-11-19T00:00', '2021-11-19T01:00', '2021-11-19T02:00', '2021-11-19T03:00', '2021-11-19T04:00', '2021-11-19T05:00', '2021-11-19T06:00', '2021-11-19T07:00', '2021-11-19T08:00', '2021-11-19T09:00', '2021-11-19T10:00', '2021-11-19T11:00', '2021-11-19T12:00', '2021-11-19T13:00', '2021-11-19T14:00', '2021-11-19T15:00', '2021-11-19T16:00', '2021-11-19T17:00', '2021-11-19T18:00', '2021-11-19T19:00', '2021-11-19T20:00', '2021-11-19T21:00', '2021-11-19T22:00', '2021-11-19T23:00', '2021-11-20T00:00', '2021-11-20T01:00', '2021-11-20T02:00', '2021-11-20T03:00', '2021-11-20T04:00', '2021-11-20T05:00', '2021-11-20T06:00', '2021-11-20T07:00', '2021-11-20T08:00', '2021-11-20T09:00', '2021-11-20T10:00', '2021-11-20T11:00', '2021-11-20T12:00', '2021-11-20T13:00', '2021-11-20T14:00', '2021-11-20T15:00', '2021-11-20T16:00', '2021-11-20T17:00', '2021-11-20T18:00', '2021-11-20T19:00', '2021-11-20T20:00', '2021-11-20T21:00', '2021-11-20T22:00', '2021-11-20T23:00', '2021-11-21T00:00', '2021-11-21T01:00', '2021-11-21T02:00', '2021-11-21T03:00', '2021-11-21T04:00', '2021-11-21T05:00', '2021-11-21T06:00', '2021-11-21T07:00', '2021-11-21T08:00', '2021-11-21T09:00', '2021-11-21T10:00', '2021-11-21T11:00', '2021-11-21T12:00', '2021-11-21T13:00', '2021-11-21T14:00', '2021-11-21T15:00', '2021-11-21T16:00', '2021-11-21T17:00', '2021-11-21T18:00', '2021-11-21T19:00', '2021-11-21T20:00', '2021-11-21T21:00', '2021-11-21T22:00', '2021-11-21T23:00', '2021-11-22T00:00', '2021-11-22T01:00', '2021-11-22T02:00', '2021-11-22T03:00', '2021-11-22T04:00', '2021-11-22T05:00', '2021-11-22T06:00', '2021-11-22T07:00', '2021-11-22T08:00', '2021-11-22T09:00', '2021-11-22T10:00', '2021-11-22T11:00', '2021-11-22T12:00', '2021-11-22T13:00', '2021-11-22T14:00', '2021-11-22T15:00', '2021-11-22T16:00', '2021-11-22T17:00', '2021-11-22T18:00', '2021-11-22T19:00', '2021-11-22T20:00', '2021-11-22T21:00', '2021-11-22T22:00', '2021-11-22T23:00', '2021-11-23T00:00', '2021-11-23T01:00', '2021-11-23T02:00', '2021-11-23T03:00', '2021-11-23T04:00', '2021-11-23T05:00', '2021-11-23T06:00', '2021-11-23T07:00', '2021-11-23T08:00', '2021-11-23T09:00', '2021-11-23T10:00', '2021-11-23T11:00', '2021-11-23T12:00', '2021-11-23T13:00', '2021-11-23T14:00', '2021-11-23T15:00', '2021-11-23T16:00', '2021-11-23T17:00', '2021-11-23T18:00', '2021-11-23T19:00', '2021-11-23T20:00', '2021-11-23T21:00', '2021-11-23T22:00', '2021-11-23T23:00', '2021-11-24T00:00', '2021-11-24T01:00', '2021-11-24T02:00', '2021-11-24T03:00', '2021-11-24T04:00', '2021-11-24T05:00', '2021-11-24T06:00', '2021-11-24T07:00', '2021-11-24T08:00', '2021-11-24T09:00', '2021-11-24T10:00', '2021-11-24T11:00', '2021-11-24T12:00', '2021-11-24T13:00', '2021-11-24T14:00', '2021-11-24T15:00', '2021-11-24T16:00', '2021-11-24T17:00', '2021-11-24T18:00', '2021-11-24T19:00', '2021-11-24T20:00', '2021-11-24T21:00', '2021-11-24T22:00', '2021-11-24T23:00', '2021-11-25T00:00', '2021-11-25T01:00', '2021-11-25T02:00', '2021-11-25T03:00', '2021-11-25T04:00', '2021-11-25T05:00', '2021-11-25T06:00', '2021-11-25T07:00', '2021-11-25T08:00', '2021-11-25T09:00', '2021-11-25T10:00', '2021-11-25T11:00', '2021-11-25T12:00', '2021-11-25T13:00', '2021-11-25T14:00', '2021-11-25T15:00', '2021-11-25T16:00', '2021-11-25T17:00', '2021-11-25T18:00', '2021-11-25T19:00', '2021-11-25T20:00', '2021-11-25T21:00', '2021-11-25T22:00', '2021-11-25T23:00', '2021-11-26T00:00', '2021-11-26T01:00', '2021-11-26T02:00', '2021-11-26T03:00', '2021-11-26T04:00', '2021-11-26T05:00', '2021-11-26T06:00', '2021-11-26T07:00', '2021-11-26T08:00', '2021-11-26T09:00', '2021-11-26T10:00', '2021-11-26T11:00', '2021-11-26T12:00', '2021-11-26T13:00', '2021-11-26T14:00', '2021-11-26T15:00', '2021-11-26T16:00', '2021-11-26T17:00', '2021-11-26T18:00', '2021-11-26T19:00', '2021-11-26T20:00', '2021-11-26T21:00', '2021-11-26T22:00', '2021-11-26T23:00', '2021-11-27T00:00', '2021-11-27T01:00', '2021-11-27T02:00', '2021-11-27T03:00', '2021-11-27T04:00', '2021-11-27T05:00', '2021-11-27T06:00', '2021-11-27T07:00', '2021-11-27T08:00', '2021-11-27T09:00', '2021-11-27T10:00', '2021-11-27T11:00', '2021-11-27T12:00', '2021-11-27T13:00', '2021-11-27T14:00', '2021-11-27T15:00', '2021-11-27T16:00', '2021-11-27T17:00', '2021-11-27T18:00', '2021-11-27T19:00', '2021-11-27T20:00', '2021-11-27T21:00', '2021-11-27T22:00', '2021-11-27T23:00', '2021-11-28T00:00', '2021-11-28T01:00', '2021-11-28T02:00', '2021-11-28T03:00', '2021-11-28T04:00', '2021-11-28T05:00', '2021-11-28T06:00', '2021-11-28T07:00', '2021-11-28T08:00', '2021-11-28T09:00', '2021-11-28T10:00', '2021-11-28T11:00', '2021-11-28T12:00', '2021-11-28T13:00', '2021-11-28T14:00', '2021-11-28T15:00', '2021-11-28T16:00', '2021-11-28T17:00', '2021-11-28T18:00', '2021-11-28T19:00', '2021-11-28T20:00', '2021-11-28T21:00', '2021-11-28T22:00', '2021-11-28T23:00', '2021-11-29T00:00', '2021-11-29T01:00', '2021-11-29T02:00', '2021-11-29T03:00', '2021-11-29T04:00', '2021-11-29T05:00', '2021-11-29T06:00', '2021-11-29T07:00', '2021-11-29T08:00', '2021-11-29T09:00', '2021-11-29T10:00', '2021-11-29T11:00', '2021-11-29T12:00', '2021-11-29T13:00', '2021-11-29T14:00', '2021-11-29T15:00', '2021-11-29T16:00', '2021-11-29T17:00', '2021-11-29T18:00', '2021-11-29T19:00', '2021-11-29T20:00', '2021-11-29T21:00', '2021-11-29T22:00', '2021-11-29T23:00', '2021-11-30T00:00', '2021-11-30T01:00', '2021-11-30T02:00', '2021-11-30T03:00', '2021-11-30T04:00', '2021-11-30T05:00', '2021-11-30T06:00', '2021-11-30T07:00', '2021-11-30T08:00', '2021-11-30T09:00', '2021-11-30T10:00', '2021-11-30T11:00', '2021-11-30T12:00', '2021-11-30T13:00', '2021-11-30T14:00', '2021-11-30T15:00', '2021-11-30T16:00', '2021-11-30T17:00', '2021-11-30T18:00', '2021-11-30T19:00', '2021-11-30T20:00', '2021-11-30T21:00', '2021-11-30T22:00', '2021-11-30T23:00', '2021-12-01T00:00', '2021-12-01T01:00', '2021-12-01T02:00', '2021-12-01T03:00', '2021-12-01T04:00', '2021-12-01T05:00', '2021-12-01T06:00', '2021-12-01T07:00', '2021-12-01T08:00', '2021-12-01T09:00', '2021-12-01T10:00', '2021-12-01T11:00', '2021-12-01T12:00', '2021-12-01T13:00', '2021-12-01T14:00', '2021-12-01T15:00', '2021-12-01T16:00', '2021-12-01T17:00', '2021-12-01T18:00', '2021-12-01T19:00', '2021-12-01T20:00', '2021-12-01T21:00', '2021-12-01T22:00', '2021-12-01T23:00', '2021-12-02T00:00', '2021-12-02T01:00', '2021-12-02T02:00', '2021-12-02T03:00', '2021-12-02T04:00', '2021-12-02T05:00', '2021-12-02T06:00', '2021-12-02T07:00', '2021-12-02T08:00', '2021-12-02T09:00', '2021-12-02T10:00', '2021-12-02T11:00', '2021-12-02T12:00', '2021-12-02T13:00', '2021-12-02T14:00', '2021-12-02T15:00', '2021-12-02T16:00', '2021-12-02T17:00', '2021-12-02T18:00', '2021-12-02T19:00', '2021-12-02T20:00', '2021-12-02T21:00', '2021-12-02T22:00', '2021-12-02T23:00', '2021-12-03T00:00', '2021-12-03T01:00', '2021-12-03T02:00', '2021-12-03T03:00', '2021-12-03T04:00', '2021-12-03T05:00', '2021-12-03T06:00', '2021-12-03T07:00', '2021-12-03T08:00', '2021-12-03T09:00', '2021-12-03T10:00', '2021-12-03T11:00', '2021-12-03T12:00', '2021-12-03T13:00', '2021-12-03T14:00', '2021-12-03T15:00', '2021-12-03T16:00', '2021-12-03T17:00', '2021-12-03T18:00', '2021-12-03T19:00', '2021-12-03T20:00', '2021-12-03T21:00', '2021-12-03T22:00', '2021-12-03T23:00', '2021-12-04T00:00', '2021-12-04T01:00', '2021-12-04T02:00', '2021-12-04T03:00', '2021-12-04T04:00', '2021-12-04T05:00', '2021-12-04T06:00', '2021-12-04T07:00', '2021-12-04T08:00', '2021-12-04T09:00', '2021-12-04T10:00', '2021-12-04T11:00', '2021-12-04T12:00', '2021-12-04T13:00', '2021-12-04T14:00', '2021-12-04T15:00', '2021-12-04T16:00', '2021-12-04T17:00', '2021-12-04T18:00', '2021-12-04T19:00', '2021-12-04T20:00', '2021-12-04T21:00', '2021-12-04T22:00', '2021-12-04T23:00', '2021-12-05T00:00', '2021-12-05T01:00', '2021-12-05T02:00', '2021-12-05T03:00', '2021-12-05T04:00', '2021-12-05T05:00', '2021-12-05T06:00', '2021-12-05T07:00', '2021-12-05T08:00', '2021-12-05T09:00', '2021-12-05T10:00', '2021-12-05T11:00', '2021-12-05T12:00', '2021-12-05T13:00', '2021-12-05T14:00', '2021-12-05T15:00', '2021-12-05T16:00', '2021-12-05T17:00', '2021-12-05T18:00', '2021-12-05T19:00', '2021-12-05T20:00', '2021-12-05T21:00', '2021-12-05T22:00', '2021-12-05T23:00', '2021-12-06T00:00', '2021-12-06T01:00', '2021-12-06T02:00', '2021-12-06T03:00', '2021-12-06T04:00', '2021-12-06T05:00', '2021-12-06T06:00', '2021-12-06T07:00', '2021-12-06T08:00', '2021-12-06T09:00', '2021-12-06T10:00', '2021-12-06T11:00', '2021-12-06T12:00', '2021-12-06T13:00', '2021-12-06T14:00', '2021-12-06T15:00', '2021-12-06T16:00', '2021-12-06T17:00', '2021-12-06T18:00', '2021-12-06T19:00', '2021-12-06T20:00', '2021-12-06T21:00', '2021-12-06T22:00', '2021-12-06T23:00', '2021-12-07T00:00', '2021-12-07T01:00', '2021-12-07T02:00', '2021-12-07T03:00', '2021-12-07T04:00', '2021-12-07T05:00', '2021-12-07T06:00', '2021-12-07T07:00', '2021-12-07T08:00', '2021-12-07T09:00', '2021-12-07T10:00', '2021-12-07T11:00', '2021-12-07T12:00', '2021-12-07T13:00', '2021-12-07T14:00', '2021-12-07T15:00', '2021-12-07T16:00', '2021-12-07T17:00', '2021-12-07T18:00', '2021-12-07T19:00', '2021-12-07T20:00', '2021-12-07T21:00', '2021-12-07T22:00', '2021-12-07T23:00', '2021-12-08T00:00', '2021-12-08T01:00', '2021-12-08T02:00', '2021-12-08T03:00', '2021-12-08T04:00', '2021-12-08T05:00', '2021-12-08T06:00', '2021-12-08T07:00', '2021-12-08T08:00', '2021-12-08T09:00', '2021-12-08T10:00', '2021-12-08T11:00', '2021-12-08T12:00', '2021-12-08T13:00', '2021-12-08T14:00', '2021-12-08T15:00', '2021-12-08T16:00', '2021-12-08T17:00', '2021-12-08T18:00', '2021-12-08T19:00', '2021-12-08T20:00', '2021-12-08T21:00', '2021-12-08T22:00', '2021-12-08T23:00', '2021-12-09T00:00', '2021-12-09T01:00', '2021-12-09T02:00', '2021-12-09T03:00', '2021-12-09T04:00', '2021-12-09T05:00', '2021-12-09T06:00', '2021-12-09T07:00', '2021-12-09T08:00', '2021-12-09T09:00', '2021-12-09T10:00', '2021-12-09T11:00', '2021-12-09T12:00', '2021-12-09T13:00', '2021-12-09T14:00', '2021-12-09T15:00', '2021-12-09T16:00', '2021-12-09T17:00', '2021-12-09T18:00', '2021-12-09T19:00', '2021-12-09T20:00', '2021-12-09T21:00', '2021-12-09T22:00', '2021-12-09T23:00', '2021-12-10T00:00', '2021-12-10T01:00', '2021-12-10T02:00', '2021-12-10T03:00', '2021-12-10T04:00', '2021-12-10T05:00', '2021-12-10T06:00', '2021-12-10T07:00', '2021-12-10T08:00', '2021-12-10T09:00', '2021-12-10T10:00', '2021-12-10T11:00', '2021-12-10T12:00', '2021-12-10T13:00', '2021-12-10T14:00', '2021-12-10T15:00', '2021-12-10T16:00', '2021-12-10T17:00', '2021-12-10T18:00', '2021-12-10T19:00', '2021-12-10T20:00', '2021-12-10T21:00', '2021-12-10T22:00', '2021-12-10T23:00', '2021-12-11T00:00', '2021-12-11T01:00', '2021-12-11T02:00', '2021-12-11T03:00', '2021-12-11T04:00', '2021-12-11T05:00', '2021-12-11T06:00', '2021-12-11T07:00', '2021-12-11T08:00', '2021-12-11T09:00', '2021-12-11T10:00', '2021-12-11T11:00', '2021-12-11T12:00', '2021-12-11T13:00', '2021-12-11T14:00', '2021-12-11T15:00', '2021-12-11T16:00', '2021-12-11T17:00', '2021-12-11T18:00', '2021-12-11T19:00', '2021-12-11T20:00', '2021-12-11T21:00', '2021-12-11T22:00', '2021-12-11T23:00', '2021-12-12T00:00', '2021-12-12T01:00', '2021-12-12T02:00', '2021-12-12T03:00', '2021-12-12T04:00', '2021-12-12T05:00', '2021-12-12T06:00', '2021-12-12T07:00', '2021-12-12T08:00', '2021-12-12T09:00', '2021-12-12T10:00', '2021-12-12T11:00', '2021-12-12T12:00', '2021-12-12T13:00', '2021-12-12T14:00', '2021-12-12T15:00', '2021-12-12T16:00', '2021-12-12T17:00', '2021-12-12T18:00', '2021-12-12T19:00', '2021-12-12T20:00', '2021-12-12T21:00', '2021-12-12T22:00', '2021-12-12T23:00', '2021-12-13T00:00', '2021-12-13T01:00', '2021-12-13T02:00', '2021-12-13T03:00', '2021-12-13T04:00', '2021-12-13T05:00', '2021-12-13T06:00', '2021-12-13T07:00', '2021-12-13T08:00', '2021-12-13T09:00', '2021-12-13T10:00', '2021-12-13T11:00', '2021-12-13T12:00', '2021-12-13T13:00', '2021-12-13T14:00', '2021-12-13T15:00', '2021-12-13T16:00', '2021-12-13T17:00', '2021-12-13T18:00', '2021-12-13T19:00', '2021-12-13T20:00', '2021-12-13T21:00', '2021-12-13T22:00', '2021-12-13T23:00', '2021-12-14T00:00', '2021-12-14T01:00', '2021-12-14T02:00', '2021-12-14T03:00', '2021-12-14T04:00', '2021-12-14T05:00', '2021-12-14T06:00', '2021-12-14T07:00', '2021-12-14T08:00', '2021-12-14T09:00', '2021-12-14T10:00', '2021-12-14T11:00', '2021-12-14T12:00', '2021-12-14T13:00', '2021-12-14T14:00', '2021-12-14T15:00', '2021-12-14T16:00', '2021-12-14T17:00', '2021-12-14T18:00', '2021-12-14T19:00', '2021-12-14T20:00', '2021-12-14T21:00', '2021-12-14T22:00', '2021-12-14T23:00', '2021-12-15T00:00', '2021-12-15T01:00', '2021-12-15T02:00', '2021-12-15T03:00', '2021-12-15T04:00', '2021-12-15T05:00', '2021-12-15T06:00', '2021-12-15T07:00', '2021-12-15T08:00', '2021-12-15T09:00', '2021-12-15T10:00', '2021-12-15T11:00', '2021-12-15T12:00', '2021-12-15T13:00', '2021-12-15T14:00', '2021-12-15T15:00', '2021-12-15T16:00', '2021-12-15T17:00', '2021-12-15T18:00', '2021-12-15T19:00', '2021-12-15T20:00', '2021-12-15T21:00', '2021-12-15T22:00', '2021-12-15T23:00', '2021-12-16T00:00', '2021-12-16T01:00', '2021-12-16T02:00', '2021-12-16T03:00', '2021-12-16T04:00', '2021-12-16T05:00', '2021-12-16T06:00', '2021-12-16T07:00', '2021-12-16T08:00', '2021-12-16T09:00', '2021-12-16T10:00', '2021-12-16T11:00', '2021-12-16T12:00', '2021-12-16T13:00', '2021-12-16T14:00', '2021-12-16T15:00', '2021-12-16T16:00', '2021-12-16T17:00', '2021-12-16T18:00', '2021-12-16T19:00', '2021-12-16T20:00', '2021-12-16T21:00', '2021-12-16T22:00', '2021-12-16T23:00', '2021-12-17T00:00', '2021-12-17T01:00', '2021-12-17T02:00', '2021-12-17T03:00', '2021-12-17T04:00', '2021-12-17T05:00', '2021-12-17T06:00', '2021-12-17T07:00', '2021-12-17T08:00', '2021-12-17T09:00', '2021-12-17T10:00', '2021-12-17T11:00', '2021-12-17T12:00', '2021-12-17T13:00', '2021-12-17T14:00', '2021-12-17T15:00', '2021-12-17T16:00', '2021-12-17T17:00', '2021-12-17T18:00', '2021-12-17T19:00', '2021-12-17T20:00', '2021-12-17T21:00', '2021-12-17T22:00', '2021-12-17T23:00', '2021-12-18T00:00', '2021-12-18T01:00', '2021-12-18T02:00', '2021-12-18T03:00', '2021-12-18T04:00', '2021-12-18T05:00', '2021-12-18T06:00', '2021-12-18T07:00', '2021-12-18T08:00', '2021-12-18T09:00', '2021-12-18T10:00', '2021-12-18T11:00', '2021-12-18T12:00', '2021-12-18T13:00', '2021-12-18T14:00', '2021-12-18T15:00', '2021-12-18T16:00', '2021-12-18T17:00', '2021-12-18T18:00', '2021-12-18T19:00', '2021-12-18T20:00', '2021-12-18T21:00', '2021-12-18T22:00', '2021-12-18T23:00', '2021-12-19T00:00', '2021-12-19T01:00', '2021-12-19T02:00', '2021-12-19T03:00', '2021-12-19T04:00', '2021-12-19T05:00', '2021-12-19T06:00', '2021-12-19T07:00', '2021-12-19T08:00', '2021-12-19T09:00', '2021-12-19T10:00', '2021-12-19T11:00', '2021-12-19T12:00', '2021-12-19T13:00', '2021-12-19T14:00', '2021-12-19T15:00', '2021-12-19T16:00', '2021-12-19T17:00', '2021-12-19T18:00', '2021-12-19T19:00', '2021-12-19T20:00', '2021-12-19T21:00', '2021-12-19T22:00', '2021-12-19T23:00', '2021-12-20T00:00', '2021-12-20T01:00', '2021-12-20T02:00', '2021-12-20T03:00', '2021-12-20T04:00', '2021-12-20T05:00', '2021-12-20T06:00', '2021-12-20T07:00', '2021-12-20T08:00', '2021-12-20T09:00', '2021-12-20T10:00', '2021-12-20T11:00', '2021-12-20T12:00', '2021-12-20T13:00', '2021-12-20T14:00', '2021-12-20T15:00', '2021-12-20T16:00', '2021-12-20T17:00', '2021-12-20T18:00', '2021-12-20T19:00', '2021-12-20T20:00', '2021-12-20T21:00', '2021-12-20T22:00', '2021-12-20T23:00', '2021-12-21T00:00', '2021-12-21T01:00', '2021-12-21T02:00', '2021-12-21T03:00', '2021-12-21T04:00', '2021-12-21T05:00', '2021-12-21T06:00', '2021-12-21T07:00', '2021-12-21T08:00', '2021-12-21T09:00', '2021-12-21T10:00', '2021-12-21T11:00', '2021-12-21T12:00', '2021-12-21T13:00', '2021-12-21T14:00', '2021-12-21T15:00', '2021-12-21T16:00', '2021-12-21T17:00', '2021-12-21T18:00', '2021-12-21T19:00', '2021-12-21T20:00', '2021-12-21T21:00', '2021-12-21T22:00', '2021-12-21T23:00', '2021-12-22T00:00', '2021-12-22T01:00', '2021-12-22T02:00', '2021-12-22T03:00', '2021-12-22T04:00', '2021-12-22T05:00', '2021-12-22T06:00', '2021-12-22T07:00', '2021-12-22T08:00', '2021-12-22T09:00', '2021-12-22T10:00', '2021-12-22T11:00', '2021-12-22T12:00', '2021-12-22T13:00', '2021-12-22T14:00', '2021-12-22T15:00', '2021-12-22T16:00', '2021-12-22T17:00', '2021-12-22T18:00', '2021-12-22T19:00', '2021-12-22T20:00', '2021-12-22T21:00', '2021-12-22T22:00', '2021-12-22T23:00', '2021-12-23T00:00', '2021-12-23T01:00', '2021-12-23T02:00', '2021-12-23T03:00', '2021-12-23T04:00', '2021-12-23T05:00', '2021-12-23T06:00', '2021-12-23T07:00', '2021-12-23T08:00', '2021-12-23T09:00', '2021-12-23T10:00', '2021-12-23T11:00', '2021-12-23T12:00', '2021-12-23T13:00', '2021-12-23T14:00', '2021-12-23T15:00', '2021-12-23T16:00', '2021-12-23T17:00', '2021-12-23T18:00', '2021-12-23T19:00', '2021-12-23T20:00', '2021-12-23T21:00', '2021-12-23T22:00', '2021-12-23T23:00', '2021-12-24T00:00', '2021-12-24T01:00', '2021-12-24T02:00', '2021-12-24T03:00', '2021-12-24T04:00', '2021-12-24T05:00', '2021-12-24T06:00', '2021-12-24T07:00', '2021-12-24T08:00', '2021-12-24T09:00', '2021-12-24T10:00', '2021-12-24T11:00', '2021-12-24T12:00', '2021-12-24T13:00', '2021-12-24T14:00', '2021-12-24T15:00', '2021-12-24T16:00', '2021-12-24T17:00', '2021-12-24T18:00', '2021-12-24T19:00', '2021-12-24T20:00', '2021-12-24T21:00', '2021-12-24T22:00', '2021-12-24T23:00', '2021-12-25T00:00', '2021-12-25T01:00', '2021-12-25T02:00', '2021-12-25T03:00', '2021-12-25T04:00', '2021-12-25T05:00', '2021-12-25T06:00', '2021-12-25T07:00', '2021-12-25T08:00', '2021-12-25T09:00', '2021-12-25T10:00', '2021-12-25T11:00', '2021-12-25T12:00', '2021-12-25T13:00', '2021-12-25T14:00', '2021-12-25T15:00', '2021-12-25T16:00', '2021-12-25T17:00', '2021-12-25T18:00', '2021-12-25T19:00', '2021-12-25T20:00', '2021-12-25T21:00', '2021-12-25T22:00', '2021-12-25T23:00', '2021-12-26T00:00', '2021-12-26T01:00', '2021-12-26T02:00', '2021-12-26T03:00', '2021-12-26T04:00', '2021-12-26T05:00', '2021-12-26T06:00', '2021-12-26T07:00', '2021-12-26T08:00', '2021-12-26T09:00', '2021-12-26T10:00', '2021-12-26T11:00', '2021-12-26T12:00', '2021-12-26T13:00', '2021-12-26T14:00', '2021-12-26T15:00', '2021-12-26T16:00', '2021-12-26T17:00', '2021-12-26T18:00', '2021-12-26T19:00', '2021-12-26T20:00', '2021-12-26T21:00', '2021-12-26T22:00', '2021-12-26T23:00', '2021-12-27T00:00', '2021-12-27T01:00', '2021-12-27T02:00', '2021-12-27T03:00', '2021-12-27T04:00', '2021-12-27T05:00', '2021-12-27T06:00', '2021-12-27T07:00', '2021-12-27T08:00', '2021-12-27T09:00', '2021-12-27T10:00', '2021-12-27T11:00', '2021-12-27T12:00', '2021-12-27T13:00', '2021-12-27T14:00', '2021-12-27T15:00', '2021-12-27T16:00', '2021-12-27T17:00', '2021-12-27T18:00', '2021-12-27T19:00', '2021-12-27T20:00', '2021-12-27T21:00', '2021-12-27T22:00', '2021-12-27T23:00', '2021-12-28T00:00', '2021-12-28T01:00', '2021-12-28T02:00', '2021-12-28T03:00', '2021-12-28T04:00', '2021-12-28T05:00', '2021-12-28T06:00', '2021-12-28T07:00', '2021-12-28T08:00', '2021-12-28T09:00', '2021-12-28T10:00', '2021-12-28T11:00', '2021-12-28T12:00', '2021-12-28T13:00', '2021-12-28T14:00', '2021-12-28T15:00', '2021-12-28T16:00', '2021-12-28T17:00', '2021-12-28T18:00', '2021-12-28T19:00', '2021-12-28T20:00', '2021-12-28T21:00', '2021-12-28T22:00', '2021-12-28T23:00', '2021-12-29T00:00', '2021-12-29T01:00', '2021-12-29T02:00', '2021-12-29T03:00', '2021-12-29T04:00', '2021-12-29T05:00', '2021-12-29T06:00', '2021-12-29T07:00', '2021-12-29T08:00', '2021-12-29T09:00', '2021-12-29T10:00', '2021-12-29T11:00', '2021-12-29T12:00', '2021-12-29T13:00', '2021-12-29T14:00', '2021-12-29T15:00', '2021-12-29T16:00', '2021-12-29T17:00', '2021-12-29T18:00', '2021-12-29T19:00', '2021-12-29T20:00', '2021-12-29T21:00', '2021-12-29T22:00', '2021-12-29T23:00', '2021-12-30T00:00', '2021-12-30T01:00', '2021-12-30T02:00', '2021-12-30T03:00', '2021-12-30T04:00', '2021-12-30T05:00', '2021-12-30T06:00', '2021-12-30T07:00', '2021-12-30T08:00', '2021-12-30T09:00', '2021-12-30T10:00', '2021-12-30T11:00', '2021-12-30T12:00', '2021-12-30T13:00', '2021-12-30T14:00', '2021-12-30T15:00', '2021-12-30T16:00', '2021-12-30T17:00', '2021-12-30T18:00', '2021-12-30T19:00', '2021-12-30T20:00', '2021-12-30T21:00', '2021-12-30T22:00', '2021-12-30T23:00', '2021-12-31T00:00', '2021-12-31T01:00', '2021-12-31T02:00', '2021-12-31T03:00', '2021-12-31T04:00', '2021-12-31T05:00', '2021-12-31T06:00', '2021-12-31T07:00', '2021-12-31T08:00', '2021-12-31T09:00', '2021-12-31T10:00', '2021-12-31T11:00', '2021-12-31T12:00', '2021-12-31T13:00', '2021-12-31T14:00', '2021-12-31T15:00', '2021-12-31T16:00', '2021-12-31T17:00', '2021-12-31T18:00', '2021-12-31T19:00', '2021-12-31T20:00', '2021-12-31T21:00', '2021-12-31T22:00', '2021-12-31T23:00'], 'temperature_2m': [0.6, 0.6, 0.2, 0.7, 0.8, 0.2, -0.7, -0.1, 0.3, 0.8, 1.5, 1.3, 1.3, 1.8, 2.2, 1.8, 1.8, 1.8, 1.7, 1.6, 1.4, 0.9, 0.8, 1.1, 0.6, 0.1, -0.3, -0.5, -0.5, -0.3, -0.1, 0.2, 0.6, 1.0, 1.8, 2.5, 2.4, 2.7, 2.3, -0.2, -0.6, -1.0, -0.0, 0.5, 0.4, -0.0, -0.6, -1.0, -0.6, -0.5, -0.3, -0.0, -0.1, 0.0, 0.2, 0.0, -0.1, -0.2, 0.0, 0.2, 0.2, 0.5, 0.6, 0.6, 0.8, 0.8, 0.8, 0.8, 0.8, 0.7, 0.7, 0.7, 0.6, 0.8, 0.6, 0.5, 0.4, 0.5, 0.5, 0.5, 0.6, 0.8, 1.0, 1.1, 1.2, 1.3, 0.9, 0.6, 0.1, -0.3, -0.2, -0.0, 0.2, 0.3, 0.4, 0.4, 0.2, 0.5, 0.6, 0.6, 0.7, 0.7, 0.7, 0.7, 0.8, 1.1, 1.5, 1.6, 1.3, 1.3, 1.6, 1.9, 2.0, 2.0, 2.2, 2.3, 2.4, 2.6, 2.8, 2.9, 2.8, 2.8, 2.5, 2.3, 1.8, 1.3, 1.1, 1.0, 1.1, 1.3, 1.5, 1.5, 1.6, 1.7, 1.5, 1.3, 1.1, 0.9, 0.7, 0.8, 0.7, 0.7, 0.7, 0.8, 0.7, 0.7, 0.7, 0.7, 0.6, 0.5, 0.5, 0.5, 0.7, 0.9, 1.3, 1.7, 1.2, 1.3, 1.3, 1.3, 1.1, 1.0, 1.0, 1.0, 0.9, 0.8, 0.8, 0.8, 0.8, 0.9, 0.9, 0.8, 0.5, 0.4, 0.1, -0.3, -0.1, 0.3, 0.9, 1.4, 1.4, 1.5, 1.5, 1.3, 1.2, 1.2, 0.6, -0.1, -1.2, -1.4, -0.7, -0.2, 0.1, 0.3, 0.4, 0.4, 0.4, 0.3, 0.2, 0.0, 0.2, 0.6, 1.3, 1.6, 1.4, 2.4, 2.3, 1.4, 1.1, 1.3, 1.0, 1.0, 1.1, 1.1, 1.2, 1.1, 0.9, 0.8, 0.6, 0.7, 0.7, 0.7, 0.7, 0.5, 0.4, 0.7, 1.1, 1.5, 0.7, 0.9, 0.9, 0.8, 0.8, 0.8, 0.5, -0.0, -0.2, -0.5, -0.6, -0.3, -0.1, -0.0, 0.0, 0.0, 0.1, 0.3, 0.4, 0.5, 0.7, 1.2, 1.9, 2.1, 1.6, 1.2, 0.8, 0.7, 0.5, 0.4, 0.7, 1.0, 1.1, 0.9, 1.1, 1.1, 1.3, 1.7, 1.5, 1.4, 1.5, 1.5, 1.4, 1.3, 1.5, 1.6, 1.8, 2.2, 1.6, 1.9, 1.8, 0.9, 0.5, 0.7, 0.2, 0.1, 1.2, 1.0, 0.2, -0.0, -0.1, -0.2, 0.1, 0.2, 0.6, 0.8, 0.5, 0.3, 0.6, 1.5, 2.1, 2.6, 2.5, 3.0, 2.9, 2.6, 2.2, 1.3, 1.5, 0.7, 0.4, 0.3, 0.0, -0.3, -0.1, 0.3, 0.5, -0.2, -0.3, -0.1, 1.0, 0.6, -0.4, 0.9, 2.3, 2.6, 2.5, 2.7, 2.4, 1.8, 1.7, 1.5, 1.3, 0.8, 0.4, 0.5, 0.3, 0.3, 0.4, -0.2, -0.7, -0.8, -0.8, -0.5, -0.4, -0.9, -0.9, -0.5, -0.3, -0.3, -0.3, -0.4, -0.2, -0.7, -1.2, -1.6, -2.2, -3.0, -3.2, -3.1, -3.3, -3.6, -3.0, -2.8, -2.5, -2.5, -2.5, -2.6, -2.5, -2.2, -1.8, -1.5, -1.3, -1.0, -1.5, -1.0, -1.1, -1.2, -1.5, -1.7, -1.7, -1.6, -1.7, -2.2, -2.6, -2.8, -2.1, -2.0, -2.2, -2.9, -2.8, -2.6, -2.5, -2.5, -2.3, -1.7, -1.1, -0.8, -0.7, -0.5, -0.6, -1.0, -1.5, -1.8, -2.6, -3.1, -4.3, -4.7, -4.7, -4.5, -3.6, -3.8, -3.9, -3.7, -3.4, -3.2, -3.1, -3.0, -2.7, -2.0, -1.4, -0.5, -0.8, -0.0, 0.7, 1.5, 1.3, 0.6, 0.5, 0.9, 0.9, 1.4, 2.0, 2.1, 2.3, 2.4, 2.3, 2.3, 2.4, 2.4, 2.2, 2.1, 2.2, 2.4, 2.6, 2.0, 1.5, 1.3, 1.6, 2.0, 2.2, 2.2, 2.4, 3.0, 4.0, 4.8, 4.8, 6.7, 5.9, 5.5, 4.5, 3.8, 3.3, 3.1, 2.5, 2.5, 3.2, 4.1, 5.2, 6.6, 7.3, 7.5, 7.8, 7.5, 7.7, 7.5, 6.2, 5.5, 6.1, 5.4, 6.7, 6.0, 5.3, 4.8, 4.6, 5.6, 6.7, 6.1, 5.5, 6.7, 7.4, 9.3, 11.0, 11.8, 12.4, 12.3, 11.6, 10.7, 10.0, 9.6, 9.0, 8.5, 7.4, 7.2, 7.5, 8.5, 7.4, 8.7, 9.4, 9.8, 9.7, 9.5, 9.4, 9.5, 10.0, 10.2, 8.3, 7.6, 6.7, 6.4, 6.4, 6.0, 5.7, 4.2, 2.4, 1.9, 1.2, 0.7, -0.1, -1.1, 2.1, 2.1, 1.5, 1.4, 1.7, 1.8, 1.7, 1.5, 1.4, 1.4, 1.5, 1.4, 1.4, 2.0, 2.4, 2.3, 2.0, 1.8, 1.7, 1.2, 0.6, -0.0, -0.5, -0.5, -0.2, -0.1, -0.1, -0.0, 0.0, 0.1, 0.2, 0.2, 0.5, 0.7, 0.9, 1.3, 1.4, 1.1, 1.2, 1.1, 0.9, 0.5, 0.3, 0.2, 0.2, 0.2, 0.3, 0.3, 0.4, 0.2, 0.2, 0.3, 0.4, -0.0, -0.1, -0.2, 0.2, 0.7, 1.2, 1.4, 2.4, 2.5, 2.2, 1.7, 1.2, 0.7, 0.3, 0.5, 0.4, 0.5, 0.3, -0.1, -0.8, -1.4, -1.7, -1.8, -1.8, -1.9, -2.0, -2.4, -1.3, -0.2, 0.8, 1.7, 2.2, 2.6, 2.3, 1.8, 1.1, 0.9, 1.0, 1.1, 0.6, -0.2, -0.3, -0.7, 0.6, 0.4, 0.1, 0.0, 0.1, -0.1, 0.1, -0.1, 0.5, 1.3, 2.3, 3.3, 3.4, 3.8, 3.7, 2.6, 0.8, 0.3, 1.1, 0.6, 0.3, 0.8, 1.2, 1.1, 1.0, 1.1, 1.6, 2.5, 3.0, 3.5, 3.4, 3.2, 2.8, 2.8, 3.0, 3.3, 3.5, 3.3, 2.9, 2.0, 0.8, -0.6, -0.8, -1.6, -2.9, -2.8, -3.0, -2.6, -3.5, -4.0, -4.2, -3.6, -4.2, -4.2, -5.0, -4.8, -3.6, -2.1, -1.4, -0.9, -0.8, -0.5, -0.4, -0.6, -0.9, -0.9, -0.9, -1.1, -1.3, -1.4, -1.5, -1.6, -1.5, -1.5, -1.5, -1.5, -1.2, -1.0, -1.1, -1.8, -1.3, -0.0, 0.7, 1.3, 0.9, 0.6, 0.4, 0.2, -1.0, -2.7, -3.1, -3.7, -3.4, -2.8, -3.1, -3.9, -4.5, -5.1, -6.1, -7.7, -9.7, -8.6, -8.3, -7.6, -6.8, -5.4, -3.0, -1.8, -1.3, -0.6, -0.8, -2.2, -5.8, -6.1, -6.2, -6.5, -6.4, -6.5, -6.8, -11.5, -7.8, -7.0, -7.1, -7.1, -7.1, -7.0, -6.9, -6.4, -5.7, -4.6, -3.1, -1.3, -0.7, 0.5, 0.7, 0.1, -1.1, -1.0, -1.2, -1.3, -1.4, -1.3, -1.3, -1.2, -1.4, -1.3, -0.5, -0.1, 0.1, 0.3, 0.4, 0.4, 0.4, 0.6, 1.0, 1.5, 0.9, 0.9, 1.1, 0.6, 0.0, 0.1, 0.2, 0.3, 0.5, 0.6, 0.6, 0.6, 0.9, 0.9, 0.8, 0.8, 0.8, 0.9, 1.0, 1.6, 2.7, 3.8, 5.4, 7.0, 5.3, 6.3, 7.3, 6.9, 6.2, 6.4, 6.0, 5.8, 5.8, 6.7, 8.0, 6.9, 2.2, 2.1, 1.6, 1.3, 1.1, 0.9, 0.6, 0.4, 0.5, 0.5, 0.8, 1.0, 0.7, 0.9, 0.8, 0.7, 0.5, 0.4, 0.3, 0.3, 0.2, 0.0, -0.0, -0.0, -0.0, 0.1, 0.0, 0.0, -0.1, -0.1, -0.2, -0.4, -0.4, -0.2, 0.4, 0.7, 0.6, 0.8, 0.8, 0.4, -0.2, -0.5, -0.6, -0.7, -0.7, -0.8, -1.0, -1.1, -0.8, -1.2, -1.6, -1.6, -1.7, -1.8, -2.0, -2.0, -2.0, -1.9, -1.5, -0.9, -0.9, -0.2, -0.5, -1.1, -1.9, -2.2, -2.4, -3.0, -3.5, -3.9, -4.2, -4.4, -4.9, -5.3, -5.5, -5.7, -6.2, -6.7, -7.1, -7.2, -7.1, -6.7, -6.2, -5.7, -5.8, -5.6, -5.9, -5.6, -5.7, -5.9, -6.2, -6.4, -6.7, -6.7, -6.9, -7.2, -7.2, -7.4, -8.1, -8.8, -9.1, -9.3, -9.4, -9.4, -9.4, -9.4, -9.2, -9.5, -8.7, -9.0, -9.0, -9.1, -9.3, -9.5, -9.5, -9.5, -9.4, -9.4, -10.1, -10.7, -10.1, -12.1, -11.4, -13.9, -13.4, -14.0, -14.0, -14.1, -12.3, -10.3, -9.2, -8.6, -7.4, -7.1, -7.0, -7.1, -7.7, -7.9, -8.3, -9.1, -9.9, -8.5, -8.9, -9.3, -9.5, -9.6, -10.7, -11.9, -14.4, -14.2, -13.9, -14.9, -14.1, -12.4, -10.6, -9.1, -7.2, -6.1, -5.7, -6.2, -6.9, -7.3, -7.6, -8.2, -11.4, -12.1, -11.0, -11.8, -9.4, -6.6, -5.7, -5.9, -6.1, -6.6, -6.9, -7.6, -7.1, -5.9, -4.6, -3.7, -3.2, -3.8, -4.0, -3.6, -5.1, -6.7, -6.6, -10.4, -9.7, -10.1, -10.4, -11.0, -13.0, -13.0, -14.1, -14.3, -13.7, -14.0, -14.5, -14.3, -13.0, -10.6, -7.8, -5.2, -3.4, -3.3, -4.2, -6.5, -8.0, -9.9, -7.6, -8.2, -9.5, -10.1, -11.0, -11.3, -11.4, -13.4, -13.7, -13.3, -13.3, -13.0, -12.5, -11.8, -9.6, -7.0, -4.1, -2.2, -1.4, -1.4, -1.2, -1.6, -4.3, -5.3, -7.0, -7.9, -7.3, -8.1, -8.9, -9.7, -9.9, -11.5, -11.7, -11.7, -11.8, -12.4, -12.6, -10.7, -8.6, -7.1, -6.0, -4.8, -5.1, -4.6, -4.2, -6.1, -6.9, -7.5, -7.4, -7.6, -9.8, -12.0, -13.6, -14.5, -13.2, -14.7, -13.6, -13.7, -13.3, -12.7, -12.3, -10.4, -8.7, -6.8, -4.6, -2.5, -1.2, -0.9, -0.9, -0.7, -1.0, -1.7, -2.2, -2.8, -2.9, -2.9, -2.8, -2.5, -2.1, -1.4, -0.8, -0.3, 0.4, 0.8, 1.1, 1.2, 1.5, 1.8, 1.9, 2.3, 2.2, 2.2, 2.2, 2.2, 2.2, 1.9, 1.4, 1.0, 1.0, 1.1, 1.4, 1.6, 1.2, 1.6, 1.3, 1.4, 2.6, 3.7, 4.0, 3.8, 4.1, 4.4, 5.0, 5.2, 6.2, 7.2, 6.2, 5.8, 5.1, 4.1, 3.6, 3.1, 2.3, 1.5, 0.8, 1.1, 2.6, 3.2, 3.3, 3.3, 3.0, 2.6, 2.2, 2.0, 2.8, 4.1, 5.6, 7.4, 9.1, 10.1, 10.2, 9.3, 7.8, 6.5, 6.2, 5.8, 5.5, 5.3, 5.3, 5.4, 5.0, 5.0, 4.4, 5.2, 5.8, 5.8, 5.5, 5.0, 5.5, 6.3, 7.2, 7.7, 8.6, 9.3, 8.9, 8.6, 5.3, 2.4, 1.0, 0.2, 0.9, -0.1, -1.1, -1.0, -0.4, 0.1, 0.4, 0.8, 0.7, 0.3, 0.1, 0.8, 2.9, 5.1, 7.3, 9.4, 11.0, 12.2, 12.3, 11.7, 8.7, 7.3, 6.8, 5.9, 5.2, 4.7, 4.1, 3.8, 4.2, 4.4, 4.4, 4.2, 3.9, 3.6, 3.4, 4.1, 6.3, 8.6, 10.7, 12.5, 13.7, 14.5, 14.7, 13.8, 11.3, 9.3, 7.8, 6.3, 5.0, 3.7, 2.8, 2.2, 2.4, 2.0, 1.7, 1.3, 0.9, 0.7, 0.5, 1.2, 3.1, 5.1, 7.2, 9.0, 10.1, 11.0, 11.3, 10.9, 7.5, 5.1, 4.4, 3.5, 2.7, 1.6, 1.2, 1.2, 2.9, 2.5, 2.5, 3.1, 3.5, 3.3, 2.2, 4.1, 6.7, 8.9, 11.3, 13.7, 15.0, 16.0, 16.5, 15.7, 13.2, 11.3, 10.9, 10.5, 9.8, 9.3, 8.9, 9.0, 9.3, 8.7, 8.3, 7.8, 7.1, 6.9, 7.2, 8.3, 10.5, 12.6, 14.6, 16.1, 17.3, 17.9, 17.7, 16.8, 14.5, 12.7, 12.1, 11.3, 10.3, 9.1, 8.2, 7.7, 7.5, 6.3, 6.4, 6.7, 6.3, 6.0, 6.2, 7.5, 9.7, 11.8, 14.0, 15.8, 17.1, 17.7, 17.8, 16.9, 14.4, 12.2, 11.4, 10.7, 10.1, 8.4, 8.6, 9.7, 6.0, 6.8, 7.6, 7.9, 8.1, 7.8, 7.4, 7.1, 7.3, 7.6, 7.6, 8.7, 9.1, 9.1, 9.0, 9.0, 8.4, 6.8, 6.2, 6.1, 5.6, 5.3, 5.1, 4.1, 4.5, 3.9, 4.2, 4.0, 3.8, 3.8, 3.9, 4.3, 4.9, 5.6, 6.3, 7.3, 7.1, 7.4, 7.4, 7.4, 6.9, 5.7, 4.6, 4.1, 3.1, 2.3, 1.9, 2.0, 2.5, 2.2, 2.5, 3.1, 2.9, 2.2, 1.7, 2.5, 3.6, 4.4, 5.2, 5.8, 4.4, 5.3, 5.8, 6.0, 6.0, 4.7, 4.3, 3.9, 3.9, 4.2, 3.8, 3.7, 3.5, 3.1, 3.1, 3.0, 2.9, 2.9, 3.0, 3.3, 3.9, 4.9, 5.4, 5.9, 6.2, 6.8, 7.3, 7.4, 5.9, 3.4, 2.2, 1.0, 0.6, 0.5, 0.5, -0.1, -1.1, -0.8, 0.3, 0.2, -1.4, -2.4, -2.8, -0.3, 1.6, 4.0, 6.5, 8.2, 8.7, 10.0, 10.7, 10.6, 10.0, 7.9, 7.4, 6.6, 5.9, 5.3, 1.4, 0.4, 0.4, -0.5, -0.4, -0.9, -2.0, -2.4, -2.6, 0.0, 2.3, 4.9, 7.6, 9.9, 11.5, 12.7, 13.4, 13.1, 10.6, 7.6, 7.0, 7.4, 7.7, 7.2, 6.5, 5.8, 5.3, 4.8, 4.2, 3.8, 3.4, 2.9, 2.6, 2.7, 2.7, 2.7, 2.9, 3.2, 2.9, 2.8, 3.2, 3.5, 3.7, 3.4, 3.3, 3.2, 3.4, 2.9, 2.4, 2.1, 1.9, 1.5, 0.8, -0.1, -1.4, -2.1, -2.7, -0.9, 1.1, 2.8, 3.7, 4.5, 5.1, 5.5, 5.3, 5.3, 4.2, 0.9, -0.2, -0.9, -1.4, -2.0, -3.1, -3.4, -2.8, -2.1, -1.8, -1.7, -1.9, -2.6, -2.9, -1.4, 0.4, 1.7, 3.0, 2.5, 2.1, 3.1, 3.6, 3.6, 3.0, 2.4, 2.1, 1.9, 2.2, 1.8, 1.5, 1.6, 2.1, 2.5, 2.6, 2.0, 1.1, 0.2, 0.4, 1.2, 2.2, 2.9, 3.4, 3.9, 3.9, 4.0, 4.1, 4.1, 4.0, 3.6, 3.4, 3.2, 2.9, 2.7, 2.6, 2.4, 2.2, 1.9, 1.4, 0.1, -2.5, -3.0, -3.0, -0.8, 0.8, 2.3, 3.5, 4.3, 4.8, 5.1, 5.2, 5.0, 3.9, 0.7, -1.5, -1.5, -2.3, -2.9, -3.6, -4.0, -3.5, -4.1, -4.5, -4.1, -3.2, -4.1, -3.4, -1.7, 0.5, 1.9, 3.1, 4.5, 5.4, 5.6, 5.6, 5.4, 3.4, -0.4, -1.0, -2.1, -2.5, -2.8, -3.3, -3.8, -3.4, -3.6, -3.8, -4.1, -4.3, -4.5, -4.1, -1.4, 1.4, 3.7, 5.4, 6.2, 7.0, 7.3, 7.1, 6.5, 4.0, 1.1, 1.0, 2.1, 1.8, 1.6, 1.1, 1.1, 1.6, 2.0, 2.5, 3.0, 3.5, 3.6, 3.6, 4.1, 4.9, 5.9, 6.2, 6.8, 7.7, 9.7, 9.8, 9.4, 10.2, 9.0, 8.3, 7.9, 7.5, 6.8, 6.1, 6.1, 5.8, 5.9, 5.6, 5.0, 4.7, 4.7, 4.5, 5.0, 6.0, 6.5, 7.3, 8.2, 8.4, 8.6, 9.4, 9.6, 8.8, 7.8, 6.3, 6.0, 6.1, 5.6, 5.3, 5.4, 5.2, 4.7, 4.3, 4.2, 4.1, 3.7, 3.7, 5.2, 6.0, 6.2, 6.4, 7.0, 8.4, 9.6, 7.4, 7.3, 7.2, 6.7, 6.6, 6.2, 5.7, 5.9, 5.7, 6.0, 5.3, 6.0, 5.9, 5.5, 5.0, 3.7, 3.8, 4.1, 4.3, 4.5, 5.5, 5.9, 7.0, 7.5, 8.3, 7.5, 7.1, 5.9, 4.5, 4.3, 3.3, 3.3, 3.2, 3.0, 3.2, 2.8, 2.5, 2.3, 2.3, 1.9, 1.9, 3.1, 3.8, 4.2, 4.7, 5.6, 7.1, 7.7, 7.1, 5.9, 5.0, 4.7, 4.4, 4.1, 4.0, 4.2, 3.9, 3.7, 3.8, 3.7, 3.6, 3.6, 3.3, 2.6, 2.1, 2.7, 3.3, 4.1, 5.3, 5.9, 6.2, 6.4, 6.6, 7.0, 6.5, 5.3, 3.0, 1.4, 0.3, -0.4, -0.8, -0.9, -0.9, -0.8, -1.0, -0.9, -0.6, 0.0, 1.0, 2.5, 3.6, 4.3, 4.8, 5.1, 5.3, 4.2, 4.7, 4.5, 4.7, 3.3, 2.4, 1.6, 0.8, -0.3, -1.3, -2.4, -2.3, -3.2, -3.2, -3.0, -1.6, -0.4, -0.0, 1.1, 2.8, 4.7, 5.7, 6.5, 6.6, 6.7, 5.7, 5.1, 2.8, 2.6, 1.9, 1.8, 1.4, 1.2, 0.2, -0.2, -1.0, -0.7, -0.8, -0.8, -1.1, -1.5, -1.4, -0.1, 1.2, 1.7, 2.8, 3.8, 4.1, 4.1, 3.0, 2.4, 1.5, 0.2, -0.9, -1.8, -2.4, -2.9, -3.3, -3.8, -3.9, -4.0, -3.4, -2.9, -2.1, -2.2, -2.2, -1.2, 0.5, 1.7, 2.8, 2.8, 2.2, 2.8, 3.2, 3.4, 3.1, 2.5, 2.5, 2.7, 2.7, 2.7, 2.8, 2.9, 2.8, 3.2, 3.5, 3.8, 4.0, 4.1, 4.3, 4.9, 5.3, 6.0, 6.4, 7.6, 6.8, 8.0, 9.2, 8.9, 8.0, 6.1, 4.2, 3.8, 2.9, 2.0, 1.4, 0.5, 0.8, 0.6, 1.0, 1.0, 0.3, -0.4, 0.4, 2.5, 4.5, 6.2, 7.3, 8.3, 9.2, 9.5, 9.5, 9.2, 8.4, 6.2, 3.3, 3.2, 2.8, 2.5, 3.6, 4.5, 5.1, 5.0, 4.9, 4.3, 4.1, 4.3, 4.5, 5.1, 5.3, 6.0, 6.7, 7.6, 7.2, 7.2, 7.0, 7.1, 7.0, 6.5, 6.0, 5.7, 5.1, 4.5, 3.9, 3.7, 3.9, 3.6, 3.4, 2.9, 2.6, 2.0, 3.4, 5.0, 6.6, 7.7, 8.8, 9.2, 9.9, 10.3, 10.9, 11.3, 11.2, 10.7, 9.5, 4.9, 3.3, 3.2, 2.8, 2.3, 2.4, 2.1, 1.3, 1.4, 0.9, 0.6, 3.1, 5.8, 8.1, 10.1, 11.9, 13.2, 14.3, 14.4, 14.4, 14.2, 12.9, 10.7, 10.4, 9.2, 8.5, 7.7, 5.9, 5.3, 5.6, 5.0, 6.3, 6.0, 3.4, 3.8, 5.0, 7.2, 9.7, 11.6, 12.7, 13.6, 14.9, 15.1, 14.0, 14.5, 13.9, 11.6, 8.4, 7.6, 7.3, 6.9, 6.5, 6.4, 6.5, 6.2, 5.8, 5.9, 7.4, 6.9, 7.8, 9.9, 10.4, 7.8, 7.2, 8.0, 9.3, 8.3, 7.5, 7.5, 7.3, 6.4, 4.9, 4.1, 3.7, 3.7, 3.2, 3.1, 2.9, 2.5, 2.6, 2.0, 1.6, 1.3, 2.8, 4.4, 5.8, 7.0, 9.2, 10.7, 11.2, 10.4, 10.5, 10.6, 10.9, 10.2, 9.9, 9.3, 8.8, 9.0, 9.2, 9.0, 9.8, 9.7, 8.4, 8.6, 7.8, 8.1, 8.7, 9.3, 10.3, 11.2, 11.6, 11.7, 14.9, 16.3, 17.7, 16.6, 16.6, 15.3, 13.9, 12.8, 11.8, 11.2, 10.7, 10.1, 10.6, 8.5, 8.2, 7.9, 6.9, 6.5, 8.6, 10.8, 12.9, 14.7, 16.2, 17.4, 19.1, 19.7, 20.0, 19.9, 19.0, 15.3, 12.2, 11.5, 10.9, 9.7, 8.8, 9.8, 10.5, 9.4, 8.6, 8.2, 4.9, 4.4, 7.4, 10.8, 14.0, 16.6, 18.6, 19.9, 21.3, 21.7, 21.7, 21.4, 20.0, 15.7, 12.7, 11.3, 10.2, 9.9, 9.8, 9.3, 8.5, 8.5, 7.9, 7.3, 7.4, 7.4, 9.7, 11.0, 12.5, 13.4, 12.5, 13.1, 16.5, 17.0, 16.3, 14.1, 12.0, 10.2, 9.3, 8.7, 6.8, 6.0, 5.0, 4.4, 4.9, 4.4, 3.0, 2.3, 2.5, 2.7, 3.5, 4.4, 5.2, 6.4, 7.7, 9.2, 10.1, 10.4, 11.7, 9.1, 8.7, 7.3, 6.9, 6.1, 5.8, 5.4, 4.9, 4.6, 4.6, 4.1, 3.4, 2.9, 2.5, 2.3, 3.8, 5.4, 6.5, 7.4, 7.8, 7.7, 9.0, 8.3, 8.0, 7.6, 7.2, 6.3, 5.3, 3.6, 1.5, -0.0, -0.3, 1.2, 1.3, -1.0, -1.5, -2.2, -2.2, -1.6, 1.1, 3.5, 5.6, 7.0, 8.1, 9.1, 9.5, 9.7, 9.3, 8.6, 7.8, 7.0, 6.4, 6.1, 6.0, 5.9, 5.8, 5.4, 4.0, 3.8, 3.7, 3.8, 4.2, 4.7, 5.6, 6.3, 5.9, 5.2, 4.6, 4.2, 3.5, 3.0, 4.0, 4.5, 4.3, 3.2, 2.4, 1.9, 1.5, 1.2, 0.9, 0.6, 0.2, 0.0, -0.3, -0.7, -1.0, -1.5, -0.6, 1.1, 2.7, 4.0, 5.1, 6.0, 5.5, 5.6, 5.0, 4.9, 4.8, 3.5, 2.7, 2.2, 1.5, 0.7, 0.3, 0.2, 0.1, 0.5, 0.7, 0.0, 0.1, -0.0, 0.8, 2.0, 3.1, 4.1, 5.3, 6.4, 4.8, 5.1, 5.5, 5.0, 5.2, 4.0, 3.1, 3.2, 3.1, 2.4, 2.0, 1.7, 1.5, 1.1, 0.9, 0.9, 1.5, 1.6, 2.0, 2.7, 4.0, 5.6, 6.5, 7.3, 6.9, 6.8, 7.1, 6.7, 5.9, 5.6, 4.9, 4.7, 4.3, 4.0, 3.1, 2.2, 2.3, 2.2, 2.0, 1.5, 1.3, 1.5, 3.0, 4.7, 6.1, 8.2, 9.8, 11.0, 11.7, 12.3, 12.1, 11.9, 11.8, 10.5, 8.1, 7.9, 6.2, 5.3, 5.2, 4.1, 3.9, 4.2, 3.7, 4.4, 4.9, 4.9, 5.0, 5.2, 5.4, 5.8, 6.4, 7.5, 9.0, 9.2, 9.2, 9.6, 9.2, 8.7, 7.7, 7.2, 6.9, 7.0, 6.8, 6.7, 6.8, 6.7, 6.8, 6.8, 6.7, 6.7, 7.2, 8.4, 10.2, 12.8, 15.1, 17.3, 17.9, 18.7, 18.9, 18.5, 18.2, 15.7, 12.7, 11.4, 8.6, 7.1, 6.0, 5.1, 4.5, 4.2, 3.8, 3.6, 3.6, 3.5, 3.4, 3.6, 3.9, 4.8, 5.8, 7.0, 6.6, 7.2, 7.4, 7.8, 8.0, 7.2, 5.4, 5.0, 2.8, 1.4, 1.4, 1.2, 1.6, 1.0, 0.3, -0.3, -0.6, 0.2, 1.8, 3.5, 5.0, 6.7, 7.3, 8.2, 7.8, 8.3, 8.5, 8.6, 8.4, 7.1, 5.4, 3.9, 3.6, 3.1, 2.5, 1.9, 2.1, 1.5, 0.8, 0.4, -0.2, 0.2, 1.8, 3.7, 5.1, 6.2, 6.7, 7.6, 7.4, 7.9, 7.8, 7.7, 7.5, 6.6, 4.6, 2.9, 2.4, 1.5, 1.0, 0.3, 1.2, 1.1, 1.1, 0.8, 1.1, 1.5, 2.7, 3.8, 5.0, 5.7, 6.3, 6.4, 6.7, 7.0, 7.1, 6.8, 6.4, 5.2, 3.0, 2.1, 2.0, 2.3, 3.1, 3.4, 3.1, 3.2, 3.1, 3.1, 2.9, 3.1, 3.7, 4.1, 5.7, 7.2, 8.2, 8.9, 9.4, 9.7, 10.3, 9.6, 8.9, 8.0, 6.8, 6.4, 6.1, 5.8, 5.3, 5.1, 4.6, 4.8, 4.3, 4.3, 4.0, 4.4, 4.8, 5.4, 6.7, 9.3, 10.9, 11.5, 10.6, 12.5, 13.5, 13.2, 12.6, 11.6, 9.8, 8.5, 7.3, 6.2, 5.5, 5.0, 6.1, 6.2, 6.2, 6.3, 6.1, 6.2, 6.6, 6.8, 7.5, 8.4, 8.7, 9.6, 11.4, 12.0, 11.9, 10.9, 11.2, 10.3, 8.8, 7.5, 6.3, 6.2, 6.0, 5.3, 4.6, 4.7, 4.6, 4.7, 5.2, 6.2, 7.6, 9.0, 10.5, 12.5, 13.8, 15.0, 13.5, 15.0, 16.1, 16.6, 16.1, 14.5, 12.0, 10.3, 8.3, 7.1, 5.8, 4.7, 4.8, 3.9, 3.4, 3.4, 3.0, 4.0, 5.9, 8.1, 10.0, 11.6, 13.2, 14.4, 15.4, 16.2, 16.7, 16.8, 16.4, 14.4, 11.1, 9.4, 8.7, 7.3, 5.6, 4.0, 3.8, 3.7, 3.6, 3.2, 2.6, 4.1, 6.3, 8.8, 11.1, 13.1, 14.6, 15.6, 15.9, 14.8, 15.7, 14.7, 13.9, 12.4, 11.2, 10.0, 8.3, 7.0, 6.0, 4.5, 4.5, 3.8, 3.3, 3.4, 3.8, 4.2, 5.0, 6.4, 8.0, 9.3, 10.1, 10.4, 10.4, 10.3, 10.4, 10.2, 9.8, 7.7, 6.7, 6.0, 5.9, 5.4, 5.0, 4.9, 4.9, 4.6, 4.8, 4.7, 3.9, 4.3, 5.3, 6.6, 7.4, 8.7, 9.8, 9.7, 10.9, 11.5, 12.3, 12.0, 11.6, 10.5, 8.3, 5.3, 5.1, 4.8, 4.3, 4.9, 6.2, 6.3, 5.4, 4.9, 4.4, 4.6, 5.2, 6.1, 7.0, 8.0, 8.6, 8.7, 9.1, 10.0, 10.2, 10.2, 9.9, 9.6, 8.6, 7.9, 6.8, 6.1, 3.9, 3.2, 3.6, 3.2, 3.1, 2.8, 3.3, 4.0, 4.3, 4.7, 4.9, 4.7, 4.9, 6.2, 7.8, 9.7, 9.6, 9.0, 8.9, 8.4, 7.0, 5.8, 4.0, 1.4, 1.2, -0.3, 0.0, -0.8, -1.4, -2.0, -2.1, 0.1, 2.7, 5.0, 6.5, 7.6, 8.3, 8.4, 8.5, 9.0, 9.1, 9.0, 8.7, 7.7, 5.9, 3.4, 1.7, 0.7, 0.5, 0.2, 0.2, -0.3, -0.5, -1.2, -1.7, 0.6, 3.3, 5.8, 7.4, 8.4, 9.3, 10.5, 11.0, 11.5, 11.8, 11.9, 11.7, 10.8, 7.9, 7.3, 7.0, 6.0, 4.9, 4.2, 4.0, 3.5, 3.2, 2.9, 2.7, 3.7, 5.1, 7.0, 9.2, 11.5, 13.5, 14.9, 15.1, 15.7, 16.3, 16.6, 16.4, 14.9, 12.5, 10.9, 10.0, 9.4, 9.4, 9.2, 9.2, 8.7, 8.7, 8.0, 7.9, 8.3, 8.8, 10.6, 11.0, 11.3, 12.2, 12.9, 15.1, 15.6, 16.2, 16.0, 13.6, 12.9, 11.2, 10.1, 9.5, 8.5, 8.1, 8.2, 8.5, 8.1, 7.7, 7.4, 7.3, 7.4, 8.0, 8.4, 9.2, 9.8, 10.9, 11.1, 9.7, 10.4, 10.3, 10.0, 9.9, 9.7, 9.0, 7.9, 7.4, 6.7, 6.0, 6.0, 6.5, 6.0, 6.1, 6.3, 6.3, 7.1, 7.3, 8.2, 9.2, 9.9, 10.7, 11.3, 11.2, 12.0, 12.6, 12.3, 12.3, 11.7, 10.1, 8.4, 8.3, 7.6, 7.3, 6.9, 6.2, 6.1, 6.2, 6.0, 6.1, 6.6, 7.4, 8.3, 8.9, 9.3, 10.0, 10.7, 10.7, 11.7, 10.2, 9.1, 9.7, 8.9, 7.8, 7.6, 7.0, 6.8, 6.5, 6.3, 5.8, 5.5, 5.1, 4.7, 4.3, 4.6, 5.0, 5.9, 6.9, 8.3, 9.7, 10.6, 10.4, 10.6, 9.7, 10.4, 10.6, 10.0, 8.4, 6.7, 6.3, 5.4, 5.4, 5.4, 4.7, 5.5, 6.5, 6.7, 7.1, 8.0, 9.5, 10.9, 12.1, 11.2, 11.7, 11.8, 13.8, 13.4, 13.7, 14.2, 12.4, 12.3, 11.2, 10.4, 10.2, 9.3, 9.2, 8.9, 7.8, 7.9, 7.9, 7.8, 7.5, 7.8, 8.5, 9.3, 9.5, 10.7, 11.6, 12.4, 9.0, 11.7, 12.2, 12.5, 8.4, 8.5, 7.8, 7.8, 7.4, 6.9, 6.5, 6.3, 5.9, 5.5, 4.9, 4.5, 4.3, 5.0, 6.1, 7.1, 7.8, 8.6, 8.4, 9.6, 7.7, 10.4, 10.8, 10.9, 10.5, 10.0, 8.7, 7.2, 6.9, 6.3, 5.7, 6.4, 5.1, 4.2, 4.6, 4.9, 4.7, 5.5, 6.1, 5.7, 5.1, 4.5, 4.8, 7.0, 6.8, 8.3, 8.1, 9.0, 7.4, 7.5, 7.2, 6.0, 5.8, 5.3, 4.8, 4.6, 4.7, 4.2, 3.6, 3.4, 3.5, 5.0, 6.6, 8.1, 9.4, 10.6, 11.3, 11.7, 12.0, 13.2, 13.6, 13.4, 13.5, 12.8, 11.2, 10.6, 10.6, 9.9, 9.6, 9.5, 10.2, 10.0, 10.4, 10.7, 10.6, 11.1, 12.8, 14.5, 16.7, 18.8, 20.5, 21.8, 23.2, 23.9, 24.4, 24.4, 23.8, 21.9, 20.4, 18.4, 17.7, 17.1, 17.0, 15.9, 16.1, 15.3, 14.4, 13.5, 12.7, 13.8, 15.7, 17.4, 19.2, 20.9, 22.6, 24.3, 25.8, 27.3, 28.1, 27.9, 26.9, 25.3, 22.9, 19.1, 17.7, 17.3, 17.4, 16.1, 15.1, 14.9, 14.1, 13.1, 12.9, 14.3, 16.8, 19.3, 20.6, 22.4, 23.5, 24.5, 26.6, 27.1, 27.2, 27.1, 24.8, 22.5, 20.9, 19.7, 18.7, 17.2, 15.5, 14.8, 14.1, 13.4, 12.6, 12.0, 12.1, 12.3, 12.6, 13.3, 14.2, 14.7, 15.0, 15.9, 15.0, 15.3, 15.4, 15.2, 15.2, 14.8, 14.6, 14.1, 13.8, 13.5, 13.0, 12.5, 12.0, 11.6, 11.3, 11.1, 11.1, 11.3, 11.5, 11.7, 11.9, 12.3, 12.6, 13.4, 12.2, 12.8, 12.9, 12.6, 12.2, 11.9, 11.6, 11.2, 10.9, 10.7, 10.6, 10.5, 10.6, 10.6, 10.6, 10.5, 10.4, 10.5, 10.5, 10.6, 10.8, 11.1, 11.4, 11.2, 11.2, 11.3, 12.2, 12.4, 12.1, 11.9, 11.3, 10.3, 9.7, 8.5, 7.6, 6.8, 8.3, 7.1, 5.8, 6.0, 7.6, 9.3, 11.2, 13.1, 14.9, 16.3, 16.7, 17.5, 14.9, 17.1, 14.7, 15.6, 16.9, 15.6, 14.1, 13.0, 12.0, 11.4, 10.5, 9.8, 9.3, 8.4, 8.4, 7.5, 8.7, 10.1, 11.6, 12.8, 13.7, 13.8, 14.2, 15.4, 14.1, 15.5, 16.1, 16.3, 16.3, 15.7, 14.2, 11.9, 11.9, 10.8, 9.7, 8.9, 8.8, 7.8, 7.7, 8.4, 8.8, 9.9, 11.6, 13.1, 14.3, 15.4, 16.3, 16.5, 16.7, 17.4, 17.6, 17.4, 17.1, 15.6, 14.4, 12.3, 11.6, 10.5, 10.3, 9.7, 8.6, 9.1, 9.1, 8.7, 9.3, 10.4, 11.3, 12.2, 13.3, 13.8, 14.3, 14.9, 13.2, 14.2, 14.6, 14.4, 14.6, 14.2, 13.3, 11.2, 12.1, 10.4, 7.9, 7.9, 7.9, 7.0, 7.3, 7.3, 7.9, 9.1, 10.2, 11.6, 13.1, 14.1, 14.7, 15.0, 14.8, 15.6, 16.1, 16.2, 16.1, 15.5, 14.1, 11.2, 11.6, 8.9, 9.3, 9.3, 9.3, 9.0, 8.1, 7.8, 8.5, 9.5, 10.7, 12.2, 13.3, 14.0, 14.5, 15.0, 15.2, 15.9, 16.0, 16.0, 15.4, 14.8, 13.7, 11.3, 10.1, 9.3, 9.2, 9.9, 10.6, 10.7, 10.5, 10.0, 10.5, 11.9, 13.4, 14.5, 15.6, 16.9, 17.9, 18.4, 19.3, 19.0, 18.7, 19.0, 18.6, 16.9, 15.0, 13.0, 13.1, 10.2, 10.6, 10.9, 9.6, 9.3, 9.2, 9.6, 10.8, 11.9, 12.9, 13.7, 12.7, 14.3, 16.3, 16.8, 16.8, 16.7, 16.3, 14.4, 13.8, 13.2, 12.9, 12.6, 12.4, 12.5, 12.4, 11.2, 10.2, 9.8, 9.7, 9.2, 9.3, 10.2, 11.1, 12.0, 13.1, 12.0, 13.9, 15.7, 14.6, 15.2, 15.0, 13.3, 14.3, 13.6, 12.4, 11.1, 10.4, 9.0, 8.8, 9.3, 9.7, 9.4, 8.2, 7.3, 8.2, 10.4, 12.7, 14.8, 16.5, 18.0, 19.5, 19.5, 19.7, 20.2, 20.3, 20.4, 20.2, 19.5, 18.3, 16.7, 16.1, 15.8, 15.1, 14.6, 15.6, 13.7, 12.3, 11.7, 11.9, 12.9, 12.6, 12.8, 12.3, 12.9, 13.9, 15.0, 12.8, 14.4, 15.2, 12.5, 12.9, 13.3, 12.6, 11.7, 10.7, 10.4, 9.8, 9.9, 9.1, 8.9, 8.4, 8.5, 9.0, 9.7, 10.8, 12.0, 13.1, 14.2, 14.3, 14.0, 14.6, 15.3, 14.7, 14.4, 13.1, 12.5, 12.1, 11.2, 11.0, 10.6, 10.7, 9.9, 9.1, 9.0, 8.7, 8.1, 9.0, 10.2, 11.4, 12.0, 12.9, 12.9, 14.4, 15.3, 13.7, 13.1, 14.3, 14.2, 14.7, 13.0, 12.6, 11.6, 11.0, 10.4, 9.9, 9.5, 9.3, 8.9, 8.7, 8.9, 9.6, 9.9, 10.4, 11.4, 11.6, 12.8, 14.0, 15.3, 14.4, 14.4, 15.8, 15.8, 13.8, 13.3, 12.7, 10.4, 8.6, 8.2, 8.0, 7.8, 7.7, 7.7, 7.5, 7.1, 7.9, 9.7, 11.4, 12.8, 14.0, 14.9, 16.1, 16.8, 14.8, 16.0, 16.3, 16.3, 16.2, 15.8, 14.8, 13.3, 11.6, 10.4, 9.6, 8.5, 8.1, 7.8, 7.3, 6.6, 7.6, 9.5, 11.4, 13.1, 14.5, 15.8, 16.8, 17.8, 18.4, 18.7, 18.7, 18.4, 17.8, 16.8, 15.3, 13.1, 11.4, 10.0, 8.9, 8.0, 7.6, 6.5, 6.0, 5.7, 6.8, 8.7, 11.0, 13.1, 14.7, 16.0, 17.0, 17.9, 19.3, 20.0, 20.3, 20.3, 20.0, 19.3, 17.6, 16.5, 16.5, 15.6, 14.9, 11.1, 10.7, 9.6, 8.7, 8.8, 11.0, 13.5, 15.8, 17.5, 19.3, 20.7, 21.9, 22.6, 22.9, 22.8, 21.9, 21.1, 19.3, 19.0, 17.5, 16.5, 15.1, 13.9, 13.4, 12.6, 13.1, 12.6, 11.9, 11.1, 10.9, 11.8, 13.6, 15.9, 17.8, 19.7, 21.3, 22.5, 23.8, 23.7, 23.0, 23.7, 23.6, 21.5, 20.4, 18.5, 17.3, 16.8, 16.5, 15.8, 15.7, 14.9, 14.3, 13.4, 13.9, 15.4, 17.2, 19.3, 21.3, 22.8, 23.8, 24.5, 25.5, 25.8, 26.0, 25.9, 25.6, 24.9, 23.3, 21.2, 20.0, 19.3, 18.5, 17.4, 17.5, 16.7, 16.2, 16.4, 16.3, 17.0, 17.2, 18.6, 20.5, 22.2, 22.7, 23.2, 22.9, 22.8, 22.4, 22.7, 22.3, 21.8, 20.8, 18.8, 17.4, 16.5, 15.8, 15.1, 15.2, 14.0, 13.5, 13.4, 14.6, 16.5, 18.6, 20.5, 22.5, 24.1, 25.3, 26.1, 26.8, 27.2, 27.3, 26.9, 26.4, 25.6, 24.2, 22.8, 21.5, 20.9, 20.5, 19.2, 17.7, 16.6, 16.1, 15.1, 16.1, 18.2, 20.3, 22.3, 24.0, 25.3, 26.2, 26.5, 26.5, 27.1, 27.3, 26.9, 26.4, 25.1, 23.4, 22.0, 20.5, 19.0, 17.7, 16.6, 16.2, 15.4, 14.7, 13.4, 13.7, 15.4, 17.6, 19.7, 21.6, 23.0, 24.2, 25.0, 26.0, 26.3, 26.4, 26.3, 26.0, 25.7, 24.8, 22.1, 20.7, 19.5, 18.3, 17.1, 16.9, 15.8, 15.1, 14.4, 15.4, 17.1, 19.0, 21.2, 23.1, 24.5, 25.4, 25.9, 25.6, 25.6, 25.4, 25.0, 24.7, 24.3, 23.4, 21.7, 20.0, 19.2, 17.9, 16.8, 16.2, 14.7, 13.4, 12.0, 13.7, 15.9, 18.5, 20.6, 22.0, 23.2, 24.1, 25.0, 25.4, 26.0, 26.3, 26.1, 25.8, 25.2, 24.4, 23.3, 21.4, 19.4, 19.0, 18.1, 17.7, 18.6, 16.3, 16.1, 16.5, 18.4, 20.7, 22.7, 24.3, 24.8, 25.4, 26.2, 26.9, 27.5, 27.2, 27.0, 26.3, 25.4, 24.2, 22.7, 21.3, 20.7, 19.6, 18.6, 17.9, 17.2, 16.5, 16.2, 16.9, 18.2, 20.0, 21.8, 23.3, 24.5, 25.8, 26.2, 26.2, 25.9, 26.8, 26.4, 25.7, 25.3, 24.5, 22.5, 20.8, 19.8, 19.8, 19.6, 20.3, 18.6, 17.9, 17.9, 18.2, 18.4, 18.8, 19.6, 19.8, 18.9, 19.2, 19.5, 20.4, 17.1, 17.4, 19.5, 20.4, 19.6, 18.7, 17.5, 16.4, 15.5, 15.5, 14.5, 14.1, 12.9, 12.1, 11.3, 11.9, 12.8, 13.5, 15.0, 15.1, 15.5, 16.3, 17.2, 16.1, 18.1, 18.2, 18.9, 19.0, 19.0, 18.4, 17.1, 15.6, 14.5, 12.9, 12.4, 13.0, 11.7, 10.1, 9.6, 11.3, 13.5, 15.9, 17.6, 19.0, 20.3, 21.6, 22.9, 24.1, 25.2, 25.6, 25.8, 25.6, 25.3, 24.5, 24.4, 20.2, 19.6, 18.9, 18.5, 17.9, 16.9, 16.2, 15.9, 16.6, 17.8, 19.1, 20.4, 21.4, 23.0, 24.1, 24.6, 21.9, 22.0, 22.0, 22.3, 22.4, 22.2, 21.7, 20.0, 18.7, 17.5, 16.1, 15.5, 14.4, 13.5, 12.7, 12.3, 13.3, 14.9, 17.0, 19.4, 21.3, 22.7, 23.9, 24.9, 25.6, 26.4, 26.9, 27.2, 26.8, 26.2, 25.5, 23.3, 22.0, 21.1, 20.7, 20.2, 20.1, 19.2, 18.8, 18.5, 19.3, 21.1, 23.3, 25.5, 27.5, 29.4, 30.9, 31.9, 32.5, 32.5, 32.7, 32.6, 32.4, 32.0, 30.7, 27.7, 26.1, 25.9, 25.3, 24.1, 22.9, 21.5, 20.7, 20.1, 21.1, 23.1, 25.2, 27.2, 29.2, 30.7, 31.9, 32.6, 33.1, 33.4, 33.5, 33.3, 32.9, 32.3, 31.0, 29.2, 27.7, 26.6, 25.5, 24.8, 23.5, 21.9, 21.4, 21.1, 22.1, 23.7, 25.6, 27.4, 29.3, 31.1, 32.8, 33.6, 34.6, 34.3, 33.0, 33.2, 33.0, 32.4, 31.5, 28.7, 26.6, 25.5, 24.4, 24.2, 23.0, 22.2, 21.7, 21.0, 22.1, 24.0, 26.4, 28.5, 30.9, 30.2, 31.2, 31.3, 31.7, 32.7, 33.0, 31.9, 31.7, 31.1, 30.2, 27.9, 26.5, 25.8, 24.6, 23.7, 23.3, 22.4, 21.5, 20.9, 20.6, 20.8, 22.0, 24.4, 26.5, 28.0, 29.1, 30.2, 29.5, 30.6, 30.9, 29.6, 29.3, 28.7, 27.7, 26.4, 24.4, 23.2, 22.3, 21.3, 20.7, 19.9, 19.1, 19.1, 18.9, 18.9, 19.0, 18.9, 19.0, 19.2, 19.3, 19.5, 18.2, 19.2, 19.6, 20.1, 21.1, 21.2, 20.6, 20.0, 19.6, 19.2, 18.1, 17.4, 15.7, 13.9, 13.6, 13.9, 14.8, 15.9, 17.2, 18.5, 19.7, 20.7, 20.1, 19.7, 19.2, 18.7, 18.1, 19.3, 19.3, 19.3, 19.1, 18.1, 16.9, 16.1, 15.1, 14.6, 14.5, 13.8, 13.9, 14.3, 14.7, 15.6, 16.8, 18.1, 19.3, 19.6, 20.2, 20.5, 18.6, 18.2, 19.5, 19.9, 19.4, 19.2, 18.4, 17.4, 16.6, 15.8, 15.3, 15.2, 15.7, 15.2, 15.3, 13.9, 15.6, 16.6, 17.5, 18.4, 19.8, 21.0, 21.8, 22.5, 20.2, 22.2, 22.7, 22.9, 22.9, 22.7, 21.8, 20.3, 19.1, 18.5, 18.1, 17.6, 17.1, 16.3, 15.3, 14.1, 15.5, 17.1, 18.3, 19.6, 20.5, 21.4, 22.1, 23.1, 24.5, 25.2, 25.6, 23.8, 23.3, 23.2, 22.0, 20.4, 18.0, 17.5, 16.5, 15.5, 15.4, 14.5, 13.7, 13.0, 14.9, 17.0, 19.1, 20.6, 22.1, 23.4, 24.4, 25.3, 25.8, 25.9, 25.6, 25.5, 25.2, 24.9, 24.1, 21.9, 19.8, 19.1, 18.4, 17.8, 17.7, 16.7, 16.6, 16.5, 17.5, 19.4, 21.9, 24.2, 26.4, 27.6, 28.2, 28.7, 28.5, 29.0, 29.7, 29.7, 29.9, 29.5, 27.9, 25.7, 24.2, 23.6, 22.6, 20.9, 21.1, 20.7, 20.4, 19.5, 20.7, 22.1, 23.0, 25.0, 27.1, 29.0, 29.2, 28.6, 24.1, 24.2, 26.3, 26.4, 26.6, 25.7, 25.3, 23.5, 22.1, 21.1, 20.3, 19.4, 19.7, 19.0, 18.8, 18.6, 18.8, 18.9, 19.2, 19.0, 18.9, 18.6, 18.5, 18.4, 18.6, 18.2, 18.0, 18.0, 18.0, 17.6, 17.5, 17.3, 17.2, 17.0, 16.8, 16.8, 16.3, 16.4, 16.1, 15.9, 15.7, 15.4, 15.0, 14.7, 14.6, 14.7, 15.0, 16.0, 15.0, 16.4, 16.6, 17.1, 17.6, 17.6, 17.5, 17.0, 16.6, 16.3, 15.9, 15.9, 15.8, 15.9, 15.9, 16.0, 16.2, 16.7, 17.7, 18.8, 19.7, 20.7, 21.6, 22.4, 22.2, 22.5, 22.1, 22.1, 21.6, 21.0, 20.3, 18.8, 17.6, 17.3, 16.6, 16.2, 16.2, 15.7, 15.2, 15.0, 15.4, 16.3, 17.4, 18.5, 19.4, 19.8, 20.5, 21.2, 22.4, 22.8, 23.1, 23.0, 22.8, 22.5, 21.4, 19.1, 17.8, 17.0, 16.2, 15.2, 15.6, 15.0, 15.0, 15.2, 15.5, 17.0, 19.2, 21.0, 22.1, 22.9, 23.6, 24.2, 24.5, 23.9, 24.5, 24.3, 24.3, 23.6, 22.3, 20.8, 19.5, 19.4, 19.1, 18.5, 19.0, 19.2, 18.7, 18.4, 17.9, 18.6, 19.7, 19.8, 20.3, 20.6, 20.2, 20.1, 21.2, 21.3, 22.4, 22.9, 22.3, 21.7, 21.3, 19.0, 19.9, 17.1, 18.0, 17.5, 16.0, 15.6, 15.7, 15.9, 16.8, 18.2, 19.9, 21.6, 23.3, 24.8, 26.1, 26.7, 27.9, 28.6, 28.2, 27.1, 24.6, 23.9, 23.3, 21.8, 20.8, 20.5, 20.1, 19.6, 19.3, 19.1, 18.3, 18.0, 18.1, 17.9, 18.1, 18.3, 18.2, 18.1, 18.3, 18.9, 18.4, 20.1, 20.9, 21.2, 21.8, 21.6, 20.7, 19.5, 18.4, 17.6, 16.9, 16.6, 16.6, 16.5, 16.3, 15.7, 16.4, 17.5, 18.5, 19.2, 19.9, 20.3, 20.6, 20.9, 21.3, 21.9, 21.3, 20.6, 20.6, 20.6, 20.0, 19.3, 18.6, 18.5, 18.2, 18.0, 17.3, 16.9, 17.1, 17.1, 17.4, 17.8, 18.3, 18.5, 18.8, 18.9, 19.7, 19.5, 19.4, 19.6, 19.3, 20.4, 19.4, 18.6, 18.2, 18.0, 17.3, 16.6, 16.1, 16.0, 14.9, 15.1, 15.2, 15.0, 15.1, 15.5, 16.0, 16.6, 17.6, 19.3, 21.0, 22.2, 22.5, 22.9, 23.4, 23.4, 23.0, 22.7, 22.1, 19.9, 18.2, 17.2, 16.5, 16.0, 17.6, 15.9, 16.6, 16.7, 17.0, 18.0, 19.6, 21.4, 23.1, 24.2, 24.8, 25.1, 25.7, 26.0, 25.7, 25.2, 25.6, 24.4, 22.6, 21.7, 21.1, 20.5, 20.0, 19.8, 18.3, 17.7, 17.4, 17.3, 17.9, 19.0, 19.8, 20.6, 21.2, 21.2, 20.5, 22.2, 24.8, 25.2, 23.1, 23.1, 22.3, 22.5, 22.2, 20.5, 19.5, 18.8, 17.9, 17.5, 18.8, 18.1, 17.4, 17.4, 18.1, 19.4, 20.8, 22.4, 23.7, 24.8, 25.6, 26.9, 27.3, 27.7, 28.0, 27.8, 28.3, 27.9, 26.1, 24.2, 23.1, 22.7, 22.5, 21.9, 20.8, 20.3, 19.6, 18.9, 19.5, 20.6, 21.5, 22.3, 22.9, 24.3, 25.6, 26.7, 23.6, 23.4, 23.4, 24.0, 24.2, 24.0, 23.1, 21.0, 20.1, 19.2, 18.5, 18.2, 17.9, 16.0, 16.2, 16.3, 16.9, 18.4, 19.6, 20.6, 22.0, 23.0, 24.2, 25.2, 24.9, 24.8, 24.6, 24.3, 24.2, 24.2, 23.5, 21.5, 20.8, 20.4, 18.8, 18.5, 19.7, 19.1, 17.9, 17.3, 18.4, 20.1, 21.7, 23.3, 24.9, 26.1, 27.0, 27.6, 27.9, 28.1, 27.7, 26.9, 25.7, 24.5, 24.0, 23.2, 22.7, 22.4, 22.0, 21.5, 20.7, 20.6, 20.4, 20.1, 20.4, 21.2, 21.6, 22.6, 23.5, 24.0, 25.1, 26.1, 26.5, 25.3, 26.0, 25.6, 25.6, 25.3, 23.8, 22.0, 20.6, 19.7, 18.8, 18.1, 18.3, 17.8, 17.3, 16.6, 16.8, 18.1, 19.5, 20.8, 22.0, 23.6, 24.8, 25.6, 24.9, 24.9, 25.3, 25.3, 25.0, 23.6, 22.9, 21.0, 20.4, 19.6, 19.4, 18.5, 18.7, 17.5, 16.4, 15.0, 14.2, 14.7, 15.4, 16.6, 17.8, 18.1, 18.4, 19.0, 18.5, 18.9, 19.3, 19.7, 19.6, 18.8, 18.3, 17.0, 15.6, 14.6, 13.7, 13.5, 13.8, 13.1, 13.8, 14.0, 14.5, 15.5, 16.3, 17.4, 18.4, 19.4, 19.8, 20.2, 19.2, 19.4, 19.8, 20.1, 19.8, 19.8, 19.1, 18.2, 17.3, 16.4, 15.2, 14.4, 14.8, 14.6, 14.9, 15.0, 15.5, 16.6, 17.5, 18.5, 19.8, 20.6, 21.4, 21.3, 20.0, 20.2, 20.0, 20.5, 20.6, 20.6, 20.3, 19.3, 18.8, 18.4, 17.6, 16.8, 17.3, 16.8, 16.7, 16.7, 17.0, 17.4, 18.2, 19.2, 19.8, 20.2, 20.8, 21.1, 21.6, 21.8, 21.6, 21.7, 21.9, 21.9, 21.1, 18.9, 18.2, 18.0, 17.7, 17.4, 15.6, 15.2, 15.7, 14.5, 15.2, 16.5, 17.7, 18.2, 18.5, 18.7, 19.8, 22.0, 24.0, 23.8, 23.7, 23.7, 23.8, 23.3, 21.9, 19.6, 17.7, 16.9, 16.1, 15.5, 15.4, 15.0, 15.2, 16.2, 16.7, 18.4, 20.2, 22.1, 24.2, 25.7, 26.4, 27.2, 27.0, 27.6, 28.0, 27.9, 27.5, 26.6, 25.3, 24.2, 24.0, 23.4, 22.9, 22.1, 22.5, 21.8, 21.2, 20.8, 20.3, 20.8, 21.2, 22.7, 23.5, 25.5, 27.1, 28.1, 28.7, 27.7, 28.0, 26.7, 26.9, 26.3, 25.5, 23.8, 22.7, 22.1, 21.6, 20.8, 19.9, 19.2, 19.5, 19.5, 19.2, 20.1, 21.1, 22.8, 24.5, 26.0, 27.1, 28.0, 27.0, 28.3, 28.6, 28.6, 28.3, 27.2, 25.2, 23.7, 22.9, 22.4, 21.7, 21.0, 20.1, 19.4, 19.1, 19.1, 19.4, 20.2, 21.2, 22.7, 24.1, 25.3, 25.7, 26.1, 25.8, 25.8, 26.3, 26.0, 25.6, 25.3, 24.1, 21.9, 20.9, 20.9, 20.4, 19.9, 19.9, 19.5, 17.8, 17.1, 17.2, 18.3, 18.6, 19.8, 20.0, 20.4, 21.8, 23.1, 23.8, 23.6, 23.9, 24.0, 24.1, 24.1, 23.1, 21.4, 20.5, 20.0, 19.4, 18.9, 19.4, 19.0, 18.5, 18.0, 18.0, 18.7, 19.8, 21.0, 21.4, 22.0, 21.9, 22.3, 22.8, 23.9, 23.6, 23.5, 23.2, 22.4, 21.3, 20.1, 18.8, 18.1, 17.3, 16.3, 14.9, 13.9, 14.0, 14.4, 14.5, 15.8, 17.8, 19.6, 20.8, 22.2, 22.6, 23.3, 24.3, 25.1, 25.7, 25.7, 25.6, 25.4, 24.2, 22.0, 21.3, 20.2, 18.6, 18.6, 18.0, 17.7, 19.4, 18.6, 17.3, 18.3, 19.7, 21.0, 22.1, 23.1, 23.5, 24.2, 21.8, 22.8, 23.0, 23.0, 23.5, 22.9, 21.9, 20.6, 19.5, 18.7, 18.0, 17.2, 17.0, 16.1, 15.3, 14.9, 14.9, 16.2, 17.1, 17.9, 19.3, 19.9, 20.8, 21.5, 20.2, 20.2, 21.1, 21.6, 21.7, 21.1, 19.2, 17.9, 17.0, 16.2, 15.9, 15.5, 15.1, 14.6, 14.4, 15.0, 15.2, 15.4, 16.2, 16.9, 17.9, 18.9, 20.0, 20.3, 19.7, 20.5, 21.2, 21.7, 21.0, 19.8, 19.0, 17.7, 16.8, 15.7, 15.0, 14.5, 15.2, 14.4, 13.7, 12.7, 13.0, 14.5, 15.6, 16.8, 17.8, 18.6, 18.9, 20.4, 19.6, 20.5, 20.8, 20.9, 20.8, 20.6, 19.7, 19.2, 17.8, 17.1, 16.7, 16.6, 15.6, 15.3, 15.0, 14.9, 14.8, 15.2, 15.8, 16.4, 18.1, 19.4, 20.3, 21.1, 20.8, 21.2, 21.5, 21.6, 21.4, 20.8, 19.9, 17.6, 16.6, 15.9, 15.3, 15.5, 16.1, 15.3, 14.9, 13.8, 13.9, 14.8, 16.3, 18.0, 18.9, 19.9, 22.0, 22.8, 22.4, 22.4, 22.4, 20.9, 19.7, 19.6, 18.8, 17.3, 16.8, 16.2, 15.9, 15.8, 15.9, 15.8, 15.7, 15.6, 15.5, 16.0, 16.6, 17.8, 19.0, 20.2, 21.5, 22.8, 23.8, 21.5, 22.7, 23.2, 22.9, 20.5, 19.8, 18.4, 17.6, 16.8, 16.4, 16.3, 16.8, 16.2, 15.8, 15.5, 15.2, 16.1, 17.4, 18.8, 20.3, 21.7, 22.7, 22.7, 23.4, 23.3, 23.4, 23.4, 23.3, 22.3, 21.7, 20.2, 18.3, 17.9, 17.8, 17.4, 17.5, 17.4, 17.1, 16.2, 15.8, 16.4, 17.6, 18.8, 20.2, 21.3, 22.1, 22.8, 19.6, 21.6, 21.9, 22.4, 22.4, 21.9, 20.5, 17.2, 17.0, 16.7, 16.8, 16.0, 16.0, 15.2, 14.5, 14.0, 13.4, 14.6, 16.2, 17.9, 19.3, 20.2, 20.9, 21.7, 21.9, 22.7, 22.8, 23.2, 22.2, 21.3, 19.4, 18.8, 17.3, 16.2, 16.0, 15.1, 14.9, 13.9, 13.7, 13.6, 13.5, 15.3, 17.2, 18.9, 20.5, 20.8, 19.9, 18.6, 21.0, 21.8, 21.5, 22.0, 21.7, 21.3, 19.6, 19.3, 17.1, 16.8, 15.9, 14.8, 14.9, 14.4, 14.4, 14.5, 14.4, 14.8, 15.3, 16.5, 17.8, 19.1, 20.5, 21.4, 21.1, 21.7, 21.8, 21.5, 21.5, 20.9, 19.3, 17.0, 15.9, 15.9, 15.6, 14.1, 14.8, 13.4, 12.9, 12.8, 13.2, 14.8, 17.1, 19.6, 21.6, 22.8, 23.8, 24.7, 25.1, 26.0, 26.5, 26.2, 25.8, 25.2, 23.5, 21.9, 21.2, 20.3, 19.9, 20.1, 17.2, 16.9, 16.6, 16.8, 16.4, 17.9, 18.7, 20.7, 23.0, 25.1, 26.9, 28.0, 28.7, 28.5, 28.2, 27.9, 27.7, 26.7, 24.5, 23.2, 23.2, 22.7, 22.2, 20.8, 19.7, 18.9, 17.2, 15.6, 15.2, 16.9, 18.2, 19.4, 20.8, 21.8, 23.3, 24.3, 24.9, 24.8, 25.3, 26.5, 26.4, 25.7, 23.5, 21.9, 20.6, 19.8, 19.0, 19.0, 17.5, 16.1, 14.9, 14.5, 14.2, 16.3, 18.1, 19.5, 20.8, 22.1, 23.0, 24.0, 25.0, 24.5, 25.4, 25.3, 25.2, 24.7, 22.4, 21.2, 20.2, 19.8, 19.4, 19.0, 18.2, 17.2, 16.8, 16.8, 16.7, 17.7, 19.3, 20.8, 21.4, 22.0, 22.8, 23.3, 23.8, 23.2, 22.2, 21.7, 19.0, 17.3, 16.0, 15.2, 14.4, 14.0, 13.7, 13.5, 12.9, 13.2, 13.2, 13.4, 13.7, 13.9, 14.6, 14.9, 15.7, 16.8, 17.3, 18.2, 17.2, 17.9, 18.2, 18.1, 17.0, 16.4, 16.2, 15.8, 15.5, 15.2, 14.7, 14.4, 14.1, 13.8, 14.0, 13.9, 13.3, 13.8, 14.7, 15.7, 16.5, 17.9, 18.7, 19.0, 19.1, 18.0, 18.2, 18.8, 19.1, 19.2, 18.6, 17.7, 18.1, 18.0, 17.3, 16.9, 16.1, 15.9, 15.6, 16.1, 15.7, 16.1, 16.4, 17.3, 18.0, 19.0, 19.4, 20.0, 18.6, 19.9, 20.2, 20.7, 19.9, 19.3, 18.6, 18.3, 18.0, 17.8, 17.7, 17.2, 16.8, 16.3, 16.3, 16.0, 15.6, 16.0, 16.4, 17.0, 17.1, 17.2, 18.1, 18.6, 19.1, 20.3, 20.6, 20.3, 20.1, 19.5, 18.2, 17.1, 16.3, 16.0, 16.0, 16.0, 14.4, 13.7, 12.8, 12.5, 12.3, 13.7, 15.4, 17.0, 18.4, 19.8, 20.7, 21.4, 21.5, 21.8, 21.9, 21.5, 21.1, 20.8, 19.4, 17.7, 17.4, 17.0, 16.6, 16.0, 16.1, 15.7, 15.5, 15.8, 15.6, 15.6, 17.0, 18.6, 19.8, 20.9, 21.9, 22.3, 19.4, 18.6, 19.2, 20.5, 19.9, 19.4, 18.0, 17.2, 16.7, 16.7, 16.2, 16.1, 16.7, 17.0, 16.8, 16.4, 15.5, 15.1, 15.1, 15.5, 16.0, 18.0, 18.9, 19.6, 18.3, 20.1, 20.4, 20.7, 19.2, 18.0, 17.2, 16.8, 16.3, 15.6, 14.8, 14.1, 15.0, 14.2, 13.0, 12.1, 12.1, 12.9, 14.3, 15.8, 17.4, 18.5, 19.0, 19.5, 20.0, 20.6, 20.4, 20.5, 20.2, 18.8, 16.8, 15.3, 14.1, 12.8, 11.8, 10.8, 11.0, 9.3, 8.5, 8.2, 8.3, 9.7, 11.6, 13.7, 14.8, 15.9, 17.0, 18.0, 19.9, 21.1, 21.4, 22.3, 20.4, 18.7, 17.8, 17.0, 16.2, 15.6, 15.4, 15.4, 14.3, 13.8, 13.9, 13.5, 13.4, 13.3, 14.0, 14.7, 15.8, 16.6, 16.5, 16.7, 15.6, 15.6, 15.8, 14.3, 14.3, 14.0, 13.1, 12.8, 12.5, 12.5, 12.3, 12.3, 12.0, 12.1, 12.1, 12.2, 11.8, 12.0, 12.4, 12.7, 13.1, 14.0, 14.6, 15.5, 15.0, 16.2, 15.3, 15.8, 15.6, 15.1, 13.5, 12.6, 12.3, 12.2, 12.2, 12.2, 11.9, 11.9, 11.8, 11.7, 11.5, 11.9, 13.1, 14.6, 15.9, 17.2, 18.0, 18.8, 18.0, 18.4, 18.6, 18.7, 18.4, 17.3, 15.6, 14.3, 14.5, 14.4, 14.0, 13.8, 13.9, 13.9, 14.0, 13.9, 13.7, 13.8, 14.3, 15.0, 15.3, 15.2, 15.7, 16.2, 18.8, 19.1, 17.3, 16.5, 16.4, 15.8, 15.4, 14.9, 14.9, 14.9, 14.9, 14.8, 13.9, 12.9, 12.9, 12.7, 13.0, 13.5, 14.1, 14.4, 15.3, 16.4, 16.3, 16.1, 16.2, 17.1, 17.0, 16.4, 16.1, 16.2, 15.6, 15.5, 15.4, 15.2, 14.6, 14.4, 14.6, 14.3, 14.4, 14.3, 14.2, 14.2, 14.7, 15.1, 15.2, 16.6, 17.7, 18.7, 18.9, 19.5, 19.8, 19.6, 19.1, 17.8, 16.3, 15.2, 13.2, 12.3, 11.7, 11.9, 12.3, 12.2, 12.6, 13.1, 13.7, 14.0, 15.0, 16.0, 17.3, 18.7, 20.6, 21.3, 19.5, 20.5, 21.0, 21.2, 20.7, 19.2, 16.5, 15.9, 15.2, 14.5, 14.0, 13.4, 13.4, 12.8, 12.9, 12.5, 12.3, 12.5, 14.0, 15.5, 17.1, 18.7, 19.8, 20.9, 20.7, 20.9, 20.4, 19.6, 19.0, 18.1, 16.6, 15.2, 13.7, 13.0, 14.6, 11.6, 11.3, 10.9, 11.2, 11.5, 11.5, 12.0, 13.5, 15.2, 17.0, 18.5, 19.7, 20.9, 21.9, 22.5, 22.7, 22.5, 21.6, 19.5, 16.0, 14.5, 13.6, 12.9, 14.6, 14.1, 11.9, 10.3, 10.9, 10.0, 10.2, 11.0, 12.2, 13.9, 15.3, 16.6, 17.2, 18.4, 17.4, 17.5, 17.5, 17.5, 17.4, 17.0, 16.0, 14.8, 14.1, 14.1, 13.7, 14.2, 13.2, 12.3, 12.9, 13.3, 13.1, 12.8, 13.2, 14.3, 15.7, 17.3, 18.7, 19.7, 20.3, 21.2, 21.5, 21.6, 21.0, 19.5, 18.6, 18.4, 17.6, 16.5, 15.8, 15.0, 15.4, 14.6, 14.1, 13.3, 12.9, 12.7, 14.1, 15.5, 16.8, 18.3, 19.5, 20.5, 21.5, 21.9, 22.0, 21.6, 20.8, 18.9, 16.5, 14.6, 15.3, 15.4, 15.1, 14.7, 14.3, 14.9, 15.0, 15.0, 14.4, 13.5, 15.0, 16.6, 18.1, 19.3, 20.5, 21.1, 21.1, 21.0, 21.4, 21.3, 21.0, 19.1, 16.7, 16.4, 17.3, 15.7, 13.7, 13.4, 13.1, 12.0, 12.3, 12.2, 10.9, 11.5, 13.6, 16.4, 18.9, 20.9, 22.0, 22.7, 23.3, 23.7, 23.9, 23.8, 23.2, 21.0, 18.9, 18.4, 17.5, 16.6, 16.2, 15.6, 15.4, 14.4, 14.0, 13.3, 12.8, 13.0, 14.9, 17.0, 18.9, 20.6, 22.0, 23.3, 24.7, 25.5, 25.9, 25.9, 24.9, 21.8, 19.7, 19.2, 19.0, 18.5, 17.9, 17.3, 17.6, 16.7, 16.6, 16.4, 15.8, 16.2, 18.2, 20.1, 21.3, 22.5, 23.8, 25.0, 23.9, 23.6, 23.9, 24.1, 23.8, 21.2, 19.8, 20.0, 18.9, 18.2, 16.9, 16.2, 18.8, 17.6, 16.9, 17.1, 17.1, 17.1, 17.8, 18.5, 19.3, 20.8, 21.7, 22.7, 22.3, 21.8, 22.2, 22.2, 21.7, 19.5, 17.7, 16.9, 16.3, 16.3, 16.8, 17.1, 17.4, 16.6, 16.3, 16.3, 16.0, 15.8, 16.7, 17.7, 18.3, 18.7, 19.7, 20.8, 21.6, 21.6, 21.5, 20.7, 20.2, 19.4, 18.2, 17.4, 16.7, 17.0, 17.0, 16.0, 15.5, 14.9, 13.7, 14.1, 14.9, 15.5, 15.9, 16.7, 17.8, 18.4, 18.8, 19.4, 18.1, 18.4, 18.7, 18.6, 18.3, 17.5, 15.5, 14.5, 13.5, 12.9, 12.7, 12.4, 12.9, 12.3, 12.3, 11.5, 11.6, 11.8, 13.6, 15.5, 17.1, 18.3, 19.3, 20.3, 20.4, 21.0, 21.6, 21.4, 20.7, 18.3, 16.5, 16.1, 15.7, 15.1, 14.7, 14.8, 15.1, 14.6, 15.0, 15.0, 14.8, 15.2, 15.9, 17.4, 19.4, 21.5, 23.5, 24.7, 24.0, 23.2, 21.6, 20.5, 20.0, 20.0, 19.3, 19.0, 18.8, 18.4, 18.2, 17.9, 18.3, 18.3, 18.1, 17.7, 17.4, 16.8, 16.5, 16.6, 17.0, 17.6, 18.1, 18.5, 17.3, 17.9, 18.2, 18.0, 17.8, 17.3, 17.1, 17.2, 16.9, 16.5, 16.0, 15.6, 14.8, 14.6, 14.4, 14.8, 15.1, 15.1, 15.0, 15.0, 15.7, 16.3, 16.4, 17.1, 16.0, 15.7, 15.4, 15.1, 14.8, 14.3, 13.7, 13.3, 12.8, 12.3, 12.2, 12.3, 13.3, 13.3, 13.2, 13.1, 13.0, 13.2, 13.7, 14.9, 15.8, 16.7, 17.9, 17.9, 16.3, 17.4, 16.3, 15.6, 15.3, 15.1, 14.5, 13.5, 12.9, 12.2, 12.0, 11.6, 12.3, 12.2, 11.4, 10.4, 9.8, 10.3, 11.3, 12.4, 13.4, 14.4, 15.3, 15.8, 14.9, 15.0, 14.9, 14.6, 14.4, 13.6, 12.7, 12.1, 11.5, 10.9, 10.3, 10.0, 10.3, 9.8, 9.5, 9.0, 7.8, 7.3, 8.9, 11.2, 12.8, 13.8, 14.5, 15.2, 14.4, 14.7, 14.8, 14.8, 14.5, 12.6, 12.0, 11.6, 11.2, 10.2, 9.6, 9.4, 9.9, 10.2, 10.4, 10.2, 10.0, 10.1, 10.6, 12.0, 12.8, 13.9, 14.6, 15.5, 14.0, 15.1, 15.3, 14.9, 14.0, 13.0, 12.7, 12.6, 12.6, 12.6, 12.8, 12.7, 12.4, 12.3, 12.0, 11.5, 11.1, 11.1, 11.7, 12.6, 13.4, 14.2, 15.0, 15.7, 16.3, 16.4, 16.5, 16.7, 16.6, 15.7, 15.3, 15.1, 14.7, 13.7, 12.7, 11.9, 11.2, 11.0, 11.0, 10.9, 10.9, 11.0, 11.9, 13.2, 14.7, 16.2, 17.6, 18.4, 18.7, 18.9, 19.1, 19.0, 18.1, 16.8, 16.8, 16.7, 15.2, 14.7, 13.6, 12.8, 13.0, 12.8, 12.2, 12.0, 12.0, 11.7, 12.2, 13.0, 14.0, 15.3, 16.3, 16.5, 15.8, 16.0, 17.3, 17.1, 16.7, 16.7, 16.5, 16.0, 16.4, 16.3, 15.6, 15.2, 16.0, 16.3, 16.0, 15.7, 15.8, 15.7, 15.8, 16.6, 17.6, 19.0, 20.2, 20.1, 19.8, 20.3, 21.0, 20.9, 20.0, 17.8, 17.4, 16.0, 16.2, 15.7, 14.5, 15.6, 13.1, 13.2, 13.7, 13.8, 14.1, 13.9, 14.6, 16.7, 18.7, 20.3, 21.9, 22.9, 23.5, 23.9, 23.2, 22.7, 21.8, 19.8, 19.0, 18.5, 18.1, 17.6, 16.9, 16.5, 16.7, 16.1, 15.7, 15.5, 15.7, 15.6, 15.9, 16.6, 17.7, 19.1, 20.2, 21.4, 19.8, 20.4, 20.7, 20.8, 20.1, 18.1, 18.0, 17.6, 17.1, 16.7, 16.5, 16.5, 16.5, 15.8, 16.1, 16.3, 16.0, 15.0, 14.9, 15.1, 15.5, 15.7, 16.0, 16.9, 15.9, 16.8, 17.1, 17.2, 16.4, 15.1, 14.1, 12.6, 12.2, 12.5, 12.4, 11.6, 12.2, 11.7, 11.9, 12.3, 11.6, 12.0, 13.2, 14.4, 15.3, 15.4, 15.3, 15.3, 15.1, 16.0, 16.3, 16.4, 16.0, 14.6, 14.3, 14.1, 13.3, 12.3, 11.4, 10.7, 10.0, 9.7, 9.4, 9.4, 9.9, 9.6, 10.1, 10.1, 10.8, 12.7, 14.3, 14.7, 14.6, 14.0, 14.3, 14.5, 13.6, 11.8, 11.0, 10.8, 10.6, 10.2, 9.2, 9.3, 9.4, 8.8, 8.6, 8.1, 7.8, 7.7, 8.5, 10.3, 12.2, 14.0, 15.5, 16.6, 17.4, 17.6, 17.7, 17.1, 15.6, 13.6, 13.0, 12.7, 12.3, 11.9, 11.5, 11.0, 10.5, 9.8, 9.5, 9.5, 9.3, 9.4, 9.8, 11.5, 13.5, 15.8, 17.4, 18.5, 19.3, 19.6, 19.5, 19.1, 17.5, 15.4, 15.6, 15.8, 15.6, 15.3, 15.1, 16.1, 15.6, 15.3, 14.5, 15.0, 15.2, 15.3, 15.1, 15.6, 16.1, 16.8, 17.3, 20.7, 18.9, 21.5, 21.9, 21.3, 20.6, 19.8, 19.3, 18.7, 18.0, 17.6, 17.5, 16.9, 17.1, 17.3, 16.7, 15.6, 15.3, 14.6, 14.5, 14.8, 14.7, 14.3, 14.2, 14.3, 14.7, 15.2, 14.9, 14.6, 14.2, 13.7, 12.7, 12.4, 11.8, 11.7, 11.3, 11.1, 12.3, 12.0, 12.5, 12.4, 12.2, 12.1, 12.2, 12.8, 13.3, 13.8, 14.5, 15.1, 15.6, 15.8, 14.9, 13.7, 13.1, 12.6, 12.5, 12.1, 11.4, 11.1, 11.0, 11.4, 11.8, 11.1, 11.3, 11.5, 12.1, 11.8, 11.5, 12.4, 13.2, 14.2, 15.3, 16.1, 15.5, 14.7, 14.5, 14.5, 13.7, 12.2, 11.1, 10.2, 9.4, 8.5, 8.5, 7.6, 7.8, 7.9, 6.7, 6.6, 5.9, 5.4, 5.8, 7.3, 9.1, 12.2, 14.7, 15.9, 16.5, 17.0, 17.1, 16.8, 14.0, 12.5, 12.4, 13.6, 13.4, 13.2, 13.0, 12.6, 11.9, 11.0, 10.2, 9.8, 9.2, 9.0, 9.4, 11.0, 11.9, 13.1, 14.2, 15.1, 15.7, 15.8, 15.7, 15.0, 13.1, 11.2, 10.3, 9.6, 8.8, 8.0, 7.5, 7.0, 6.7, 5.8, 5.7, 5.5, 5.2, 5.0, 5.2, 6.8, 8.5, 10.1, 11.7, 12.6, 14.0, 14.4, 14.2, 13.5, 11.5, 9.8, 8.9, 7.9, 7.2, 6.7, 6.1, 5.4, 5.6, 4.3, 3.8, 3.4, 2.8, 2.3, 2.9, 5.2, 7.4, 9.5, 10.9, 11.9, 13.2, 13.4, 13.4, 12.6, 9.2, 8.5, 7.9, 7.5, 7.2, 6.4, 5.1, 3.9, 3.2, 2.5, 3.3, 3.7, 4.4, 5.2, 6.0, 7.1, 7.9, 9.5, 11.6, 13.7, 13.5, 13.7, 13.5, 12.8, 11.5, 10.5, 10.3, 9.9, 9.8, 9.5, 8.7, 8.2, 7.8, 7.5, 7.1, 6.7, 7.0, 7.7, 7.9, 8.5, 9.3, 10.0, 10.6, 10.9, 11.6, 11.8, 11.5, 10.1, 9.0, 8.0, 7.3, 6.6, 5.9, 5.7, 5.4, 5.4, 5.1, 4.7, 4.5, 4.4, 4.3, 4.2, 4.4, 6.0, 7.5, 8.9, 10.3, 11.5, 11.4, 11.7, 11.6, 10.9, 9.5, 7.7, 7.6, 7.4, 7.6, 7.8, 8.1, 8.0, 8.2, 8.2, 8.3, 8.6, 8.9, 9.1, 9.1, 9.3, 9.7, 10.4, 11.0, 11.4, 11.4, 12.1, 12.6, 12.8, 12.3, 11.7, 11.7, 11.7, 11.5, 11.3, 10.6, 10.7, 11.2, 12.1, 11.6, 11.8, 11.3, 11.4, 11.2, 11.7, 12.5, 12.3, 13.0, 13.8, 11.6, 11.0, 10.1, 10.3, 9.3, 8.5, 8.3, 8.2, 7.8, 7.4, 7.1, 6.7, 6.3, 5.8, 5.7, 5.4, 6.1, 6.2, 6.9, 7.6, 8.2, 8.6, 9.1, 9.6, 10.5, 11.2, 11.1, 10.8, 10.0, 10.0, 9.5, 9.1, 8.6, 8.7, 8.2, 8.2, 8.2, 8.7, 7.7, 6.7, 6.8, 5.8, 6.4, 7.9, 8.4, 8.7, 9.9, 11.5, 11.2, 11.7, 11.9, 11.7, 11.1, 10.7, 10.2, 9.7, 9.7, 9.5, 9.5, 9.3, 9.1, 9.1, 9.2, 9.5, 9.5, 9.3, 9.0, 9.7, 10.8, 12.0, 13.6, 14.7, 15.5, 15.4, 15.1, 13.9, 11.8, 11.1, 11.0, 10.5, 9.4, 9.1, 8.8, 8.9, 9.6, 9.1, 8.4, 8.1, 7.5, 7.4, 7.9, 9.0, 10.5, 11.1, 13.6, 15.4, 15.3, 15.9, 15.8, 15.6, 14.9, 14.9, 14.4, 14.0, 13.4, 13.6, 14.2, 14.0, 14.1, 14.3, 13.5, 13.3, 13.0, 12.9, 13.1, 13.8, 15.1, 16.7, 17.1, 16.5, 17.1, 17.8, 18.9, 18.6, 17.2, 16.5, 16.4, 16.4, 16.4, 16.4, 16.5, 16.3, 16.0, 15.8, 15.7, 15.4, 16.1, 16.4, 16.0, 15.9, 15.4, 14.6, 14.5, 13.1, 12.4, 12.8, 12.5, 11.8, 10.6, 9.4, 8.7, 8.2, 8.0, 7.3, 7.0, 6.8, 6.5, 6.3, 6.1, 6.1, 6.5, 6.6, 6.7, 7.2, 8.0, 8.6, 9.7, 9.9, 9.2, 10.3, 8.4, 8.3, 8.1, 7.7, 6.8, 6.3, 6.0, 5.8, 5.7, 5.5, 5.6, 5.5, 5.5, 5.3, 5.2, 5.3, 5.2, 6.0, 7.2, 8.6, 9.9, 10.9, 10.2, 10.8, 10.5, 10.3, 8.3, 7.5, 6.9, 5.8, 4.3, 3.7, 3.4, 3.8, 3.6, 3.6, 3.1, 2.6, 2.2, 1.5, 1.3, 3.8, 6.2, 8.3, 10.2, 11.2, 11.7, 12.0, 11.6, 10.4, 8.2, 7.1, 6.6, 6.1, 5.6, 5.1, 4.7, 4.4, 4.2, 3.6, 3.5, 3.3, 2.9, 2.8, 2.6, 4.1, 6.1, 7.9, 9.0, 10.5, 11.2, 11.4, 11.2, 10.2, 8.5, 7.5, 6.8, 6.3, 5.8, 5.4, 5.2, 5.3, 4.8, 4.3, 4.9, 6.6, 6.9, 7.6, 8.2, 8.9, 10.1, 11.2, 11.9, 12.4, 13.6, 13.5, 13.3, 12.4, 10.7, 10.7, 10.1, 9.7, 10.0, 9.6, 8.9, 9.1, 10.4, 10.5, 10.4, 10.8, 11.0, 10.5, 10.8, 11.0, 11.8, 12.8, 13.9, 14.9, 14.1, 13.7, 13.8, 14.0, 13.6, 12.8, 12.7, 12.2, 12.1, 11.5, 10.2, 9.2, 9.1, 8.7, 8.3, 7.8, 7.5, 7.2, 6.9, 7.7, 9.2, 10.8, 12.4, 13.9, 14.8, 15.3, 15.1, 13.6, 11.6, 11.1, 10.7, 10.0, 9.2, 8.7, 8.2, 7.6, 7.4, 6.8, 6.6, 6.2, 5.6, 5.2, 5.0, 5.8, 7.6, 9.4, 11.3, 12.8, 13.7, 14.1, 13.8, 12.2, 10.3, 9.5, 8.8, 8.2, 7.8, 7.3, 7.3, 7.3, 7.4, 7.0, 6.4, 6.3, 6.0, 5.4, 5.2, 6.3, 8.1, 9.9, 11.5, 12.7, 14.2, 14.7, 14.5, 13.3, 11.9, 10.8, 10.3, 10.3, 9.9, 10.1, 9.7, 10.3, 10.2, 10.7, 10.8, 11.7, 11.1, 11.6, 12.1, 11.0, 12.1, 13.6, 14.9, 15.9, 16.7, 16.9, 16.5, 14.9, 13.4, 12.9, 12.6, 12.1, 11.3, 10.7, 10.2, 9.8, 9.6, 9.3, 8.9, 8.7, 8.6, 8.9, 9.1, 10.0, 11.4, 11.8, 11.6, 12.0, 12.3, 12.2, 11.6, 11.0, 10.8, 10.5, 10.2, 10.0, 9.8, 9.6, 9.4, 9.2, 8.8, 8.6, 8.5, 8.4, 8.1, 7.9, 7.8, 7.7, 8.2, 8.9, 10.0, 10.4, 10.6, 11.0, 10.9, 10.6, 8.4, 7.4, 6.0, 5.0, 4.8, 4.2, 4.0, 3.8, 5.4, 5.0, 4.3, 3.6, 3.7, 3.9, 3.6, 4.3, 5.8, 7.2, 8.5, 9.5, 10.3, 10.5, 10.2, 8.9, 8.3, 7.7, 6.5, 6.2, 6.2, 6.6, 6.7, 6.2, 6.5, 6.1, 5.4, 4.8, 5.2, 5.5, 6.3, 7.0, 7.6, 8.0, 8.2, 8.4, 6.2, 7.0, 7.1, 7.5, 8.0, 8.6, 8.7, 8.4, 8.1, 7.7, 7.7, 7.4, 6.9, 6.9, 6.9, 7.1, 7.3, 7.4, 7.4, 7.3, 7.6, 7.8, 8.4, 8.9, 9.5, 9.7, 9.1, 8.6, 8.3, 7.8, 7.7, 7.6, 7.3, 7.2, 7.7, 7.7, 8.1, 8.3, 8.2, 7.5, 7.1, 7.2, 7.6, 8.1, 8.4, 8.8, 9.5, 10.3, 11.1, 11.3, 11.1, 10.5, 9.9, 9.9, 8.6, 8.1, 8.4, 8.5, 8.6, 8.4, 8.0, 8.2, 8.3, 8.6, 9.0, 9.0, 8.9, 8.9, 9.4, 10.2, 9.8, 10.1, 9.7, 9.4, 9.7, 8.9, 8.2, 8.0, 7.6, 7.4, 7.1, 7.3, 7.3, 7.2, 7.1, 7.2, 7.4, 7.7, 7.9, 8.0, 8.1, 8.2, 8.5, 8.9, 9.3, 10.3, 9.7, 9.8, 9.3, 8.8, 8.5, 8.3, 8.2, 8.2, 8.3, 8.2, 8.3, 8.0, 8.2, 8.2, 8.2, 8.2, 8.3, 8.1, 7.2, 7.2, 7.7, 8.5, 9.2, 10.0, 10.7, 10.8, 10.6, 8.8, 7.3, 7.0, 7.2, 6.4, 5.9, 5.4, 5.0, 4.9, 4.8, 3.8, 2.9, 2.2, 1.9, 2.1, 1.3, 1.9, 3.7, 5.4, 7.0, 8.3, 8.2, 8.4, 8.1, 5.5, 3.9, 3.9, 3.0, 2.9, 3.8, 2.7, 2.1, 1.7, 4.0, 1.9, 0.8, 0.4, 0.7, 1.1, 0.7, 1.6, 3.2, 4.8, 6.3, 7.7, 7.2, 7.5, 7.4, 7.3, 7.0, 7.0, 7.1, 7.1, 7.2, 7.2, 7.2, 7.3, 6.9, 6.8, 6.7, 6.7, 6.7, 6.7, 6.6, 6.7, 6.9, 7.3, 7.9, 8.3, 8.2, 8.2, 8.3, 7.8, 6.3, 5.3, 4.8, 4.3, 3.9, 3.5, 3.0, 2.5, 2.4, 2.4, 3.1, 3.1, 3.3, 3.5, 3.7, 3.9, 4.6, 5.7, 6.7, 7.7, 8.0, 8.4, 8.2, 6.4, 6.0, 5.4, 4.3, 3.9, 3.4, 3.6, 4.1, 4.2, 2.4, 2.9, 2.8, 3.3, 3.8, 3.9, 3.9, 4.0, 4.4, 5.2, 5.9, 6.5, 5.9, 6.3, 6.3, 6.2, 6.0, 6.0, 6.0, 5.9, 5.7, 5.4, 5.2, 5.3, 5.4, 5.5, 5.5, 5.5, 5.5, 5.5, 5.5, 5.5, 5.8, 6.2, 6.4, 6.5, 6.1, 6.0, 5.9, 5.6, 5.4, 5.3, 4.8, 4.5, 4.1, 4.2, 4.2, 4.7, 4.7, 3.6, 2.9, 2.6, 2.5, 2.3, 2.1, 3.2, 4.8, 6.0, 7.2, 8.2, 7.2, 8.0, 7.5, 6.6, 6.3, 6.1, 6.0, 6.0, 5.9, 5.8, 5.6, 5.0, 5.4, 5.2, 5.2, 5.1, 5.2, 5.1, 4.9, 4.8, 4.9, 5.1, 5.3, 5.9, 5.4, 5.7, 6.2, 6.1, 6.4, 6.7, 7.1, 7.2, 7.3, 7.2, 7.4, 6.9, 6.2, 5.8, 5.7, 5.9, 6.0, 5.5, 5.6, 5.8, 6.9, 7.8, 8.8, 9.7, 8.8, 9.2, 9.0, 8.9, 8.7, 8.4, 8.5, 8.5, 8.5, 8.7, 8.9, 9.2, 9.1, 9.4, 9.6, 9.9, 10.1, 10.4, 10.7, 10.8, 11.0, 11.2, 11.4, 11.6, 12.1, 12.0, 11.9, 12.1, 11.2, 10.9, 11.0, 10.9, 11.2, 11.3, 11.3, 11.4, 11.0, 10.7, 10.8, 10.8, 10.8, 10.6, 10.6, 10.4, 10.4, 10.6, 10.6, 10.8, 11.1, 10.9, 10.6, 10.4, 10.0, 10.0, 10.0, 9.7, 9.3, 9.2, 9.1, 9.1, 9.1, 8.8, 8.6, 8.4, 8.4, 8.3, 8.2, 8.3, 8.5, 8.5, 8.7, 8.7, 7.9, 7.9, 7.9, 7.6, 7.2, 6.6, 5.6, 5.4, 5.2, 4.9, 4.4, 3.9, 4.1, 3.8, 3.7, 3.5, 3.3, 3.1, 2.7, 2.4, 3.1, 4.1, 5.1, 5.5, 5.7, 5.3, 4.6, 3.1, 1.0, 0.8, 0.6, -0.5, -0.4, -0.2, -0.0, 0.4, 0.7, 0.5, 0.8, 2.5, 3.5, 4.3, 4.6, 4.5, 4.9, 5.7, 6.5, 7.1, 6.8, 7.1, 7.0, 6.7, 6.4, 6.3, 6.1, 5.3, 5.8, 6.3, 6.5, 6.2, 6.5, 6.6, 6.3, 6.4, 6.3, 6.3, 6.2, 6.4, 6.5, 6.8, 7.0, 7.6, 6.9, 6.9, 6.8, 6.5, 6.3, 6.2, 6.1, 5.9, 5.9, 5.7, 5.7, 5.5, 5.2, 5.0, 4.9, 4.1, 3.6, 2.6, 2.0, 1.0, 1.9, 2.6, 3.5, 4.5, 4.5, 4.7, 4.9, 4.4, 4.6, 4.8, 5.0, 5.0, 4.9, 4.2, 3.3, 2.5, 2.3, 2.1, 2.0, 2.2, 2.5, 2.8, 2.8, 2.7, 2.9, 3.2, 4.0, 4.7, 5.4, 5.6, 4.8, 3.3, 2.5, 2.0, 1.3, 0.8, 0.6, 0.7, 0.8, 0.7, 1.3, 1.3, 1.2, 0.6, -0.3, -0.6, -0.2, -0.2, 0.4, 1.3, 2.2, 2.5, 3.0, 3.3, 2.9, 2.4, 2.1, 1.8, 1.8, 2.2, 2.6, 1.2, 0.9, 0.7, 1.2, 0.7, 0.4, 0.7, -0.0, -0.5, -0.6, -0.7, -0.2, 0.8, 1.8, 2.6, 3.1, 3.3, 2.5, -0.2, 1.0, 1.2, 1.3, 1.3, 0.5, -1.1, -1.9, -2.2, -0.6, 0.0, -0.1, 0.6, 0.5, 0.5, 0.6, 0.6, 0.8, 1.2, 1.6, 1.9, 2.6, 3.0, 2.6, 1.8, 1.3, 1.5, 1.0, 1.5, 0.6, -0.1, 0.4, 1.0, 1.3, 1.7, 2.0, 1.8, 1.5, 1.5, 1.8, 2.2, 1.8, 2.3, 3.5, 4.2, 5.0, 5.6, 5.7, 5.6, 5.7, 5.3, 4.7, 4.3, 4.0, 3.6, 3.2, 1.8, 1.1, 0.8, 1.4, 2.4, 3.0, 3.6, 3.9, 4.5, 5.8, 6.4, 6.3, 6.2, 6.2, 6.8, 7.1, 7.4, 7.8, 8.1, 8.4, 7.6, 7.5, 7.2, 6.4, 6.0, 5.8, 4.7, 3.8, 3.0, 3.0, 2.2, 1.9, 1.5, 1.7, 2.3, 2.6, 2.8, 3.2, 2.9, 2.1, 1.0, 0.4, -0.3, -0.9, -0.9, -1.6, -2.0, -2.4, -2.6, -2.6, -2.5, -1.9, -1.3, -1.1, -0.9, -0.9, -0.9, -0.2, 0.7, 1.6, 2.2, 3.1, 2.9, 2.2, 1.6, 1.7, 1.9, 2.0, 1.8, 1.6, 1.8, 2.1, 1.4, 1.5, 1.7, 1.5, 1.3, 1.4, 1.5, 1.6, 1.6, 1.7, 1.8, 2.3, 2.7, 2.5, 2.5, 2.5, 2.2, 2.0, 1.9, 1.8, 1.8, 1.8, 1.8, 1.7, 1.5, 1.1, 0.9, 0.9, 0.8, 0.8, 0.9, 1.0, 1.0, 1.1, 1.4, 1.5, 1.5, 1.1, 1.4, 1.3, 1.1, 0.9, 0.8, 0.8, 0.9, 0.9, 0.8, 0.7, 0.6, 0.6, 0.5, -0.5, -1.1, -1.7, -1.3, -0.5, -0.1, 0.1, 0.5, 1.0, 1.4, 2.2, 2.2, 2.1, 0.3, -0.5, -0.7, -1.0, -1.0, -1.2, -2.0, -2.2, -2.4, -0.6, -0.8, -1.2, -1.7, -1.9, -1.9, -2.2, -2.4, -2.0, -0.9, -0.2, 0.6, 1.0, 0.9, 0.5, 0.1, 0.2, 0.4, 0.0, -0.2, -0.5, -1.1, -1.1, -0.7, -1.3, -1.9, -2.0, -1.8, -1.9, -1.9, -1.9, -1.7, -0.8, -0.6, -0.1, 0.1, 0.5, 0.5, 0.2, -0.5, -1.1, -1.4, -1.3, -1.1, -0.9, -0.7, -0.6, -0.7, -2.3, -2.2, -2.4, -2.2, -2.2, -2.3, -2.3, -2.3, -2.2, -1.9, -1.5, -1.1, -0.8, -0.6, -0.8, -1.6, -1.6, -1.8, -1.7, -2.2, -2.0, -2.0, -2.3, -1.7, -1.5, -1.4, -1.4, -1.4, -1.3, -1.3, -1.3, -1.3, -1.2, -0.8, -0.5, -0.1, 0.4, 0.2, 0.3, -0.2, -0.0, -0.7, -1.0, -1.7, -3.0, -4.7, -5.5, -4.9, -4.1, -2.4, -1.7, -2.0, -2.7, -3.2, -3.6, -4.3, -3.4, -1.8, -0.4, -0.3, -0.8, 0.1, 0.4, -1.4, -2.4, -1.8, -1.0, -1.6, -1.1, -0.1, -0.5, 0.2, -0.1, -0.3, 0.2, -0.8, -1.1, -1.1, -1.1, -0.1, 0.2, 0.2, 0.5, 1.3, 2.0, 2.0, 2.1, 1.8, 1.8, 1.8, 1.9, 2.0, 2.1, 2.5, 2.8, 3.0, 2.8, 2.8, 3.1, 3.4, 3.6, 3.9, 4.2, 4.6, 4.9, 5.4, 5.9, 6.3, 6.3, 6.9, 7.2, 7.3, 7.5, 7.2, 7.3, 7.3, 7.0, 6.7, 6.6, 6.8, 7.1, 7.1, 6.7, 6.6, 6.3, 6.1, 6.1, 6.0, 6.0, 6.2, 6.6, 6.9, 7.4, 7.6, 7.4, 7.1, 6.9, 6.9, 6.9, 7.0, 7.0, 7.1, 7.1, 6.8, 6.5, 6.8, 6.9, 6.9, 7.0, 6.7, 6.5, 7.1, 7.4, 7.7, 8.4, 8.6, 8.6, 8.9, 8.7, 8.6, 8.6, 8.7, 8.3, 7.9, 8.0, 7.9, 7.8, 7.8, 8.2, 8.3, 8.3, 8.1, 8.0, 7.9, 7.9, 7.9, 7.9, 8.2, 8.4, 8.7, 8.7, 8.6, 7.6, 5.9, 5.1, 4.7, 4.3, 4.0, 3.9, 3.8, 3.7, 3.5, 3.6, 3.9, 4.2, 4.1, 4.2, 4.3, 4.4, 4.6, 4.8, 5.0, 5.5, 5.5, 6.1, 6.3, 6.0, 5.6, 5.4, 5.4, 5.3, 5.1, 5.0, 5.0, 5.0, 5.1, 4.8, 4.9, 4.9, 5.0, 5.1, 5.2, 5.3, 5.4, 5.5, 5.8, 6.4, 6.9, 5.7, 6.0, 6.0, 5.8, 5.8, 6.0, 6.1, 6.4, 6.9, 7.1, 6.9, 6.6, 6.5, 6.4, 6.3, 6.3, 6.2, 6.0, 5.8, 5.7, 5.9, 6.2, 6.6, 6.9, 6.6, 6.7, 6.7, 6.6, 6.7, 6.1, 5.5, 4.3, 3.5, 2.5, 1.6, 0.9, 0.8, 0.6, 0.4, 0.3, 0.2, 0.0, -0.2, -0.6, -0.4, 0.8, 2.1, 3.1, 3.7, 3.8, 3.3, 1.2, 1.0, -0.1, -1.6, -2.4, -3.0, -3.6, -3.9, -3.8, -1.6, -0.7, -0.7, -1.2, -1.7, -1.2, -1.4, -0.7, -0.5, -0.1, 0.2, 0.5, 0.6, 0.5, 0.2, -0.2, -0.0, 0.0, -0.0, -0.1, -0.4, -0.5, -0.7, -0.8, -0.5, -0.6, -0.7, -0.7, -0.8, -1.2, -2.1, -2.2, -2.0, -0.7, -0.3, -0.3, -0.2, -0.3, -1.0, -2.9, -3.3, -3.0, -3.0, -2.8, -2.9, -3.5, -3.4, -3.7, -3.3, -3.7, -3.2, -3.1, -3.1, -2.7, -2.6, -2.1, -1.7, -1.0, -0.2, 0.5, -0.1, -0.3, -0.2, -0.6, -0.7, -0.8, -0.9, -0.6, -0.0, 0.4, 0.7, 1.4, 1.6, 1.7, 1.9, 2.2, 2.4, 2.8, 3.1, 3.5, 3.5, 3.5, 3.6, 3.3, 3.2, 2.2, 1.1, 0.8, 0.7, 0.9, 0.8, -0.1, -1.8, -4.1, -5.2, -5.8, -5.8, -7.2, -6.3, -7.0, -7.5, -7.6, -7.1, -6.1, -6.0, -5.0, -3.7, -2.9, -3.0, -3.0, -3.3, -3.9, -4.3, -4.6, -5.0, -7.3, -7.8, -6.7, -6.6, -8.0, -9.3, -10.8, -10.8, -10.7, -10.7, -10.1, -9.4, -9.5, -9.6, -8.6, -7.1, -5.2, -4.1, -3.5, -3.9, -5.5, -5.8, -5.8, -5.8, -5.9, -6.2, -6.6, -6.8, -6.9, -7.2, -6.6, -6.1, -5.5, -4.5, -4.0, -3.8, -3.6, -3.4, -3.2, -2.7, -1.7, -0.4, -0.8, -1.1, -1.3, -1.2, -1.5, -1.6, -1.4, -1.6, -2.1, -2.6, -3.2, -3.3, -3.5, -3.5, -3.8, -3.6, -3.0, -2.4, -2.2, -1.2, -0.4, 0.8, 1.1, 1.1, 1.8, 2.1, 1.5, 1.0, 0.7, 1.5, 1.7, 1.6, 1.2, 1.0, -0.0, 0.3, 0.3, 0.1, 0.6, 0.9, 0.6, 1.1, 0.7, 1.6, 1.9, 2.5, 2.6, 3.0, 3.3, 3.3, 3.3, 3.0, 2.6, 2.7, 2.6, 3.0, 3.3, 3.6, 3.7, 3.6, 3.7, 4.1, 4.3, 5.2, 6.6, 7.0, 7.4, 7.7, 8.4, 8.7, 8.8, 8.9, 9.3, 9.8, 10.1, 10.7, 11.2, 11.7, 11.7, 11.6, 11.6, 11.7, 11.6, 11.6, 11.9, 12.1, 12.3, 12.1, 11.6, 11.4, 11.6, 11.4, 11.8, 12.3, 12.3, 12.8, 13.1, 12.8, 12.6, 12.5, 12.4, 11.4, 11.3, 11.3, 11.1, 10.8, 10.9], 'relative_humidity_2m': [94, 94, 95, 94, 94, 95, 96, 96, 96, 95, 94, 97, 96, 95, 94, 96, 96, 96, 95, 95, 95, 95, 95, 95, 94, 93, 93, 94, 94, 94, 94, 94, 93, 93, 91, 90, 91, 90, 95, 97, 99, 99, 98, 97, 97, 98, 99, 99, 97, 98, 97, 96, 97, 96, 93, 92, 92, 93, 92, 92, 93, 92, 92, 94, 94, 94, 94, 94, 94, 95, 95, 94, 94, 93, 93, 93, 93, 93, 92, 93, 92, 92, 91, 90, 94, 92, 93, 94, 95, 95, 95, 95, 95, 95, 95, 95, 94, 94, 94, 94, 94, 94, 94, 94, 94, 93, 91, 91, 95, 95, 96, 95, 94, 93, 92, 91, 92, 93, 94, 94, 94, 95, 97, 95, 97, 100, 100, 100, 99, 98, 98, 98, 89, 89, 91, 94, 96, 96, 98, 98, 98, 98, 98, 98, 96, 96, 96, 94, 93, 92, 92, 93, 92, 91, 90, 87, 90, 90, 90, 90, 91, 92, 91, 90, 90, 91, 90, 90, 94, 93, 92, 92, 93, 93, 94, 95, 95, 93, 90, 90, 91, 90, 90, 92, 95, 95, 96, 96, 96, 97, 96, 96, 96, 95, 95, 96, 96, 97, 99, 99, 98, 94, 92, 94, 98, 96, 93, 96, 96, 95, 96, 97, 98, 98, 98, 99, 98, 98, 98, 98, 98, 99, 99, 99, 96, 93, 90, 85, 84, 83, 84, 86, 88, 89, 91, 94, 92, 92, 90, 84, 83, 81, 80, 81, 81, 81, 82, 82, 81, 78, 71, 71, 79, 82, 80, 77, 75, 73, 70, 68, 68, 68, 68, 69, 74, 76, 84, 89, 90, 92, 94, 95, 95, 95, 95, 94, 96, 96, 97, 99, 98, 98, 95, 92, 92, 89, 89, 90, 90, 90, 91, 91, 89, 90, 90, 89, 89, 86, 84, 84, 86, 81, 82, 84, 84, 90, 91, 87, 87, 86, 85, 86, 88, 90, 92, 89, 89, 93, 88, 86, 88, 87, 85, 83, 83, 80, 81, 84, 88, 91, 94, 96, 95, 95, 96, 96, 94, 93, 93, 94, 94, 93, 88, 87, 87, 85, 73, 77, 80, 83, 82, 80, 81, 75, 70, 69, 68, 66, 68, 71, 68, 68, 67, 71, 77, 81, 83, 82, 80, 77, 75, 75, 79, 73, 71, 71, 74, 76, 77, 78, 79, 82, 85, 85, 79, 78, 78, 82, 81, 80, 79, 80, 81, 80, 79, 78, 77, 75, 74, 77, 80, 80, 83, 85, 90, 91, 91, 90, 88, 88, 88, 86, 83, 83, 83, 83, 80, 78, 76, 76, 86, 89, 94, 95, 95, 99, 99, 97, 98, 96, 93, 93, 94, 94, 94, 94, 94, 94, 93, 93, 92, 92, 91, 95, 98, 99, 96, 93, 92, 93, 92, 92, 93, 93, 93, 92, 91, 90, 92, 93, 92, 91, 90, 89, 84, 81, 78, 71, 69, 67, 65, 66, 61, 61, 64, 66, 63, 67, 61, 61, 66, 65, 63, 57, 53, 55, 58, 51, 51, 49, 48, 51, 53, 56, 60, 65, 67, 72, 76, 69, 69, 68, 74, 79, 80, 71, 68, 64, 61, 61, 60, 59, 58, 60, 74, 72, 72, 75, 78, 79, 77, 84, 89, 90, 92, 92, 93, 94, 89, 89, 94, 94, 92, 91, 92, 94, 96, 98, 98, 99, 98, 96, 95, 95, 96, 97, 97, 96, 97, 96, 96, 96, 97, 96, 96, 97, 97, 97, 98, 98, 98, 98, 98, 97, 98, 99, 99, 98, 99, 99, 100, 98, 99, 99, 99, 99, 100, 99, 100, 99, 96, 96, 95, 97, 96, 91, 87, 86, 79, 78, 81, 86, 89, 92, 94, 94, 93, 92, 94, 94, 93, 93, 92, 90, 91, 92, 92, 92, 91, 87, 84, 80, 83, 80, 80, 83, 86, 86, 86, 85, 88, 92, 93, 93, 92, 94, 95, 94, 93, 95, 96, 96, 94, 89, 83, 76, 76, 73, 73, 79, 85, 86, 82, 84, 86, 84, 84, 87, 90, 92, 93, 92, 94, 95, 96, 97, 95, 89, 83, 80, 70, 68, 67, 71, 75, 80, 77, 79, 86, 87, 89, 88, 92, 92, 93, 93, 94, 93, 94, 93, 90, 80, 74, 70, 74, 72, 72, 74, 78, 78, 78, 79, 79, 79, 81, 82, 91, 92, 91, 91, 91, 91, 90, 93, 91, 83, 77, 70, 79, 78, 79, 74, 79, 85, 88, 90, 89, 88, 89, 94, 95, 99, 97, 97, 95, 94, 94, 95, 95, 90, 80, 72, 70, 67, 66, 73, 83, 85, 86, 87, 87, 89, 90, 95, 90, 88, 86, 84, 80, 73, 73, 71, 65, 58, 51, 43, 52, 47, 47, 49, 54, 54, 56, 58, 61, 64, 68, 74, 81, 85, 88, 90, 92, 94, 95, 95, 93, 90, 84, 81, 88, 89, 90, 95, 99, 99, 99, 99, 98, 98, 98, 98, 99, 99, 99, 99, 99, 98, 99, 98, 97, 96, 93, 91, 97, 96, 96, 96, 96, 96, 98, 98, 97, 93, 86, 89, 96, 95, 96, 97, 96, 95, 93, 93, 91, 88, 83, 82, 87, 86, 88, 90, 92, 92, 92, 91, 90, 91, 90, 89, 89, 89, 88, 87, 87, 85, 84, 81, 78, 74, 72, 69, 75, 72, 70, 72, 74, 77, 78, 78, 77, 75, 73, 73, 79, 81, 79, 76, 74, 72, 70, 68, 64, 59, 59, 63, 64, 57, 60, 64, 68, 67, 65, 67, 61, 50, 46, 46, 60, 61, 60, 58, 58, 55, 54, 54, 53, 50, 49, 51, 65, 64, 64, 62, 61, 62, 64, 63, 61, 58, 55, 55, 60, 58, 59, 61, 62, 64, 65, 67, 67, 66, 65, 71, 71, 71, 72, 72, 74, 77, 78, 78, 79, 79, 81, 82, 84, 85, 85, 87, 87, 88, 87, 88, 85, 82, 79, 73, 74, 73, 72, 79, 81, 79, 83, 86, 88, 88, 90, 93, 93, 94, 98, 100, 91, 90, 89, 88, 89, 94, 93, 87, 80, 72, 69, 71, 73, 74, 74, 77, 85, 87, 87, 88, 88, 88, 87, 88, 88, 88, 88, 89, 89, 86, 84, 82, 82, 82, 73, 68, 73, 81, 82, 88, 90, 91, 92, 92, 99, 98, 100, 98, 98, 100, 100, 100, 93, 86, 82, 76, 77, 74, 75, 75, 77, 83, 84, 85, 83, 82, 85, 88, 89, 93, 95, 95, 96, 96, 95, 95, 91, 87, 82, 76, 76, 76, 77, 79, 84, 86, 88, 90, 89, 89, 90, 91, 92, 93, 93, 93, 93, 93, 94, 92, 89, 88, 88, 85, 89, 86, 84, 86, 88, 94, 96, 98, 100, 100, 98, 96, 91, 93, 93, 93, 90, 89, 87, 82, 73, 66, 62, 59, 64, 65, 65, 67, 68, 69, 72, 78, 82, 86, 88, 91, 93, 94, 95, 95, 95, 94, 95, 96, 95, 95, 95, 93, 94, 94, 93, 94, 93, 94, 95, 95, 95, 95, 95, 95, 95, 95, 94, 92, 91, 91, 91, 93, 92, 92, 92, 92, 90, 86, 90, 91, 93, 94, 95, 96, 97, 98, 98, 98, 96, 95, 94, 94, 94, 95, 96, 96, 94, 92, 88, 84, 77, 73, 74, 77, 81, 86, 83, 79, 80, 83, 83, 82, 82, 83, 88, 89, 91, 92, 93, 93, 91, 87, 81, 76, 70, 64, 68, 69, 81, 86, 88, 90, 90, 91, 92, 93, 91, 90, 89, 89, 90, 90, 89, 87, 83, 78, 73, 70, 67, 64, 67, 72, 83, 86, 86, 86, 85, 85, 87, 89, 88, 87, 88, 89, 89, 90, 89, 87, 81, 74, 68, 63, 58, 57, 59, 67, 74, 78, 78, 80, 82, 86, 88, 90, 89, 90, 91, 92, 93, 93, 93, 92, 86, 81, 76, 71, 64, 62, 61, 66, 81, 85, 86, 88, 88, 92, 94, 94, 92, 91, 89, 85, 82, 84, 89, 85, 78, 73, 67, 63, 59, 57, 60, 65, 72, 79, 82, 85, 86, 87, 88, 87, 86, 87, 87, 88, 90, 90, 89, 86, 81, 76, 70, 66, 61, 59, 61, 68, 75, 80, 84, 86, 88, 90, 91, 91, 91, 94, 93, 92, 93, 93, 92, 89, 84, 76, 68, 62, 56, 54, 55, 62, 70, 76, 79, 81, 82, 87, 89, 85, 93, 94, 92, 92, 92, 92, 91, 90, 85, 84, 84, 75, 72, 68, 69, 69, 69, 75, 80, 81, 84, 86, 86, 91, 87, 91, 89, 88, 87, 88, 88, 86, 82, 78, 75, 70, 71, 68, 67, 67, 70, 76, 81, 83, 89, 91, 93, 93, 90, 92, 91, 87, 89, 93, 95, 95, 92, 89, 86, 84, 84, 80, 79, 78, 78, 85, 87, 90, 90, 89, 92, 93, 92, 94, 94, 95, 95, 95, 95, 93, 89, 82, 79, 76, 74, 72, 70, 70, 85, 85, 89, 91, 92, 92, 92, 94, 95, 95, 95, 96, 98, 99, 99, 99, 97, 92, 81, 75, 74, 70, 68, 69, 71, 78, 81, 83, 86, 88, 95, 97, 94, 95, 96, 97, 99, 99, 98, 93, 88, 85, 80, 76, 67, 61, 58, 62, 72, 81, 83, 83, 80, 83, 88, 92, 91, 93, 96, 98, 98, 97, 97, 94, 93, 90, 85, 82, 80, 79, 77, 77, 78, 82, 83, 85, 86, 83, 87, 89, 85, 84, 88, 93, 94, 94, 95, 93, 87, 74, 57, 47, 45, 40, 41, 41, 49, 61, 65, 70, 74, 79, 83, 85, 83, 79, 76, 76, 80, 85, 88, 83, 77, 65, 65, 75, 81, 76, 71, 76, 82, 89, 91, 92, 91, 93, 94, 94, 89, 85, 80, 75, 76, 80, 80, 78, 72, 66, 66, 65, 65, 62, 61, 61, 63, 66, 69, 75, 81, 86, 91, 94, 96, 94, 92, 91, 91, 91, 91, 86, 80, 71, 55, 47, 42, 41, 40, 40, 64, 62, 73, 73, 74, 74, 76, 79, 78, 81, 81, 79, 75, 80, 76, 68, 59, 61, 59, 53, 41, 40, 39, 40, 68, 68, 64, 65, 66, 67, 70, 72, 72, 72, 73, 75, 76, 76, 75, 62, 61, 58, 49, 43, 25, 29, 32, 40, 56, 56, 55, 52, 52, 54, 69, 76, 75, 76, 75, 74, 77, 81, 86, 87, 85, 82, 86, 87, 86, 82, 78, 85, 78, 83, 85, 84, 84, 86, 87, 87, 87, 87, 87, 89, 88, 87, 89, 86, 83, 81, 77, 63, 54, 58, 44, 43, 45, 47, 61, 67, 67, 75, 82, 83, 82, 87, 90, 90, 88, 88, 87, 84, 83, 85, 88, 87, 78, 76, 87, 78, 71, 70, 72, 73, 76, 72, 68, 64, 66, 63, 64, 68, 74, 88, 90, 88, 88, 87, 88, 86, 84, 79, 76, 76, 74, 75, 82, 83, 87, 85, 84, 87, 91, 93, 94, 93, 92, 94, 94, 92, 88, 86, 82, 75, 76, 72, 68, 77, 87, 90, 93, 92, 93, 91, 93, 94, 95, 95, 95, 94, 90, 88, 89, 86, 80, 75, 66, 63, 60, 59, 58, 55, 59, 65, 75, 84, 89, 92, 93, 93, 93, 93, 94, 94, 94, 94, 92, 89, 83, 79, 72, 69, 74, 81, 83, 81, 79, 86, 89, 92, 92, 92, 93, 94, 95, 95, 96, 96, 95, 95, 95, 93, 86, 79, 78, 76, 75, 71, 70, 71, 90, 90, 94, 92, 95, 93, 95, 96, 96, 95, 95, 93, 93, 94, 94, 91, 86, 88, 86, 81, 78, 67, 57, 56, 57, 58, 59, 68, 73, 75, 78, 80, 87, 87, 85, 83, 79, 79, 80, 75, 64, 58, 50, 48, 53, 50, 48, 48, 50, 51, 51, 50, 50, 51, 53, 58, 71, 78, 83, 87, 89, 91, 92, 93, 93, 90, 87, 73, 75, 69, 57, 55, 48, 51, 59, 65, 73, 77, 77, 77, 70, 69, 67, 71, 80, 87, 87, 80, 70, 62, 55, 49, 42, 42, 41, 41, 50, 62, 68, 69, 73, 75, 71, 72, 79, 84, 85, 87, 88, 88, 87, 85, 83, 78, 73, 63, 69, 70, 74, 73, 75, 78, 81, 84, 87, 91, 94, 95, 88, 88, 88, 91, 91, 93, 88, 84, 81, 79, 73, 66, 62, 61, 60, 58, 63, 60, 65, 83, 90, 89, 91, 93, 93, 93, 94, 94, 95, 96, 94, 87, 81, 76, 70, 61, 52, 50, 49, 52, 65, 80, 73, 77, 80, 83, 89, 92, 89, 92, 87, 88, 94, 93, 90, 87, 80, 73, 68, 67, 61, 61, 63, 58, 62, 72, 85, 85, 84, 86, 87, 86, 87, 87, 87, 84, 76, 79, 77, 71, 75, 81, 82, 71, 74, 72, 72, 67, 61, 59, 78, 82, 83, 83, 84, 85, 87, 90, 90, 91, 92, 92, 84, 76, 70, 65, 58, 52, 50, 57, 60, 62, 60, 62, 63, 68, 72, 69, 66, 66, 64, 66, 72, 72, 79, 80, 77, 75, 72, 70, 67, 65, 55, 50, 47, 56, 56, 59, 63, 67, 70, 72, 74, 76, 72, 81, 82, 81, 84, 85, 77, 70, 62, 56, 54, 56, 49, 49, 48, 50, 61, 76, 81, 81, 82, 86, 89, 87, 86, 91, 94, 96, 100, 100, 96, 87, 77, 69, 61, 52, 38, 35, 33, 39, 56, 69, 69, 71, 73, 73, 74, 78, 81, 81, 83, 85, 84, 85, 76, 74, 71, 65, 74, 76, 58, 51, 51, 63, 72, 80, 80, 82, 81, 81, 82, 79, 75, 79, 90, 96, 95, 93, 90, 85, 81, 74, 67, 57, 49, 48, 41, 60, 59, 66, 66, 71, 73, 77, 80, 84, 86, 87, 90, 93, 93, 93, 86, 73, 64, 56, 54, 53, 42, 44, 40, 41, 40, 44, 47, 58, 70, 78, 77, 68, 67, 78, 82, 88, 87, 88, 80, 72, 63, 58, 60, 57, 54, 53, 55, 56, 58, 63, 65, 67, 69, 70, 71, 73, 79, 80, 80, 80, 77, 73, 70, 70, 79, 89, 92, 87, 81, 72, 56, 44, 43, 51, 54, 62, 65, 65, 65, 67, 75, 77, 80, 82, 83, 87, 84, 75, 69, 59, 55, 62, 66, 66, 64, 56, 59, 67, 67, 67, 70, 76, 80, 80, 83, 84, 83, 87, 86, 86, 82, 73, 67, 65, 55, 52, 56, 57, 55, 59, 57, 69, 76, 82, 85, 84, 82, 82, 84, 84, 86, 86, 83, 82, 81, 77, 68, 56, 48, 45, 52, 50, 47, 48, 57, 58, 60, 60, 62, 62, 64, 68, 66, 65, 66, 68, 68, 68, 66, 61, 57, 53, 51, 50, 47, 43, 44, 49, 51, 58, 66, 67, 76, 80, 82, 88, 88, 88, 91, 89, 88, 93, 94, 91, 90, 87, 83, 78, 72, 70, 71, 68, 70, 75, 82, 85, 86, 85, 90, 91, 90, 92, 93, 92, 92, 92, 91, 89, 81, 71, 64, 58, 57, 52, 48, 52, 60, 72, 87, 91, 89, 88, 87, 86, 90, 88, 91, 90, 91, 90, 88, 84, 80, 72, 63, 55, 66, 59, 55, 48, 46, 54, 61, 64, 78, 86, 88, 89, 83, 86, 89, 90, 91, 89, 83, 77, 72, 61, 55, 49, 53, 49, 47, 46, 47, 54, 68, 82, 83, 83, 83, 87, 83, 84, 88, 91, 93, 93, 87, 80, 69, 59, 55, 50, 48, 47, 47, 48, 48, 54, 63, 72, 75, 77, 76, 78, 74, 77, 79, 83, 83, 82, 78, 71, 63, 55, 52, 46, 48, 46, 45, 48, 51, 56, 74, 86, 89, 90, 85, 82, 86, 84, 85, 85, 85, 85, 84, 83, 75, 67, 59, 55, 55, 53, 52, 52, 55, 60, 63, 63, 64, 65, 68, 71, 73, 74, 75, 75, 75, 74, 74, 74, 74, 69, 65, 62, 68, 63, 62, 66, 72, 74, 77, 82, 87, 91, 94, 95, 96, 97, 98, 97, 96, 95, 94, 95, 96, 95, 93, 91, 86, 79, 78, 79, 79, 86, 92, 93, 94, 94, 94, 95, 97, 97, 98, 98, 98, 97, 94, 93, 90, 80, 72, 63, 73, 64, 59, 55, 57, 65, 72, 76, 82, 84, 88, 92, 89, 94, 94, 95, 95, 93, 88, 83, 79, 75, 70, 67, 65, 66, 58, 42, 45, 52, 56, 60, 64, 79, 91, 96, 97, 97, 97, 97, 97, 93, 82, 70, 62, 54, 46, 43, 41, 46, 40, 47, 50, 59, 59, 60, 58, 56, 57, 61, 61, 63, 65, 65, 63, 65, 65, 62, 52, 45, 40, 41, 39, 42, 41, 43, 47, 67, 74, 80, 81, 83, 83, 83, 74, 78, 76, 76, 79, 81, 79, 66, 63, 56, 52, 53, 53, 50, 45, 41, 43, 47, 51, 62, 63, 64, 70, 67, 62, 63, 71, 78, 81, 81, 80, 77, 72, 64, 61, 58, 56, 51, 49, 47, 47, 52, 56, 56, 60, 61, 72, 76, 76, 79, 76, 80, 78, 78, 75, 70, 65, 71, 73, 66, 52, 39, 38, 42, 41, 41, 43, 47, 55, 71, 71, 82, 81, 82, 83, 85, 87, 83, 75, 64, 57, 49, 44, 44, 41, 41, 40, 40, 41, 47, 58, 82, 92, 93, 93, 91, 86, 87, 84, 83, 84, 77, 67, 58, 48, 44, 43, 38, 37, 36, 35, 34, 35, 43, 58, 53, 48, 51, 55, 57, 58, 58, 59, 61, 65, 65, 63, 58, 55, 51, 48, 43, 39, 40, 38, 36, 36, 47, 57, 59, 60, 61, 61, 60, 59, 62, 64, 69, 73, 75, 77, 75, 77, 79, 77, 72, 65, 60, 55, 53, 73, 75, 83, 83, 83, 85, 89, 81, 80, 79, 79, 79, 82, 85, 81, 79, 68, 65, 59, 59, 63, 61, 64, 63, 64, 64, 71, 78, 82, 87, 92, 92, 88, 92, 92, 92, 94, 89, 88, 83, 75, 71, 63, 58, 59, 56, 53, 53, 54, 59, 71, 79, 80, 84, 87, 90, 94, 94, 93, 93, 92, 90, 87, 84, 82, 81, 80, 80, 84, 72, 78, 87, 79, 83, 89, 90, 90, 90, 91, 92, 90, 90, 89, 88, 88, 88, 85, 81, 79, 67, 53, 46, 55, 58, 61, 59, 55, 62, 70, 80, 83, 87, 85, 81, 84, 76, 67, 65, 63, 61, 57, 58, 55, 59, 56, 55, 54, 53, 55, 55, 64, 60, 63, 67, 64, 70, 69, 66, 77, 73, 69, 66, 65, 64, 62, 58, 57, 57, 57, 55, 75, 58, 46, 44, 70, 72, 69, 63, 61, 62, 62, 62, 61, 64, 70, 74, 76, 73, 65, 60, 61, 59, 59, 65, 68, 63, 61, 50, 51, 54, 66, 74, 72, 77, 80, 75, 88, 92, 92, 93, 94, 88, 79, 81, 90, 96, 88, 80, 73, 75, 74, 73, 77, 78, 80, 84, 85, 86, 87, 89, 86, 88, 91, 92, 92, 86, 79, 70, 58, 50, 46, 46, 49, 44, 40, 39, 40, 51, 60, 56, 52, 57, 60, 57, 52, 53, 53, 54, 59, 63, 61, 57, 54, 51, 49, 47, 40, 38, 37, 40, 48, 56, 56, 60, 62, 62, 59, 62, 58, 60, 62, 64, 68, 67, 63, 58, 56, 53, 50, 47, 43, 40, 38, 41, 51, 51, 52, 66, 70, 70, 74, 84, 85, 82, 86, 91, 90, 85, 79, 70, 65, 61, 59, 57, 49, 47, 46, 46, 57, 68, 75, 80, 84, 89, 92, 93, 93, 93, 95, 95, 94, 92, 90, 85, 82, 80, 80, 77, 79, 77, 77, 78, 78, 83, 85, 87, 88, 89, 86, 86, 90, 93, 94, 95, 96, 95, 94, 92, 95, 93, 93, 92, 92, 91, 90, 90, 92, 91, 92, 92, 95, 96, 96, 96, 95, 96, 96, 96, 96, 96, 97, 96, 94, 91, 88, 88, 78, 75, 70, 68, 70, 69, 71, 76, 80, 87, 91, 93, 92, 96, 98, 96, 91, 86, 83, 79, 72, 59, 57, 60, 71, 59, 70, 64, 55, 63, 71, 79, 82, 83, 89, 92, 91, 93, 93, 94, 91, 86, 81, 75, 71, 69, 65, 63, 72, 68, 58, 60, 60, 60, 66, 75, 76, 83, 89, 92, 94, 96, 97, 95, 94, 91, 83, 77, 71, 70, 70, 69, 52, 49, 49, 50, 51, 64, 74, 83, 87, 92, 93, 94, 93, 91, 90, 92, 91, 89, 88, 82, 83, 82, 81, 79, 70, 63, 61, 61, 59, 60, 69, 78, 69, 77, 89, 89, 91, 93, 94, 94, 92, 90, 87, 83, 75, 70, 68, 64, 55, 48, 45, 44, 42, 46, 62, 69, 66, 82, 78, 79, 78, 81, 87, 91, 91, 88, 83, 73, 62, 57, 53, 51, 49, 46, 44, 43, 46, 51, 59, 70, 76, 83, 81, 72, 70, 70, 72, 73, 74, 73, 67, 64, 60, 55, 51, 46, 41, 38, 39, 37, 39, 46, 56, 66, 66, 79, 72, 68, 75, 75, 79, 83, 79, 77, 71, 68, 74, 65, 51, 46, 43, 46, 50, 63, 68, 71, 71, 68, 66, 65, 66, 74, 83, 85, 86, 89, 89, 85, 80, 75, 71, 80, 70, 58, 60, 63, 66, 72, 66, 69, 75, 82, 85, 88, 88, 83, 83, 86, 92, 91, 87, 80, 73, 66, 58, 49, 40, 38, 42, 38, 39, 40, 42, 48, 54, 57, 58, 62, 67, 70, 61, 73, 81, 86, 86, 78, 76, 66, 67, 63, 58, 56, 63, 54, 52, 64, 61, 57, 62, 61, 69, 73, 78, 75, 81, 83, 84, 85, 82, 80, 76, 69, 64, 59, 57, 58, 52, 47, 53, 65, 75, 82, 84, 86, 88, 87, 86, 89, 92, 87, 84, 86, 83, 81, 75, 74, 72, 70, 62, 54, 74, 73, 61, 63, 70, 79, 80, 85, 89, 92, 93, 94, 94, 95, 96, 96, 93, 90, 87, 84, 83, 80, 73, 67, 67, 63, 50, 46, 60, 63, 69, 80, 86, 87, 89, 91, 92, 94, 94, 94, 95, 91, 84, 76, 68, 64, 61, 60, 70, 64, 61, 58, 58, 55, 61, 66, 75, 79, 74, 74, 76, 77, 79, 82, 78, 72, 67, 60, 54, 50, 49, 46, 42, 40, 40, 41, 42, 47, 55, 61, 65, 69, 73, 79, 82, 89, 92, 94, 91, 83, 76, 67, 60, 56, 52, 49, 39, 37, 35, 35, 37, 41, 58, 56, 53, 56, 58, 78, 91, 95, 97, 97, 91, 83, 73, 66, 61, 51, 43, 36, 32, 31, 34, 40, 56, 60, 71, 66, 64, 64, 62, 63, 62, 67, 75, 83, 86, 84, 78, 73, 70, 64, 54, 46, 47, 42, 46, 42, 41, 50, 56, 64, 67, 66, 60, 58, 60, 61, 62, 65, 65, 63, 58, 52, 46, 39, 36, 34, 33, 33, 32, 33, 34, 36, 44, 49, 51, 52, 52, 56, 54, 57, 60, 60, 61, 61, 61, 58, 53, 47, 42, 40, 49, 52, 55, 56, 59, 62, 67, 77, 83, 87, 88, 89, 81, 89, 92, 92, 85, 75, 66, 59, 52, 47, 42, 38, 38, 36, 34, 35, 36, 39, 44, 44, 46, 48, 51, 57, 66, 71, 74, 79, 76, 69, 62, 55, 49, 41, 34, 31, 34, 33, 31, 33, 36, 42, 56, 58, 51, 51, 54, 57, 60, 63, 66, 72, 73, 66, 58, 49, 44, 42, 40, 38, 31, 31, 32, 34, 35, 34, 44, 51, 56, 60, 59, 62, 67, 75, 81, 86, 82, 75, 68, 60, 51, 46, 44, 45, 40, 41, 40, 42, 42, 43, 47, 52, 58, 54, 59, 63, 71, 78, 84, 90, 81, 70, 58, 45, 42, 40, 38, 37, 35, 35, 35, 36, 37, 38, 40, 47, 54, 62, 61, 64, 72, 66, 77, 77, 77, 69, 59, 52, 44, 42, 39, 36, 30, 29, 29, 28, 29, 32, 36, 39, 43, 49, 58, 63, 68, 71, 74, 80, 74, 68, 62, 55, 49, 46, 42, 39, 40, 40, 36, 38, 42, 43, 47, 58, 65, 70, 69, 69, 66, 74, 79, 80, 79, 79, 78, 76, 75, 78, 77, 72, 66, 89, 82, 64, 49, 50, 52, 56, 57, 62, 63, 65, 65, 64, 65, 68, 67, 64, 62, 55, 54, 54, 51, 46, 56, 46, 44, 42, 42, 44, 48, 53, 60, 67, 76, 79, 79, 85, 93, 94, 90, 80, 68, 60, 55, 51, 48, 45, 42, 39, 38, 37, 36, 37, 46, 41, 57, 59, 61, 62, 68, 73, 77, 80, 79, 74, 69, 66, 64, 59, 54, 52, 64, 63, 65, 61, 59, 59, 60, 69, 75, 70, 60, 58, 65, 68, 71, 74, 71, 65, 56, 48, 47, 44, 39, 36, 37, 36, 35, 34, 36, 37, 39, 43, 46, 48, 48, 49, 60, 70, 77, 82, 80, 73, 64, 55, 48, 43, 37, 33, 31, 31, 29, 28, 28, 28, 33, 41, 45, 44, 45, 49, 60, 65, 69, 71, 68, 62, 54, 47, 41, 35, 30, 27, 24, 23, 24, 25, 26, 27, 32, 35, 38, 41, 44, 47, 58, 65, 67, 69, 67, 62, 56, 51, 47, 43, 35, 31, 28, 27, 31, 30, 31, 33, 43, 47, 55, 59, 64, 68, 79, 82, 84, 86, 79, 68, 59, 57, 49, 49, 44, 42, 36, 31, 29, 33, 35, 35, 41, 47, 49, 50, 58, 65, 77, 82, 85, 88, 89, 89, 83, 73, 63, 54, 50, 44, 48, 44, 41, 41, 41, 42, 44, 49, 56, 63, 68, 74, 76, 84, 92, 90, 87, 84, 80, 78, 75, 72, 70, 67, 77, 72, 70, 67, 61, 59, 60, 62, 62, 62, 67, 71, 83, 92, 93, 90, 84, 79, 73, 67, 60, 54, 55, 59, 62, 67, 70, 64, 63, 62, 62, 68, 73, 74, 78, 80, 81, 85, 85, 84, 84, 83, 81, 77, 70, 69, 68, 67, 82, 84, 73, 69, 71, 73, 81, 87, 91, 93, 95, 95, 96, 98, 98, 99, 97, 92, 85, 78, 69, 63, 57, 54, 62, 52, 50, 48, 47, 47, 51, 58, 62, 64, 65, 68, 79, 88, 91, 94, 90, 84, 78, 68, 62, 55, 48, 43, 33, 32, 28, 43, 43, 46, 51, 58, 68, 69, 73, 79, 83, 88, 92, 94, 86, 77, 67, 62, 55, 49, 46, 44, 39, 39, 40, 41, 43, 44, 48, 59, 66, 67, 70, 74, 77, 83, 83, 82, 77, 68, 60, 53, 43, 37, 34, 33, 32, 31, 29, 29, 28, 29, 38, 42, 45, 46, 48, 55, 58, 63, 66, 71, 68, 63, 61, 57, 49, 40, 37, 38, 67, 70, 54, 53, 53, 57, 59, 71, 76, 76, 77, 81, 90, 94, 95, 97, 95, 97, 96, 97, 94, 92, 96, 94, 91, 95, 95, 92, 92, 93, 94, 94, 94, 94, 94, 95, 97, 96, 95, 94, 95, 94, 94, 94, 94, 94, 91, 86, 94, 84, 86, 84, 81, 82, 84, 89, 92, 93, 95, 95, 96, 97, 98, 97, 97, 95, 89, 81, 74, 67, 62, 57, 60, 58, 59, 58, 60, 63, 67, 73, 76, 75, 79, 82, 86, 90, 93, 94, 93, 90, 87, 83, 81, 81, 75, 63, 53, 51, 49, 49, 50, 55, 62, 73, 78, 83, 87, 92, 90, 93, 90, 88, 91, 86, 79, 67, 60, 56, 52, 49, 46, 51, 51, 52, 52, 59, 65, 68, 71, 70, 71, 75, 76, 72, 72, 73, 79, 80, 77, 78, 78, 77, 81, 82, 75, 72, 63, 59, 63, 65, 71, 84, 74, 88, 83, 84, 93, 94, 93, 93, 90, 85, 80, 74, 68, 62, 55, 52, 45, 41, 44, 50, 58, 63, 68, 71, 68, 67, 71, 76, 87, 85, 91, 93, 93, 94, 94, 90, 86, 85, 83, 79, 79, 73, 69, 67, 65, 66, 74, 80, 83, 85, 89, 90, 92, 93, 94, 95, 94, 89, 86, 83, 77, 70, 67, 64, 72, 69, 71, 78, 77, 77, 83, 85, 88, 88, 90, 92, 97, 98, 97, 97, 97, 97, 96, 95, 90, 88, 85, 89, 95, 93, 94, 88, 91, 92, 91, 93, 96, 92, 89, 89, 92, 94, 95, 94, 93, 92, 88, 82, 78, 71, 63, 57, 56, 53, 50, 52, 54, 59, 68, 76, 80, 82, 84, 85, 79, 87, 85, 85, 85, 84, 79, 72, 66, 59, 52, 50, 47, 46, 47, 54, 53, 59, 63, 63, 66, 68, 70, 71, 86, 90, 92, 93, 91, 87, 84, 82, 80, 80, 86, 78, 72, 70, 75, 76, 79, 78, 81, 89, 91, 91, 92, 92, 94, 94, 94, 94, 93, 91, 87, 83, 78, 70, 66, 60, 52, 52, 51, 52, 51, 58, 65, 67, 71, 70, 68, 70, 81, 84, 88, 92, 92, 91, 86, 83, 80, 72, 65, 59, 74, 75, 75, 71, 67, 66, 73, 83, 84, 88, 90, 90, 86, 93, 92, 94, 92, 87, 81, 77, 71, 67, 61, 59, 57, 59, 60, 64, 64, 65, 73, 79, 80, 80, 91, 93, 89, 92, 97, 98, 98, 93, 87, 81, 73, 66, 64, 62, 54, 51, 51, 60, 68, 77, 80, 82, 85, 84, 84, 86, 91, 92, 94, 95, 96, 94, 91, 84, 81, 81, 78, 75, 64, 72, 70, 71, 71, 71, 65, 66, 72, 77, 82, 87, 83, 84, 87, 91, 91, 87, 81, 75, 70, 61, 55, 52, 56, 55, 53, 52, 51, 60, 64, 73, 73, 75, 76, 82, 80, 80, 78, 80, 82, 76, 73, 70, 64, 61, 59, 55, 59, 58, 57, 55, 53, 55, 56, 62, 70, 77, 82, 82, 82, 87, 84, 83, 82, 79, 76, 72, 65, 58, 54, 53, 59, 61, 62, 61, 62, 61, 66, 68, 71, 74, 80, 83, 80, 83, 85, 88, 88, 84, 79, 73, 62, 56, 54, 55, 63, 63, 66, 65, 63, 63, 68, 78, 77, 79, 83, 86, 87, 91, 92, 93, 93, 92, 88, 81, 76, 75, 71, 68, 61, 60, 61, 61, 61, 61, 68, 81, 83, 87, 87, 87, 93, 93, 91, 95, 94, 88, 83, 81, 82, 82, 75, 64, 53, 53, 53, 51, 50, 51, 60, 67, 75, 78, 82, 85, 89, 91, 89, 83, 82, 77, 71, 65, 57, 48, 46, 43, 45, 43, 41, 41, 42, 48, 53, 54, 50, 51, 54, 57, 56, 58, 59, 61, 65, 67, 68, 63, 62, 56, 52, 49, 48, 54, 53, 58, 58, 61, 65, 75, 81, 84, 83, 86, 94, 97, 95, 94, 95, 92, 89, 82, 74, 65, 60, 58, 61, 53, 47, 45, 43, 47, 67, 72, 70, 70, 72, 77, 89, 94, 94, 92, 88, 83, 76, 69, 64, 57, 54, 54, 51, 46, 42, 44, 46, 45, 52, 62, 65, 64, 65, 67, 69, 71, 79, 84, 84, 82, 82, 75, 72, 67, 63, 57, 54, 56, 53, 53, 53, 51, 55, 61, 63, 63, 70, 75, 73, 76, 78, 80, 76, 72, 64, 59, 55, 54, 54, 48, 40, 37, 38, 37, 35, 38, 41, 45, 49, 52, 56, 61, 69, 76, 74, 72, 74, 71, 65, 60, 50, 42, 41, 38, 36, 36, 35, 37, 39, 41, 47, 55, 62, 66, 72, 72, 73, 73, 63, 64, 69, 66, 60, 52, 46, 42, 41, 37, 47, 44, 40, 40, 36, 38, 44, 49, 55, 60, 65, 69, 72, 77, 83, 86, 88, 82, 78, 73, 64, 61, 57, 53, 61, 61, 57, 55, 54, 56, 69, 78, 85, 92, 93, 94, 93, 96, 96, 92, 89, 84, 75, 68, 59, 52, 46, 44, 50, 45, 40, 35, 40, 49, 53, 58, 63, 70, 74, 77, 75, 79, 84, 90, 90, 82, 77, 72, 68, 64, 62, 57, 61, 54, 51, 50, 49, 49, 56, 57, 68, 78, 84, 85, 87, 92, 95, 95, 94, 92, 89, 87, 76, 70, 64, 59, 54, 53, 56, 55, 54, 57, 62, 74, 80, 83, 81, 74, 88, 90, 88, 89, 89, 87, 83, 76, 73, 72, 63, 59, 56, 58, 57, 65, 73, 74, 80, 87, 89, 92, 94, 95, 94, 94, 94, 95, 96, 93, 89, 83, 77, 68, 59, 51, 49, 65, 58, 54, 54, 71, 79, 88, 93, 95, 97, 97, 95, 95, 95, 95, 96, 93, 88, 82, 75, 69, 64, 56, 54, 52, 50, 50, 50, 56, 60, 67, 86, 90, 89, 91, 93, 91, 88, 89, 89, 86, 82, 73, 64, 58, 55, 51, 69, 52, 49, 46, 45, 46, 50, 70, 69, 69, 64, 67, 75, 79, 83, 86, 89, 83, 75, 69, 64, 58, 52, 48, 46, 41, 39, 38, 42, 50, 70, 60, 63, 72, 74, 80, 84, 89, 90, 90, 91, 83, 75, 69, 63, 61, 65, 73, 60, 57, 57, 55, 60, 61, 78, 73, 86, 86, 87, 92, 94, 96, 96, 97, 97, 96, 92, 84, 74, 64, 56, 50, 55, 52, 52, 54, 54, 58, 67, 76, 83, 82, 83, 90, 88, 92, 94, 95, 95, 93, 84, 73, 62, 55, 50, 45, 41, 37, 36, 39, 41, 47, 53, 55, 56, 59, 61, 60, 77, 77, 78, 79, 82, 78, 77, 70, 63, 58, 52, 47, 42, 42, 44, 46, 46, 56, 62, 62, 59, 61, 63, 73, 81, 84, 88, 93, 95, 89, 80, 74, 66, 60, 51, 47, 46, 44, 42, 36, 38, 42, 48, 54, 59, 64, 70, 68, 80, 86, 93, 93, 96, 88, 79, 73, 62, 50, 45, 44, 43, 47, 44, 47, 47, 52, 71, 70, 70, 68, 68, 70, 74, 77, 76, 75, 78, 76, 70, 64, 63, 57, 52, 48, 44, 48, 50, 50, 66, 73, 87, 90, 88, 86, 84, 80, 82, 78, 79, 80, 81, 83, 82, 79, 74, 72, 67, 62, 63, 60, 56, 53, 65, 67, 65, 68, 67, 69, 74, 78, 84, 87, 85, 85, 87, 85, 78, 74, 69, 61, 57, 56, 57, 66, 67, 66, 65, 62, 64, 67, 65, 64, 66, 70, 82, 85, 86, 85, 85, 84, 83, 76, 71, 63, 63, 60, 67, 61, 59, 55, 64, 68, 73, 75, 76, 78, 80, 84, 91, 93, 94, 95, 97, 94, 91, 88, 87, 92, 92, 92, 70, 61, 57, 59, 60, 66, 73, 79, 83, 86, 87, 88, 93, 95, 97, 98, 98, 97, 90, 84, 77, 69, 66, 64, 63, 60, 59, 60, 61, 63, 71, 79, 80, 78, 76, 76, 76, 76, 76, 74, 75, 75, 71, 66, 64, 61, 60, 61, 83, 87, 83, 74, 78, 82, 90, 93, 95, 95, 96, 97, 94, 95, 94, 94, 92, 86, 88, 86, 82, 68, 56, 50, 62, 50, 47, 47, 56, 61, 63, 65, 72, 79, 81, 80, 80, 81, 87, 91, 91, 86, 81, 74, 64, 57, 54, 50, 53, 51, 49, 47, 46, 54, 61, 66, 67, 70, 73, 79, 85, 92, 94, 96, 96, 95, 88, 77, 72, 65, 62, 62, 54, 46, 45, 44, 57, 66, 70, 74, 82, 90, 93, 93, 91, 93, 93, 94, 94, 94, 92, 87, 78, 71, 73, 75, 81, 81, 79, 85, 86, 85, 87, 88, 91, 91, 92, 92, 95, 94, 95, 89, 95, 96, 95, 93, 92, 90, 88, 85, 81, 71, 77, 71, 72, 76, 82, 82, 86, 89, 93, 93, 96, 96, 97, 97, 98, 97, 94, 88, 79, 70, 64, 59, 61, 60, 59, 59, 62, 71, 82, 94, 94, 95, 97, 97, 96, 96, 96, 97, 98, 97, 96, 95, 94, 93, 91, 90, 85, 78, 83, 89, 90, 93, 91, 95, 96, 96, 97, 96, 92, 95, 96, 97, 98, 98, 95, 92, 87, 81, 82, 87, 91, 84, 88, 91, 90, 91, 92, 89, 91, 91, 93, 93, 92, 93, 92, 92, 91, 91, 90, 88, 89, 82, 75, 69, 69, 65, 62, 60, 59, 63, 69, 75, 84, 89, 91, 91, 89, 91, 91, 89, 86, 85, 82, 78, 76, 73, 64, 60, 71, 64, 61, 59, 62, 72, 80, 82, 84, 87, 90, 92, 92, 92, 92, 93, 94, 96, 92, 86, 79, 72, 68, 62, 66, 64, 66, 70, 71, 75, 80, 86, 91, 91, 86, 95, 99, 99, 99, 98, 98, 98, 94, 88, 80, 72, 68, 63, 56, 54, 53, 55, 60, 71, 85, 90, 93, 95, 90, 92, 98, 100, 100, 100, 100, 100, 98, 92, 87, 82, 81, 72, 76, 77, 76, 73, 74, 76, 80, 85, 87, 88, 92, 90, 95, 95, 92, 87, 82, 77, 75, 72, 70, 68, 65, 63, 60, 56, 55, 54, 59, 62, 59, 56, 57, 60, 63, 66, 64, 67, 69, 73, 75, 77, 75, 71, 70, 69, 67, 65, 58, 55, 52, 51, 58, 67, 73, 82, 80, 79, 81, 84, 89, 87, 87, 88, 91, 95, 89, 82, 75, 68, 61, 56, 57, 57, 56, 55, 56, 76, 80, 80, 73, 80, 89, 88, 91, 94, 94, 95, 97, 98, 94, 84, 75, 64, 59, 55, 53, 52, 53, 53, 58, 70, 75, 76, 80, 84, 84, 84, 80, 81, 80, 82, 83, 82, 75, 67, 60, 56, 53, 50, 47, 46, 45, 45, 55, 67, 70, 69, 67, 69, 72, 75, 75, 82, 84, 86, 90, 90, 84, 79, 76, 73, 69, 65, 62, 63, 63, 62, 65, 81, 83, 82, 87, 91, 94, 96, 89, 93, 96, 97, 97, 97, 95, 92, 89, 80, 73, 66, 74, 66, 65, 63, 64, 78, 84, 88, 90, 91, 89, 87, 94, 93, 93, 93, 94, 95, 93, 88, 85, 83, 75, 69, 71, 70, 68, 70, 71, 75, 81, 84, 86, 84, 84, 90, 90, 93, 96, 96, 93, 90, 88, 81, 74, 71, 69, 66, 72, 69, 67, 67, 68, 72, 83, 88, 92, 92, 92, 92, 90, 93, 93, 96, 96, 96, 89, 79, 71, 68, 63, 58, 56, 54, 52, 53, 58, 68, 73, 73, 72, 76, 80, 83, 85, 88, 86, 88, 90, 89, 88, 82, 74, 67, 60, 56, 64, 71, 84, 91, 92, 92, 92, 93, 93, 94, 94, 94, 95, 95, 96, 97, 96, 94, 93, 84, 76, 70, 67, 64, 69, 67, 67, 70, 71, 75, 74, 72, 74, 76, 79, 81, 85, 85, 86, 85, 84, 84, 80, 77, 72, 70, 72, 69, 71, 71, 70, 70, 71, 73, 75, 76, 80, 82, 83, 83, 79, 78, 79, 81, 83, 85, 87, 86, 82, 77, 70, 70, 76, 69, 72, 76, 77, 75, 74, 77, 77, 79, 80, 82, 75, 74, 79, 86, 91, 88, 83, 76, 72, 68, 61, 59, 56, 58, 60, 62, 62, 63, 68, 72, 76, 78, 79, 79, 76, 77, 78, 81, 88, 91, 85, 74, 60, 54, 51, 48, 62, 61, 60, 60, 63, 77, 77, 80, 83, 91, 92, 92, 96, 96, 94, 95, 95, 95, 92, 83, 70, 60, 56, 50, 63, 59, 58, 61, 66, 74, 78, 79, 81, 84, 87, 91, 91, 93, 93, 94, 94, 95, 93, 88, 83, 77, 72, 67, 63, 65, 67, 67, 70, 74, 77, 78, 80, 84, 87, 90, 92, 92, 92, 93, 94, 94, 90, 84, 74, 67, 62, 58, 56, 56, 57, 57, 60, 72, 74, 76, 89, 84, 81, 79, 81, 78, 77, 77, 77, 79, 78, 75, 70, 64, 59, 62, 72, 76, 70, 73, 76, 75, 78, 82, 82, 82, 85, 87, 83, 82, 84, 86, 86, 86, 87, 84, 80, 75, 69, 72, 74, 71, 65, 66, 74, 82, 83, 92, 93, 95, 97, 95, 99, 100, 98, 98, 97, 97, 95, 87, 80, 73, 64, 58, 54, 53, 57, 62, 66, 71, 73, 74, 76, 79, 82, 85, 84, 87, 90, 91, 90, 90, 90, 88, 84, 80, 77, 71, 78, 75, 73, 72, 77, 86, 87, 89, 91, 93, 94, 94, 93, 94, 93, 88, 90, 92, 86, 82, 82, 80, 77, 71, 83, 76, 71, 66, 75, 80, 86, 93, 93, 92, 93, 96, 99, 100, 99, 97, 97, 98, 97, 93, 94, 97, 93, 88, 94, 88, 80, 82, 85, 87, 81, 80, 78, 75, 75, 77, 83, 82, 80, 79, 79, 82, 82, 82, 80, 71, 61, 58, 62, 64, 62, 57, 60, 67, 67, 66, 66, 70, 76, 75, 73, 75, 76, 78, 78, 77, 74, 69, 63, 58, 53, 49, 48, 46, 44, 48, 52, 56, 61, 66, 70, 71, 73, 76, 78, 81, 81, 80, 82, 84, 85, 81, 75, 66, 61, 58, 54, 55, 58, 61, 69, 76, 74, 73, 73, 75, 76, 70, 69, 66, 65, 61, 60, 60, 61, 61, 62, 62, 63, 55, 64, 57, 56, 57, 57, 58, 59, 60, 63, 65, 66, 72, 72, 74, 82, 87, 87, 88, 89, 87, 83, 84, 84, 82, 83, 78, 77, 79, 83, 86, 91, 89, 90, 91, 93, 94, 91, 90, 86, 87, 88, 90, 93, 94, 96, 95, 95, 94, 92, 93, 96, 94, 92, 91, 91, 92, 94, 94, 94, 93, 92, 94, 92, 91, 91, 91, 92, 86, 80, 76, 68, 61, 70, 71, 72, 73, 77, 81, 85, 88, 90, 92, 93, 94, 94, 95, 98, 99, 100, 100, 99, 96, 97, 86, 74, 66, 60, 59, 58, 62, 78, 79, 81, 79, 85, 88, 90, 93, 95, 96, 96, 96, 95, 94, 93, 87, 81, 74, 67, 61, 62, 60, 59, 62, 67, 70, 69, 68, 67, 70, 73, 76, 77, 80, 78, 77, 76, 76, 75, 71, 65, 59, 54, 51, 50, 47, 47, 53, 58, 62, 64, 67, 70, 71, 72, 76, 77, 83, 86, 87, 89, 90, 89, 81, 72, 65, 58, 51, 46, 44, 44, 54, 68, 65, 65, 66, 68, 71, 77, 84, 88, 89, 88, 89, 90, 88, 87, 86, 87, 85, 79, 62, 63, 63, 64, 70, 76, 80, 84, 88, 88, 89, 92, 92, 91, 92, 93, 94, 94, 92, 92, 92, 89, 89, 85, 80, 63, 59, 54, 67, 71, 73, 76, 80, 84, 86, 88, 88, 88, 90, 91, 92, 92, 93, 91, 85, 80, 74, 69, 67, 72, 65, 62, 65, 71, 80, 79, 80, 81, 83, 85, 88, 89, 91, 92, 92, 93, 93, 94, 94, 95, 95, 96, 94, 95, 93, 93, 91, 88, 89, 88, 88, 90, 90, 93, 93, 93, 89, 89, 87, 88, 87, 87, 83, 77, 76, 74, 73, 89, 85, 87, 83, 86, 88, 88, 87, 87, 88, 88, 90, 91, 93, 93, 94, 94, 94, 93, 91, 90, 89, 88, 86, 85, 78, 75, 77, 80, 80, 83, 86, 88, 88, 89, 87, 80, 74, 80, 87, 86, 88, 86, 81, 81, 82, 72, 68, 71, 72, 74, 76, 79, 81, 85, 87, 87, 89, 89, 89, 89, 90, 89, 87, 87, 88, 89, 87, 85, 79, 71, 65, 58, 57, 60, 67, 73, 73, 74, 78, 85, 86, 87, 87, 84, 87, 90, 91, 91, 92, 90, 85, 81, 80, 73, 68, 71, 69, 71, 72, 75, 77, 80, 82, 87, 89, 89, 91, 93, 91, 92, 92, 91, 88, 83, 77, 70, 66, 63, 69, 70, 67, 61, 64, 70, 77, 78, 78, 77, 74, 71, 75, 79, 80, 79, 82, 72, 65, 69, 64, 60, 64, 63, 75, 61, 55, 60, 64, 74, 80, 86, 83, 83, 82, 80, 78, 76, 75, 74, 73, 72, 72, 72, 71, 69, 66, 62, 64, 76, 68, 82, 84, 88, 86, 88, 87, 85, 84, 82, 80, 83, 83, 83, 84, 83, 81, 81, 79, 76, 72, 67, 59, 63, 61, 63, 65, 74, 81, 86, 90, 93, 95, 96, 97, 97, 97, 98, 99, 100, 100, 100, 98, 91, 86, 78, 71, 63, 59, 60, 66, 72, 75, 77, 82, 85, 87, 87, 87, 86, 86, 86, 86, 87, 87, 87, 81, 77, 72, 71, 68, 68, 68, 70, 75, 82, 87, 89, 90, 90, 91, 92, 93, 94, 95, 94, 91, 91, 89, 87, 87, 87, 86, 83, 80, 76, 74, 73, 78, 84, 82, 84, 86, 83, 84, 86, 85, 84, 84, 85, 83, 81, 84, 83, 83, 83, 81, 77, 74, 77, 80, 81, 79, 80, 83, 83, 84, 82, 85, 92, 94, 94, 95, 96, 97, 97, 97, 97, 95, 91, 87, 82, 78, 71, 68, 70, 78, 83, 80, 81, 82, 84, 86, 88, 89, 91, 92, 93, 93, 94, 94, 94, 91, 86, 80, 77, 74, 69, 66, 68, 75, 81, 83, 83, 83, 80, 82, 84, 86, 82, 83, 86, 87, 88, 89, 89, 83, 79, 75, 73, 70, 65, 61, 61, 62, 65, 70, 72, 70, 72, 71, 73, 67, 68, 70, 73, 73, 78, 76, 73, 76, 75, 71, 69, 68, 66, 66, 69, 73, 74, 70, 68, 67, 69, 71, 73, 75, 78, 80, 81, 82, 82, 80, 79, 78, 76, 80, 86, 88, 81, 87, 90, 90, 90, 88, 88, 89, 92, 92, 93, 93, 95, 96, 97, 97, 97, 97, 97, 97, 97, 95, 90, 87, 86, 81, 80, 83, 92, 95, 97, 98, 98, 98, 98, 97, 96, 97, 98, 99, 98, 97, 97, 97, 95, 90, 86, 81, 75, 72, 74, 83, 84, 86, 90, 90, 91, 90, 91, 93, 92, 94, 96, 96, 96, 96, 95, 94, 94, 94, 96, 95, 98, 98, 98, 96, 96, 93, 92, 92, 91, 93, 92, 91, 91, 91, 90, 90, 94, 93, 93, 94, 92, 91, 87, 81, 79, 76, 86, 90, 92, 93, 94, 93, 93, 93, 91, 91, 92, 90, 88, 90, 92, 92, 90, 86, 84, 82, 77, 75, 72, 70, 75, 75, 79, 76, 78, 77, 74, 74, 75, 77, 82, 82, 83, 81, 79, 79, 79, 80, 78, 76, 80, 79, 81, 82, 80, 74, 76, 74, 76, 75, 78, 79, 82, 88, 87, 87, 89, 88, 89, 92, 92, 92, 90, 90, 87, 82, 81, 81, 83, 86, 88, 88, 89, 90, 91, 92, 92, 95, 94, 95, 96, 96, 96, 96, 97, 97, 95, 92, 89, 83, 76, 72, 73, 85, 88, 87, 88, 90, 90, 90, 91, 91, 91, 93, 94, 95, 96, 95, 96, 95, 92, 88, 84, 79, 77, 77, 79, 90, 93, 93, 94, 95, 95, 96, 98, 98, 96, 100, 100, 100, 100, 100, 100, 100, 97, 93, 89, 87, 89, 88, 88, 89, 91, 92, 93, 93, 94, 94, 94, 93, 95, 96, 96, 96, 96, 96, 96, 95, 94, 92, 89, 86, 88, 87, 85, 86, 92, 95, 95, 94, 94, 94, 94, 95, 96, 96, 94, 94, 93, 92, 92, 91, 88, 85, 81, 79, 81, 80, 82, 91, 91, 93, 95, 96, 97, 98, 98, 98, 100, 100, 99, 96, 95, 98, 98, 98, 98, 98, 96, 93, 93, 89, 88, 89, 89, 89, 89, 89, 89, 89, 89, 88, 88, 88, 89, 90, 91, 92, 92, 93, 92, 88, 86, 85, 76, 78, 81, 85, 87, 88, 91, 92, 93, 92, 92, 90, 90, 95, 95, 96, 97, 97, 97, 95, 91, 89, 87, 83, 87, 84, 87, 91, 91, 91, 91, 92, 95, 94, 89, 87, 88, 88, 89, 90, 89, 88, 86, 85, 86, 84, 82, 81, 81, 80, 80, 83, 84, 85, 86, 88, 89, 90, 85, 86, 92, 93, 93, 92, 91, 93, 93, 93, 90, 88, 85, 81, 88, 86, 84, 83, 83, 87, 89, 89, 88, 88, 88, 89, 92, 91, 92, 92, 93, 93, 93, 92, 92, 91, 90, 90, 88, 87, 85, 81, 83, 85, 85, 87, 86, 86, 86, 86, 88, 89, 88, 89, 90, 91, 90, 92, 91, 90, 90, 88, 87, 89, 90, 87, 87, 86, 83, 81, 84, 84, 84, 83, 80, 80, 80, 80, 80, 81, 82, 83, 83, 85, 86, 87, 92, 93, 93, 95, 96, 96, 97, 97, 97, 97, 97, 97, 97, 97, 96, 94, 94, 94, 94, 94, 93, 92, 89, 75, 70, 66, 67, 71, 82, 84, 87, 90, 91, 91, 92, 93, 94, 95, 94, 90, 89, 88, 90, 92, 92, 91, 90, 90, 88, 87, 89, 90, 93, 94, 95, 97, 97, 95, 95, 96, 95, 94, 95, 93, 93, 93, 94, 94, 95, 93, 93, 90, 90, 90, 91, 91, 91, 91, 90, 91, 92, 94, 95, 96, 94, 95, 95, 96, 95, 95, 96, 98, 95, 93, 89, 84, 83, 81, 80, 79, 74, 72, 74, 78, 80, 84, 90, 93, 95, 96, 96, 96, 95, 93, 93, 93, 91, 90, 85, 80, 72, 70, 76, 80, 80, 78, 79, 81, 82, 81, 84, 87, 88, 89, 90, 92, 92, 92, 91, 92, 90, 88, 85, 84, 82, 82, 85, 89, 93, 96, 98, 96, 95, 96, 97, 97, 97, 96, 96, 95, 95, 96, 96, 96, 95, 94, 89, 86, 86, 84, 90, 94, 95, 95, 94, 95, 94, 96, 98, 99, 99, 99, 99, 98, 99, 99, 99, 98, 95, 90, 90, 92, 97, 92, 92, 94, 94, 96, 98, 95, 96, 96, 97, 98, 98, 95, 94, 93, 95, 95, 93, 91, 94, 92, 92, 92, 91, 88, 80, 75, 73, 68, 65, 67, 71, 72, 74, 82, 89, 91, 91, 89, 92, 94, 94, 94, 92, 90, 89, 89, 88, 84, 81, 78, 77, 76, 75, 79, 76, 74, 72, 71, 71, 72, 75, 81, 80, 83, 83, 83, 80, 75, 70, 68, 61, 62, 65, 70, 74, 78, 83, 84, 89, 89, 91, 91, 90, 89, 90, 90, 90, 89, 89, 90, 89, 86, 82, 78, 74, 72, 74, 76, 77, 79, 77, 77, 77, 74, 73, 86, 86, 87, 91, 95, 95, 96, 96, 95, 95, 94, 91, 90, 90, 89, 88, 90, 92, 92, 92, 90, 88, 86, 84, 87, 92, 94, 94, 95, 95, 95, 95, 95, 94, 92, 91, 91, 88, 86, 86, 88, 90, 93, 93, 93, 93, 93, 92, 91, 92, 91, 93, 93, 94, 94, 92, 90, 91, 87, 83, 79, 81, 80, 79, 88, 92, 93, 94, 95, 95, 95, 94, 93, 97, 96, 95, 94, 93, 94, 94, 94, 94, 90, 87, 83, 81, 82, 85, 88, 87, 86, 88, 90, 91, 92, 91, 88, 92, 92, 91, 90, 91, 91, 90, 89, 84, 85, 82, 82, 82, 83, 82, 82, 82, 83, 83, 82, 81, 80, 80, 81, 86, 82, 82, 80, 80, 80, 80, 81, 83, 84, 85, 85, 84, 83, 85, 91, 91, 93, 93, 95, 96, 96, 97, 95, 95, 95, 95, 95, 95, 95, 95, 95, 96, 95, 95, 94, 94, 94, 94, 96, 96, 96, 96, 97, 97, 98, 98, 100, 97, 97, 96, 97, 99, 98, 98, 97, 93, 86, 86, 92, 98, 90, 88, 94, 95, 94, 94, 93, 92, 90, 90, 85, 84, 84, 83, 89, 91, 93, 94, 93, 91, 90, 91, 92, 91, 92, 92, 93, 94, 94, 94, 94, 95, 95, 96, 97, 99, 99, 99, 99, 100, 100, 99, 99, 99, 99, 99, 98, 98, 98, 98, 98, 98, 98, 98, 97, 98, 98, 97, 96, 96, 96, 96, 96, 96, 96, 95, 96, 95, 94, 94, 94, 91, 90, 91, 92, 94, 94, 95, 96, 96, 97, 97, 97, 97, 96, 96, 96, 95, 96, 96, 95, 95, 94, 93, 93, 93, 93, 92, 93, 93, 92, 93, 93, 90, 91, 92, 91, 90, 90, 90, 90, 90, 91, 92, 93, 94, 94, 94, 92, 88, 84, 86, 89, 92, 94, 95, 95, 95, 95, 96, 98, 98, 99, 99, 100, 99, 99, 98, 97, 96, 95, 93, 93, 85, 84, 86, 88, 90, 92, 93, 94, 95, 96, 96, 97, 97, 97, 97, 98, 98, 98, 98, 98, 98, 97, 96, 94, 93, 91, 91, 92, 94, 96, 95, 95, 93, 91, 92, 91, 93, 92, 91, 91, 91, 92, 92, 92, 91, 90, 86, 85, 86, 86, 87, 89, 87, 91, 91, 92, 92, 90, 89, 88, 82, 82, 82, 83, 85, 88, 90, 91, 92, 89, 86, 81, 76, 74, 78, 88, 90, 92, 94, 95, 96, 97, 98, 98, 98, 96, 94, 94, 96, 97, 97, 96, 95, 94, 92, 90, 90, 90, 90, 93, 93, 91, 91, 92, 95, 94, 94, 93, 88, 89, 88, 86, 87, 90, 92, 94, 94, 92, 91, 87, 83, 83, 88, 92, 92, 92, 92, 92, 91, 92, 91, 91, 90, 90, 88, 87, 86, 83, 81, 77, 73, 68, 63, 59, 71, 73, 75, 80, 83, 88, 91, 94, 95, 96, 95, 93, 95, 96, 96, 97, 97, 97, 97, 96, 96, 97, 97, 97, 97, 97, 99, 98, 98, 97, 91, 89, 76, 73, 78, 81, 83, 86, 82, 85, 87, 86, 85, 83, 84, 81, 72, 64, 69, 69, 71, 74, 77, 78, 80, 86, 88, 85, 85, 88, 94, 91, 92, 91, 91, 91, 89, 92, 92, 85, 83, 71, 63, 58, 57, 63, 65, 65, 64, 64, 64, 65, 67, 67, 69, 65, 62, 59, 54, 52, 52, 51, 53, 55, 52, 49, 59, 62, 65, 68, 66, 66, 66, 64, 66, 69, 73, 77, 82, 86, 87, 90, 90, 88, 87, 89, 82, 79, 75, 75, 83, 83, 86, 91, 92, 91, 90, 90, 91, 94, 95, 96, 98, 98, 98, 98, 97, 96, 97, 98, 98, 98, 98, 97, 99, 99, 99, 99, 99, 100, 99, 100, 99, 99, 98, 98, 96, 97, 96, 95, 94, 95, 96, 96, 96, 95, 95, 95, 95, 94, 93, 93, 93, 93, 93, 93, 93, 93, 93, 93, 94, 94, 93, 92, 92, 91, 92, 91, 91, 89, 87, 86, 80, 77, 78, 78, 78, 80, 88, 90, 89, 88, 90, 93]}}\n"
     ]
    }
   ],
   "source": [
    "import urllib.request, json \n",
    "url = \"https://api.open-meteo.com/v1/forecast?latitude=52.16&longitude=4.49&start_date=2021-01-01&end_date=2021-12-31&hourly=temperature_2m\"\n",
    "data = json.load( urllib.request.urlopen(url) )\n",
    "# print(data)          # use this to print the nested list with data\n",
    "# type(data)\n",
    "\n",
    "url2 = \"https://archive-api.open-meteo.com/v1/era5?latitude=52.52&longitude=13.41&start_date=2021-01-01&end_date=2021-12-31&hourly=temperature_2m,relative_humidity_2m\"\n",
    "data = json.load( urllib.request.urlopen(url2) )\n",
    "print(data)  \n"
   ]
  },
  {
   "cell_type": "code",
   "execution_count": 7,
   "metadata": {},
   "outputs": [
    {
     "data": {
      "text/plain": [
       "{'2021-01-01T00:00': 0.6,\n",
       " '2021-01-01T01:00': 0.6,\n",
       " '2021-01-01T02:00': 0.2,\n",
       " '2021-01-01T03:00': 0.7,\n",
       " '2021-01-01T04:00': 0.8,\n",
       " '2021-01-01T05:00': 0.2,\n",
       " '2021-01-01T06:00': -0.7,\n",
       " '2021-01-01T07:00': -0.1,\n",
       " '2021-01-01T08:00': 0.3,\n",
       " '2021-01-01T09:00': 0.8,\n",
       " '2021-01-01T10:00': 1.5,\n",
       " '2021-01-01T11:00': 1.3,\n",
       " '2021-01-01T12:00': 1.3,\n",
       " '2021-01-01T13:00': 1.8,\n",
       " '2021-01-01T14:00': 2.2,\n",
       " '2021-01-01T15:00': 1.8,\n",
       " '2021-01-01T16:00': 1.8,\n",
       " '2021-01-01T17:00': 1.8,\n",
       " '2021-01-01T18:00': 1.7,\n",
       " '2021-01-01T19:00': 1.6,\n",
       " '2021-01-01T20:00': 1.4,\n",
       " '2021-01-01T21:00': 0.9,\n",
       " '2021-01-01T22:00': 0.8,\n",
       " '2021-01-01T23:00': 1.1,\n",
       " '2021-01-02T00:00': 0.6,\n",
       " '2021-01-02T01:00': 0.1,\n",
       " '2021-01-02T02:00': -0.3,\n",
       " '2021-01-02T03:00': -0.5,\n",
       " '2021-01-02T04:00': -0.5,\n",
       " '2021-01-02T05:00': -0.3,\n",
       " '2021-01-02T06:00': -0.1,\n",
       " '2021-01-02T07:00': 0.2,\n",
       " '2021-01-02T08:00': 0.6,\n",
       " '2021-01-02T09:00': 1.0,\n",
       " '2021-01-02T10:00': 1.8,\n",
       " '2021-01-02T11:00': 2.5,\n",
       " '2021-01-02T12:00': 2.4,\n",
       " '2021-01-02T13:00': 2.7,\n",
       " '2021-01-02T14:00': 2.3,\n",
       " '2021-01-02T15:00': -0.2,\n",
       " '2021-01-02T16:00': -0.6,\n",
       " '2021-01-02T17:00': -1.0,\n",
       " '2021-01-02T18:00': -0.0,\n",
       " '2021-01-02T19:00': 0.5,\n",
       " '2021-01-02T20:00': 0.4,\n",
       " '2021-01-02T21:00': -0.0,\n",
       " '2021-01-02T22:00': -0.6,\n",
       " '2021-01-02T23:00': -1.0,\n",
       " '2021-01-03T00:00': -0.6,\n",
       " '2021-01-03T01:00': -0.5,\n",
       " '2021-01-03T02:00': -0.3,\n",
       " '2021-01-03T03:00': -0.0,\n",
       " '2021-01-03T04:00': -0.1,\n",
       " '2021-01-03T05:00': 0.0,\n",
       " '2021-01-03T06:00': 0.2,\n",
       " '2021-01-03T07:00': 0.0,\n",
       " '2021-01-03T08:00': -0.1,\n",
       " '2021-01-03T09:00': -0.2,\n",
       " '2021-01-03T10:00': 0.0,\n",
       " '2021-01-03T11:00': 0.2,\n",
       " '2021-01-03T12:00': 0.2,\n",
       " '2021-01-03T13:00': 0.5,\n",
       " '2021-01-03T14:00': 0.6,\n",
       " '2021-01-03T15:00': 0.6,\n",
       " '2021-01-03T16:00': 0.8,\n",
       " '2021-01-03T17:00': 0.8,\n",
       " '2021-01-03T18:00': 0.8,\n",
       " '2021-01-03T19:00': 0.8,\n",
       " '2021-01-03T20:00': 0.8,\n",
       " '2021-01-03T21:00': 0.7,\n",
       " '2021-01-03T22:00': 0.7,\n",
       " '2021-01-03T23:00': 0.7,\n",
       " '2021-01-04T00:00': 0.6,\n",
       " '2021-01-04T01:00': 0.8,\n",
       " '2021-01-04T02:00': 0.6,\n",
       " '2021-01-04T03:00': 0.5,\n",
       " '2021-01-04T04:00': 0.4,\n",
       " '2021-01-04T05:00': 0.5,\n",
       " '2021-01-04T06:00': 0.5,\n",
       " '2021-01-04T07:00': 0.5,\n",
       " '2021-01-04T08:00': 0.6,\n",
       " '2021-01-04T09:00': 0.8,\n",
       " '2021-01-04T10:00': 1.0,\n",
       " '2021-01-04T11:00': 1.1,\n",
       " '2021-01-04T12:00': 1.2,\n",
       " '2021-01-04T13:00': 1.3,\n",
       " '2021-01-04T14:00': 0.9,\n",
       " '2021-01-04T15:00': 0.6,\n",
       " '2021-01-04T16:00': 0.1,\n",
       " '2021-01-04T17:00': -0.3,\n",
       " '2021-01-04T18:00': -0.2,\n",
       " '2021-01-04T19:00': -0.0,\n",
       " '2021-01-04T20:00': 0.2,\n",
       " '2021-01-04T21:00': 0.3,\n",
       " '2021-01-04T22:00': 0.4,\n",
       " '2021-01-04T23:00': 0.4,\n",
       " '2021-01-05T00:00': 0.2,\n",
       " '2021-01-05T01:00': 0.5,\n",
       " '2021-01-05T02:00': 0.6,\n",
       " '2021-01-05T03:00': 0.6,\n",
       " '2021-01-05T04:00': 0.7,\n",
       " '2021-01-05T05:00': 0.7,\n",
       " '2021-01-05T06:00': 0.7,\n",
       " '2021-01-05T07:00': 0.7,\n",
       " '2021-01-05T08:00': 0.8,\n",
       " '2021-01-05T09:00': 1.1,\n",
       " '2021-01-05T10:00': 1.5,\n",
       " '2021-01-05T11:00': 1.6,\n",
       " '2021-01-05T12:00': 1.3,\n",
       " '2021-01-05T13:00': 1.3,\n",
       " '2021-01-05T14:00': 1.6,\n",
       " '2021-01-05T15:00': 1.9,\n",
       " '2021-01-05T16:00': 2.0,\n",
       " '2021-01-05T17:00': 2.0,\n",
       " '2021-01-05T18:00': 2.2,\n",
       " '2021-01-05T19:00': 2.3,\n",
       " '2021-01-05T20:00': 2.4,\n",
       " '2021-01-05T21:00': 2.6,\n",
       " '2021-01-05T22:00': 2.8,\n",
       " '2021-01-05T23:00': 2.9,\n",
       " '2021-01-06T00:00': 2.8,\n",
       " '2021-01-06T01:00': 2.8,\n",
       " '2021-01-06T02:00': 2.5,\n",
       " '2021-01-06T03:00': 2.3,\n",
       " '2021-01-06T04:00': 1.8,\n",
       " '2021-01-06T05:00': 1.3,\n",
       " '2021-01-06T06:00': 1.1,\n",
       " '2021-01-06T07:00': 1.0,\n",
       " '2021-01-06T08:00': 1.1,\n",
       " '2021-01-06T09:00': 1.3,\n",
       " '2021-01-06T10:00': 1.5,\n",
       " '2021-01-06T11:00': 1.5,\n",
       " '2021-01-06T12:00': 1.6,\n",
       " '2021-01-06T13:00': 1.7,\n",
       " '2021-01-06T14:00': 1.5,\n",
       " '2021-01-06T15:00': 1.3,\n",
       " '2021-01-06T16:00': 1.1,\n",
       " '2021-01-06T17:00': 0.9,\n",
       " '2021-01-06T18:00': 0.7,\n",
       " '2021-01-06T19:00': 0.8,\n",
       " '2021-01-06T20:00': 0.7,\n",
       " '2021-01-06T21:00': 0.7,\n",
       " '2021-01-06T22:00': 0.7,\n",
       " '2021-01-06T23:00': 0.8,\n",
       " '2021-01-07T00:00': 0.7,\n",
       " '2021-01-07T01:00': 0.7,\n",
       " '2021-01-07T02:00': 0.7,\n",
       " '2021-01-07T03:00': 0.7,\n",
       " '2021-01-07T04:00': 0.6,\n",
       " '2021-01-07T05:00': 0.5,\n",
       " '2021-01-07T06:00': 0.5,\n",
       " '2021-01-07T07:00': 0.5,\n",
       " '2021-01-07T08:00': 0.7,\n",
       " '2021-01-07T09:00': 0.9,\n",
       " '2021-01-07T10:00': 1.3,\n",
       " '2021-01-07T11:00': 1.7,\n",
       " '2021-01-07T12:00': 1.2,\n",
       " '2021-01-07T13:00': 1.3,\n",
       " '2021-01-07T14:00': 1.3,\n",
       " '2021-01-07T15:00': 1.3,\n",
       " '2021-01-07T16:00': 1.1,\n",
       " '2021-01-07T17:00': 1.0,\n",
       " '2021-01-07T18:00': 1.0,\n",
       " '2021-01-07T19:00': 1.0,\n",
       " '2021-01-07T20:00': 0.9,\n",
       " '2021-01-07T21:00': 0.8,\n",
       " '2021-01-07T22:00': 0.8,\n",
       " '2021-01-07T23:00': 0.8,\n",
       " '2021-01-08T00:00': 0.8,\n",
       " '2021-01-08T01:00': 0.9,\n",
       " '2021-01-08T02:00': 0.9,\n",
       " '2021-01-08T03:00': 0.8,\n",
       " '2021-01-08T04:00': 0.5,\n",
       " '2021-01-08T05:00': 0.4,\n",
       " '2021-01-08T06:00': 0.1,\n",
       " '2021-01-08T07:00': -0.3,\n",
       " '2021-01-08T08:00': -0.1,\n",
       " '2021-01-08T09:00': 0.3,\n",
       " '2021-01-08T10:00': 0.9,\n",
       " '2021-01-08T11:00': 1.4,\n",
       " '2021-01-08T12:00': 1.4,\n",
       " '2021-01-08T13:00': 1.5,\n",
       " '2021-01-08T14:00': 1.5,\n",
       " '2021-01-08T15:00': 1.3,\n",
       " '2021-01-08T16:00': 1.2,\n",
       " '2021-01-08T17:00': 1.2,\n",
       " '2021-01-08T18:00': 0.6,\n",
       " '2021-01-08T19:00': -0.1,\n",
       " '2021-01-08T20:00': -1.2,\n",
       " '2021-01-08T21:00': -1.4,\n",
       " '2021-01-08T22:00': -0.7,\n",
       " '2021-01-08T23:00': -0.2,\n",
       " '2021-01-09T00:00': 0.1,\n",
       " '2021-01-09T01:00': 0.3,\n",
       " '2021-01-09T02:00': 0.4,\n",
       " '2021-01-09T03:00': 0.4,\n",
       " '2021-01-09T04:00': 0.4,\n",
       " '2021-01-09T05:00': 0.3,\n",
       " '2021-01-09T06:00': 0.2,\n",
       " '2021-01-09T07:00': 0.0,\n",
       " '2021-01-09T08:00': 0.2,\n",
       " '2021-01-09T09:00': 0.6,\n",
       " '2021-01-09T10:00': 1.3,\n",
       " '2021-01-09T11:00': 1.6,\n",
       " '2021-01-09T12:00': 1.4,\n",
       " '2021-01-09T13:00': 2.4,\n",
       " '2021-01-09T14:00': 2.3,\n",
       " '2021-01-09T15:00': 1.4,\n",
       " '2021-01-09T16:00': 1.1,\n",
       " '2021-01-09T17:00': 1.3,\n",
       " '2021-01-09T18:00': 1.0,\n",
       " '2021-01-09T19:00': 1.0,\n",
       " '2021-01-09T20:00': 1.1,\n",
       " '2021-01-09T21:00': 1.1,\n",
       " '2021-01-09T22:00': 1.2,\n",
       " '2021-01-09T23:00': 1.1,\n",
       " '2021-01-10T00:00': 0.9,\n",
       " '2021-01-10T01:00': 0.8,\n",
       " '2021-01-10T02:00': 0.6,\n",
       " '2021-01-10T03:00': 0.7,\n",
       " '2021-01-10T04:00': 0.7,\n",
       " '2021-01-10T05:00': 0.7,\n",
       " '2021-01-10T06:00': 0.7,\n",
       " '2021-01-10T07:00': 0.5,\n",
       " '2021-01-10T08:00': 0.4,\n",
       " '2021-01-10T09:00': 0.7,\n",
       " '2021-01-10T10:00': 1.1,\n",
       " '2021-01-10T11:00': 1.5,\n",
       " '2021-01-10T12:00': 0.7,\n",
       " '2021-01-10T13:00': 0.9,\n",
       " '2021-01-10T14:00': 0.9,\n",
       " '2021-01-10T15:00': 0.8,\n",
       " '2021-01-10T16:00': 0.8,\n",
       " '2021-01-10T17:00': 0.8,\n",
       " '2021-01-10T18:00': 0.5,\n",
       " '2021-01-10T19:00': -0.0,\n",
       " '2021-01-10T20:00': -0.2,\n",
       " '2021-01-10T21:00': -0.5,\n",
       " '2021-01-10T22:00': -0.6,\n",
       " '2021-01-10T23:00': -0.3,\n",
       " '2021-01-11T00:00': -0.1,\n",
       " '2021-01-11T01:00': -0.0,\n",
       " '2021-01-11T02:00': 0.0,\n",
       " '2021-01-11T03:00': 0.0,\n",
       " '2021-01-11T04:00': 0.1,\n",
       " '2021-01-11T05:00': 0.3,\n",
       " '2021-01-11T06:00': 0.4,\n",
       " '2021-01-11T07:00': 0.5,\n",
       " '2021-01-11T08:00': 0.7,\n",
       " '2021-01-11T09:00': 1.2,\n",
       " '2021-01-11T10:00': 1.9,\n",
       " '2021-01-11T11:00': 2.1,\n",
       " '2021-01-11T12:00': 1.6,\n",
       " '2021-01-11T13:00': 1.2,\n",
       " '2021-01-11T14:00': 0.8,\n",
       " '2021-01-11T15:00': 0.7,\n",
       " '2021-01-11T16:00': 0.5,\n",
       " '2021-01-11T17:00': 0.4,\n",
       " '2021-01-11T18:00': 0.7,\n",
       " '2021-01-11T19:00': 1.0,\n",
       " '2021-01-11T20:00': 1.1,\n",
       " '2021-01-11T21:00': 0.9,\n",
       " '2021-01-11T22:00': 1.1,\n",
       " '2021-01-11T23:00': 1.1,\n",
       " '2021-01-12T00:00': 1.3,\n",
       " '2021-01-12T01:00': 1.7,\n",
       " '2021-01-12T02:00': 1.5,\n",
       " '2021-01-12T03:00': 1.4,\n",
       " '2021-01-12T04:00': 1.5,\n",
       " '2021-01-12T05:00': 1.5,\n",
       " '2021-01-12T06:00': 1.4,\n",
       " '2021-01-12T07:00': 1.3,\n",
       " '2021-01-12T08:00': 1.5,\n",
       " '2021-01-12T09:00': 1.6,\n",
       " '2021-01-12T10:00': 1.8,\n",
       " '2021-01-12T11:00': 2.2,\n",
       " '2021-01-12T12:00': 1.6,\n",
       " '2021-01-12T13:00': 1.9,\n",
       " '2021-01-12T14:00': 1.8,\n",
       " '2021-01-12T15:00': 0.9,\n",
       " '2021-01-12T16:00': 0.5,\n",
       " '2021-01-12T17:00': 0.7,\n",
       " '2021-01-12T18:00': 0.2,\n",
       " '2021-01-12T19:00': 0.1,\n",
       " '2021-01-12T20:00': 1.2,\n",
       " '2021-01-12T21:00': 1.0,\n",
       " '2021-01-12T22:00': 0.2,\n",
       " '2021-01-12T23:00': -0.0,\n",
       " '2021-01-13T00:00': -0.1,\n",
       " '2021-01-13T01:00': -0.2,\n",
       " '2021-01-13T02:00': 0.1,\n",
       " '2021-01-13T03:00': 0.2,\n",
       " '2021-01-13T04:00': 0.6,\n",
       " '2021-01-13T05:00': 0.8,\n",
       " '2021-01-13T06:00': 0.5,\n",
       " '2021-01-13T07:00': 0.3,\n",
       " '2021-01-13T08:00': 0.6,\n",
       " '2021-01-13T09:00': 1.5,\n",
       " '2021-01-13T10:00': 2.1,\n",
       " '2021-01-13T11:00': 2.6,\n",
       " '2021-01-13T12:00': 2.5,\n",
       " '2021-01-13T13:00': 3.0,\n",
       " '2021-01-13T14:00': 2.9,\n",
       " '2021-01-13T15:00': 2.6,\n",
       " '2021-01-13T16:00': 2.2,\n",
       " '2021-01-13T17:00': 1.3,\n",
       " '2021-01-13T18:00': 1.5,\n",
       " '2021-01-13T19:00': 0.7,\n",
       " '2021-01-13T20:00': 0.4,\n",
       " '2021-01-13T21:00': 0.3,\n",
       " '2021-01-13T22:00': 0.0,\n",
       " '2021-01-13T23:00': -0.3,\n",
       " '2021-01-14T00:00': -0.1,\n",
       " '2021-01-14T01:00': 0.3,\n",
       " '2021-01-14T02:00': 0.5,\n",
       " '2021-01-14T03:00': -0.2,\n",
       " '2021-01-14T04:00': -0.3,\n",
       " '2021-01-14T05:00': -0.1,\n",
       " '2021-01-14T06:00': 1.0,\n",
       " '2021-01-14T07:00': 0.6,\n",
       " '2021-01-14T08:00': -0.4,\n",
       " '2021-01-14T09:00': 0.9,\n",
       " '2021-01-14T10:00': 2.3,\n",
       " '2021-01-14T11:00': 2.6,\n",
       " '2021-01-14T12:00': 2.5,\n",
       " '2021-01-14T13:00': 2.7,\n",
       " '2021-01-14T14:00': 2.4,\n",
       " '2021-01-14T15:00': 1.8,\n",
       " '2021-01-14T16:00': 1.7,\n",
       " '2021-01-14T17:00': 1.5,\n",
       " '2021-01-14T18:00': 1.3,\n",
       " '2021-01-14T19:00': 0.8,\n",
       " '2021-01-14T20:00': 0.4,\n",
       " '2021-01-14T21:00': 0.5,\n",
       " '2021-01-14T22:00': 0.3,\n",
       " '2021-01-14T23:00': 0.3,\n",
       " '2021-01-15T00:00': 0.4,\n",
       " '2021-01-15T01:00': -0.2,\n",
       " '2021-01-15T02:00': -0.7,\n",
       " '2021-01-15T03:00': -0.8,\n",
       " '2021-01-15T04:00': -0.8,\n",
       " '2021-01-15T05:00': -0.5,\n",
       " '2021-01-15T06:00': -0.4,\n",
       " '2021-01-15T07:00': -0.9,\n",
       " '2021-01-15T08:00': -0.9,\n",
       " '2021-01-15T09:00': -0.5,\n",
       " '2021-01-15T10:00': -0.3,\n",
       " '2021-01-15T11:00': -0.3,\n",
       " '2021-01-15T12:00': -0.3,\n",
       " '2021-01-15T13:00': -0.4,\n",
       " '2021-01-15T14:00': -0.2,\n",
       " '2021-01-15T15:00': -0.7,\n",
       " '2021-01-15T16:00': -1.2,\n",
       " '2021-01-15T17:00': -1.6,\n",
       " '2021-01-15T18:00': -2.2,\n",
       " '2021-01-15T19:00': -3.0,\n",
       " '2021-01-15T20:00': -3.2,\n",
       " '2021-01-15T21:00': -3.1,\n",
       " '2021-01-15T22:00': -3.3,\n",
       " '2021-01-15T23:00': -3.6,\n",
       " '2021-01-16T00:00': -3.0,\n",
       " '2021-01-16T01:00': -2.8,\n",
       " '2021-01-16T02:00': -2.5,\n",
       " '2021-01-16T03:00': -2.5,\n",
       " '2021-01-16T04:00': -2.5,\n",
       " '2021-01-16T05:00': -2.6,\n",
       " '2021-01-16T06:00': -2.5,\n",
       " '2021-01-16T07:00': -2.2,\n",
       " '2021-01-16T08:00': -1.8,\n",
       " '2021-01-16T09:00': -1.5,\n",
       " '2021-01-16T10:00': -1.3,\n",
       " '2021-01-16T11:00': -1.0,\n",
       " '2021-01-16T12:00': -1.5,\n",
       " '2021-01-16T13:00': -1.0,\n",
       " '2021-01-16T14:00': -1.1,\n",
       " '2021-01-16T15:00': -1.2,\n",
       " '2021-01-16T16:00': -1.5,\n",
       " '2021-01-16T17:00': -1.7,\n",
       " '2021-01-16T18:00': -1.7,\n",
       " '2021-01-16T19:00': -1.6,\n",
       " '2021-01-16T20:00': -1.7,\n",
       " '2021-01-16T21:00': -2.2,\n",
       " '2021-01-16T22:00': -2.6,\n",
       " '2021-01-16T23:00': -2.8,\n",
       " '2021-01-17T00:00': -2.1,\n",
       " '2021-01-17T01:00': -2.0,\n",
       " '2021-01-17T02:00': -2.2,\n",
       " '2021-01-17T03:00': -2.9,\n",
       " '2021-01-17T04:00': -2.8,\n",
       " '2021-01-17T05:00': -2.6,\n",
       " '2021-01-17T06:00': -2.5,\n",
       " '2021-01-17T07:00': -2.5,\n",
       " '2021-01-17T08:00': -2.3,\n",
       " '2021-01-17T09:00': -1.7,\n",
       " '2021-01-17T10:00': -1.1,\n",
       " '2021-01-17T11:00': -0.8,\n",
       " '2021-01-17T12:00': -0.7,\n",
       " '2021-01-17T13:00': -0.5,\n",
       " '2021-01-17T14:00': -0.6,\n",
       " '2021-01-17T15:00': -1.0,\n",
       " '2021-01-17T16:00': -1.5,\n",
       " '2021-01-17T17:00': -1.8,\n",
       " '2021-01-17T18:00': -2.6,\n",
       " '2021-01-17T19:00': -3.1,\n",
       " '2021-01-17T20:00': -4.3,\n",
       " '2021-01-17T21:00': -4.7,\n",
       " '2021-01-17T22:00': -4.7,\n",
       " '2021-01-17T23:00': -4.5,\n",
       " '2021-01-18T00:00': -3.6,\n",
       " '2021-01-18T01:00': -3.8,\n",
       " '2021-01-18T02:00': -3.9,\n",
       " '2021-01-18T03:00': -3.7,\n",
       " '2021-01-18T04:00': -3.4,\n",
       " '2021-01-18T05:00': -3.2,\n",
       " '2021-01-18T06:00': -3.1,\n",
       " '2021-01-18T07:00': -3.0,\n",
       " '2021-01-18T08:00': -2.7,\n",
       " '2021-01-18T09:00': -2.0,\n",
       " '2021-01-18T10:00': -1.4,\n",
       " '2021-01-18T11:00': -0.5,\n",
       " '2021-01-18T12:00': -0.8,\n",
       " '2021-01-18T13:00': -0.0,\n",
       " '2021-01-18T14:00': 0.7,\n",
       " '2021-01-18T15:00': 1.5,\n",
       " '2021-01-18T16:00': 1.3,\n",
       " '2021-01-18T17:00': 0.6,\n",
       " '2021-01-18T18:00': 0.5,\n",
       " '2021-01-18T19:00': 0.9,\n",
       " '2021-01-18T20:00': 0.9,\n",
       " '2021-01-18T21:00': 1.4,\n",
       " '2021-01-18T22:00': 2.0,\n",
       " '2021-01-18T23:00': 2.1,\n",
       " '2021-01-19T00:00': 2.3,\n",
       " '2021-01-19T01:00': 2.4,\n",
       " '2021-01-19T02:00': 2.3,\n",
       " '2021-01-19T03:00': 2.3,\n",
       " '2021-01-19T04:00': 2.4,\n",
       " '2021-01-19T05:00': 2.4,\n",
       " '2021-01-19T06:00': 2.2,\n",
       " '2021-01-19T07:00': 2.1,\n",
       " '2021-01-19T08:00': 2.2,\n",
       " '2021-01-19T09:00': 2.4,\n",
       " '2021-01-19T10:00': 2.6,\n",
       " '2021-01-19T11:00': 2.0,\n",
       " '2021-01-19T12:00': 1.5,\n",
       " '2021-01-19T13:00': 1.3,\n",
       " '2021-01-19T14:00': 1.6,\n",
       " '2021-01-19T15:00': 2.0,\n",
       " '2021-01-19T16:00': 2.2,\n",
       " '2021-01-19T17:00': 2.2,\n",
       " '2021-01-19T18:00': 2.4,\n",
       " '2021-01-19T19:00': 3.0,\n",
       " '2021-01-19T20:00': 4.0,\n",
       " '2021-01-19T21:00': 4.8,\n",
       " '2021-01-19T22:00': 4.8,\n",
       " '2021-01-19T23:00': 6.7,\n",
       " '2021-01-20T00:00': 5.9,\n",
       " '2021-01-20T01:00': 5.5,\n",
       " '2021-01-20T02:00': 4.5,\n",
       " '2021-01-20T03:00': 3.8,\n",
       " '2021-01-20T04:00': 3.3,\n",
       " '2021-01-20T05:00': 3.1,\n",
       " '2021-01-20T06:00': 2.5,\n",
       " '2021-01-20T07:00': 2.5,\n",
       " '2021-01-20T08:00': 3.2,\n",
       " '2021-01-20T09:00': 4.1,\n",
       " '2021-01-20T10:00': 5.2,\n",
       " '2021-01-20T11:00': 6.6,\n",
       " '2021-01-20T12:00': 7.3,\n",
       " '2021-01-20T13:00': 7.5,\n",
       " '2021-01-20T14:00': 7.8,\n",
       " '2021-01-20T15:00': 7.5,\n",
       " '2021-01-20T16:00': 7.7,\n",
       " '2021-01-20T17:00': 7.5,\n",
       " '2021-01-20T18:00': 6.2,\n",
       " '2021-01-20T19:00': 5.5,\n",
       " '2021-01-20T20:00': 6.1,\n",
       " '2021-01-20T21:00': 5.4,\n",
       " '2021-01-20T22:00': 6.7,\n",
       " '2021-01-20T23:00': 6.0,\n",
       " '2021-01-21T00:00': 5.3,\n",
       " '2021-01-21T01:00': 4.8,\n",
       " '2021-01-21T02:00': 4.6,\n",
       " '2021-01-21T03:00': 5.6,\n",
       " '2021-01-21T04:00': 6.7,\n",
       " '2021-01-21T05:00': 6.1,\n",
       " '2021-01-21T06:00': 5.5,\n",
       " '2021-01-21T07:00': 6.7,\n",
       " '2021-01-21T08:00': 7.4,\n",
       " '2021-01-21T09:00': 9.3,\n",
       " '2021-01-21T10:00': 11.0,\n",
       " '2021-01-21T11:00': 11.8,\n",
       " '2021-01-21T12:00': 12.4,\n",
       " '2021-01-21T13:00': 12.3,\n",
       " '2021-01-21T14:00': 11.6,\n",
       " '2021-01-21T15:00': 10.7,\n",
       " '2021-01-21T16:00': 10.0,\n",
       " '2021-01-21T17:00': 9.6,\n",
       " '2021-01-21T18:00': 9.0,\n",
       " '2021-01-21T19:00': 8.5,\n",
       " '2021-01-21T20:00': 7.4,\n",
       " '2021-01-21T21:00': 7.2,\n",
       " '2021-01-21T22:00': 7.5,\n",
       " '2021-01-21T23:00': 8.5,\n",
       " '2021-01-22T00:00': 7.4,\n",
       " '2021-01-22T01:00': 8.7,\n",
       " '2021-01-22T02:00': 9.4,\n",
       " '2021-01-22T03:00': 9.8,\n",
       " '2021-01-22T04:00': 9.7,\n",
       " '2021-01-22T05:00': 9.5,\n",
       " '2021-01-22T06:00': 9.4,\n",
       " '2021-01-22T07:00': 9.5,\n",
       " '2021-01-22T08:00': 10.0,\n",
       " '2021-01-22T09:00': 10.2,\n",
       " '2021-01-22T10:00': 8.3,\n",
       " '2021-01-22T11:00': 7.6,\n",
       " '2021-01-22T12:00': 6.7,\n",
       " '2021-01-22T13:00': 6.4,\n",
       " '2021-01-22T14:00': 6.4,\n",
       " '2021-01-22T15:00': 6.0,\n",
       " '2021-01-22T16:00': 5.7,\n",
       " '2021-01-22T17:00': 4.2,\n",
       " '2021-01-22T18:00': 2.4,\n",
       " '2021-01-22T19:00': 1.9,\n",
       " '2021-01-22T20:00': 1.2,\n",
       " '2021-01-22T21:00': 0.7,\n",
       " '2021-01-22T22:00': -0.1,\n",
       " '2021-01-22T23:00': -1.1,\n",
       " '2021-01-23T00:00': 2.1,\n",
       " '2021-01-23T01:00': 2.1,\n",
       " '2021-01-23T02:00': 1.5,\n",
       " '2021-01-23T03:00': 1.4,\n",
       " '2021-01-23T04:00': 1.7,\n",
       " '2021-01-23T05:00': 1.8,\n",
       " '2021-01-23T06:00': 1.7,\n",
       " '2021-01-23T07:00': 1.5,\n",
       " '2021-01-23T08:00': 1.4,\n",
       " '2021-01-23T09:00': 1.4,\n",
       " '2021-01-23T10:00': 1.5,\n",
       " '2021-01-23T11:00': 1.4,\n",
       " '2021-01-23T12:00': 1.4,\n",
       " '2021-01-23T13:00': 2.0,\n",
       " '2021-01-23T14:00': 2.4,\n",
       " '2021-01-23T15:00': 2.3,\n",
       " '2021-01-23T16:00': 2.0,\n",
       " '2021-01-23T17:00': 1.8,\n",
       " '2021-01-23T18:00': 1.7,\n",
       " '2021-01-23T19:00': 1.2,\n",
       " '2021-01-23T20:00': 0.6,\n",
       " '2021-01-23T21:00': -0.0,\n",
       " '2021-01-23T22:00': -0.5,\n",
       " '2021-01-23T23:00': -0.5,\n",
       " '2021-01-24T00:00': -0.2,\n",
       " '2021-01-24T01:00': -0.1,\n",
       " '2021-01-24T02:00': -0.1,\n",
       " '2021-01-24T03:00': -0.0,\n",
       " '2021-01-24T04:00': 0.0,\n",
       " '2021-01-24T05:00': 0.1,\n",
       " '2021-01-24T06:00': 0.2,\n",
       " '2021-01-24T07:00': 0.2,\n",
       " '2021-01-24T08:00': 0.5,\n",
       " '2021-01-24T09:00': 0.7,\n",
       " '2021-01-24T10:00': 0.9,\n",
       " '2021-01-24T11:00': 1.3,\n",
       " '2021-01-24T12:00': 1.4,\n",
       " '2021-01-24T13:00': 1.1,\n",
       " '2021-01-24T14:00': 1.2,\n",
       " '2021-01-24T15:00': 1.1,\n",
       " '2021-01-24T16:00': 0.9,\n",
       " '2021-01-24T17:00': 0.5,\n",
       " '2021-01-24T18:00': 0.3,\n",
       " '2021-01-24T19:00': 0.2,\n",
       " '2021-01-24T20:00': 0.2,\n",
       " '2021-01-24T21:00': 0.2,\n",
       " '2021-01-24T22:00': 0.3,\n",
       " '2021-01-24T23:00': 0.3,\n",
       " '2021-01-25T00:00': 0.4,\n",
       " '2021-01-25T01:00': 0.2,\n",
       " '2021-01-25T02:00': 0.2,\n",
       " '2021-01-25T03:00': 0.3,\n",
       " '2021-01-25T04:00': 0.4,\n",
       " '2021-01-25T05:00': -0.0,\n",
       " '2021-01-25T06:00': -0.1,\n",
       " '2021-01-25T07:00': -0.2,\n",
       " '2021-01-25T08:00': 0.2,\n",
       " '2021-01-25T09:00': 0.7,\n",
       " '2021-01-25T10:00': 1.2,\n",
       " '2021-01-25T11:00': 1.4,\n",
       " '2021-01-25T12:00': 2.4,\n",
       " '2021-01-25T13:00': 2.5,\n",
       " '2021-01-25T14:00': 2.2,\n",
       " '2021-01-25T15:00': 1.7,\n",
       " '2021-01-25T16:00': 1.2,\n",
       " '2021-01-25T17:00': 0.7,\n",
       " '2021-01-25T18:00': 0.3,\n",
       " '2021-01-25T19:00': 0.5,\n",
       " '2021-01-25T20:00': 0.4,\n",
       " '2021-01-25T21:00': 0.5,\n",
       " '2021-01-25T22:00': 0.3,\n",
       " '2021-01-25T23:00': -0.1,\n",
       " '2021-01-26T00:00': -0.8,\n",
       " '2021-01-26T01:00': -1.4,\n",
       " '2021-01-26T02:00': -1.7,\n",
       " '2021-01-26T03:00': -1.8,\n",
       " '2021-01-26T04:00': -1.8,\n",
       " '2021-01-26T05:00': -1.9,\n",
       " '2021-01-26T06:00': -2.0,\n",
       " '2021-01-26T07:00': -2.4,\n",
       " '2021-01-26T08:00': -1.3,\n",
       " '2021-01-26T09:00': -0.2,\n",
       " '2021-01-26T10:00': 0.8,\n",
       " '2021-01-26T11:00': 1.7,\n",
       " '2021-01-26T12:00': 2.2,\n",
       " '2021-01-26T13:00': 2.6,\n",
       " '2021-01-26T14:00': 2.3,\n",
       " '2021-01-26T15:00': 1.8,\n",
       " '2021-01-26T16:00': 1.1,\n",
       " '2021-01-26T17:00': 0.9,\n",
       " '2021-01-26T18:00': 1.0,\n",
       " '2021-01-26T19:00': 1.1,\n",
       " '2021-01-26T20:00': 0.6,\n",
       " '2021-01-26T21:00': -0.2,\n",
       " '2021-01-26T22:00': -0.3,\n",
       " '2021-01-26T23:00': -0.7,\n",
       " '2021-01-27T00:00': 0.6,\n",
       " '2021-01-27T01:00': 0.4,\n",
       " '2021-01-27T02:00': 0.1,\n",
       " '2021-01-27T03:00': 0.0,\n",
       " '2021-01-27T04:00': 0.1,\n",
       " '2021-01-27T05:00': -0.1,\n",
       " '2021-01-27T06:00': 0.1,\n",
       " '2021-01-27T07:00': -0.1,\n",
       " '2021-01-27T08:00': 0.5,\n",
       " '2021-01-27T09:00': 1.3,\n",
       " '2021-01-27T10:00': 2.3,\n",
       " '2021-01-27T11:00': 3.3,\n",
       " '2021-01-27T12:00': 3.4,\n",
       " '2021-01-27T13:00': 3.8,\n",
       " '2021-01-27T14:00': 3.7,\n",
       " '2021-01-27T15:00': 2.6,\n",
       " '2021-01-27T16:00': 0.8,\n",
       " '2021-01-27T17:00': 0.3,\n",
       " '2021-01-27T18:00': 1.1,\n",
       " '2021-01-27T19:00': 0.6,\n",
       " '2021-01-27T20:00': 0.3,\n",
       " '2021-01-27T21:00': 0.8,\n",
       " '2021-01-27T22:00': 1.2,\n",
       " '2021-01-27T23:00': 1.1,\n",
       " '2021-01-28T00:00': 1.0,\n",
       " '2021-01-28T01:00': 1.1,\n",
       " '2021-01-28T02:00': 1.6,\n",
       " '2021-01-28T03:00': 2.5,\n",
       " '2021-01-28T04:00': 3.0,\n",
       " '2021-01-28T05:00': 3.5,\n",
       " '2021-01-28T06:00': 3.4,\n",
       " '2021-01-28T07:00': 3.2,\n",
       " '2021-01-28T08:00': 2.8,\n",
       " '2021-01-28T09:00': 2.8,\n",
       " '2021-01-28T10:00': 3.0,\n",
       " '2021-01-28T11:00': 3.3,\n",
       " '2021-01-28T12:00': 3.5,\n",
       " '2021-01-28T13:00': 3.3,\n",
       " '2021-01-28T14:00': 2.9,\n",
       " '2021-01-28T15:00': 2.0,\n",
       " '2021-01-28T16:00': 0.8,\n",
       " '2021-01-28T17:00': -0.6,\n",
       " '2021-01-28T18:00': -0.8,\n",
       " '2021-01-28T19:00': -1.6,\n",
       " '2021-01-28T20:00': -2.9,\n",
       " '2021-01-28T21:00': -2.8,\n",
       " '2021-01-28T22:00': -3.0,\n",
       " '2021-01-28T23:00': -2.6,\n",
       " '2021-01-29T00:00': -3.5,\n",
       " '2021-01-29T01:00': -4.0,\n",
       " '2021-01-29T02:00': -4.2,\n",
       " '2021-01-29T03:00': -3.6,\n",
       " '2021-01-29T04:00': -4.2,\n",
       " '2021-01-29T05:00': -4.2,\n",
       " '2021-01-29T06:00': -5.0,\n",
       " '2021-01-29T07:00': -4.8,\n",
       " '2021-01-29T08:00': -3.6,\n",
       " '2021-01-29T09:00': -2.1,\n",
       " '2021-01-29T10:00': -1.4,\n",
       " '2021-01-29T11:00': -0.9,\n",
       " '2021-01-29T12:00': -0.8,\n",
       " '2021-01-29T13:00': -0.5,\n",
       " '2021-01-29T14:00': -0.4,\n",
       " '2021-01-29T15:00': -0.6,\n",
       " '2021-01-29T16:00': -0.9,\n",
       " '2021-01-29T17:00': -0.9,\n",
       " '2021-01-29T18:00': -0.9,\n",
       " '2021-01-29T19:00': -1.1,\n",
       " '2021-01-29T20:00': -1.3,\n",
       " '2021-01-29T21:00': -1.4,\n",
       " '2021-01-29T22:00': -1.5,\n",
       " '2021-01-29T23:00': -1.6,\n",
       " '2021-01-30T00:00': -1.5,\n",
       " '2021-01-30T01:00': -1.5,\n",
       " '2021-01-30T02:00': -1.5,\n",
       " '2021-01-30T03:00': -1.5,\n",
       " '2021-01-30T04:00': -1.2,\n",
       " '2021-01-30T05:00': -1.0,\n",
       " '2021-01-30T06:00': -1.1,\n",
       " '2021-01-30T07:00': -1.8,\n",
       " '2021-01-30T08:00': -1.3,\n",
       " '2021-01-30T09:00': -0.0,\n",
       " '2021-01-30T10:00': 0.7,\n",
       " '2021-01-30T11:00': 1.3,\n",
       " '2021-01-30T12:00': 0.9,\n",
       " '2021-01-30T13:00': 0.6,\n",
       " '2021-01-30T14:00': 0.4,\n",
       " '2021-01-30T15:00': 0.2,\n",
       " '2021-01-30T16:00': -1.0,\n",
       " '2021-01-30T17:00': -2.7,\n",
       " '2021-01-30T18:00': -3.1,\n",
       " '2021-01-30T19:00': -3.7,\n",
       " '2021-01-30T20:00': -3.4,\n",
       " '2021-01-30T21:00': -2.8,\n",
       " '2021-01-30T22:00': -3.1,\n",
       " '2021-01-30T23:00': -3.9,\n",
       " '2021-01-31T00:00': -4.5,\n",
       " '2021-01-31T01:00': -5.1,\n",
       " '2021-01-31T02:00': -6.1,\n",
       " '2021-01-31T03:00': -7.7,\n",
       " '2021-01-31T04:00': -9.7,\n",
       " '2021-01-31T05:00': -8.6,\n",
       " '2021-01-31T06:00': -8.3,\n",
       " '2021-01-31T07:00': -7.6,\n",
       " '2021-01-31T08:00': -6.8,\n",
       " '2021-01-31T09:00': -5.4,\n",
       " '2021-01-31T10:00': -3.0,\n",
       " '2021-01-31T11:00': -1.8,\n",
       " '2021-01-31T12:00': -1.3,\n",
       " '2021-01-31T13:00': -0.6,\n",
       " '2021-01-31T14:00': -0.8,\n",
       " '2021-01-31T15:00': -2.2,\n",
       " '2021-01-31T16:00': -5.8,\n",
       " '2021-01-31T17:00': -6.1,\n",
       " '2021-01-31T18:00': -6.2,\n",
       " '2021-01-31T19:00': -6.5,\n",
       " '2021-01-31T20:00': -6.4,\n",
       " '2021-01-31T21:00': -6.5,\n",
       " '2021-01-31T22:00': -6.8,\n",
       " '2021-01-31T23:00': -11.5,\n",
       " '2021-02-01T00:00': -7.8,\n",
       " '2021-02-01T01:00': -7.0,\n",
       " '2021-02-01T02:00': -7.1,\n",
       " '2021-02-01T03:00': -7.1,\n",
       " '2021-02-01T04:00': -7.1,\n",
       " '2021-02-01T05:00': -7.0,\n",
       " '2021-02-01T06:00': -6.9,\n",
       " '2021-02-01T07:00': -6.4,\n",
       " '2021-02-01T08:00': -5.7,\n",
       " '2021-02-01T09:00': -4.6,\n",
       " '2021-02-01T10:00': -3.1,\n",
       " '2021-02-01T11:00': -1.3,\n",
       " '2021-02-01T12:00': -0.7,\n",
       " '2021-02-01T13:00': 0.5,\n",
       " '2021-02-01T14:00': 0.7,\n",
       " '2021-02-01T15:00': 0.1,\n",
       " '2021-02-01T16:00': -1.1,\n",
       " '2021-02-01T17:00': -1.0,\n",
       " '2021-02-01T18:00': -1.2,\n",
       " '2021-02-01T19:00': -1.3,\n",
       " '2021-02-01T20:00': -1.4,\n",
       " '2021-02-01T21:00': -1.3,\n",
       " '2021-02-01T22:00': -1.3,\n",
       " '2021-02-01T23:00': -1.2,\n",
       " '2021-02-02T00:00': -1.4,\n",
       " '2021-02-02T01:00': -1.3,\n",
       " '2021-02-02T02:00': -0.5,\n",
       " '2021-02-02T03:00': -0.1,\n",
       " '2021-02-02T04:00': 0.1,\n",
       " '2021-02-02T05:00': 0.3,\n",
       " '2021-02-02T06:00': 0.4,\n",
       " '2021-02-02T07:00': 0.4,\n",
       " '2021-02-02T08:00': 0.4,\n",
       " '2021-02-02T09:00': 0.6,\n",
       " '2021-02-02T10:00': 1.0,\n",
       " '2021-02-02T11:00': 1.5,\n",
       " '2021-02-02T12:00': 0.9,\n",
       " '2021-02-02T13:00': 0.9,\n",
       " '2021-02-02T14:00': 1.1,\n",
       " '2021-02-02T15:00': 0.6,\n",
       " '2021-02-02T16:00': 0.0,\n",
       " '2021-02-02T17:00': 0.1,\n",
       " '2021-02-02T18:00': 0.2,\n",
       " '2021-02-02T19:00': 0.3,\n",
       " '2021-02-02T20:00': 0.5,\n",
       " '2021-02-02T21:00': 0.6,\n",
       " '2021-02-02T22:00': 0.6,\n",
       " '2021-02-02T23:00': 0.6,\n",
       " '2021-02-03T00:00': 0.9,\n",
       " '2021-02-03T01:00': 0.9,\n",
       " '2021-02-03T02:00': 0.8,\n",
       " '2021-02-03T03:00': 0.8,\n",
       " '2021-02-03T04:00': 0.8,\n",
       " '2021-02-03T05:00': 0.9,\n",
       " '2021-02-03T06:00': 1.0,\n",
       " '2021-02-03T07:00': 1.6,\n",
       " '2021-02-03T08:00': 2.7,\n",
       " '2021-02-03T09:00': 3.8,\n",
       " '2021-02-03T10:00': 5.4,\n",
       " '2021-02-03T11:00': 7.0,\n",
       " '2021-02-03T12:00': 5.3,\n",
       " '2021-02-03T13:00': 6.3,\n",
       " '2021-02-03T14:00': 7.3,\n",
       " '2021-02-03T15:00': 6.9,\n",
       " '2021-02-03T16:00': 6.2,\n",
       " '2021-02-03T17:00': 6.4,\n",
       " '2021-02-03T18:00': 6.0,\n",
       " '2021-02-03T19:00': 5.8,\n",
       " '2021-02-03T20:00': 5.8,\n",
       " '2021-02-03T21:00': 6.7,\n",
       " '2021-02-03T22:00': 8.0,\n",
       " '2021-02-03T23:00': 6.9,\n",
       " '2021-02-04T00:00': 2.2,\n",
       " '2021-02-04T01:00': 2.1,\n",
       " '2021-02-04T02:00': 1.6,\n",
       " '2021-02-04T03:00': 1.3,\n",
       " '2021-02-04T04:00': 1.1,\n",
       " '2021-02-04T05:00': 0.9,\n",
       " '2021-02-04T06:00': 0.6,\n",
       " '2021-02-04T07:00': 0.4,\n",
       " '2021-02-04T08:00': 0.5,\n",
       " '2021-02-04T09:00': 0.5,\n",
       " '2021-02-04T10:00': 0.8,\n",
       " '2021-02-04T11:00': 1.0,\n",
       " '2021-02-04T12:00': 0.7,\n",
       " '2021-02-04T13:00': 0.9,\n",
       " '2021-02-04T14:00': 0.8,\n",
       " '2021-02-04T15:00': 0.7,\n",
       " '2021-02-04T16:00': 0.5,\n",
       " '2021-02-04T17:00': 0.4,\n",
       " '2021-02-04T18:00': 0.3,\n",
       " '2021-02-04T19:00': 0.3,\n",
       " '2021-02-04T20:00': 0.2,\n",
       " '2021-02-04T21:00': 0.0,\n",
       " '2021-02-04T22:00': -0.0,\n",
       " '2021-02-04T23:00': -0.0,\n",
       " '2021-02-05T00:00': -0.0,\n",
       " '2021-02-05T01:00': 0.1,\n",
       " '2021-02-05T02:00': 0.0,\n",
       " '2021-02-05T03:00': 0.0,\n",
       " '2021-02-05T04:00': -0.1,\n",
       " '2021-02-05T05:00': -0.1,\n",
       " '2021-02-05T06:00': -0.2,\n",
       " '2021-02-05T07:00': -0.4,\n",
       " '2021-02-05T08:00': -0.4,\n",
       " '2021-02-05T09:00': -0.2,\n",
       " '2021-02-05T10:00': 0.4,\n",
       " '2021-02-05T11:00': 0.7,\n",
       " '2021-02-05T12:00': 0.6,\n",
       " '2021-02-05T13:00': 0.8,\n",
       " '2021-02-05T14:00': 0.8,\n",
       " '2021-02-05T15:00': 0.4,\n",
       " '2021-02-05T16:00': -0.2,\n",
       " '2021-02-05T17:00': -0.5,\n",
       " '2021-02-05T18:00': -0.6,\n",
       " '2021-02-05T19:00': -0.7,\n",
       " '2021-02-05T20:00': -0.7,\n",
       " '2021-02-05T21:00': -0.8,\n",
       " '2021-02-05T22:00': -1.0,\n",
       " '2021-02-05T23:00': -1.1,\n",
       " '2021-02-06T00:00': -0.8,\n",
       " '2021-02-06T01:00': -1.2,\n",
       " '2021-02-06T02:00': -1.6,\n",
       " '2021-02-06T03:00': -1.6,\n",
       " '2021-02-06T04:00': -1.7,\n",
       " '2021-02-06T05:00': -1.8,\n",
       " '2021-02-06T06:00': -2.0,\n",
       " '2021-02-06T07:00': -2.0,\n",
       " '2021-02-06T08:00': -2.0,\n",
       " '2021-02-06T09:00': -1.9,\n",
       " '2021-02-06T10:00': -1.5,\n",
       " '2021-02-06T11:00': -0.9,\n",
       " '2021-02-06T12:00': -0.9,\n",
       " '2021-02-06T13:00': -0.2,\n",
       " '2021-02-06T14:00': -0.5,\n",
       " '2021-02-06T15:00': -1.1,\n",
       " '2021-02-06T16:00': -1.9,\n",
       " '2021-02-06T17:00': -2.2,\n",
       " '2021-02-06T18:00': -2.4,\n",
       " '2021-02-06T19:00': -3.0,\n",
       " '2021-02-06T20:00': -3.5,\n",
       " '2021-02-06T21:00': -3.9,\n",
       " '2021-02-06T22:00': -4.2,\n",
       " '2021-02-06T23:00': -4.4,\n",
       " '2021-02-07T00:00': -4.9,\n",
       " '2021-02-07T01:00': -5.3,\n",
       " '2021-02-07T02:00': -5.5,\n",
       " '2021-02-07T03:00': -5.7,\n",
       " '2021-02-07T04:00': -6.2,\n",
       " '2021-02-07T05:00': -6.7,\n",
       " '2021-02-07T06:00': -7.1,\n",
       " '2021-02-07T07:00': -7.2,\n",
       " '2021-02-07T08:00': -7.1,\n",
       " '2021-02-07T09:00': -6.7,\n",
       " '2021-02-07T10:00': -6.2,\n",
       " '2021-02-07T11:00': -5.7,\n",
       " '2021-02-07T12:00': -5.8,\n",
       " '2021-02-07T13:00': -5.6,\n",
       " '2021-02-07T14:00': -5.9,\n",
       " '2021-02-07T15:00': -5.6,\n",
       " '2021-02-07T16:00': -5.7,\n",
       " '2021-02-07T17:00': -5.9,\n",
       " '2021-02-07T18:00': -6.2,\n",
       " '2021-02-07T19:00': -6.4,\n",
       " '2021-02-07T20:00': -6.7,\n",
       " '2021-02-07T21:00': -6.7,\n",
       " '2021-02-07T22:00': -6.9,\n",
       " '2021-02-07T23:00': -7.2,\n",
       " '2021-02-08T00:00': -7.2,\n",
       " '2021-02-08T01:00': -7.4,\n",
       " '2021-02-08T02:00': -8.1,\n",
       " '2021-02-08T03:00': -8.8,\n",
       " '2021-02-08T04:00': -9.1,\n",
       " '2021-02-08T05:00': -9.3,\n",
       " '2021-02-08T06:00': -9.4,\n",
       " '2021-02-08T07:00': -9.4,\n",
       " '2021-02-08T08:00': -9.4,\n",
       " '2021-02-08T09:00': -9.4,\n",
       " '2021-02-08T10:00': -9.2,\n",
       " '2021-02-08T11:00': -9.5,\n",
       " '2021-02-08T12:00': -8.7,\n",
       " '2021-02-08T13:00': -9.0,\n",
       " '2021-02-08T14:00': -9.0,\n",
       " '2021-02-08T15:00': -9.1,\n",
       " '2021-02-08T16:00': -9.3,\n",
       " '2021-02-08T17:00': -9.5,\n",
       " '2021-02-08T18:00': -9.5,\n",
       " '2021-02-08T19:00': -9.5,\n",
       " '2021-02-08T20:00': -9.4,\n",
       " '2021-02-08T21:00': -9.4,\n",
       " '2021-02-08T22:00': -10.1,\n",
       " '2021-02-08T23:00': -10.7,\n",
       " '2021-02-09T00:00': -10.1,\n",
       " '2021-02-09T01:00': -12.1,\n",
       " '2021-02-09T02:00': -11.4,\n",
       " '2021-02-09T03:00': -13.9,\n",
       " '2021-02-09T04:00': -13.4,\n",
       " '2021-02-09T05:00': -14.0,\n",
       " '2021-02-09T06:00': -14.0,\n",
       " '2021-02-09T07:00': -14.1,\n",
       " '2021-02-09T08:00': -12.3,\n",
       " '2021-02-09T09:00': -10.3,\n",
       " '2021-02-09T10:00': -9.2,\n",
       " '2021-02-09T11:00': -8.6,\n",
       " '2021-02-09T12:00': -7.4,\n",
       " '2021-02-09T13:00': -7.1,\n",
       " '2021-02-09T14:00': -7.0,\n",
       " '2021-02-09T15:00': -7.1,\n",
       " '2021-02-09T16:00': -7.7,\n",
       " '2021-02-09T17:00': -7.9,\n",
       " '2021-02-09T18:00': -8.3,\n",
       " '2021-02-09T19:00': -9.1,\n",
       " '2021-02-09T20:00': -9.9,\n",
       " '2021-02-09T21:00': -8.5,\n",
       " '2021-02-09T22:00': -8.9,\n",
       " '2021-02-09T23:00': -9.3,\n",
       " '2021-02-10T00:00': -9.5,\n",
       " '2021-02-10T01:00': -9.6,\n",
       " '2021-02-10T02:00': -10.7,\n",
       " '2021-02-10T03:00': -11.9,\n",
       " '2021-02-10T04:00': -14.4,\n",
       " '2021-02-10T05:00': -14.2,\n",
       " '2021-02-10T06:00': -13.9,\n",
       " '2021-02-10T07:00': -14.9,\n",
       " '2021-02-10T08:00': -14.1,\n",
       " '2021-02-10T09:00': -12.4,\n",
       " '2021-02-10T10:00': -10.6,\n",
       " '2021-02-10T11:00': -9.1,\n",
       " '2021-02-10T12:00': -7.2,\n",
       " '2021-02-10T13:00': -6.1,\n",
       " '2021-02-10T14:00': -5.7,\n",
       " '2021-02-10T15:00': -6.2,\n",
       " '2021-02-10T16:00': -6.9,\n",
       " '2021-02-10T17:00': -7.3,\n",
       " '2021-02-10T18:00': -7.6,\n",
       " '2021-02-10T19:00': -8.2,\n",
       " '2021-02-10T20:00': -11.4,\n",
       " '2021-02-10T21:00': -12.1,\n",
       " '2021-02-10T22:00': -11.0,\n",
       " '2021-02-10T23:00': -11.8,\n",
       " '2021-02-11T00:00': -9.4,\n",
       " '2021-02-11T01:00': -6.6,\n",
       " '2021-02-11T02:00': -5.7,\n",
       " '2021-02-11T03:00': -5.9,\n",
       " '2021-02-11T04:00': -6.1,\n",
       " '2021-02-11T05:00': -6.6,\n",
       " '2021-02-11T06:00': -6.9,\n",
       " '2021-02-11T07:00': -7.6,\n",
       " '2021-02-11T08:00': -7.1,\n",
       " '2021-02-11T09:00': -5.9,\n",
       " '2021-02-11T10:00': -4.6,\n",
       " '2021-02-11T11:00': -3.7,\n",
       " '2021-02-11T12:00': -3.2,\n",
       " '2021-02-11T13:00': -3.8,\n",
       " '2021-02-11T14:00': -4.0,\n",
       " '2021-02-11T15:00': -3.6,\n",
       " ...}"
      ]
     },
     "execution_count": 7,
     "metadata": {},
     "output_type": "execute_result"
    }
   ],
   "source": [
    "# SOLUTION\n",
    "data[\"hourly\"][\"time\"][0]\n",
    "data[\"hourly\"][\"temperature_2m\"][0]\n",
    "\n",
    "time2temp = {}\n",
    "for k,v in zip(data[\"hourly\"][\"time\"],data[\"hourly\"][\"temperature_2m\"]):\n",
    "    time2temp[k]=v\n",
    "time2temp"
   ]
  }
 ],
 "metadata": {
  "kernelspec": {
   "display_name": "jupyter",
   "language": "python",
   "name": "python3"
  },
  "language_info": {
   "codemirror_mode": {
    "name": "ipython",
    "version": 3
   },
   "file_extension": ".py",
   "mimetype": "text/x-python",
   "name": "python",
   "nbconvert_exporter": "python",
   "pygments_lexer": "ipython3",
   "version": "3.11.4"
  },
  "orig_nbformat": 4,
  "vscode": {
   "interpreter": {
    "hash": "0fadeaac72bf3c14f9665939c662a31c8aa4e36681a8cd408ae34884627e6cff"
   }
  }
 },
 "nbformat": 4,
 "nbformat_minor": 2
}
