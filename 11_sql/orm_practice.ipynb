{
  "cells": [
    {
      "cell_type": "markdown",
      "metadata": {
        "colab_type": "text",
        "id": "view-in-github"
      },
      "source": [
        "<a href=\"https://colab.research.google.com/github/LUMC/EfDS_RelDB_SQL/blob/main/orm_practice.ipynb\" target=\"_parent\"><img src=\"https://colab.research.google.com/assets/colab-badge.svg\" alt=\"Open In Colab\"/></a>"
      ]
    },
    {
      "cell_type": "markdown",
      "metadata": {
        "id": "7QfhAsFJDKAt"
      },
      "source": [
        "# Object Relational Mapper"
      ]
    },
    {
      "attachments": {},
      "cell_type": "markdown",
      "metadata": {
        "id": "lMXTpcDAqsiD"
      },
      "source": [
        "## Goals"
      ]
    },
    {
      "attachments": {},
      "cell_type": "markdown",
      "metadata": {
        "id": "q0l7Hj4HEDEI"
      },
      "source": [
        "The overall goal of this session is to learn how to provide an object oriented interface to a database.  \n",
        "Since this is a complex task, specialized libraries help to provide such functionality.  \n",
        "Here, we will use a part of the `SQLAlchemy` library called [Object Relational Mapper](https://docs.sqlalchemy.org/en/14/orm/index.html) (ORM)."
      ]
    },
    {
      "attachments": {},
      "cell_type": "markdown",
      "metadata": {
        "id": "Wqiz1HMYnp42"
      },
      "source": [
        "This lecture describes a growing code and is intended to be followed sequentially. Subsequent steps have the following goals:\n",
        "- Create a class corresponding to a single database table (relations are ignored).\n",
        "- Understand the concepts of engine, session, transaction, commit, rollback.\n",
        "- Query the database and get results as objects representing rows. Build simple and more complex queries.\n",
        "- Extend the class with a method for nicer content printing.\n",
        "- Create another class for another database table. Learn how do declare foreign keys and add methods representing relations.\n",
        "- Add new content to the database. Commit. Show the newly added content."
      ]
    },
    {
      "attachments": {},
      "cell_type": "markdown",
      "metadata": {},
      "source": [
        "*Note:* [The PYSheet cheatsheet](https://www.pythonsheets.com/notes/python-sqlalchemy.html) is useful once you understand the basic SQLAlchemy and Object Relational Mapper concepts."
      ]
    },
    {
      "attachments": {},
      "cell_type": "markdown",
      "metadata": {
        "id": "wpHEHn7wsA76"
      },
      "source": [
        "Below there is (again) the diagram from [the SQLite Tutorial](https://www.sqlitetutorial.net) of the `chinook` database.\n",
        "\n",
        "![chinook scheme](https://www.sqlitetutorial.net/wp-content/uploads/2015/11/sqlite-sample-database-color.jpg)\n",
        "\n",
        "We will implement classes providing access to a small part of the database:\n",
        "- We want classes `Album` (a row of the table `albums`) or `Track` (a row of the table `tracks`).\n",
        "- The class `Album` should have a field like `title`.\n",
        "- The class `Album` should have a method `tracks` which returns respective `Track` objects for \"the current\" `Album` object.\n",
        "- When a field is changed, the database should get updated."
      ]
    },
    {
      "cell_type": "markdown",
      "metadata": {
        "id": "e2b3jP7s3VQF"
      },
      "source": [
        "## Preparation"
      ]
    },
    {
      "cell_type": "markdown",
      "metadata": {
        "id": "7fXJZpD5kYVb"
      },
      "source": [
        "\n",
        "The following tools/sources will be used and they need to get installed:\n",
        "- `chinook.db` is the database (a file in `SQLite` database format)\n",
        "- `SQLAlchemy` is the Python library which:\n",
        "    - provides unified SQL access to databases of many formats, including `SQLite`\n",
        "    - provides Object Relational Mapper functionality\n"
      ]
    },
    {
      "cell_type": "markdown",
      "metadata": {
        "id": "cB1iky0ekfcZ"
      },
      "source": [
        "### Download of the database"
      ]
    },
    {
      "attachments": {},
      "cell_type": "markdown",
      "metadata": {
        "id": "RmZYU5BSOoWN"
      },
      "source": [
        "The following lines download a compressed file `chinook.zip` and unpack it leading to a SQLite database file `chinook.db`.  \n",
        "*Note:* In this session we will modify the database, so the database file will change and some examples may not work anymore. In that case, you can download the database again."
      ]
    },
    {
      "cell_type": "code",
      "execution_count": 1,
      "metadata": {
        "id": "wScMXlM-CLSK"
      },
      "outputs": [],
      "source": [
        "import urllib.request    # needed for download of the example database\n",
        "import shutil            # needed for unziping of the example database\n",
        "import os                # for removing a file\n",
        "\n",
        "# urllib.request.urlretrieve(\"https://www.sqlitetutorial.net/wp-content/uploads/2018/03/chinook.zip\", \"chinook.zip\")\n",
        "shutil.unpack_archive(\"chinook.zip\")\n",
        "# os.remove(\"chinook.zip\")"
      ]
    },
    {
      "attachments": {},
      "cell_type": "markdown",
      "metadata": {
        "id": "CPNnr4RlGxeW"
      },
      "source": [
        "### SQLAlchemy toolkit"
      ]
    },
    {
      "cell_type": "markdown",
      "metadata": {
        "id": "3TneEMEjHYSE"
      },
      "source": [
        "The demonstrations will use multiple functions and classes of the SQLAlchemy library."
      ]
    },
    {
      "cell_type": "code",
      "execution_count": 2,
      "metadata": {
        "id": "3bhJYhpYyayT"
      },
      "outputs": [],
      "source": [
        "import sqlalchemy as sa\n",
        "import sqlalchemy.orm as orm"
      ]
    },
    {
      "cell_type": "markdown",
      "metadata": {
        "id": "Sa_dguIBF0l4"
      },
      "source": [
        "### Database connection and transaction"
      ]
    },
    {
      "attachments": {},
      "cell_type": "markdown",
      "metadata": {
        "id": "PMQGl5B5F4O9"
      },
      "source": [
        "When using the SQLAlchemy library, the following objects are used to interact with the database. \n",
        "- `engine`: Provides a main connection to a database.\n",
        "- `session`: A newly created transaction. Database changes executed through this object will only get written at the end of the block when the transaction is committed. If the transaction is rolled back, all the changes are discarded."
      ]
    },
    {
      "cell_type": "code",
      "execution_count": 4,
      "metadata": {
        "id": "ErJpQ6nOY6Qb"
      },
      "outputs": [],
      "source": [
        "engine = sa.create_engine(\"sqlite:///chinook.db\",echo=False)\n",
        "with orm.Session(engine) as session:\n",
        "    # query or modify the database through the session object\n",
        "    pass\n",
        "    # when modifying the database, commit or rollback the changes introduced in the block"
      ]
    },
    {
      "cell_type": "markdown",
      "metadata": {
        "id": "xwjOj9CrHBn5"
      },
      "source": [
        "## Class describing a table"
      ]
    },
    {
      "cell_type": "markdown",
      "metadata": {
        "id": "Ss09rXQ_HFPK"
      },
      "source": [
        "This is a code pattern to describe a (row of a) single table in the database.  \n",
        "This step is independent on the database (does not load the table column names/types from the database).  \n",
        "This code needs to be adjusted for each table which is going to be created or modified.\n",
        "\n",
        "Let's study the following description referring to the table `albums` from the `chinook` database:\n",
        "- `Base`: This object normally is created once and it internally stores all information about the structure of the database. (*Note:* In this notebook we will recreate this object multiple times to allow changes in descriptions of the tables.)\n",
        "- `Album`: This is a newly created class and it will conceptually represent a single row of the table.\n",
        "- `__tablename__`: This field defines the name of the table as in the database.\n",
        "- `AlbumId`: This is a name of a `Column` as in the database. Moreover, it specifies that the column keeps `Integer` numbers, and that the column belogs to the `primary_key` of this table.\n",
        "- `Title`: As above, but the column keeps texts (`String` of max. 160 characters).\n",
        "\n",
        "For more info check: [Column and Data Types](https://docs.sqlalchemy.org/en/14/core/type_basics.html)."
      ]
    },
    {
      "cell_type": "code",
      "execution_count": 5,
      "metadata": {
        "id": "_YYB2GItynEw"
      },
      "outputs": [],
      "source": [
        "Base = orm.declarative_base()\n",
        "\n",
        "class Album(Base):\n",
        "  __tablename__ = \"albums\"\n",
        "  \n",
        "  AlbumId = sa.Column(sa.Integer,primary_key=True)\n",
        "  Title = sa.Column(sa.String(160))\n",
        "  ArtistId = sa.Column(sa.Integer)\n",
        "  # test1 = sa.Column(sa.Integer)"
      ]
    },
    {
      "attachments": {},
      "cell_type": "markdown",
      "metadata": {
        "id": "tPyyRjamRA-5"
      },
      "source": [
        "## Getting table rows as objects"
      ]
    },
    {
      "cell_type": "markdown",
      "metadata": {
        "id": "RV-sOtG3tS4Z"
      },
      "source": [
        "The SQLAlchemy library provides functionality to automatically build SQL queries, execute them, and convert the results to objects of the declared tables. Study the examples below..."
      ]
    },
    {
      "cell_type": "markdown",
      "metadata": {
        "id": "BfixmQ1Rvpo3"
      },
      "source": [
        "### SQL query is built by the library"
      ]
    },
    {
      "cell_type": "markdown",
      "metadata": {
        "id": "ZiqhnX_Yt--G"
      },
      "source": [
        "The `session` object provides a function `query`. The arguments of this function define which table is to be asked for. Observe, how `session.query(Album)` builds automatically the SQL query based on the table description provided in the `Album` class:"
      ]
    },
    {
      "cell_type": "code",
      "execution_count": 6,
      "metadata": {
        "id": "1-Y6fMWF4-Be"
      },
      "outputs": [
        {
          "name": "stdout",
          "output_type": "stream",
          "text": [
            "SELECT albums.\"AlbumId\" AS \"albums_AlbumId\", albums.\"Title\" AS \"albums_Title\", albums.\"ArtistId\" AS \"albums_ArtistId\" \n",
            "FROM albums\n"
          ]
        }
      ],
      "source": [
        "with orm.Session(engine) as session:\n",
        "    print( session.query(Album) )\n",
        "    session.query(Album)"
      ]
    },
    {
      "cell_type": "markdown",
      "metadata": {
        "id": "g4dNd_7bubDX"
      },
      "source": [
        "Using additionally the `limit` function we can obtain an SQL query referring to a few rows only:"
      ]
    },
    {
      "cell_type": "code",
      "execution_count": 30,
      "metadata": {
        "id": "E1Ags4pK536u"
      },
      "outputs": [
        {
          "name": "stdout",
          "output_type": "stream",
          "text": [
            "SELECT albums.\"AlbumId\" AS \"albums_AlbumId\", albums.\"Title\" AS \"albums_Title\", albums.\"ArtistId\" AS \"albums_ArtistId\", albums.test1 AS albums_test1 \n",
            "FROM albums\n",
            " LIMIT ? OFFSET ?\n"
          ]
        }
      ],
      "source": [
        "with orm.Session(engine) as session:\n",
        "    print( session.query(Album).limit(3) )"
      ]
    },
    {
      "cell_type": "markdown",
      "metadata": {
        "id": "JrtVOZZHR6fj"
      },
      "source": [
        "Or, using the `filter` function we may generate SQL `where` clauses to select rows:"
      ]
    },
    {
      "cell_type": "code",
      "execution_count": 6,
      "metadata": {
        "id": "tTYsKKEAR7y4"
      },
      "outputs": [
        {
          "name": "stdout",
          "output_type": "stream",
          "text": [
            "SELECT albums.\"AlbumId\" AS \"albums_AlbumId\", albums.\"Title\" AS \"albums_Title\", albums.\"ArtistId\" AS \"albums_ArtistId\" \n",
            "FROM albums \n",
            "WHERE albums.\"AlbumId\" = ?\n"
          ]
        }
      ],
      "source": [
        "with orm.Session(engine) as session:\n",
        "    print( session.query(Album).filter(Album.AlbumId == 5) )"
      ]
    },
    {
      "cell_type": "markdown",
      "metadata": {
        "id": "DPWm9WYRQ8ek"
      },
      "source": [
        "### Getting a single object"
      ]
    },
    {
      "cell_type": "markdown",
      "metadata": {
        "id": "v9G0axhhRDJa"
      },
      "source": [
        "We know that `AlbumId` is the primary key of the `albums` table. So, there should be just one row for an album with (for example) `AlbumId` of `5`.  \n",
        "The following code will run the SQL query and produce the `one` corresponding `Album` object:"
      ]
    },
    {
      "cell_type": "code",
      "execution_count": 8,
      "metadata": {
        "id": "7bdFdOQFS5zW"
      },
      "outputs": [
        {
          "name": "stdout",
          "output_type": "stream",
          "text": [
            "<class 'list'>\n",
            "[Album(AlbumId='5', Title='Big Ones', ArtistId='3')]\n"
          ]
        }
      ],
      "source": [
        "with orm.Session(engine) as session:\n",
        "    a = session.query(Album).filter(Album.AlbumId == 5).all()\n",
        "    print(type(a))\n",
        "    print(a)\n",
        "\n",
        "# print(a)                   # the object a may be invalid once the session is closed"
      ]
    },
    {
      "cell_type": "markdown",
      "metadata": {
        "id": "8OKd0-y0TpAn"
      },
      "source": [
        "You can see that indeed an object of the class `Album` was produced, although its content are not shown (will be discussed next). Note though, that the values from the table columns can be accessed conveniently as the class fields:"
      ]
    },
    {
      "cell_type": "code",
      "execution_count": null,
      "metadata": {
        "id": "DXlxASSFUGE4"
      },
      "outputs": [],
      "source": [
        "with orm.Session(engine) as session:\n",
        "    a = session.query(Album).filter(Album.AlbumId == 5).one()\n",
        "    print(a.AlbumId)\n",
        "    print(a.Title)"
      ]
    },
    {
      "cell_type": "markdown",
      "metadata": {
        "id": "ko-hTfHq1VSZ"
      },
      "source": [
        "### Nice printing of object fields"
      ]
    },
    {
      "cell_type": "markdown",
      "metadata": {
        "id": "VlwfuuXj1qPX"
      },
      "source": [
        "Redefine the `Album` object a add a method `__repr__`. This is a function used to get the text representation of an object when it gets `print`ed:"
      ]
    },
    {
      "cell_type": "code",
      "execution_count": 7,
      "metadata": {
        "id": "APX1gZZ06WsC"
      },
      "outputs": [],
      "source": [
        "Base = orm.declarative_base() # normally present once in a script!\n",
        "\n",
        "class Album(Base):\n",
        "  __tablename__ = \"albums\"\n",
        "  \n",
        "  AlbumId = sa.Column(sa.Integer,primary_key=True)\n",
        "  Title = sa.Column(sa.String(160))\n",
        "  ArtistId = sa.Column(sa.Integer)\n",
        "\n",
        "  def __repr__(self):\n",
        "    return \"Album(AlbumId='%s', Title='%s', ArtistId='%s')\" % (self.AlbumId, self.Title, self.ArtistId)"
      ]
    },
    {
      "cell_type": "markdown",
      "metadata": {
        "id": "uuBRfHplU6h3"
      },
      "source": [
        "Let's again get the object and print it:"
      ]
    },
    {
      "cell_type": "code",
      "execution_count": 9,
      "metadata": {
        "id": "Xgqsra_-6tsG"
      },
      "outputs": [
        {
          "name": "stdout",
          "output_type": "stream",
          "text": [
            "Album(AlbumId='5', Title='Big Ones', ArtistId='3')\n",
            "[('For Those About To Rock We Salute You',), ('Balls to the Wall',), ('Restless and Wild',), ('Let There Be Rock',), ('Big Ones',), ('Jagged Little Pill',), ('Facelift',), ('Warner 25 Anos',), ('Plays Metallica By Four Cellos',), ('Audioslave',), ('Out Of Exile',), ('BackBeat Soundtrack',), ('The Best Of Billy Cobham',), ('Alcohol Fueled Brewtality Live! [Disc 1]',), ('Alcohol Fueled Brewtality Live! [Disc 2]',), ('Black Sabbath',), ('Black Sabbath Vol. 4 (Remaster)',), ('Body Count',), ('Chemical Wedding',), ('The Best Of Buddy Guy - The Millenium Collection',), ('Prenda Minha',), ('Sozinho Remix Ao Vivo',), ('Minha Historia',), ('Afrociberdelia',), ('Da Lama Ao Caos',), ('Acústico MTV [Live]',), ('Cidade Negra - Hits',), ('Na Pista',), ('Axé Bahia 2001',), ('BBC Sessions [Disc 1] [Live]',), ('Bongo Fury',), ('Carnaval 2001',), ('Chill: Brazil (Disc 1)',), ('Chill: Brazil (Disc 2)',), ('Garage Inc. (Disc 1)',), ('Greatest Hits II',), ('Greatest Kiss',), ('Heart of the Night',), ('International Superhits',), ('Into The Light',), ('Meus Momentos',), ('Minha História',), ('MK III The Final Concerts [Disc 1]',), ('Physical Graffiti [Disc 1]',), ('Sambas De Enredo 2001',), ('Supernatural',), ('The Best of Ed Motta',), ('The Essential Miles Davis [Disc 1]',), ('The Essential Miles Davis [Disc 2]',), ('The Final Concerts (Disc 2)',), (\"Up An' Atom\",), ('Vinícius De Moraes - Sem Limite',), ('Vozes do MPB',), ('Chronicle, Vol. 1',), ('Chronicle, Vol. 2',), ('Cássia Eller - Coleção Sem Limite [Disc 2]',), ('Cássia Eller - Sem Limite [Disc 1]',), ('Come Taste The Band',), ('Deep Purple In Rock',), ('Fireball',), (\"Knocking at Your Back Door: The Best Of Deep Purple in the 80's\",), ('Machine Head',), ('Purpendicular',), ('Slaves And Masters',), ('Stormbringer',), ('The Battle Rages On',), (\"Vault: Def Leppard's Greatest Hits\",), ('Outbreak',), ('Djavan Ao Vivo - Vol. 02',), ('Djavan Ao Vivo - Vol. 1',), ('Elis Regina-Minha História',), ('The Cream Of Clapton',), ('Unplugged',), ('Album Of The Year',), ('Angel Dust',), ('King For A Day Fool For A Lifetime',), ('The Real Thing',), ('Deixa Entrar',), ('In Your Honor [Disc 1]',), ('In Your Honor [Disc 2]',), ('One By One',), ('The Colour And The Shape',), ('My Way: The Best Of Frank Sinatra [Disc 1]',), ('Roda De Funk',), ('As Canções de Eu Tu Eles',), ('Quanta Gente Veio Ver (Live)',), ('Quanta Gente Veio ver--Bônus De Carnaval',), ('Faceless',), ('American Idiot',), ('Appetite for Destruction',), ('Use Your Illusion I',), ('Use Your Illusion II',), ('Blue Moods',), ('A Matter of Life and Death',), ('A Real Dead One',), ('A Real Live One',), ('Brave New World',), ('Dance Of Death',), ('Fear Of The Dark',), ('Iron Maiden',), ('Killers',), ('Live After Death',), ('Live At Donington 1992 (Disc 1)',), ('Live At Donington 1992 (Disc 2)',), ('No Prayer For The Dying',), ('Piece Of Mind',), ('Powerslave',), ('Rock In Rio [CD1]',), ('Rock In Rio [CD2]',), ('Seventh Son of a Seventh Son',), ('Somewhere in Time',), ('The Number of The Beast',), ('The X Factor',), ('Virtual XI',), ('Sex Machine',), ('Emergency On Planet Earth',), ('Synkronized',), ('The Return Of The Space Cowboy',), ('Get Born',), ('Are You Experienced?',), ('Surfing with the Alien (Remastered)',), ('Jorge Ben Jor 25 Anos',), ('Jota Quest-1995',), ('Cafezinho',), ('Living After Midnight',), ('Unplugged [Live]',), ('BBC Sessions [Disc 2] [Live]',), ('Coda',), ('Houses Of The Holy',), ('In Through The Out Door',), ('IV',), ('Led Zeppelin I',), ('Led Zeppelin II',), ('Led Zeppelin III',), ('Physical Graffiti [Disc 2]',), ('Presence',), ('The Song Remains The Same (Disc 1)',), ('The Song Remains The Same (Disc 2)',), ('A TempestadeTempestade Ou O Livro Dos Dias',), ('Mais Do Mesmo',), ('Greatest Hits',), ('Lulu Santos - RCA 100 Anos De Música - Álbum 01',), ('Lulu Santos - RCA 100 Anos De Música - Álbum 02',), ('Misplaced Childhood',), ('Barulhinho Bom',), ('Seek And Shall Find: More Of The Best (1963-1981)',), ('The Best Of Men At Work',), ('Black Album',), ('Garage Inc. (Disc 2)',), (\"Kill 'Em All\",), ('Load',), ('Master Of Puppets',), ('ReLoad',), ('Ride The Lightning',), ('St. Anger',), ('...And Justice For All',), ('Miles Ahead',), ('Milton Nascimento Ao Vivo',), ('Minas',), ('Ace Of Spades',), ('Demorou...',), ('Motley Crue Greatest Hits',), ('From The Muddy Banks Of The Wishkah [Live]',), ('Nevermind',), ('Compositores',), ('Olodum',), ('Acústico MTV',), ('Arquivo II',), ('Arquivo Os Paralamas Do Sucesso',), ('Bark at the Moon (Remastered)',), ('Blizzard of Ozz',), ('Diary of a Madman (Remastered)',), ('No More Tears (Remastered)',), ('Tribute',), ('Walking Into Clarksdale',), ('Original Soundtracks 1',), ('The Beast Live',), ('Live On Two Legs [Live]',), ('Pearl Jam',), ('Riot Act',), ('Ten',), ('Vs.',), ('Dark Side Of The Moon',), ('Os Cães Ladram Mas A Caravana Não Pára',), ('Greatest Hits I',), ('News Of The World',), ('Out Of Time',), ('Green',), ('New Adventures In Hi-Fi',), ('The Best Of R.E.M.: The IRS Years',), ('Cesta Básica',), ('Raul Seixas',), ('Blood Sugar Sex Magik',), ('By The Way',), ('Californication',), ('Retrospective I (1974-1980)',), ('Santana - As Years Go By',), ('Santana Live',), ('Maquinarama',), ('O Samba Poconé',), ('Judas 0: B-Sides and Rarities',), ('Rotten Apples: Greatest Hits',), ('A-Sides',), ('Morning Dance',), ('In Step',), ('Core',), ('Mezmerize',), ('[1997] Black Light Syndrome',), ('Live [Disc 1]',), ('Live [Disc 2]',), ('The Singles',), ('Beyond Good And Evil',), ('Pure Cult: The Best Of The Cult (For Rockers, Ravers, Lovers & Sinners) [UK]',), ('The Doors',), ('The Police Greatest Hits',), ('Hot Rocks, 1964-1971 (Disc 1)',), ('No Security',), ('Voodoo Lounge',), ('Tangents',), ('Transmission',), ('My Generation - The Very Best Of The Who',), ('Serie Sem Limite (Disc 1)',), ('Serie Sem Limite (Disc 2)',), ('Acústico',), ('Volume Dois',), ('Battlestar Galactica: The Story So Far',), ('Battlestar Galactica, Season 3',), ('Heroes, Season 1',), ('Lost, Season 3',), ('Lost, Season 1',), ('Lost, Season 2',), ('Achtung Baby',), (\"All That You Can't Leave Behind\",), ('B-Sides 1980-1990',), ('How To Dismantle An Atomic Bomb',), ('Pop',), ('Rattle And Hum',), ('The Best Of 1980-1990',), ('War',), ('Zooropa',), ('UB40 The Best Of - Volume Two [UK]',), ('Diver Down',), ('The Best Of Van Halen, Vol. I',), ('Van Halen',), ('Van Halen III',), ('Contraband',), ('Vinicius De Moraes',), ('Ao Vivo [IMPORT]',), ('The Office, Season 1',), ('The Office, Season 2',), ('The Office, Season 3',), ('Un-Led-Ed',), ('Battlestar Galactica (Classic), Season 1',), ('Aquaman',), ('Instant Karma: The Amnesty International Campaign to Save Darfur',), ('Speak of the Devil',), ('20th Century Masters - The Millennium Collection: The Best of Scorpions',), ('House of Pain',), ('Radio Brasil (O Som da Jovem Vanguarda) - Seleccao de Henrique Amaro',), ('Cake: B-Sides and Rarities',), ('LOST, Season 4',), ('Quiet Songs',), ('Muso Ko',), ('Realize',), ('Every Kind of Light',), ('Duos II',), ('Worlds',), ('The Best of Beethoven',), ('Temple of the Dog',), ('Carry On',), ('Revelations',), ('Adorate Deum: Gregorian Chant from the Proper of the Mass',), ('Allegri: Miserere',), ('Pachelbel: Canon & Gigue',), ('Vivaldi: The Four Seasons',), ('Bach: Violin Concertos',), ('Bach: Goldberg Variations',), ('Bach: The Cello Suites',), ('Handel: The Messiah (Highlights)',), ('The World of Classical Favourites',), ('Sir Neville Marriner: A Celebration',), ('Mozart: Wind Concertos',), ('Haydn: Symphonies 99 - 104',), ('Beethoven: Symhonies Nos. 5 & 6',), ('A Soprano Inspired',), ('Great Opera Choruses',), ('Wagner: Favourite Overtures',), ('Fauré: Requiem, Ravel: Pavane & Others',), ('Tchaikovsky: The Nutcracker',), ('The Last Night of the Proms',), ('Puccini: Madama Butterfly - Highlights',), ('Holst: The Planets, Op. 32 & Vaughan Williams: Fantasies',), (\"Pavarotti's Opera Made Easy\",), (\"Great Performances - Barber's Adagio and Other Romantic Favorites for Strings\",), ('Carmina Burana',), ('A Copland Celebration, Vol. I',), ('Bach: Toccata & Fugue in D Minor',), ('Prokofiev: Symphony No.1',), ('Scheherazade',), ('Bach: The Brandenburg Concertos',), ('Chopin: Piano Concertos Nos. 1 & 2',), ('Mascagni: Cavalleria Rusticana',), ('Sibelius: Finlandia',), ('Beethoven Piano Sonatas: Moonlight & Pastorale',), ('Great Recordings of the Century - Mahler: Das Lied von der Erde',), ('Elgar: Cello Concerto & Vaughan Williams: Fantasias',), ('Adams, John: The Chairman Dances',), (\"Tchaikovsky: 1812 Festival Overture, Op.49, Capriccio Italien & Beethoven: Wellington's Victory\",), ('Palestrina: Missa Papae Marcelli & Allegri: Miserere',), ('Prokofiev: Romeo & Juliet',), ('Strauss: Waltzes',), ('Berlioz: Symphonie Fantastique',), ('Bizet: Carmen Highlights',), ('English Renaissance',), ('Handel: Music for the Royal Fireworks (Original Version 1749)',), ('Grieg: Peer Gynt Suites & Sibelius: Pelléas et Mélisande',), ('Mozart Gala: Famous Arias',), ('SCRIABIN: Vers la flamme',), ('Armada: Music from the Courts of England and Spain',), ('Mozart: Symphonies Nos. 40 & 41',), ('Back to Black',), ('Frank',), ('Carried to Dust (Bonus Track Version)',), (\"Beethoven: Symphony No. 6 'Pastoral' Etc.\",), ('Bartok: Violin & Viola Concertos',), (\"Mendelssohn: A Midsummer Night's Dream\",), ('Bach: Orchestral Suites Nos. 1 - 4',), ('Charpentier: Divertissements, Airs & Concerts',), ('South American Getaway',), ('Górecki: Symphony No. 3',), ('Purcell: The Fairy Queen',), ('The Ultimate Relexation Album',), ('Purcell: Music for the Queen Mary',), ('Weill: The Seven Deadly Sins',), ('J.S. Bach: Chaconne, Suite in E Minor, Partita in E Major & Prelude, Fugue and Allegro',), ('Prokofiev: Symphony No.5 & Stravinksy: Le Sacre Du Printemps',), ('Szymanowski: Piano Works, Vol. 1',), ('Nielsen: The Six Symphonies',), (\"Great Recordings of the Century: Paganini's 24 Caprices\",), (\"Liszt - 12 Études D'Execution Transcendante\",), ('Great Recordings of the Century - Shubert: Schwanengesang, 4 Lieder',), ('Locatelli: Concertos for Violin, Strings and Continuo, Vol. 3',), ('Respighi:Pines of Rome',), (\"Schubert: The Late String Quartets & String Quintet (3 CD's)\",), (\"Monteverdi: L'Orfeo\",), ('Mozart: Chamber Music',), ('Koyaanisqatsi (Soundtrack from the Motion Picture)',)]\n"
          ]
        }
      ],
      "source": [
        "with orm.Session(engine) as session:\n",
        "    a = session.query(Album).filter(Album.AlbumId == 5).one()\n",
        "    b = session.query(Album.Title).filter().limit(None).all()\n",
        "    print(a)\n",
        "    print(b)"
      ]
    },
    {
      "cell_type": "markdown",
      "metadata": {
        "id": "ATsLK53bvsWU"
      },
      "source": [
        "### Getting many objects (list)"
      ]
    },
    {
      "cell_type": "markdown",
      "metadata": {
        "id": "9yPZBWu-v-S2"
      },
      "source": [
        "When a query may return any number of objects use the method `.all()` instead of `.one()`. The returned value will be a list with all query results. That elements of the list will be objects representing the table rows:"
      ]
    },
    {
      "cell_type": "code",
      "execution_count": null,
      "metadata": {
        "id": "7_8I60vV5_a2"
      },
      "outputs": [],
      "source": [
        "with orm.Session(engine) as session:\n",
        "    albums = session.query(Album).limit(3).all()\n",
        "    print( type( albums ) )\n",
        "    print( albums )"
      ]
    },
    {
      "cell_type": "markdown",
      "metadata": {
        "id": "99uLWjCAz4mu"
      },
      "source": [
        "Let's consider the first list element in more detail. Check its `type`, print it, and practice access to data from each table column:"
      ]
    },
    {
      "cell_type": "code",
      "execution_count": null,
      "metadata": {
        "id": "OuwEw6j_w1Y4"
      },
      "outputs": [],
      "source": [
        "with orm.Session(engine) as session:\n",
        "    albums = session.query(Album).limit(3).all()\n",
        "\n",
        "    a = albums[1]\n",
        "    print( type( a ) )\n",
        "    print( a )\n",
        "    print( a.Title )"
      ]
    },
    {
      "cell_type": "markdown",
      "metadata": {
        "id": "X5OYRmld2lvc"
      },
      "source": [
        "### Getting many objects (for loop)"
      ]
    },
    {
      "cell_type": "markdown",
      "metadata": {
        "id": "17nOOLze4uTX"
      },
      "source": [
        "The following code might be used to access resulting objects one by one:"
      ]
    },
    {
      "cell_type": "code",
      "execution_count": null,
      "metadata": {
        "id": "evj2zjUf6yRk"
      },
      "outputs": [],
      "source": [
        "with orm.Session(engine) as session:\n",
        "  for a in session.query(Album).limit(3):\n",
        "    print( a )"
      ]
    },
    {
      "cell_type": "markdown",
      "metadata": {
        "id": "zeMb9poD46Qm"
      },
      "source": [
        "Or using list comprehension:"
      ]
    },
    {
      "cell_type": "code",
      "execution_count": null,
      "metadata": {
        "id": "lhwW_rc84eZm"
      },
      "outputs": [],
      "source": [
        "with orm.Session(engine) as session:\n",
        "    titles = [a.Title for a in session.query(Album).limit(3)]\n",
        "\n",
        "print( titles ) # list of str objects, safe to use outside of the session block"
      ]
    },
    {
      "cell_type": "markdown",
      "metadata": {
        "id": "uTF2JFgldkpL"
      },
      "source": [
        "### Practice"
      ]
    },
    {
      "cell_type": "markdown",
      "metadata": {
        "id": "zLo2fc4CdtVQ"
      },
      "source": [
        "\n",
        "\n",
        "1.   Have a look into [the documentation](https://docs.sqlalchemy.org/en/14/orm/tutorial.html#returning-lists-and-scalars) and understand the functions: `one()`, `first()`, `all()`, `one_or_none()`.\n",
        "1.   Calculate the number of `Album`s in the database. Construct the query and use the [`count()`](https://docs.sqlalchemy.org/en/14/orm/tutorial.html#counting) function.\n",
        "\n"
      ]
    },
    {
      "cell_type": "code",
      "execution_count": 25,
      "metadata": {},
      "outputs": [
        {
          "name": "stdout",
          "output_type": "stream",
          "text": [
            "347\n"
          ]
        }
      ],
      "source": [
        "with orm.Session(engine) as session:\n",
        "  cou = session.query(Album).count()\n",
        "  print(cou)"
      ]
    },
    {
      "cell_type": "markdown",
      "metadata": {
        "id": "77RcJ8P2Y3BB"
      },
      "source": [
        "## Another class describing a related table"
      ]
    },
    {
      "cell_type": "markdown",
      "metadata": {
        "id": "uN_63iRze-Rn"
      },
      "source": [
        "### Class (partially) describing another table"
      ]
    },
    {
      "cell_type": "code",
      "execution_count": 11,
      "metadata": {
        "id": "ha7deS0hZBnt"
      },
      "outputs": [],
      "source": [
        "Base = orm.declarative_base() # normally present once in a script!\n",
        "\n",
        "class Album(Base):\n",
        "  __tablename__ = \"albums\"\n",
        "  \n",
        "  AlbumId = sa.Column(sa.Integer,primary_key=True)\n",
        "  Title = sa.Column(sa.String(160))\n",
        "  ArtistId = sa.Column(sa.Integer)\n",
        "\n",
        "  def __repr__(self):\n",
        "    return \"Album(AlbumId='%s', Title='%s', ArtistId='%s')\" % (self.AlbumId, self.Title, self.ArtistId)\n",
        "\n",
        "class Track(Base):\n",
        "  __tablename__ = \"tracks\"\n",
        "\n",
        "  TrackId = sa.Column(sa.Integer,primary_key=True)\n",
        "  Name = sa.Column(sa.String(200))\n",
        "  AlbumId = sa.Column(sa.Integer)\n",
        "\n",
        "  def __repr__(self):\n",
        "    return \"Track(TrackId='%s', Name='%s', AlbumId='%s')\" % (self.TrackId, self.Name, self.AlbumId)"
      ]
    },
    {
      "cell_type": "markdown",
      "metadata": {
        "id": "j93H1v9pfFUa"
      },
      "source": [
        "### Observing a relation between two tables"
      ]
    },
    {
      "attachments": {},
      "cell_type": "markdown",
      "metadata": {
        "id": "skIOnXTufVw0"
      },
      "source": [
        "Check in the database diagramm:\n",
        "- an `Album` refers to zero or more tracks\n",
        "- a `Track` refers to zero or one album (through the `AlbumId` foreign key)\n"
      ]
    },
    {
      "cell_type": "markdown",
      "metadata": {
        "id": "mWSUHyonfD60"
      },
      "source": [
        "Let's study the `Album` with `AlbumId` of 5:"
      ]
    },
    {
      "cell_type": "code",
      "execution_count": null,
      "metadata": {
        "id": "Tt_gDx4UgbUp"
      },
      "outputs": [],
      "source": [
        "with orm.Session(engine) as session:\n",
        "    a = session.query(Album).filter(Album.AlbumId == 5).one()\n",
        "    print(a)"
      ]
    },
    {
      "cell_type": "markdown",
      "metadata": {
        "id": "Ejrx42FharUE"
      },
      "source": [
        "These are the `Track`s which refer to this album:"
      ]
    },
    {
      "cell_type": "code",
      "execution_count": 14,
      "metadata": {
        "id": "9iwsJFYwfStp"
      },
      "outputs": [
        {
          "name": "stdout",
          "output_type": "stream",
          "text": [
            "Track(TrackId='24', Name='Love In An Elevator', AlbumId='5')\n"
          ]
        }
      ],
      "source": [
        "with orm.Session(engine) as session:\n",
        "  for t in session.query(Track).filter(Track.AlbumId == 5,Track.TrackId==24).all():\n",
        "    print(t)"
      ]
    },
    {
      "cell_type": "markdown",
      "metadata": {
        "id": "IOC77fGJh1Wv"
      },
      "source": [
        "### Generating methods representing relations"
      ]
    },
    {
      "attachments": {},
      "cell_type": "markdown",
      "metadata": {
        "id": "Ibt9dHW5iJr1"
      },
      "source": [
        "From the object oriented programming point of view it would be useful to:\n",
        "- Have a method `album()` in the class `Track` which returns the `Album` object corresponding to the `AlbumId` of the track.\n",
        "- Have a method `tracks()` in the class `Album` which returns the list of `Track` objects referring to this album."
      ]
    },
    {
      "cell_type": "markdown",
      "metadata": {
        "id": "mImihJy4wHsV"
      },
      "source": [
        "To define such a relation the following two changes are needed (look at the code below):\n",
        "- In the `Track` class:\n",
        "\n",
        "  the field `AlbumId` gets declared as a `ForeginKey` to `albums.AlbumId` (so a foreign key to the table `albums` where the key is in column `AlbumId`). With `nullable` you can specify whether it is allowed that a `Track` does not refer to any `Album`.\n",
        "- In the `Album` class:\n",
        "\n",
        "  the field `tracks` gets declared as a relationship to the class `Track`. In the class `Track` the reverse relationship should be called `album`.\n",
        "\n",
        "See [relationship patterns](https://docs.sqlalchemy.org/en/14/orm/basic_relationships.html#relationship-patterns) for more details."
      ]
    },
    {
      "cell_type": "code",
      "execution_count": 32,
      "metadata": {
        "id": "oBeAuUT-kB62"
      },
      "outputs": [],
      "source": [
        "Base = orm.declarative_base() # normally present once in a script!\n",
        "\n",
        "class Album(Base):\n",
        "  __tablename__ = \"albums\"\n",
        "  \n",
        "  AlbumId = sa.Column(sa.Integer,primary_key=True)\n",
        "  Title = sa.Column(sa.String(160))\n",
        "  ArtistId = sa.Column(sa.Integer)\n",
        "  tracks = orm.relationship(\"Track\", backref=\"album\")                 # <<<< HERE\n",
        "\n",
        "  def __repr__(self):\n",
        "    return \"Album(AlbumId='%s', Title='%s', ArtistId='%s')\" % (self.AlbumId, self.Title, self.ArtistId)\n",
        "\n",
        "class Track(Base):\n",
        "  __tablename__ = \"tracks\"\n",
        "\n",
        "  TrackId = sa.Column(sa.Integer,primary_key=True)\n",
        "  Name = sa.Column(sa.String(200))\n",
        "  AlbumId = sa.Column(sa.ForeignKey('albums.AlbumId'), nullable=True) # <<<< HERE\n",
        "\n",
        "  def __repr__(self):\n",
        "    return \"Track(TrackId='%s', Name='%s', AlbumId='%s')\" % (self.TrackId, self.Name, self.AlbumId)"
      ]
    },
    {
      "attachments": {},
      "cell_type": "markdown",
      "metadata": {
        "id": "h84KKIBp0UCL"
      },
      "source": [
        "Let's get an `Album` object `a` now and see the corresponding `Track` objects through the `tracks` method:"
      ]
    },
    {
      "cell_type": "code",
      "execution_count": null,
      "metadata": {
        "id": "MCkCNeTMueqp"
      },
      "outputs": [],
      "source": [
        "with orm.Session(engine) as session:\n",
        "    a = session.query(Album).filter(Album.AlbumId == 5).one()\n",
        "    print(a)\n",
        "    print(a.tracks)"
      ]
    },
    {
      "cell_type": "markdown",
      "metadata": {
        "id": "JLgyv3mLG2iD"
      },
      "source": [
        "## Adding objects with new data to database"
      ]
    },
    {
      "attachments": {},
      "cell_type": "markdown",
      "metadata": {
        "id": "DfF1qON3pun-"
      },
      "source": [
        "Let's consider the goal of adding a new `Album` to the database.  \n",
        "*Note:* (check on the database diagramm) that each album must refer to exactly one artist. So it is impossible to add an album without a proper reference to an artist.  \n",
        "Consequently, we first need to properly describe the relationship between `albums` and `artists` tables.  \n",
        "Then, we will choose a random artist and add a new fictional album of that artist."
      ]
    },
    {
      "cell_type": "code",
      "execution_count": null,
      "metadata": {},
      "outputs": [],
      "source": []
    },
    {
      "cell_type": "markdown",
      "metadata": {
        "id": "ZQq8g9Rhqt8E"
      },
      "source": [
        "### Another table, another relationship"
      ]
    },
    {
      "attachments": {},
      "cell_type": "markdown",
      "metadata": {
        "id": "2spWhysGsKQf"
      },
      "source": [
        "The following modifications are made here (try yourself to introduce these modifications without looking into the code below):\n",
        "- New class `Artist` describing the `artists` table\n",
        "- The `Album` gets updated to have a proper foreign key to `Artist`\n",
        "- The `Artist` gets a relationship to `Album` through fields: `Artist.albums` and `Album.artist`."
      ]
    },
    {
      "cell_type": "code",
      "execution_count": 22,
      "metadata": {
        "id": "fR2j0AS2q1i-"
      },
      "outputs": [],
      "source": [
        "Base = orm.declarative_base() # normally present once in a script!\n",
        "\n",
        "class Album(Base):\n",
        "  __tablename__ = \"albums\"\n",
        "  \n",
        "  AlbumId = sa.Column(sa.Integer,primary_key=True)\n",
        "  Title = sa.Column(sa.String(160))\n",
        "  ArtistId = sa.Column(sa.ForeignKey('artists.ArtistId'), nullable=False) # <<<< HERE\n",
        "  tracks = orm.relationship(\"Track\", backref=\"album\")\n",
        "\n",
        "  def __repr__(self):\n",
        "    return \"Album(AlbumId='%s', Title='%s', ArtistId='%s')\" % (self.AlbumId, self.Title, self.ArtistId)\n",
        "\n",
        "class Track(Base):\n",
        "  __tablename__ = \"tracks\"\n",
        "\n",
        "  TrackId = sa.Column(sa.Integer,primary_key=True)\n",
        "  Name = sa.Column(sa.String(200))\n",
        "  AlbumId = sa.Column(sa.ForeignKey('albums.AlbumId'), nullable=True)\n",
        "\n",
        "  def __repr__(self):\n",
        "    return \"Track(TrackId='%s', Name='%s', AlbumId='%s')\" % (self.TrackId, self.Name, self.AlbumId)\n",
        "\n",
        "class Artist(Base):\n",
        "  __tablename__ = \"artists\"\n",
        "\n",
        "  ArtistId = sa.Column(sa.Integer,primary_key=True)\n",
        "  Name = sa.Column(sa.String(120))\n",
        "  albums = orm.relationship(\"Album\", backref=\"artist\")                  # <<<< HERE\n",
        "\n",
        "  def __repr__(self):\n",
        "    return \"Artist(ArtistId='%s', Name='%s')\" % (self.ArtistId, self.Name)\n"
      ]
    },
    {
      "cell_type": "markdown",
      "metadata": {
        "id": "8GjGRCd8szuk"
      },
      "source": [
        "Let's check the new Artist-Album relationship:"
      ]
    },
    {
      "cell_type": "code",
      "execution_count": null,
      "metadata": {
        "id": "p4G6x4hGs4Kt"
      },
      "outputs": [],
      "source": [
        "with orm.Session(engine) as session:\n",
        "    print( session.query(Artist).count() )        # total number of artists in the database\n",
        "    print( session.query(Artist).first() )        # first artist\n",
        "    print( session.query(Artist).first().albums ) # albums of the first artist"
      ]
    },
    {
      "cell_type": "markdown",
      "metadata": {
        "id": "rB9VmnrA4VGn"
      },
      "source": [
        "### Adding a new object (related to existing data/objects)"
      ]
    },
    {
      "attachments": {},
      "cell_type": "markdown",
      "metadata": {
        "id": "9LcydMUd4jZc"
      },
      "source": [
        "The lifetime of the `Session` object defines a transaction.  \n",
        "When changes to table/row objects are made they are not written immediately.  \n",
        "They get written when `commit()` method of the `Session` object is called.  \n",
        "Note, that if multiple session objects exist simultaneously, the data between them are not synchronized.  \n",
        "Consequently, checking newly added (modified) content after `commit()` cannot be done through another session object which was created before `commit()` was called."
      ]
    },
    {
      "attachments": {},
      "cell_type": "markdown",
      "metadata": {
        "id": "qPl51kY9-6p4"
      },
      "source": [
        "Let's list the `Album`s of Metallica existing in the database:"
      ]
    },
    {
      "cell_type": "code",
      "execution_count": null,
      "metadata": {
        "id": "HMYOAGKItNie"
      },
      "outputs": [],
      "source": [
        "with orm.Session(engine) as session:\n",
        "  artist = session.query(Artist).filter(Artist.Name==\"Metallica\").one()\n",
        "  print(artist, \"\\n\") \n",
        "  for album in artist.albums: \n",
        "    print( album )"
      ]
    },
    {
      "attachments": {},
      "cell_type": "markdown",
      "metadata": {
        "id": "Z7GW5nbA_HnF"
      },
      "source": [
        "Here is an example of adding a new `Album`.  \n",
        "Note, that the `AlbumId` will get automatically generated and that the `ArtistId` will be automatically collected when `theArtist` is assigned to the `artist` relationship field.  \n",
        "The changes will get written to the database the moment of `commit()`."
      ]
    },
    {
      "cell_type": "code",
      "execution_count": null,
      "metadata": {
        "id": "vL07b1K6zQ8Q"
      },
      "outputs": [],
      "source": [
        "with orm.Session(engine) as session:\n",
        "  artist = session.query(Artist).filter(Artist.Name==\"Metallica\").one()\n",
        "\n",
        "  newAlbum = Album(Title='Hardwired... to Self-Destruct') # new Album object, only in memory\n",
        "  newAlbum.artist = artist                                # building relation to theArtist\n",
        "  print(newAlbum)\n",
        "\n",
        "  session.add(newAlbum)                                   # staging Album to become written to the database\n",
        "  session.commit()                                        # writing to the database\n",
        "  \n",
        "  print(newAlbum)"
      ]
    },
    {
      "attachments": {},
      "cell_type": "markdown",
      "metadata": {},
      "source": [
        "Let's check whether the new album has been added:"
      ]
    },
    {
      "cell_type": "code",
      "execution_count": null,
      "metadata": {
        "id": "V4H7nBhR2mA1"
      },
      "outputs": [],
      "source": [
        "with orm.Session(engine) as session:\n",
        "  artist = session.query(Artist).filter(Artist.Name==\"Metallica\").one()\n",
        "  print(artist, \"\\n\") \n",
        "  for album in artist.albums: \n",
        "    print( album )"
      ]
    },
    {
      "cell_type": "markdown",
      "metadata": {
        "id": "Qw2PjfliXr2c"
      },
      "source": [
        "## Multistep exercise"
      ]
    },
    {
      "attachments": {},
      "cell_type": "markdown",
      "metadata": {
        "id": "-H5XxgZ_4k4w"
      },
      "source": [
        "The final goal of this session is to build a class providing access to a database.  \n",
        "This class should provide all needed database content through a well defined interface.  \n",
        "\n",
        "Follow the points below in the provided order (later points depend on the earlier ones).  \n",
        "Try to implement each step without checking the solution provided below.  \n",
        "Try to type. Do not copy-paste.\n",
        "\n",
        "The solution is suboptimal - the returned objects are not fully independent of the current session and they may provide inconsistent data."
      ]
    },
    {
      "attachments": {},
      "cell_type": "markdown",
      "metadata": {
        "id": "0CusUEgnyQRo"
      },
      "source": [
        "1. Define a new class `Chinook`. This class will contain all methods to access the database. The methods will be added gradually.\n",
        "1. In the class `Chinook`: \n",
        "    - Define the class constructor `__init__(self, url)`.\n",
        "    - The `url` argument will provide the location of the database as needed by the `create_engine` function.\n",
        "1. In the class `Chinook`:\n",
        "    - In the constructor create the engine and store it in the attribute `self._engine`. \n",
        "1. Outside the class:\n",
        "    - Create an object instance of the class `Chinook`. \n",
        "    - Use the proper `url` argument (so it uses the `chinook.db` file).\n",
        "    - Store the new object in the variable `db`.\n",
        "1. In the class `Chinook`:\n",
        "    - Define a new method `addArtist(self, name)`. \n",
        "    - The method should add a new artist of `name` to the database. \n",
        "    - Perform adding within a new local session. \n",
        "    - Remember to call `commit` in the session. \n",
        "    - The function should return the value of `ArtistId` of the newly added artist.\n",
        "1. In the class `Chinook`:\n",
        "    - Define a new method `getArtist(self, artistId)`. \n",
        "    - The method should return an `Artist` object for the provided `artistId`.\n",
        "    - (Returning the `Artist` object is not the best solution because it would exist outside the session; but it is good enough for now.)\n",
        "1. Outside the class:\n",
        "    - Recreate the object in `db` with the updated class. \n",
        "    - Write the code to `addArtist` with a randomly chosen name.\n",
        "    - Store the returned `artistId` value in a variable.\n",
        "    - Check whether you can get the artist back with `getArtist`.\n",
        "1. In the class `Chinook`:\n",
        "    - Define a new method `allArtists(self)`.\n",
        "    - The method should return a list of all `Artist` objects present in the database.\n",
        "    - (Returning the list of `Artist` objects is not the best solution because it would exist outside the session; but it is good enough for now.)\n",
        "1. Outside the class:\n",
        "    - Recreate the object in `db` with the updated class. \n",
        "    - Use the result of `db.allArtists()` in a `for` loop to print all artists from the database.\n",
        "    - Find how to print only the last 10 of the returned objects.\n",
        "1. Outside the class:\n",
        "    - In `firstNames` create a vector with several random popular first names.\n",
        "    - Similar for `surNames`.\n",
        "    - From package `random` use `choice` method. It randomly selects an element from a list.\n",
        "    - Create a random name by concatenating a random first name and a random surname from your lists.\n",
        "    - Insert above into a loop which adds to the database 10 artists with randomly generated names.\n",
        "    - Print last 10 artists to check whether they were indeed added.\n"
      ]
    },
    {
      "cell_type": "code",
      "execution_count": 23,
      "metadata": {
        "id": "uzmrcpDQYNNe"
      },
      "outputs": [
        {
          "name": "stdout",
          "output_type": "stream",
          "text": [
            "The ArtistId of the new artist is:  276\n",
            "Artist(ArtistId='276', Name='The Singer')\n",
            "Artist(ArtistId='274', Name='Nash Ensemble')\n",
            "Artist(ArtistId='275', Name='Philip Glass Ensemble')\n",
            "Artist(ArtistId='276', Name='The Singer')\n",
            "Artist(ArtistId='277', Name='Ivan Kowalski')\n",
            "Artist(ArtistId='278', Name='Ivan Kowalski')\n",
            "Artist(ArtistId='279', Name='John Kovalsky')\n",
            "Artist(ArtistId='280', Name='John Kowalski')\n"
          ]
        }
      ],
      "source": [
        "class Chinook:\n",
        "  def __init__(self, url):\n",
        "    self._engine = sa.create_engine(url=url,echo=False)\n",
        "\n",
        "  def addArtist(self, name):\n",
        "    with orm.Session(self._engine) as session:\n",
        "      a = Artist(Name=name)\n",
        "      session.add(a)\n",
        "      session.commit()\n",
        "      return a.ArtistId # here a number is returned, no Session object needed\n",
        "\n",
        "  def getArtist(self, artistId):\n",
        "    with orm.Session(self._engine) as session:\n",
        "      a = session.query(Artist).where(Artist.ArtistId == artistId).one()\n",
        "    return a # this is not safe; the object exists outside the session object; relations will fail\n",
        "\n",
        "  def allArtists(self):\n",
        "    with orm.Session(self._engine) as session:\n",
        "      artists = session.query(Artist).all()\n",
        "    return artists # this is not safe; the object exists outside the session object; relations will fail\n",
        "\n",
        "db = Chinook(\"sqlite:///chinook.db\") # this should be used inside \"with\" context manager\n",
        "aId = db.addArtist(name=\"The Singer\")\n",
        "print( \"The ArtistId of the new artist is: \", aId)\n",
        "print( db.getArtist(artistId=aId))\n",
        "\n",
        "from random import choice\n",
        "\n",
        "firstNames = [ \"John\", \"Johan\", \"Jan\", \"Ivan\" ]\n",
        "lastNames = [ \"Smith\", \"Kowalski\", \"Kovalsky\" ]\n",
        "\n",
        "for i in range(5):\n",
        "  n = choice(firstNames) + \" \" + choice(lastNames)\n",
        "  db.addArtist(name=n)\n",
        "\n",
        "for a in db.allArtists()[-8:-1]:\n",
        "  print(a)"
      ]
    }
  ],
  "metadata": {
    "colab": {
      "authorship_tag": "ABX9TyM+fdQExjqO5Tp7uhYj8eK7",
      "collapsed_sections": [
        "cB1iky0ekfcZ",
        "xwjOj9CrHBn5",
        "DPWm9WYRQ8ek",
        "ko-hTfHq1VSZ",
        "ATsLK53bvsWU",
        "X5OYRmld2lvc",
        "uN_63iRze-Rn",
        "j93H1v9pfFUa",
        "IOC77fGJh1Wv"
      ],
      "include_colab_link": true,
      "name": "orm_practice.ipynb",
      "private_outputs": true,
      "provenance": [],
      "toc_visible": true
    },
    "kernelspec": {
      "display_name": "Python 3",
      "name": "python3"
    },
    "language_info": {
      "codemirror_mode": {
        "name": "ipython",
        "version": 3
      },
      "file_extension": ".py",
      "mimetype": "text/x-python",
      "name": "python",
      "nbconvert_exporter": "python",
      "pygments_lexer": "ipython3",
      "version": "3.11.4"
    }
  },
  "nbformat": 4,
  "nbformat_minor": 0
}
